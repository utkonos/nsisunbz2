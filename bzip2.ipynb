{
 "cells": [
  {
   "cell_type": "raw",
   "id": "db79a04c-89ed-4e16-a37a-ed952ad0ae22",
   "metadata": {},
   "source": [
    "/*\n",
    " * Copyright and license information can be found below.\n",
    " * Modifications Copyright (C) 1999-2025 Nullsoft and Contributors\n",
    " *\n",
    " * The original zlib source code is available at\n",
    " * http://www.bzip.org/\n",
    " *\n",
    " * This modification is not compatible with the original bzip2.\n",
    " *\n",
    " * This software is provided 'as-is', without any express or implied\n",
    " * warranty.\n",
    " *\n",
    " * Reviewed for Unicode support by Jim Park -- 08/23/2007\n",
    " */\n",
    "\n",
    "/*--\n",
    "  This file is a part of bzip2 and/or libbzip2, a program and\n",
    "  library for lossless, block-sorting data compression.\n",
    "\n",
    "  Copyright (C) 1996-2000 Julian R Seward.  All rights reserved.\n",
    "\n",
    "  Redistribution and use in source and binary forms, with or without\n",
    "  modification, are permitted provided that the following conditions\n",
    "  are met:\n",
    "\n",
    "  1. Redistributions of source code must retain the above copyright\n",
    "     notice, this list of conditions and the following disclaimer.\n",
    "\n",
    "  2. The origin of this software must not be misrepresented; you must\n",
    "     not claim that you wrote the original software.  If you use this\n",
    "     software in a product, an acknowledgment in the product\n",
    "     documentation would be appreciated but is not required.\n",
    "\n",
    "  3. Altered source versions must be plainly marked as such, and must\n",
    "     not be misrepresented as being the original software.\n",
    "\n",
    "  4. The name of the author may not be used to endorse or promote\n",
    "     products derived from this software without specific prior written\n",
    "     permission.\n",
    "\n",
    "  THIS SOFTWARE IS PROVIDED BY THE AUTHOR ``AS IS'' AND ANY EXPRESS\n",
    "  OR IMPLIED WARRANTIES, INCLUDING, BUT NOT LIMITED TO, THE IMPLIED\n",
    "  WARRANTIES OF MERCHANTABILITY AND FITNESS FOR A PARTICULAR PURPOSE\n",
    "  ARE DISCLAIMED.  IN NO EVENT SHALL THE AUTHOR BE LIABLE FOR ANY\n",
    "  DIRECT, INDIRECT, INCIDENTAL, SPECIAL, EXEMPLARY, OR CONSEQUENTIAL\n",
    "  DAMAGES (INCLUDING, BUT NOT LIMITED TO, PROCUREMENT OF SUBSTITUTE\n",
    "  GOODS OR SERVICES; LOSS OF USE, DATA, OR PROFITS; OR BUSINESS\n",
    "  INTERRUPTION) HOWEVER CAUSED AND ON ANY THEORY OF LIABILITY,\n",
    "  WHETHER IN CONTRACT, STRICT LIABILITY, OR TORT (INCLUDING\n",
    "  NEGLIGENCE OR OTHERWISE) ARISING IN ANY WAY OUT OF THE USE OF THIS\n",
    "  SOFTWARE, EVEN IF ADVISED OF THE POSSIBILITY OF SUCH DAMAGE.\n",
    "\n",
    "  Julian Seward, Cambridge, UK.\n",
    "  jseward@acm.org\n",
    "  bzip2/libbzip2 version 1.0 of 21 March 2000\n",
    "\n",
    "  This program is based on (at least) the work of:\n",
    "     Mike Burrows\n",
    "     David Wheeler\n",
    "     Peter Fenwick\n",
    "     Alistair Moffat\n",
    "     Radford Neal\n",
    "     Ian H. Witten\n",
    "     Robert Sedgewick\n",
    "     Jon L. Bentley\n",
    "\n",
    "  For more information on these sources, see the manual.\n",
    "--*/\n",
    "\n",
    "# This is an instruction for instruction translation from C to Jupyter Python.\n",
    "# The C code was streamlined to make the translation smoother. Unit tests\n",
    "# have been added to make sure that the code works precisely in the same\n",
    "# way as the original C."
   ]
  },
  {
   "cell_type": "code",
   "execution_count": null,
   "id": "69fb0eea-d569-4516-b23c-c32486c0b7d2",
   "metadata": {},
   "outputs": [],
   "source": [
    "import hashlib\n",
    "import io\n",
    "import pathlib"
   ]
  },
  {
   "cell_type": "code",
   "execution_count": null,
   "id": "b622a9f8-8824-452d-9927-a50ca86cd962",
   "metadata": {},
   "outputs": [],
   "source": [
    "import unittest\n",
    "self = unittest.TestCase()"
   ]
  },
  {
   "cell_type": "code",
   "execution_count": null,
   "id": "db633cd2-f504-4a9c-bd28-2902aa29f02e",
   "metadata": {},
   "outputs": [],
   "source": [
    "datap = pathlib.Path('data')"
   ]
  },
  {
   "cell_type": "code",
   "execution_count": null,
   "id": "e6708fe5-80da-4f98-b1c6-1522a8ce35ce",
   "metadata": {},
   "outputs": [],
   "source": [
    "data = datap.read_bytes()"
   ]
  },
  {
   "cell_type": "code",
   "execution_count": null,
   "id": "5ba41494-9be9-43a3-a30e-acfd0c036047",
   "metadata": {},
   "outputs": [],
   "source": [
    "data[:4].hex()"
   ]
  },
  {
   "cell_type": "code",
   "execution_count": null,
   "id": "5a6ce3f7-19ee-41a7-8d21-23564f29e558",
   "metadata": {},
   "outputs": [],
   "source": [
    "NSIS_COMPRESS_BZIP2_LEVEL = 9\n",
    "BZ_G_SIZE = 50\n",
    "BZ_MAX_SELECTORS = int(2 + (900000 / BZ_G_SIZE))\n",
    "BZ_N_GROUPS = 6\n",
    "BZ_MAX_ALPHA_SIZE = 258\n",
    "BZ_MAX_CODE_LEN = 23\n",
    "MTFA_SIZE = 4096\n",
    "MTFL_SIZE = 16\n",
    "BZ_RUNA = 0\n",
    "BZ_RUNB = 1"
   ]
  },
  {
   "cell_type": "code",
   "execution_count": null,
   "id": "99c3c506-3fbe-4924-bb20-2c0999d5017b",
   "metadata": {},
   "outputs": [],
   "source": [
    "class UnRLE:\n",
    "    \"\"\"Remove run length encoding from compressed data.\"\"\"\n",
    "    def __init__(self, avail_out, tt, nblock, nblock_used, k0, tpos):\n",
    "        self.out_ch = 0\n",
    "        self.out_len = 0\n",
    "\n",
    "        self.nblock_used = nblock_used\n",
    "        self.k0 = k0\n",
    "        self.tpos = tpos\n",
    "        self.tt = tt\n",
    "        self.nblockpp = nblock + 1\n",
    "\n",
    "        self.avail_out = avail_out\n",
    "        self.next_out = bytearray()\n",
    "\n",
    "        self.k1 = None\n",
    "\n",
    "    def _op1(self):\n",
    "        if self.avail_out == 0:\n",
    "            return True\n",
    "        if self.out_len == 1:\n",
    "            return False\n",
    "        self.next_out.append(self.out_ch)\n",
    "        self.out_len -= 1\n",
    "        self.avail_out -= 1\n",
    "    \n",
    "    def _op2(self):\n",
    "        if self.avail_out == 0:\n",
    "            self.out_len = 1\n",
    "            return True\n",
    "        self.next_out.append(self.out_ch)\n",
    "        self.avail_out -= 1\n",
    "    \n",
    "    def _op3(self):\n",
    "        if self.nblock_used == self.nblockpp:\n",
    "            self.out_len = 0\n",
    "            return True\n",
    "        self.out_ch = self.k0\n",
    "        self.tpos = self.tt[self.tpos]\n",
    "        self.k1 = self.tpos & 0xff\n",
    "        self.tpos >>= 8\n",
    "        self.nblock_used += 1\n",
    "    \n",
    "    def _op4(self):\n",
    "        if self._op2():\n",
    "            return True\n",
    "        if self._op3():\n",
    "            return True\n",
    "        if self.k1 != self.k0:\n",
    "            self.k0 = self.k1\n",
    "            if self._op4():\n",
    "                return True\n",
    "            return False\n",
    "        if self.nblock_used == self.nblockpp:\n",
    "            if self._op4():\n",
    "                return True\n",
    "            return False\n",
    "    \n",
    "        self._op5()\n",
    "    \n",
    "    def _op5(self):\n",
    "        self.out_len = 2\n",
    "        self.tpos = self.tt[self.tpos]\n",
    "        self.k1 = self.tpos & 0xff\n",
    "        self.tpos >>= 8\n",
    "        self.nblock_used += 1\n",
    "        if self.nblock_used == self.nblockpp:\n",
    "            return\n",
    "        if self.k1 != self.k0:\n",
    "            self.k0 = self.k1\n",
    "            return\n",
    "    \n",
    "        self.out_len = 3\n",
    "        self.tpos = self.tt[self.tpos]\n",
    "        self.k1 = self.tpos & 0xff\n",
    "        self.tpos >>= 8\n",
    "        self.nblock_used += 1\n",
    "        if self.nblock_used == self.nblockpp:\n",
    "            return\n",
    "        if self.k1 != self.k0:\n",
    "            self.k0 = self.k1\n",
    "            return\n",
    "    \n",
    "        self.tpos = self.tt[self.tpos]\n",
    "        self.k1 = self.tpos & 0xff\n",
    "        self.tpos >>= 8\n",
    "        self.nblock_used += 1\n",
    "        self.out_len = self.k1 + 4\n",
    "        self.tpos = self.tt[self.tpos]\n",
    "        self.k0 = self.tpos & 0xff\n",
    "        self.tpos >>= 8\n",
    "        self.nblock_used += 1\n",
    "\n",
    "    def run(self):\n",
    "        while True:\n",
    "            if self.out_len > 0:\n",
    "                while True:\n",
    "                    match self._op1():\n",
    "                        case False:\n",
    "                            break\n",
    "                        case True:\n",
    "                            return self.next_out\n",
    "                if self._op2():\n",
    "                    return self.next_out\n",
    "            if self._op3():\n",
    "                return self.next_out\n",
    "            if self.k1 != self.k0:\n",
    "                self.k0 = self.k1\n",
    "                if self._op4():\n",
    "                    return self.next_out\n",
    "                continue\n",
    "            if self.nblock_used == self.nblockpp:\n",
    "                if self._op4():\n",
    "                    return self.next_out\n",
    "                continue\n",
    "        \n",
    "            self._op5()\n",
    "\n",
    "        return self.next_out"
   ]
  },
  {
   "cell_type": "code",
   "execution_count": null,
   "id": "35ccda2e-3969-4847-b48a-3a68de654035",
   "metadata": {},
   "outputs": [],
   "source": [
    "class Bz2Decompress:\n",
    "    def __init__(self, data, avail_out):\n",
    "        if not isinstance(data, bytes):\n",
    "            raise TypeError('Input must be bytes')\n",
    "        self.f = io.BytesIO(data)\n",
    "        self.avail_out = avail_out\n",
    "\n",
    "        self.bslive = 0\n",
    "        self.bsbuff = 0\n",
    "\n",
    "        self.origptr = None\n",
    "\n",
    "        self.ninuse = None\n",
    "        self.seqtounseq = None\n",
    "        self.alphasize = None\n",
    "\n",
    "        self.ngroups = None\n",
    "        self.nselectors = None\n",
    "        self.selector = None\n",
    "\n",
    "        self.len = None\n",
    "\n",
    "        self.perm = None\n",
    "        self.base = None\n",
    "        self.limit = None\n",
    "        self.minlens = None\n",
    "\n",
    "        self.eob = None\n",
    "        self.nblockmax = None\n",
    "        self.groupno = None\n",
    "        self.grouppos = None\n",
    "        self.unzftab = None\n",
    "        self.nblock = None\n",
    "\n",
    "        self.mtfa = None\n",
    "        self.mtfbase = None\n",
    "\n",
    "        self.nextsym = None\n",
    "\n",
    "        self.tt = None\n",
    "\n",
    "        self.k0 = None\n",
    "        self.tpos = None\n",
    "        self.nblock_used = None\n",
    "\n",
    "        self.out = None\n",
    "\n",
    "    def _get_bits(self, n, err=None):\n",
    "        \"\"\"Read n bits from the compressed data.\"\"\"\n",
    "        while True:\n",
    "            if self.bslive >= n:\n",
    "                v = (self.bsbuff >> (self.bslive - n)) & ((1 << n) - 1)\n",
    "                self.bslive -= n\n",
    "    \n",
    "                return v\n",
    "    \n",
    "            next_in = self.f.read(1)\n",
    "            if not len(next_in):\n",
    "                raise RuntimeError(f'BZ_DATA_ERROR: {err} not found')\n",
    "\n",
    "            self.bsbuff = (self.bsbuff << 8) | int.from_bytes(next_in)\n",
    "            self.bslive += 8\n",
    "\n",
    "    def _block_header(self):\n",
    "        \"\"\"Check that the compressed stream starts with the correct abbreviated NSIS Bzip2 block header.\"\"\"\n",
    "        uc = self._get_bits(8, 'BZ_X_BLKHDR_1')\n",
    "\n",
    "        if uc != 0x31:\n",
    "            raise RuntimeError('BZ_DATA_ERROR: Block header BZ_X_BLKHDR_1 not found')\n",
    "\n",
    "    def _origptr(self):\n",
    "        \"\"\"Construct the origin pointer.\"\"\"\n",
    "        origptr = 0\n",
    "        uc = self._get_bits(8, 'BZ_X_ORIGPTR_1')\n",
    "        origptr = (origptr << 8) | uc\n",
    "        uc = self._get_bits(8, 'BZ_X_ORIGPTR_2')\n",
    "        origptr = (origptr << 8) | uc\n",
    "        uc = self._get_bits(8, 'BZ_X_ORIGPTR_3')\n",
    "        origptr = (origptr << 8) | uc\n",
    "\n",
    "        if origptr < 0:\n",
    "            raise RuntimeError('BZ_DATA_ERROR: Origin pointer is negative')\n",
    "        if origptr > 10 + NSIS_COMPRESS_BZIP2_LEVEL * 100000:\n",
    "            raise RuntimeError('BZ_DATA_ERROR: Origin pointer is too large')\n",
    "\n",
    "        self.origptr = origptr\n",
    "\n",
    "    def _mapping_table(self):\n",
    "        \"\"\"Receive the mapping table.\"\"\"\n",
    "        inuse16 = list()\n",
    "        for i in range(16):\n",
    "            uc = self._get_bits(1, 'BZ_X_MAPPING_1')\n",
    "            if uc == 1:\n",
    "                inuse16.append(True)\n",
    "            else:\n",
    "                inuse16.append(False)\n",
    "\n",
    "        inuse = [False] * 256\n",
    "        for i in range(16):\n",
    "            if inuse16[i]:\n",
    "                for j in range(16):\n",
    "                    uc = bzd._get_bits(1, 'BZ_X_MAPPING_2')\n",
    "                    if uc == 1:\n",
    "                        inuse[i * 16 + j] = True\n",
    "        \n",
    "        ninuse = 0\n",
    "        seqtounseq = [0] * 256\n",
    "        for qi in range(256):\n",
    "            if inuse[qi]:\n",
    "                seqtounseq[ninuse] = qi\n",
    "                ninuse += 1\n",
    "        \n",
    "        if ninuse == 0:\n",
    "            raise RuntimeError('BZ_DATA_ERROR: ninuse is zero')\n",
    "\n",
    "        self.ninuse = ninuse\n",
    "        self.seqtounseq = seqtounseq\n",
    "        self.alphasize = ninuse + 2\n",
    "\n",
    "    def _selectors(self):\n",
    "        \"\"\"Get the selectors.\"\"\"\n",
    "        ngroups = self._get_bits(3, 'BZ_X_SELECTOR_1')\n",
    "        if ngroups < 2 or ngroups > 6:\n",
    "            raise RuntimeError('BZ_DATA_ERROR: Invalid number of groups')\n",
    "\n",
    "        nselectors = self._get_bits(15, 'BZ_X_SELECTOR_2')\n",
    "        if nselectors < 1:  # Maybe this can be nselectors == 0 ?\n",
    "            raise RuntimeError('BZ_DATA_ERROR: Invalid number of selectors')\n",
    "\n",
    "        selectormtf = [0] * BZ_MAX_SELECTORS\n",
    "        for i in range(nselectors):\n",
    "            j = 0\n",
    "            while True:\n",
    "                uc = self._get_bits(1, 'BZ_X_SELECTOR_3')\n",
    "                if uc == 0:  # Why not store this value as 3 bits rather than a set of bits? It can only be the number of groups which is already stored as 3 bits above.\n",
    "                    break\n",
    "                j += 1\n",
    "                if j >= ngroups:\n",
    "                    raise RuntimeError('BZ_DATA_ERROR: Invalid selectorMtf value')\n",
    "            selectormtf[i] = j\n",
    "\n",
    "        # Undo the MTF values for the selectors.\n",
    "        pos = [0] * BZ_N_GROUPS\n",
    "        \n",
    "        for i in range(ngroups):\n",
    "            pos[i] = i\n",
    "        \n",
    "        selector = [0] * BZ_MAX_SELECTORS\n",
    "        \n",
    "        for i in range(nselectors):\n",
    "            v = selectormtf[i]\n",
    "            tmp = pos[v]\n",
    "            while v > 0:\n",
    "                pos[v] = pos[v-1]\n",
    "                v -= 1\n",
    "            pos[0] = tmp\n",
    "            selector[i] = tmp\n",
    "        \n",
    "        self.ngroups = ngroups\n",
    "        self.nselectors = nselectors\n",
    "        self.selector = selector\n",
    "\n",
    "    def _coding_tables(self):\n",
    "        \"\"\"Get the coding tables.\"\"\"\n",
    "        lenn = [[0 for _ in range(BZ_MAX_ALPHA_SIZE)] for _ in range(BZ_N_GROUPS)]\n",
    "        for i in range(self.ngroups):\n",
    "            curr = self._get_bits(5, 'BZ_X_CODING_1')\n",
    "            for j in range(self.alphasize):\n",
    "                while True:\n",
    "                    if curr < 1 or curr > 20:\n",
    "                        raise RuntimeError('BZ_DATA_ERROR: Value curr outside of acceptable range')\n",
    "                    uc = self._get_bits(1, 'BZ_X_CODING_2')\n",
    "                    if uc == 0:\n",
    "                        break\n",
    "                    uc = self._get_bits(1, 'BZ_X_CODING_3')\n",
    "                    if uc == 0:\n",
    "                        curr += 1\n",
    "                    else:\n",
    "                        curr -= 1\n",
    "                lenn[i][j] = curr\n",
    "\n",
    "        self.len = lenn\n",
    "\n",
    "    def _huffman_tables(self):\n",
    "        \"\"\"Create the Huffman decoding tables.\"\"\"\n",
    "        l = [[0 for _ in range(BZ_MAX_ALPHA_SIZE)] for _ in range(BZ_N_GROUPS)]\n",
    "        b = [[0 for _ in range(BZ_MAX_ALPHA_SIZE)] for _ in range(BZ_N_GROUPS)]\n",
    "        p = [[0 for _ in range(BZ_MAX_ALPHA_SIZE)] for _ in range(BZ_N_GROUPS)]\n",
    "\n",
    "        minlens = [0] * BZ_N_GROUPS\n",
    "        \n",
    "        for t in range(self.ngroups):\n",
    "            minlen = 32\n",
    "            maxlen = 8\n",
    "            for i in range(self.alphasize):\n",
    "                if self.len[t][i] > maxlen:\n",
    "                    maxlen = self.len[t][i]\n",
    "                if self.len[t][i] < minlen:\n",
    "                    minlen = self.len[t][i]\n",
    "        \n",
    "            limit = l[t]\n",
    "            base = b[t]\n",
    "            perm = p[t]\n",
    "            length = self.len[t]\n",
    "        \n",
    "            pp = 0\n",
    "            for i in range(minlen, maxlen + 1):\n",
    "                for j in range(self.alphasize):\n",
    "                    if length[j] == i:\n",
    "                        perm[pp] = j\n",
    "                        pp += 1\n",
    "        \n",
    "            for i in range(BZ_MAX_CODE_LEN):\n",
    "                base[i] = 0\n",
    "        \n",
    "            for i in range(self.alphasize):\n",
    "                base[length[i] + 1] += 1\n",
    "        \n",
    "            for i in range(BZ_MAX_CODE_LEN):\n",
    "                base[i] += base[i - 1]\n",
    "        \n",
    "            for i in range(BZ_MAX_CODE_LEN):\n",
    "                limit[i] = 0\n",
    "        \n",
    "            vec = 0\n",
    "            for i in range(minlen, maxlen + 1):\n",
    "                vec += base[i + 1] - base[i]\n",
    "                limit[i] = vec - 1\n",
    "                vec <<= 1\n",
    "        \n",
    "            for i in range(minlen + 1, maxlen + 1):\n",
    "                base[i] = ((limit[i - 1] + 1) << 1) - base[i]\n",
    "        \n",
    "            minlens[t] = minlen\n",
    "\n",
    "        self.limit = l\n",
    "        self.base = b\n",
    "        self.perm = p\n",
    "\n",
    "        self.minlens = minlens\n",
    "\n",
    "    def _mtf_values(self):\n",
    "        \"\"\"Set MTF values.\"\"\"\n",
    "        self.eob = self.ninuse + 1\n",
    "        self.nblockmax = NSIS_COMPRESS_BZIP2_LEVEL * 100_000\n",
    "        self.groupno = -1\n",
    "        self.grouppos = 0\n",
    "\n",
    "        self.unzftab = [0] * 256\n",
    "\n",
    "        self.nblock = 0\n",
    "\n",
    "    def _mtf_init(self):\n",
    "        \"\"\"Initialize the move to front lists.\"\"\"\n",
    "        mtfa = [0] * MTFA_SIZE\n",
    "        mtfbase = [0] * int(256 / MTFL_SIZE)\n",
    "\n",
    "        k = MTFA_SIZE - 1\n",
    "        \n",
    "        for i in reversed(range(int(256 / MTFL_SIZE))):\n",
    "            for j in reversed(range(MTFL_SIZE)):\n",
    "                mtfa[k] = i * MTFL_SIZE + j\n",
    "                k -= 1\n",
    "            mtfbase[i] = k + 1\n",
    "\n",
    "        self.mtfa = mtfa\n",
    "        self.mtfbase = mtfbase\n",
    "\n",
    "    def _first_mtf(self):\n",
    "        \"\"\"Perform first move to front cycle.\"\"\"\n",
    "        gsel = 0\n",
    "        gminlen = 0\n",
    "        glimit = 0\n",
    "        gperm = 0\n",
    "        gbase = 0\n",
    "        zn = 0\n",
    "\n",
    "        if self.grouppos == 0:\n",
    "            self.groupno += 1\n",
    "            if self.groupno >= self.nselectors:\n",
    "                raise RuntimeError('BZ_DATA_ERROR: Number of groups larger than number of selectors')\n",
    "            self.grouppos = BZ_G_SIZE\n",
    "            gsel = self.selector[self.groupno]\n",
    "            gminlen = self.minlens[gsel]\n",
    "            glimit = self.limit[gsel]\n",
    "            gperm = self.perm[gsel]\n",
    "            gbase = self.base[gsel]\n",
    "        self.grouppos -= 1\n",
    "        zn = gminlen\n",
    "        \n",
    "        zvec = self._get_bits(zn, 'BZ_X_MTF_1')\n",
    "        \n",
    "        while True:\n",
    "            if zn > 20:\n",
    "                raise RuntimeError('BZ_DATA_ERROR: Value zv too large')\n",
    "            if zvec <= glimit[zn]:\n",
    "                break\n",
    "            zn += 1\n",
    "            zj = self._get_bits(1, 'BZ_X_MTF_2')\n",
    "            zvec = (zvec << 1) | zj\n",
    "        \n",
    "        if zvec - gbase[zn] < 0 or zvec - gbase[zn] >= BZ_MAX_ALPHA_SIZE:\n",
    "            raise RuntimeError('BZ_DATA_ERROR: Value zvec outside of acceptable range')\n",
    "        \n",
    "        nextsym = gperm[zvec - gbase[zn]]\n",
    "\n",
    "        self.gsel = gsel\n",
    "        self.gminlen = gminlen\n",
    "        self.glimit = glimit\n",
    "        self.gperm = gperm\n",
    "        self.gbase = gbase\n",
    "        self.nextsym = nextsym\n",
    "\n",
    "    def _decompress(self):\n",
    "        \"\"\"Perform the remaining decompression phases.\"\"\"\n",
    "        tt = [0] * NSIS_COMPRESS_BZIP2_LEVEL * 100000\n",
    "\n",
    "        while True:\n",
    "            if self.nextsym == self.eob:\n",
    "                break\n",
    "        \n",
    "            if self.nextsym == BZ_RUNA or self.nextsym == BZ_RUNB:\n",
    "                es = -1\n",
    "                n = 1\n",
    "        \n",
    "                while self.nextsym == BZ_RUNA or self.nextsym == BZ_RUNB:\n",
    "                    if self.nextsym == BZ_RUNA:\n",
    "                        es += n\n",
    "                    n = n << 1\n",
    "                    if self.nextsym == BZ_RUNB:\n",
    "                        es += n\n",
    "        \n",
    "                    if self.grouppos == 0:\n",
    "                        self.groupno += 1\n",
    "                        if self.groupno >= self.nselectors:\n",
    "                            raise RuntimeError('BZ_DATA_ERROR: Number of groups larger than number of selectors')\n",
    "                        self.grouppos = BZ_G_SIZE\n",
    "                        self.gsel = self.selector[self.groupno]\n",
    "                        self.gminlen = self.minlens[self.gsel]\n",
    "                        self.glimit = self.limit[self.gsel]\n",
    "                        self.gperm = self.perm[self.gsel]\n",
    "                        self.gbase = self.base[self.gsel]\n",
    "                    self.grouppos -= 1\n",
    "                    zn = self.gminlen\n",
    "        \n",
    "                    zvec = self._get_bits(zn, 'BZ_X_MTF_3')\n",
    "        \n",
    "                    while True:\n",
    "                        if zn > 20:\n",
    "                            raise RuntimeError('BZ_DATA_ERROR: Value zv too large')\n",
    "                        if zvec <= self.glimit[zn]:\n",
    "                            break\n",
    "                        zn += 1\n",
    "                        zj = self._get_bits(1, 'BZ_X_MTF_4')\n",
    "                        zvec = (zvec << 1) | zj\n",
    "        \n",
    "                    if zvec - self.gbase[zn] < 0 or zvec - self.gbase[zn] >= BZ_MAX_ALPHA_SIZE:\n",
    "                        raise RuntimeError('BZ_DATA_ERROR: Value zvec outside of acceptable range')\n",
    "                    self.nextsym = self.gperm[zvec - self.gbase[zn]]\n",
    "        \n",
    "                es += 1\n",
    "                uc = self.seqtounseq[self.mtfa[self.mtfbase[0]]]\n",
    "                self.unzftab[uc] += es\n",
    "        \n",
    "                while es > 0:\n",
    "                    if self.nblock >= self.nblockmax:\n",
    "                        raise RuntimeError('BZ_DATA_ERROR: Value nblock too large')\n",
    "                    tt[self.nblock] = uc\n",
    "                    self.nblock += 1\n",
    "                    es -= 1\n",
    "        \n",
    "            else:\n",
    "                if self.nblock >= self.nblockmax:\n",
    "                    raise RuntimeError('BZ_DATA_ERROR: Value nblock higher than maximum')\n",
    "        \n",
    "                pp = 0\n",
    "                nn = self.nextsym - 1\n",
    "        \n",
    "                if nn < MTFL_SIZE:\n",
    "                    pp = self.mtfbase[0]\n",
    "                    uc = self.mtfa[pp + nn]\n",
    "                    while nn > 0:\n",
    "                        self.mtfa[pp + nn] = self.mtfa[pp + nn - 1]\n",
    "                        nn -= 1\n",
    "                    self.mtfa[pp] = uc\n",
    "                else:\n",
    "                    lno = int(nn / MTFL_SIZE)\n",
    "                    off = nn % MTFL_SIZE\n",
    "                    pp = self.mtfbase[lno] + off\n",
    "                    uc = self.mtfa[pp]\n",
    "                    \n",
    "                    while pp > self.mtfbase[lno]:\n",
    "                        self.mtfa[pp] = self.mtfa[pp - 1]\n",
    "                        pp -= 1\n",
    "                    \n",
    "                    self.mtfbase[lno] += 1\n",
    "                    \n",
    "                    while lno > 0:\n",
    "                        self.mtfbase[lno] -= 1\n",
    "                        self.mtfa[self.mtfbase[lno]] = self.mtfa[self.mtfbase[lno - 1] + MTFL_SIZE - 1]\n",
    "                        lno -= 1\n",
    "                    \n",
    "                    self.mtfbase[0] -= 1\n",
    "                    \n",
    "                    self.mtfa[self.mtfbase[0]] = uc;\n",
    "                    \n",
    "                    if self.mtfbase[0] == 0:\n",
    "                        k = MTFA_SIZE - 1\n",
    "                        for i in reversed(range(int(256 / MTFL_SIZE))):\n",
    "                            for j in reversed(range(MTFL_SIZE)):\n",
    "                                self.mtfa[k] = self.mtfa[self.mtfbase[i] + j]\n",
    "                                k -= 1\n",
    "                            self.mtfbase[i] = k + 1\n",
    "        \n",
    "                self.unzftab[self.seqtounseq[uc]] += 1\n",
    "                tt[self.nblock] = self.seqtounseq[uc]\n",
    "                self.nblock += 1\n",
    "        \n",
    "                if self.grouppos == 0:\n",
    "                    self.groupno += 1\n",
    "                    if self.groupno >= self.nselectors:\n",
    "                        raise RuntimeError('BZ_DATA_ERROR: Number of groups too large')\n",
    "                    self.grouppos = BZ_G_SIZE\n",
    "                    self.gsel = self.selector[self.groupno]\n",
    "                    self.gminlen = self.minlens[self.gsel]\n",
    "                    self.glimit = self.limit[self.gsel]\n",
    "                    self.gperm = self.perm[self.gsel]\n",
    "                    self.gbase = self.base[self.gsel]\n",
    "                self.grouppos -= 1\n",
    "                zn = self.gminlen\n",
    "        \n",
    "                zvec = self._get_bits(zn, 'BZ_X_MTF_5')\n",
    "        \n",
    "                while True:\n",
    "                    if zn > 20:\n",
    "                        raise RuntimeError('BZ_DATA_ERROR: Value zv too large')\n",
    "                    if zvec <= self.glimit[zn]:\n",
    "                        break\n",
    "                    zn += 1\n",
    "                    zj = self._get_bits(1, 'BZ_X_MTF_6')\n",
    "                    zvec = (zvec << 1) | zj\n",
    "        \n",
    "                if zvec - self.gbase[zn] < 0 or zvec - self.gbase[zn] >= BZ_MAX_ALPHA_SIZE:\n",
    "                    raise RuntimeError('BZ_DATA_ERROR: Value zvec outside of acceptable range')\n",
    "                \n",
    "                self.nextsym = self.gperm[zvec - self.gbase[zn]]\n",
    "\n",
    "        self.tt = tt\n",
    "\n",
    "    def _cftable(self):\n",
    "        \"\"\"Apply the cumulative frequency table.\"\"\"\n",
    "        # These two origin pointer checks need to move to the function where the origin pointer is used. Also, the first check is redundant.\n",
    "        if self.origptr < 0:\n",
    "            raise RuntimeError('BZ_DATA_ERROR: Orig ptr is negative')\n",
    "        if self.origptr > 10 + NSIS_COMPRESS_BZIP2_LEVEL * 100000:\n",
    "            raise RuntimeError('BZ_DATA_ERROR: Orig ptr is too large')\n",
    "\n",
    "        cftab = [0] * 257\n",
    "\n",
    "        for i in range(1, 257):\n",
    "            cftab[i] = self.unzftab[i - 1] + cftab[i - 1]\n",
    "\n",
    "        for i in range(self.nblock):\n",
    "            uc = self.tt[i] & 0xff\n",
    "            self.tt[cftab[uc]] |= (i << 8)\n",
    "            cftab[uc] += 1\n",
    "\n",
    "    def _tpos(self):\n",
    "        \"\"\"Calculate the starting position for the inverse Burrows-Wheeler Transform from the origin pointer.\"\"\"\n",
    "        nblock_used = 0\n",
    "        tpos = self.tt[self.origptr] >> 8\n",
    "        tpos = self.tt[tpos]\n",
    "        k0 = tpos & 0xff\n",
    "        tpos >>= 8\n",
    "        nblock_used += 1\n",
    "\n",
    "        self.k0 = k0\n",
    "        self.tpos = tpos\n",
    "        self.nblock_used = nblock_used\n",
    "\n",
    "    def _unrle(self):\n",
    "        \"\"\"Reverse the run-length encoding.\"\"\"\n",
    "        ur = UnRLE(self.avail_out, self.tt, self.nblock, self.nblock_used, self.k0, self.tpos)\n",
    "        self.out = ur.run()\n",
    "\n",
    "    def _end_header(self):\n",
    "        \"\"\"Check the end header.\"\"\"\n",
    "        uc = self._get_bits(8, 'BZ_X_ENDHDR_1')\n",
    "        if uc != 0x17:\n",
    "            raise RuntimeError('BZ_DATA_ERROR: Incorrect BZ_X_ENDHDR_1')\n",
    "\n",
    "    def run(self):\n",
    "        \"\"\"Run the decompression process.\"\"\"\n",
    "        self._block_header()\n",
    "        self._origptr()\n",
    "        self._mapping_table()\n",
    "        self._selectors()\n",
    "        self._coding_tables()\n",
    "        self._huffman_tables()\n",
    "        self._mtf_values()\n",
    "        self._mtf_init()\n",
    "        self._first_mtf()\n",
    "        self._decompress()\n",
    "        self._cftable()\n",
    "        self._tpos()\n",
    "        self._unrle()\n",
    "        self._end_header()"
   ]
  },
  {
   "cell_type": "code",
   "execution_count": null,
   "id": "c6c99d1c-eb56-4921-beff-05ab02f155b3",
   "metadata": {},
   "outputs": [],
   "source": [
    "bzd = Bz2Decompress(data, 0x1728)"
   ]
  },
  {
   "cell_type": "code",
   "execution_count": null,
   "id": "3aadb3f8-cd16-440e-a02c-2796b246c34c",
   "metadata": {},
   "outputs": [],
   "source": [
    "bzd.run()"
   ]
  },
  {
   "cell_type": "code",
   "execution_count": null,
   "id": "d4666ce0-b937-4389-bd96-4d281e6699d3",
   "metadata": {
    "jupyter": {
     "source_hidden": true
    }
   },
   "outputs": [],
   "source": [
    "expected = [6910, 7166, 7422, 7679, 7935, 8191, 8447, 12296, 14859, 15106, 15361, 16992, 17169, 18436, 18943, 18945, 19201, 19458, 19963, 20225, 20481, 20991, 21249, 21505, 21783, 39719, 41216, 41472, 41728, 43008, 43520, 43776, 44544, 46331, 46587, 46843, 47099, 47355, 47611, 47867, 48010, 50767, 51132, 51414, 51713, 51969, 52584, 52784, 52992, 53351, 53555, 53811, 54067, 54323, 54579, 55141, 55411, 55923, 56064, 56320, 56576, 56835, 57194, 57460, 57701, 57970, 58112, 58368, 58866, 59122, 59396, 59652, 59904, 60160, 61184, 61440, 61696, 61952, 62313, 62464, 63488, 64000, 64515, 65024, 65280, 65536, 65869, 66114, 66379, 66919, 67428, 67642, 67947, 68097, 68736, 68868, 69497, 69716, 69989, 70145, 70401, 70660, 71013, 71524, 71726, 72044, 72238, 72506, 72708, 73316, 73586, 73842, 74016, 74349, 74611, 74860, 75070, 75378, 75635, 75808, 76064, 76334, 76576, 76832, 77428, 77569, 77856, 78112, 78407, 78655, 78880, 79690, 80455, 80741, 80930, 81201, 81509, 81675, 81978, 82208, 82464, 82746, 82990, 83570, 83815, 84000, 84325, 84848, 85024, 85364, 85620, 86098, 87317, 88317, 88587, 88832, 89162, 90634, 90900, 91156, 91412, 92672, 92928, 93184, 93559, 94128, 94839, 94986, 95488, 95752, 96256, 96512, 96966, 97030, 97280, 98167, 99322, 99561, 99828, 99959, 100864, 101120, 101376, 101632, 101888, 102144, 102400, 102656, 103486, 103781, 104043, 104305, 104522, 104778, 104961, 105219, 105477, 105730, 105984, 106240, 106496, 106774, 107008, 107264, 107522, 107776, 108032, 108800, 109056, 109312, 109568, 109824, 110080, 110336, 110644, 110848, 111104, 111392, 111616, 111872, 112128, 112384, 112640, 112896, 113408, 113664, 113920, 115200, 115456, 115712, 115968, 116225, 116480, 116736, 116992, 117248, 117904, 118160, 118416, 118528, 118784, 119040, 119296, 119552, 121344, 121610, 123139, 123395, 123648, 123952, 124416, 124930, 125184, 125444, 125696, 125952, 126208, 134144, 135680, 135936, 160773, 161280, 161540, 162304, 162560, 162816, 164096, 164354, 165632, 165888, 170501, 171008, 171264, 171776, 172032, 172288, 172544, 173056, 173317, 177664, 177920, 178176, 178432, 179200, 179712, 180225, 180736, 180992, 181760, 182016, 182272, 182528, 183040, 183296, 184320, 184832, 185088, 185600, 186112, 186368, 186624, 187008, 187904, 188160, 188672, 188928, 189184, 189440, 189696, 189954, 190213, 194304, 194561, 194821, 195072, 196352, 197376, 197632, 197888, 198144, 198656, 198912, 199424, 200960, 201216, 201600, 201984, 202240, 202496, 202752, 203136, 203264, 203520, 204544, 206336, 207361, 209408, 225538, 239874, 276738, 276997, 300544, 300802, 326401, 331008, 439811, 451840, 454656, 454912, 455170, 455426, 455682, 455938, 456194, 457472, 457728, 457984, 458240, 458497, 458755, 460545, 461316, 461568, 461824, 462080, 462336, 462596, 463360, 463620, 463873, 464128, 464384, 464643, 464896, 465152, 465409, 465664, 465920, 466176, 466432, 466688, 466948, 467203, 467456, 467716, 467970, 468227, 468480, 468736, 468992, 469248, 469506, 469763, 470271, 470272, 470528, 470784, 471040, 471296, 471552, 471808, 472064, 472321, 472578, 472832, 473088, 473344, 473600, 473856, 474112, 474368, 474624, 474880, 475136, 476416, 477184, 477440, 477696, 477952, 478208, 478464, 478720, 481536, 481824, 482080, 483072, 483840, 486144, 486400, 486656, 486912, 487168, 488192, 488448, 488704, 488960, 489216, 489472, 489728, 489984, 490496, 490752, 493066, 493312, 493568, 493824, 494172, 494370, 494624, 494880, 495104, 495360, 495872, 496128, 496384, 496640, 496896, 498944, 499456, 499967, 501504, 501760, 502016, 502528, 502784, 503040, 503296, 505088, 506125, 506381, 506637, 506893, 507149, 507405, 507648, 508416, 508682, 508960, 509450, 509810, 509996, 510208, 510720, 510976, 511232, 511490, 511744, 512255, 512256, 512512, 513280, 514048, 514560, 516096, 517178, 517434, 517690, 517946, 518202, 518458, 518714, 518970, 519269, 519482, 519738, 519994, 520556, 520812, 521006, 521262, 521530, 521788, 522103, 522356, 522603, 522859, 523119, 523322, 523553, 523897, 524141, 524398, 524654, 524910, 525056, 525428, 525675, 525882, 526138, 526394, 526592, 526848, 527211, 527470, 527980, 528211, 528499, 528686, 529006, 529273, 529509, 529772, 530036, 530277, 530476, 530804, 531045, 531301, 531564, 531823, 532082, 532327, 532594, 532833, 533109, 533306, 533615, 533863, 534131, 534373, 534629, 534900, 535154, 535399, 535668, 535909, 536165, 536421, 536684, 537452, 537711, 537967, 538223, 538479, 538735, 538982, 539247, 539493, 539749, 540004, 540261, 540517, 540786, 541029, 541228, 541550, 541797, 542052, 542252, 542575, 542831, 543087, 543339, 543595, 543860, 544110, 544368, 544628, 544884, 545140, 545392, 545652, 545895, 546162, 546420, 546676, 546931, 547176, 547429, 547692, 547956, 548217, 548463, 548709, 548964, 549220, 549485, 549749, 550004, 550256, 550517, 550772, 551026, 551282, 551539, 551795, 552051, 552545, 552704, 553061, 553216, 553728, 553986, 554528, 554752, 555008, 555264, 555552, 555842, 556398, 556654, 556800, 557056, 557422, 557682, 557934, 558194, 558336, 558592, 558949, 559214, 559461, 559662, 559986, 560236, 560498, 560686, 560997, 561203, 561516, 561713, 561970, 562284, 562483, 562796, 563060, 563456, 563761, 564224, 564480, 564782, 564992, 565760, 566016, 566272, 566646, 566784, 567296, 567662, 567916, 568172, 568428, 568676, 568932, 569189, 569458, 569701, 569972, 570215, 570484, 570738, 570994, 571237, 571495, 571648, 571904, 572160, 572416, 572788, 572995, 573440, 573728, 573952, 574322, 574464, 574752, 574976, 575232, 575526, 575776, 576000, 576256, 576512, 576768, 577034, 577280, 577536, 577824, 578086, 578396, 578560, 578848, 579072, 579328, 579616, 579840, 580188, 580352, 580608, 580864, 581120, 581408, 581747, 582003, 582144, 582400, 582740, 582912, 583168, 583424, 583680, 583936, 584192, 584448, 584736, 584992, 585326, 585581, 585760, 586016, 586272, 586835, 587018, 587302, 587552, 587808, 588064, 588320, 588576, 588800, 589056, 589312, 589824, 590112, 590624, 590940, 591215, 591360, 591737, 591910, 592160, 592384, 592640, 592896, 593152, 593440, 593664, 593920, 594268, 594944, 595311, 595466, 595785, 596046, 596293, 596480, 596736, 596992, 597280, 597504, 597760, 598016, 598272, 598528, 598784, 599040, 599404, 599584, 599891, 600064, 600412, 600668, 600924, 601120, 601376, 601632, 601856, 602204, 602484, 602716, 602880, 603763, 604005, 604218, 604780, 605029, 605294, 605556, 606976, 607264, 607604, 607852, 608112, 608368, 608578, 608882, 609138, 609312, 609654, 609908, 610164, 610407, 610672, 610926, 611188, 611444, 611700, 611956, 612212, 612468, 612724, 612980, 613236, 613492, 613748, 614004, 614260, 614516, 614772, 615028, 615284, 615540, 615796, 616052, 616308, 616564, 616820, 617074, 617330, 617550, 617795, 618051, 618272, 618528, 618784, 619127, 619383, 619631, 619895, 620151, 620404, 620644, 620901, 621157, 621422, 621676, 621932, 622188, 622444, 622624, 622956, 623104, 623457, 623728, 623973, 624193, 624481, 624737, 625006, 625262, 625505, 625769, 626025, 626281, 626537, 626789, 627045, 627232, 627488, 627744, 628000, 628256, 628581, 628768, 629024, 629353, 629605, 629861, 630117, 630373, 630629, 630881, 631137, 631397, 631653, 631922, 632165, 632430, 632686, 632933, 633189, 633445, 633632, 633888, 634220, 634476, 634732, 634988, 635244, 635500, 635756, 636012, 636198, 636448, 636783, 636960, 637294, 637440, 637811, 638072, 638328, 638584, 638829, 639096, 639352, 639852, 640115, 640355, 640616, 640872, 641140, 641384, 641654, 641896, 642156, 642408, 642664, 642928, 643188, 643432, 643683, 643954, 644200, 644472, 644725, 644972, 645235, 645492, 645740, 645996, 646258, 646514, 646770, 647026, 647282, 647528, 647784, 648036, 648300, 648556, 648812, 649068, 649324, 649588, 649844, 650100, 650356, 650610, 650864, 651107, 651379, 651603, 651859, 652147, 652371, 652612, 652868, 653172, 653394, 653680, 653938, 654194, 654446, 654702, 654958, 655214, 655442, 655730, 655972, 656228, 656488, 656740, 656996, 657252, 657508, 657772, 658020, 658276, 658540, 658790, 658976, 659286, 659564, 659820, 660076, 660332, 660594, 660820, 661076, 661332, 661588, 661828, 662116, 662340, 662636, 662892, 663148, 663404, 663634, 663891, 664147, 664366, 664622, 664878, 665134, 665390, 665646, 665934, 666190, 666479, 666726, 666985, 667168, 667424, 667680, 667936, 668192, 668448, 668704, 668960, 669216, 669472, 669728, 669984, 670319, 670575, 670831, 671087, 671337, 671854, 672110, 672366, 672622, 672878, 673134, 673390, 673646, 673889, 674121, 674415, 674671, 674816, 675072, 675443, 675700, 675956, 676212, 676468, 676724, 676980, 677236, 677492, 677731, 677955, 678260, 678516, 678739, 679022, 679276, 679532, 679788, 680044, 680269, 680548, 680804, 681057, 681318, 681574, 681830, 682086, 682310, 682566, 682822, 683078, 683383, 683617, 683873, 684064, 684320, 684641, 684832, 685172, 685399, 685682, 685932, 686195, 686446, 686711, 686964, 687220, 687476, 687662, 687991, 688238, 688416, 688672, 688928, 689184, 689440, 689774, 690030, 690286, 690464, 690720, 690976, 691310, 691566, 691744, 692000, 692334, 692512, 692852, 693108, 693364, 693620, 693876, 694132, 694387, 694644, 694900, 695147, 695404, 695659, 695905, 696132, 696388, 696693, 696936, 697207, 697412, 697710, 697970, 698226, 698482, 698624, 698880, 699235, 699747, 700003, 700259, 700515, 700771, 701027, 701299, 701523, 701797, 702060, 702316, 702572, 702828, 703084, 703329, 703596, 703852, 704108, 704364, 704620, 704876, 705132, 705388, 705644, 705900, 706156, 706412, 706665, 706924, 707180, 707436, 707692, 707952, 708207, 708463, 708719, 708975, 709231, 709487, 709743, 709999, 710249, 710505, 710761, 711017, 711266, 711525, 711781, 712037, 712293, 712549, 712812, 713068, 713321, 713577, 713833, 714089, 714341, 714597, 714864, 715120, 715331, 715619, 715843, 716099, 716396, 716611, 716897, 717153, 717409, 717665, 717921, 718177, 718441, 718689, 718945, 719201, 719457, 719713, 719969, 720225, 720481, 720737, 720993, 721249, 721505, 721761, 722017, 722273, 722529, 722785, 723055, 723317, 723523, 723820, 724073, 724329, 724588, 724736, 725103, 725345, 725605, 725857, 726113, 726383, 726639, 726893, 727149, 727397, 727663, 727919, 728175, 728431, 728687, 728943, 729199, 729344, 729711, 729967, 730223, 730479, 730729, 730991, 731241, 731503, 731745, 732015, 732265, 732527, 732777, 733039, 733295, 733551, 733801, 734049, 734325, 734561, 734817, 735081, 735343, 735599, 735855, 736111, 736361, 736617, 736873, 737129, 737385, 737641, 737897, 738153, 738409, 738661, 738921, 739189, 739445, 739701, 739925, 740181, 740469, 740713, 740967, 741217, 741487, 741705, 741993, 742249, 742473, 742761, 743017, 743241, 743529, 743785, 744041, 744297, 744553, 744809, 745065, 745321, 745577, 745801, 746057, 746345, 746601, 746857, 747113, 747337, 747621, 747873, 748129, 748389, 748655, 748901, 749157, 749413, 749669, 749929, 750164, 750452, 750708, 750964, 751220, 751444, 751732, 751988, 752244, 752500, 752756, 753012, 753268, 753486, 753742, 754018, 754253, 754464, 754803, 755059, 755283, 755539, 755826, 756082, 756294, 756550, 756838, 757094, 757350, 757606, 757862, 758118, 758374, 758644, 758851, 759107, 759363, 759619, 759907, 760163, 760419, 760675, 760931, 761197, 761449, 761705, 761961, 762144, 762468, 762729, 762985, 763245, 763497, 763753, 764016, 764272, 764528, 764784, 765033, 765283, 765538, 765812, 765984, 766240, 766531, 766752, 767090, 767346, 767602, 767858, 768102, 768366, 768579, 768866, 769132, 769394, 769647, 769902, 770169, 770425, 770681, 770925, 771176, 771436, 771684, 771954, 772210, 772469, 772719, 772969, 773237, 773459, 773715, 773989, 774249, 774521, 774768, 775023, 775283, 775533, 775789, 776045, 776301, 776557, 776813, 777065, 777325, 777589, 777839, 778063, 778356, 778607, 779109, 779369, 779621, 779881, 780137, 780389, 780655, 780911, 781167, 781413, 781679, 781925, 782191, 782447, 782693, 782927, 783205, 783461, 783717, 783973, 784229, 784485, 784756, 785012, 785255, 785511, 785761, 786031, 786273, 786529, 786755, 787043, 787232, 787561, 787813, 788082, 788256, 788592, 788852, 789111, 789367, 789623, 789840, 790096, 790386, 790642, 790898, 791154, 791395, 791618, 791846, 792181, 792389, 792645, 792901, 793189, 793455, 793701, 793953, 794223, 794482, 794740, 794996, 795237, 795493, 795758, 796012, 796268, 796521, 796788, 797044, 797300, 797556, 797797, 798053, 798327, 798575, 798839, 799095, 799264, 799520, 799849, 800115, 800370, 800544, 800876, 801135, 801385, 801637, 801893, 802149, 802405, 802661, 802926, 803182, 803438, 803694, 803950, 804206, 804462, 804718, 804974, 805230, 805486, 805742, 805998, 806254, 806510, 806766, 807022, 807278, 807534, 807790, 808046, 808302, 808558, 808736, 809081, 809317, 809589, 809760, 810099, 810355, 810611, 810867, 811128, 811366, 811619, 811875, 812142, 812405, 812643, 812914, 813155, 813411, 813688, 813934, 814190, 814450, 814631, 814887, 815209, 815471, 815715, 815971, 816238, 816486, 816737, 816997, 817253, 817523, 817779, 818035, 818291, 818547, 818803, 819059, 819315, 819571, 819827, 820083, 820339, 820595, 820851, 821107, 821363, 821619, 821875, 822131, 822387, 822643, 822899, 823155, 823411, 823653, 823909, 824169, 824421, 824677, 824944, 825185, 825459, 825632, 825888, 826144, 826400, 826656, 826912, 827168, 827424, 827759, 827936, 828275, 828521, 828769, 829033, 829294, 829537, 829793, 830049, 830305, 830561, 830832, 831088, 831264, 831520, 831776, 832032, 832288, 832544, 832800, 833056, 833312, 833568, 833824, 834163, 834419, 834677, 834936, 835192, 835411, 835616, 835941, 836206, 836462, 836718, 836974, 837221, 837477, 837734, 837990, 838176, 838400, 838767, 839023, 839279, 839534, 839793, 840014, 840224, 840540, 840796, 841052, 841248, 841588, 841844, 842098, 842307, 842563, 842864, 843087, 843296, 843617, 843887, 845167, 845344, 845600, 845940, 846196, 846368, 846703, 846940, 847136, 847392, 847648, 847904, 848239, 848495, 848751, 848997, 849253, 849509, 849765, 850021, 850277, 850533, 850789, 851013, 851269, 851456, 851814, 852080, 852338, 852594, 852833, 853024, 853280, 853536, 853876, 854099, 854528, 854784, 856832, 858112, 858368, 858624, 858880, 859139, 859394, 859650, 859905, 860160, 860416, 860672, 860928, 861184, 861440, 861698, 861955, 862211, 862467, 862723, 862979, 863232, 863491, 863747, 864000, 864256, 864512, 864768, 865024, 866304, 866561, 866817, 867072, 867328, 867584, 869120, 869376, 869888, 870144, 870400, 872192, 872960, 873984, 874496, 875264, 875776, 878336, 878592, 878848, 879104, 879360, 879616, 880128, 880384, 880640, 880896, 881152, 881408, 881664, 881920, 882176, 882432, 882688, 882944, 883200, 883456, 883712, 883968, 884224, 884480, 884736, 884992, 885248, 917504, 917760, 918272, 918528, 918784, 919040, 2718, 3854, 4347, 5058, 5120, 5740, 5894, 11264, 11520, 23808, 25344, 25600, 32000, 49664, 59180, 72994, 79936, 85833, 87899, 91770, 92304, 94641, 96014, 103153, 457216, 462848, 463104, 877787, 878043, 878299, 887040, 2373, 4395, 50432, 52268, 64507, 68379, 79163, 86367, 86625, 86884, 87655, 89344, 89600, 89856, 90112, 90368, 98666, 100333, 103412, 124160, 161792, 456704, 456960, 459008, 563200, 606720, 865280, 15619, 20992, 49920, 62992, 63478, 88338, 92020, 95376, 97992, 99046, 100590, 456448, 459264, 459520, 459776, 460032, 460288, 460800, 461056, 490240, 505344, 3337, 17920, 18176, 24320, 25856, 27648, 65003, 67086, 92452, 93856, 94387, 97726, 98530, 553472, 590591, 917248, 50176, 66580, 69153, 71215, 79417, 80197, 87116, 639488, 699392, 778752, 44296, 476928, 515072, 573184, 508160, 2047, 43272, 502527, 504063, 505855, 510719, 495616, 40195, 42760, 62788, 113152, 121856, 122368, 182784, 192512, 199936, 879872, 2168, 35079, 39424, 119808, 120064, 120448, 120576, 120832, 121088, 475648, 481032, 497408, 565248, 491008, 514816, 589568, 3072, 491520, 40448, 40959, 41215, 499968, 39167, 51502, 854272, 6184, 594432, 604432, 484614, 876996, 877252, 877508, 918016, 865708, 865964, 866220, 28672, 30464, 30720, 31232, 31488, 32256, 32512, 33280, 35584, 35840, 37120, 37888, 55681, 108288, 108544, 114688, 114944, 122112, 162048, 163072, 179456, 180480, 181504, 183552, 184576, 185344, 187136, 190464, 190720, 191488, 191744, 192000, 193024, 193280, 193536, 193792, 194048, 195328, 195584, 197120, 198400, 201856, 204032, 205568, 205824, 206080, 209664, 211712, 220672, 220928, 221184, 225024, 229632, 229888, 230144, 230400, 230656, 231168, 231424, 236032, 236288, 238848, 239360, 261120, 269312, 269568, 269824, 270080, 270336, 270592, 270848, 271104, 271360, 271616, 271872, 272128, 285952, 286336, 286848, 290304, 290560, 290816, 291072, 291328, 292352, 292608, 292864, 293632, 293888, 294400, 356096, 363776, 367616, 367872, 368384, 388608, 389632, 400640, 400896, 401920, 410112, 411136, 427008, 427264, 427520, 427776, 428032, 428288, 428544, 428800, 429312, 432640, 432896, 433152, 433408, 433664, 433920, 434176, 434432, 434688, 434944, 435200, 436992, 439552, 441600, 442624, 444672, 445696, 445952, 446720, 447488, 447744, 448000, 448256, 453376, 453632, 453888, 603521, 132608, 500224, 34304, 114432, 479236, 497664, 554240, 606500, 181248, 183808, 192768, 196864, 238592, 393216, 6655, 416000, 416256, 514304, 483584, 122880, 139264, 149504, 150528, 478976, 484096, 26624, 27136, 30976, 36352, 130048, 130304, 137472, 166912, 167936, 171520, 266496, 266752, 267008, 267264, 267520, 267776, 289536, 513794, 500480, 12032, 63853, 34560, 168960, 170752, 169216, 12815, 13311, 13312, 13568, 13824, 168448, 169728, 54929, 500736, 23296, 27392, 35328, 36096, 126464, 126720, 126976, 127232, 127488, 127744, 128000, 128256, 128768, 129024, 129280, 130560, 132352, 134912, 135168, 135424, 142080, 208128, 484870, 130816, 29696, 48128, 33024, 479488, 226560, 22272, 163328, 210944, 392960, 178944, 220160, 220416, 279808, 316928, 317440, 317696, 318208, 325120, 360448, 360704, 360960, 361216, 368128, 370176, 388096, 443648, 443904, 254720, 254976, 263936, 264448, 297984, 298240, 299264, 505856, 200704, 393728, 393984, 394240, 451328, 451584, 483328, 500992, 284160, 284416, 284672, 284928, 357888, 358144, 32768, 34047, 200192, 275968, 343296, 344064, 344832, 347392, 347648, 348928, 479744, 33536, 39936, 49168, 49408, 22528, 501252, 22016, 282112, 355840, 200448, 219904, 268032, 268288, 355072, 355328, 441344, 10496, 379648, 384256, 444416, 391168, 391449, 38784, 255488, 257536, 265728, 136960, 192256, 204288, 253696, 253952, 254464, 265984, 266240, 280576, 303104, 356864, 357120, 375040, 375296, 436736, 454400, 24832, 188416, 262912, 263168, 263424, 263680, 351744, 353024, 341504, 341760, 261376, 287232, 480000, 114304, 184096, 185856, 195840, 199168, 204825, 205056, 205312, 206592, 207104, 441984, 442240, 442496, 447268, 485122, 2816, 141568, 160512, 225792, 226816, 227072, 227840, 233216, 233472, 275712, 282880, 285440, 285696, 286464, 297728, 304896, 318464, 318720, 318976, 319232, 319488, 319744, 320256, 320512, 320768, 321024, 321280, 321536, 321792, 322048, 322304, 322560, 322816, 323072, 323328, 323584, 323840, 324096, 324352, 326912, 327424, 327680, 333312, 335616, 336128, 336384, 342784, 349440, 349696, 387072, 387584, 387840, 395264, 418048, 426496, 430080, 430848, 431104, 431360, 431616, 431872, 444928, 453120, 485376, 312832, 355584, 367104, 370432, 242432, 245760, 253184, 279552, 301056, 301312, 301568, 301824, 302080, 302336, 302592, 317184, 361472, 361728, 361984, 362240, 362496, 366848, 388352, 392704, 412928, 413184, 413952, 414464, 414720, 417024, 417280, 23040, 26368, 27904, 148224, 150272, 157184, 157440, 174592, 174848, 222976, 250112, 258048, 258304, 258816, 259072, 259328, 259584, 260096, 260352, 264192, 282368, 282624, 364032, 373248, 485632, 14080, 16384, 25088, 26112, 34048, 34816, 37376, 48389, 128512, 138240, 139008, 139776, 140032, 143104, 143360, 144640, 144896, 145152, 147712, 147968, 148480, 148736, 149248, 150016, 155648, 156928, 161024, 166144, 166656, 168192, 175104, 175616, 177152, 207872, 208640, 223232, 223488, 226304, 229120, 229376, 230912, 231936, 232192, 232448, 232704, 232960, 233728, 233984, 234496, 235264, 235520, 235776, 303360, 313088, 313344, 313600, 313856, 314112, 315904, 316160, 327168, 328960, 340224, 349184, 349952, 350464, 350720, 350976, 351232, 375552, 380416, 380928, 381696, 382720, 383232, 384000, 384512, 384768, 385024, 385280, 385536, 385792, 389120, 394496, 395008, 396544, 396800, 399104, 399360, 402944, 403200, 403456, 403712, 403968, 410624, 418304, 418560, 424960, 425216, 425728, 425984, 437248, 438528, 438784, 449280, 449536, 449792, 450048, 450304, 450560, 450816, 451072, 147200, 260864, 268800, 283136, 283392, 283648, 283904, 358400, 358656, 358912, 359168, 359424, 359680, 359936, 369664, 412672, 417792, 439040, 439296, 452096, 12799, 22784, 36864, 141056, 142592, 144128, 154112, 176128, 177408, 212736, 342528, 386560, 386816, 485888, 11776, 155392, 242688, 242944, 243456, 243968, 244480, 244736, 245504, 246272, 249600, 249856, 258560, 298752, 372736, 19968, 228096, 228352, 228608, 228864, 231680, 269056, 273408, 308224, 311808, 312064, 312320, 312576, 314880, 315136, 315392, 315648, 320000, 325632, 325888, 332288, 332800, 333824, 334336, 335360, 336640, 337920, 338176, 338432, 338688, 338944, 339200, 339456, 339712, 339968, 340480, 342272, 343552, 343808, 344320, 344576, 345088, 345344, 345600, 345856, 346112, 346368, 346624, 346880, 347136, 347904, 348160, 348416, 348672, 351488, 363008, 363264, 363520, 364288, 364544, 365056, 365312, 366592, 374528, 375808, 378624, 380672, 381184, 381440, 388864, 397824, 401152, 402688, 416512, 425472, 429824, 430336, 15872, 487424, 23552, 48645, 131584, 131840, 134656, 136192, 151552, 151808, 296960, 297472, 26880, 29440, 129536, 129792, 136704, 138496, 140288, 145408, 145664, 155904, 167424, 168704, 169472, 169984, 173824, 174080, 174336, 203776, 208384, 210176, 224000, 224256, 224512, 224768, 225280, 236544, 236800, 237056, 237312, 237568, 237824, 238080, 238336, 241920, 244224, 247040, 247808, 248064, 250368, 250624, 250880, 251136, 251392, 259840, 260608, 261632, 261888, 262144, 262400, 264704, 264960, 265216, 265472, 281088, 281344, 281600, 281856, 287744, 297216, 303616, 303872, 304128, 304384, 304640, 305152, 305408, 305664, 305920, 306176, 306432, 306688, 306944, 307200, 307456, 307712, 307968, 308480, 308736, 308992, 309248, 314368, 314624, 317952, 325376, 326144, 370688, 372992, 397312, 397568, 402176, 476672, 28928, 133120, 157696, 191232, 241152, 328448, 328704, 362752, 364800, 372480, 377088, 377344, 377600, 377856, 378112, 378368, 378880, 563968, 133376, 133632, 133888, 136448, 137728, 149760, 152320, 163584, 163840, 164608, 165120, 166400, 173568, 190976, 208896, 213248, 223744, 227328, 227584, 234752, 235008, 239616, 256512, 256768, 257024, 257280, 273664, 273920, 274176, 274432, 274688, 274944, 275200, 275456, 280832, 288256, 290048, 291584, 291840, 292096, 293120, 293376, 294144, 299520, 369920, 371456, 397056, 404224, 404480, 404736, 404992, 405248, 405504, 405760, 406016, 406272, 406528, 406784, 407040, 407296, 407552, 407808, 408064, 408320, 408576, 408832, 409088, 409344, 409600, 409856, 413440, 415232, 415488, 417536, 430592, 437504, 437760, 438016, 438272, 440832, 132096, 140544, 142336, 145920, 146176, 146432, 146688, 146944, 147456, 150784, 151040, 151296, 156672, 196096, 199680, 221952, 239104, 268544, 272384, 272640, 272896, 273152, 276224, 276480, 309760, 310016, 310272, 310528, 310784, 311040, 311296, 311552, 324608, 326656, 327936, 328192, 329216, 329472, 329728, 329984, 330240, 330496, 330752, 331264, 331520, 331776, 332032, 332544, 333056, 333568, 334080, 334592, 334848, 335104, 336896, 337152, 337408, 337664, 343040, 350208, 371200, 374272, 376576, 379392, 380160, 381952, 382208, 382464, 382976, 383488, 383744, 387328, 394752, 395520, 399872, 402432, 416768, 429056, 440064, 440320, 440576, 445184, 445440, 446976, 448512, 448768, 449024, 37632, 152576, 153600, 158464, 210432, 210688, 212992, 226048, 244992, 252928, 255744, 309504, 316416, 316672, 365568, 365824, 366080, 366336, 376320, 389888, 426240, 432128, 432384, 444160, 452352, 48901, 441088, 16640, 28160, 28416, 29952, 36608, 122624, 140800, 141312, 143872, 148992, 154368, 159232, 159488, 164864, 165376, 167168, 167680, 175360, 176640, 176896, 179968, 211200, 211456, 219392, 219648, 234240, 246016, 248320, 248576, 248832, 249088, 249344, 252672, 256000, 256256, 257792, 262656, 287488, 299776, 300032, 300288, 357376, 357632, 368640, 368896, 369152, 369408, 370944, 373504, 373760, 389376, 391680, 391936, 392192, 392448, 395776, 401664, 414208, 415744, 443392, 452608, 452864, 14336, 14592, 29184, 30208, 137216, 142848, 155136, 159744, 160000, 160256, 187392, 187648, 207616, 240128, 242176, 247296, 253440, 254208, 277248, 288000, 296192, 302848, 356352, 356608, 376832, 401408, 411392, 411648, 411904, 412160, 418816, 419072, 419328, 419584, 419840, 420096, 420352, 420608, 420864, 421120, 421376, 421632, 421888, 422144, 422400, 422656, 422912, 423168, 423424, 423680, 423936, 424192, 424448, 424704, 426752, 429568, 435456, 435712, 16128, 31744, 38144, 38400, 131328, 134400, 138752, 139520, 143616, 144384, 152064, 152832, 153088, 153344, 153856, 154624, 154880, 156160, 158208, 158976, 170240, 175872, 176384, 178688, 206848, 209152, 209920, 212224, 212480, 213504, 213760, 214016, 214272, 214528, 214784, 215040, 215296, 215552, 215808, 216064, 216320, 216576, 216832, 217088, 217344, 217600, 217856, 218112, 218368, 218624, 218880, 219136, 222720, 243200, 245248, 247552, 251648, 251904, 252160, 252416, 255232, 277504, 277760, 278016, 278272, 278528, 278784, 279040, 279296, 280064, 280320, 286976, 288768, 289024, 289280, 294656, 294912, 295168, 295424, 295680, 295936, 296448, 296704, 352000, 352256, 352512, 352768, 353280, 353536, 353792, 354048, 354304, 354560, 354816, 360192, 367360, 379904, 386048, 386304, 390144, 396032, 396288, 398080, 398336, 398592, 398848, 442880, 443136, 446208, 446464, 454144, 491776, 141824, 157952, 158720, 246784, 298496, 324864, 335872, 340736, 340992, 341248, 342016, 374016, 374784, 379136, 393472, 410880, 413696, 435968, 172800, 211968, 243712, 42112, 42624, 44928, 45952, 131072, 221440, 221696, 222208, 222464, 285184, 288512, 289792, 299008, 390400, 390656, 390912, 399616, 400128, 400384, 240384, 240640, 240896, 241408, 241664, 246528, 412416, 414976, 436224, 436480, 507904, 24576, 132864, 137984, 156416, 196608, 371712, 371968, 372224, 376064, 410368, 480278, 876544, 24064, 77214, 83358, 84629, 509312, 527746, 537019, 537275, 594688, 603285, 605845, 606101, 606357, 844032, 844288, 844544, 844800, 855808, 520192, 552192, 856064, 10240, 60416, 60672, 60928, 480512, 492032, 567040, 855552, 857088, 857344, 857600, 857856, 475392, 855040, 855296, 497920, 516352, 516608, 516864, 42240, 480770, 867871, 868127, 868383, 498176, 856320, 856576, 10752, 498432, 476160, 515505, 515761, 516017, 907775, 914687, 44032, 914944, 908031, 492288, 912640, 915200, 916991, 913151, 911103, 913663, 913919, 914175, 915456, 916735, 917247, 914688, 912383, 912639, 913407, 911872, 907519, 11008, 915967, 916223, 907008, 907007, 908032, 914431, 916479, 911740, 482333, 482589, 482845, 910337, 910593, 911361, 498688, 492544, 45312, 497152, 487680, 492800, 481290, 919296, 17408, 17664, 45568, 487936, 491264, 45056, 4608, 8448, 8704, 8960, 9216, 9472, 9728, 9984, 475904, 484352, 39168, 256, 512, 1023, 1279, 1535, 1791, 3839, 5631, 100609, 117759, 124927, 499455, 503807, 504319, 504575, 504831, 505087, 513023, 513279, 513791, 556287, 565759, 586751, 671743, 868863, 869119, 869887, 870911, 871167, 871423, 871679, 871935, 872191, 872703, 872959, 873471, 873727, 873983, 874495, 875007, 875263, 875775, 876287, 876543, 885759, 886015, 886271, 886527, 886783, 887039, 887551, 887807, 888063, 888319, 888575, 888831, 889087, 889343, 889599, 889855, 890111, 890367, 890623, 890879, 891135, 891391, 891647, 891903, 892159, 892415, 892671, 892927, 893183, 893439, 893695, 893951, 894207, 894463, 894719, 894975, 895231, 895487, 895743, 895999, 896255, 896473, 896728, 896981, 897221, 897479, 897753, 898047, 898303, 898559, 898815, 899071, 899327, 899583, 899839, 900059, 900315, 900556, 900863, 901083, 901338, 901588, 901843, 902099, 902344, 902603, 902867, 903117, 903374, 903631, 903897, 904133, 904402, 904646, 904905, 905168, 905430, 905687, 905945, 906193, 906442, 906705, 908292, 908544, 908800, 909086, 909312, 909568, 909824, 910080, 911345]"
   ]
  },
  {
   "cell_type": "code",
   "execution_count": null,
   "id": "d1258245-18b0-4a90-a7e5-bb1cc562e580",
   "metadata": {},
   "outputs": [],
   "source": [
    "tt = [z for z in bzd.tt if z]"
   ]
  },
  {
   "cell_type": "code",
   "execution_count": null,
   "id": "c0f36127-299b-416b-ada9-aff52f3c2d6c",
   "metadata": {},
   "outputs": [],
   "source": [
    "self.assertListEqual(tt, expected)"
   ]
  },
  {
   "cell_type": "code",
   "execution_count": null,
   "id": "a9b61ce3-31cf-45ec-9753-378e13b22f47",
   "metadata": {},
   "outputs": [],
   "source": [
    "sha256 = hashlib.sha256(bzd.out).hexdigest()"
   ]
  },
  {
   "cell_type": "code",
   "execution_count": null,
   "id": "0be15662-36cb-47db-9361-6240cfe027f1",
   "metadata": {},
   "outputs": [],
   "source": [
    "self.assertEqual(sha256, 'eeaefe8c8a5d42855d886e5368d5c752a03d821681c7b2ceb5d900aa6cf70e18')"
   ]
  },
  {
   "cell_type": "code",
   "execution_count": null,
   "id": "4fe767a0-d26c-459f-9d9f-cda8be04d29a",
   "metadata": {},
   "outputs": [],
   "source": [
    "bzd = Bz2Decompress(data, 0x1728)"
   ]
  },
  {
   "cell_type": "code",
   "execution_count": null,
   "id": "13dbe908-0b89-4d6b-b4fb-32c1933d6371",
   "metadata": {},
   "outputs": [],
   "source": [
    "uc = bzd._get_bits(8, 'BZ_X_BLKHDR_1')"
   ]
  },
  {
   "cell_type": "code",
   "execution_count": null,
   "id": "63fa7103-c215-4ba1-afed-db84454ad8a8",
   "metadata": {},
   "outputs": [],
   "source": [
    "hex(uc)"
   ]
  },
  {
   "cell_type": "code",
   "execution_count": null,
   "id": "1046369a-1250-4b48-9cd5-4f2b5528e0f6",
   "metadata": {},
   "outputs": [],
   "source": [
    "self.assertEqual(uc, 0x31)"
   ]
  },
  {
   "cell_type": "code",
   "execution_count": null,
   "id": "fb986d48-f5cc-4dba-8051-86d3859ddde1",
   "metadata": {},
   "outputs": [],
   "source": [
    "if uc != 0x31:\n",
    "    raise RuntimeError('BZ_DATA_ERROR: Incorrect BZ_X_BLKHDR_1')"
   ]
  },
  {
   "cell_type": "code",
   "execution_count": null,
   "id": "ae15a825-696a-4e15-8c20-8d356a386221",
   "metadata": {},
   "outputs": [],
   "source": [
    "bzd.origptr = 0"
   ]
  },
  {
   "cell_type": "code",
   "execution_count": null,
   "id": "da2b9d51-9f33-424c-87e3-5e2ca329b225",
   "metadata": {},
   "outputs": [],
   "source": [
    "uc = bzd._get_bits(8, 'BZ_X_ORIGPTR_1')"
   ]
  },
  {
   "cell_type": "code",
   "execution_count": null,
   "id": "ba2f0342-4936-4bcc-9354-fd96dfebf2a0",
   "metadata": {},
   "outputs": [],
   "source": [
    "hex(uc)"
   ]
  },
  {
   "cell_type": "code",
   "execution_count": null,
   "id": "f8e83938-218a-4c01-b8d6-9ada40e2279a",
   "metadata": {},
   "outputs": [],
   "source": [
    "self.assertEqual(uc, 0x0)"
   ]
  },
  {
   "cell_type": "code",
   "execution_count": null,
   "id": "18fd0d34-0bea-475d-ab7c-12d039cfb583",
   "metadata": {},
   "outputs": [],
   "source": [
    "bzd.origptr = (bzd.origptr << 8) | uc"
   ]
  },
  {
   "cell_type": "code",
   "execution_count": null,
   "id": "b76a3376-d3f1-4863-a5a8-707edb430c6e",
   "metadata": {},
   "outputs": [],
   "source": [
    "hex(bzd.origptr)"
   ]
  },
  {
   "cell_type": "code",
   "execution_count": null,
   "id": "9a61e1fa-199d-443b-bf59-29cbdbc28011",
   "metadata": {},
   "outputs": [],
   "source": [
    "self.assertEqual(bzd.origptr, 0x0)"
   ]
  },
  {
   "cell_type": "code",
   "execution_count": null,
   "id": "afba0d80-27d9-4a2f-96ad-d3a351936e6f",
   "metadata": {},
   "outputs": [],
   "source": [
    "uc = bzd._get_bits(8, 'BZ_X_ORIGPTR_2')"
   ]
  },
  {
   "cell_type": "code",
   "execution_count": null,
   "id": "083857da-57a4-404d-9a64-626b76024001",
   "metadata": {},
   "outputs": [],
   "source": [
    "hex(uc)"
   ]
  },
  {
   "cell_type": "code",
   "execution_count": null,
   "id": "c565bc17-e1dd-48f6-9c6e-95a3baae7c1b",
   "metadata": {},
   "outputs": [],
   "source": [
    "self.assertEqual(uc, 0xd)"
   ]
  },
  {
   "cell_type": "code",
   "execution_count": null,
   "id": "14cde3c4-a2ad-41e3-8be6-aaab3429bf24",
   "metadata": {},
   "outputs": [],
   "source": [
    "bzd.origptr = (bzd.origptr << 8) | uc"
   ]
  },
  {
   "cell_type": "code",
   "execution_count": null,
   "id": "43538da6-b6e4-4b41-961c-2a57922228c0",
   "metadata": {},
   "outputs": [],
   "source": [
    "hex(bzd.origptr)"
   ]
  },
  {
   "cell_type": "code",
   "execution_count": null,
   "id": "1f8aa5b4-652d-4099-b39c-41b8b91590f4",
   "metadata": {},
   "outputs": [],
   "source": [
    "self.assertEqual(bzd.origptr, 0xd)"
   ]
  },
  {
   "cell_type": "code",
   "execution_count": null,
   "id": "e509a1e7-816a-4815-a416-1ae2394de7d7",
   "metadata": {},
   "outputs": [],
   "source": [
    "uc = bzd._get_bits(8, 'BZ_X_ORIGPTR_3')"
   ]
  },
  {
   "cell_type": "code",
   "execution_count": null,
   "id": "a3db7a59-bdfb-48df-81f7-dec4bc083b42",
   "metadata": {},
   "outputs": [],
   "source": [
    "hex(uc)"
   ]
  },
  {
   "cell_type": "code",
   "execution_count": null,
   "id": "21c40937-85dd-43ae-b4b0-df026bf3c09c",
   "metadata": {},
   "outputs": [],
   "source": [
    "self.assertEqual(uc, 0xb)"
   ]
  },
  {
   "cell_type": "code",
   "execution_count": null,
   "id": "542eee37-c2ed-4056-9ca8-345ffc2ecf1e",
   "metadata": {},
   "outputs": [],
   "source": [
    "bzd.origptr = (bzd.origptr << 8) | uc"
   ]
  },
  {
   "cell_type": "code",
   "execution_count": null,
   "id": "54154284-3a86-45ca-afb4-903ad4ea42d0",
   "metadata": {},
   "outputs": [],
   "source": [
    "hex(bzd.origptr)"
   ]
  },
  {
   "cell_type": "code",
   "execution_count": null,
   "id": "2a9c49b2-afef-4bc3-8f2a-b03fc3452836",
   "metadata": {},
   "outputs": [],
   "source": [
    "self.assertEqual(bzd.origptr, 0xd0b)"
   ]
  },
  {
   "cell_type": "code",
   "execution_count": null,
   "id": "ce4b3fd9-ab84-4253-80a3-ef71549792a9",
   "metadata": {},
   "outputs": [],
   "source": [
    "if bzd.origptr < 0:\n",
    "    raise RuntimeError('BZ_DATA_ERROR: Orig ptr is negative')"
   ]
  },
  {
   "cell_type": "code",
   "execution_count": null,
   "id": "8be3666b-2422-41d3-baaf-5c712222e71d",
   "metadata": {},
   "outputs": [],
   "source": [
    "if bzd.origptr > 10 + NSIS_COMPRESS_BZIP2_LEVEL * 100000:\n",
    "    raise RuntimeError('BZ_DATA_ERROR: Orig ptr is too large')"
   ]
  },
  {
   "cell_type": "code",
   "execution_count": null,
   "id": "3d66c762-4fb1-419d-94fa-82c0665d787d",
   "metadata": {},
   "outputs": [],
   "source": [
    "# Mapping table"
   ]
  },
  {
   "cell_type": "code",
   "execution_count": null,
   "id": "c026ff38-a650-4c96-ac6f-8172be8990f3",
   "metadata": {},
   "outputs": [],
   "source": [
    "inuse16 = list()\n",
    "for i in range(16):\n",
    "    uc = bzd._get_bits(1, 'BZ_X_MAPPING_1')\n",
    "    if uc == 1:\n",
    "        inuse16.append(True)\n",
    "    else:\n",
    "        inuse16.append(False)\n",
    "bzd.inuse16 = inuse16"
   ]
  },
  {
   "cell_type": "code",
   "execution_count": null,
   "id": "4e9e136a-9c86-43db-9e03-9df06e9cba80",
   "metadata": {},
   "outputs": [],
   "source": [
    "self.assertListEqual(bzd.inuse16, [True] * 16)"
   ]
  },
  {
   "cell_type": "code",
   "execution_count": null,
   "id": "5b6cd2ba-8b37-45a3-846a-6d6ff841e884",
   "metadata": {},
   "outputs": [],
   "source": [
    "bzd.inuse = [False] * 256"
   ]
  },
  {
   "cell_type": "code",
   "execution_count": null,
   "id": "07351a69-46bb-4a28-b808-c8c2cb179244",
   "metadata": {},
   "outputs": [],
   "source": [
    "len(bzd.inuse)"
   ]
  },
  {
   "cell_type": "code",
   "execution_count": null,
   "id": "7e21ebc2-8b59-4763-b6a5-b027e7182054",
   "metadata": {},
   "outputs": [],
   "source": [
    "for i in range(16):\n",
    "    if bzd.inuse16[i]:\n",
    "        for j in range(16):\n",
    "            uc = bzd._get_bits(1, 'BZ_X_MAPPING_2')\n",
    "            if uc == 1:\n",
    "                bzd.inuse[i * 16 + j] = True"
   ]
  },
  {
   "cell_type": "code",
   "execution_count": null,
   "id": "da0eb2f1-f97a-460f-a11c-7b8c254b4f95",
   "metadata": {
    "jupyter": {
     "source_hidden": true
    }
   },
   "outputs": [],
   "source": [
    "expected = [True, True, True, True, True, True, True, True, True, True, True, True, False, True, True, True, True, True, True, False, True, True, True, True, False, True, False, True, False, True, True, True, True, True, True, False, True, False, True, True, True, False, False, True, True, False, True, True, True, True, True, True, True, False, False, False, False, True, True, True, True, False, True, True, True, True, True, True, True, True, True, True, False, True, True, True, True, True, True, True, True, False, True, True, True, True, True, True, False, False, False, True, True, False, False, True, True, True, True, True, True, True, True, True, True, True, True, True, True, True, True, True, True, True, True, True, True, True, True, True, True, True, True, False, True, False, False, False, True, True, True, False, False, False, False, False, False, False, True, False, False, False, False, False, True, True, False, False, False, True, False, False, False, False, False, False, False, False, True, False, True, False, False, False, False, False, False, False, False, False, False, False, True, False, False, False, True, True, False, True, False, False, False, False, False, False, False, True, True, False, True, False, False, False, True, False, True, True, True, True, True, True, True, True, True, True, True, True, True, True, True, True, True, True, True, True, True, True, True, True, False, False, False, False, False, False, True, False, False, False, True, False, False, True, False, True, False, True, True, False, False, True, True, False, True, False, True, False, False, False, True, True, False, True, True, True]"
   ]
  },
  {
   "cell_type": "code",
   "execution_count": null,
   "id": "b2df7e7d-f044-4b0b-b260-71f312bde5cf",
   "metadata": {},
   "outputs": [],
   "source": [
    "self.assertListEqual(bzd.inuse, expected)"
   ]
  },
  {
   "cell_type": "code",
   "execution_count": null,
   "id": "36db4448-2d7d-432b-a1f8-888bfe5b276b",
   "metadata": {},
   "outputs": [],
   "source": [
    "bzd.ninuse = 0"
   ]
  },
  {
   "cell_type": "code",
   "execution_count": null,
   "id": "d2c8a729-7943-4df0-8d45-8b5ca9beb48b",
   "metadata": {},
   "outputs": [],
   "source": [
    "bzd.seqtounseq = [0] * 256"
   ]
  },
  {
   "cell_type": "code",
   "execution_count": null,
   "id": "0a577ac0-2865-47fd-9068-e5a58f6bbc9d",
   "metadata": {},
   "outputs": [],
   "source": [
    "for qi in range(256):\n",
    "    if bzd.inuse[qi]:\n",
    "        bzd.seqtounseq[bzd.ninuse] = qi\n",
    "        bzd.ninuse += 1"
   ]
  },
  {
   "cell_type": "code",
   "execution_count": null,
   "id": "38c0e835-8c6b-43d1-9a5e-d2272b1b9ed6",
   "metadata": {},
   "outputs": [],
   "source": [
    "self.assertEqual(bzd.ninuse, 158)"
   ]
  },
  {
   "cell_type": "code",
   "execution_count": null,
   "id": "32de62be-955a-406b-aba4-ca6c18da28d4",
   "metadata": {
    "jupyter": {
     "source_hidden": true
    }
   },
   "outputs": [],
   "source": [
    "expected = [0, 1, 2, 3, 4, 5, 6, 7, 8, 9, 10, 11, 13, 14, 15, 16, 17, 18, 20, 21, 22, 23, 25, 27, 29, 30, 31, 32, 33, 34, 36, 38, 39, 40, 43, 44, 46, 47, 48, 49, 50, 51, 52, 57, 58, 59, 60, 62, 63, 64, 65, 66, 67, 68, 69, 70, 71, 73, 74, 75, 76, 77, 78, 79, 80, 82, 83, 84, 85, 86, 87, 91, 92, 95, 96, 97, 98, 99, 100, 101, 102, 103, 104, 105, 106, 107, 108, 109, 110, 111, 112, 113, 114, 115, 116, 117, 118, 119, 120, 121, 122, 124, 128, 129, 130, 138, 144, 145, 149, 158, 160, 172, 176, 177, 179, 187, 188, 190, 194, 196, 197, 198, 199, 200, 201, 202, 203, 204, 205, 206, 207, 208, 209, 210, 211, 212, 213, 214, 215, 216, 217, 218, 219, 226, 230, 233, 235, 237, 238, 241, 242, 244, 246, 250, 251, 253, 254, 255, 0, 0, 0, 0, 0, 0, 0, 0, 0, 0, 0, 0, 0, 0, 0, 0, 0, 0, 0, 0, 0, 0, 0, 0, 0, 0, 0, 0, 0, 0, 0, 0, 0, 0, 0, 0, 0, 0, 0, 0, 0, 0, 0, 0, 0, 0, 0, 0, 0, 0, 0, 0, 0, 0, 0, 0, 0, 0, 0, 0, 0, 0, 0, 0, 0, 0, 0, 0, 0, 0, 0, 0, 0, 0, 0, 0, 0, 0, 0, 0, 0, 0, 0, 0, 0, 0, 0, 0, 0, 0, 0, 0, 0, 0, 0, 0, 0, 0]"
   ]
  },
  {
   "cell_type": "code",
   "execution_count": null,
   "id": "fcac26b5-c85c-447d-aa63-29af5bf4f6f2",
   "metadata": {},
   "outputs": [],
   "source": [
    "self.assertListEqual(bzd.seqtounseq, expected)"
   ]
  },
  {
   "cell_type": "code",
   "execution_count": null,
   "id": "20166ea2-8dd2-4f3e-bba5-372bfb5bde90",
   "metadata": {},
   "outputs": [],
   "source": [
    "if bzd.ninuse == 0:\n",
    "    raise RuntimeError('BZ_DATA_ERROR: ninuse is zero')"
   ]
  },
  {
   "cell_type": "code",
   "execution_count": null,
   "id": "ac436997-906c-4825-9101-066205bd1ceb",
   "metadata": {},
   "outputs": [],
   "source": [
    "alphasize = bzd.ninuse + 2"
   ]
  },
  {
   "cell_type": "code",
   "execution_count": null,
   "id": "ec91319b-3d53-4387-b1d1-302b8db65c3b",
   "metadata": {},
   "outputs": [],
   "source": [
    "alphasize"
   ]
  },
  {
   "cell_type": "code",
   "execution_count": null,
   "id": "959f9021-5174-4d73-bae9-5a5045c0089e",
   "metadata": {},
   "outputs": [],
   "source": [
    "self.assertEqual(alphasize, 160)"
   ]
  },
  {
   "cell_type": "code",
   "execution_count": null,
   "id": "5c0758c3-0b2e-4be0-91e7-0a85f039acbb",
   "metadata": {},
   "outputs": [],
   "source": [
    "# Selectors"
   ]
  },
  {
   "cell_type": "code",
   "execution_count": null,
   "id": "8dd4b180-50c6-4e87-ab56-2a428f9a279c",
   "metadata": {},
   "outputs": [],
   "source": [
    "ngroups = bzd._get_bits(3, 'BZ_X_SELECTOR_1')"
   ]
  },
  {
   "cell_type": "code",
   "execution_count": null,
   "id": "f563b288-5f13-47d2-b682-e8a3504284f1",
   "metadata": {},
   "outputs": [],
   "source": [
    "ngroups"
   ]
  },
  {
   "cell_type": "code",
   "execution_count": null,
   "id": "29b21f45-4790-481d-a146-5c3a6689befa",
   "metadata": {},
   "outputs": [],
   "source": [
    "self.assertEqual(ngroups, 5)"
   ]
  },
  {
   "cell_type": "code",
   "execution_count": null,
   "id": "2ec188ef-5913-4295-9196-bc597afec762",
   "metadata": {},
   "outputs": [],
   "source": [
    "if ngroups < 2 or ngroups > 6:\n",
    "    raise RuntimeError('BZ_DATA_ERROR: Invalid number of groups')"
   ]
  },
  {
   "cell_type": "code",
   "execution_count": null,
   "id": "521d833d-3d26-4ca7-868c-cd5b0299f2a5",
   "metadata": {},
   "outputs": [],
   "source": [
    "nselectors = bzd._get_bits(15, 'BZ_X_SELECTOR_2')"
   ]
  },
  {
   "cell_type": "code",
   "execution_count": null,
   "id": "542c7669-29d9-4203-8745-cac39880d1cb",
   "metadata": {},
   "outputs": [],
   "source": [
    "nselectors"
   ]
  },
  {
   "cell_type": "code",
   "execution_count": null,
   "id": "32db1350-e11d-45d5-93b9-26245691acd1",
   "metadata": {},
   "outputs": [],
   "source": [
    "self.assertEqual(nselectors, 37)"
   ]
  },
  {
   "cell_type": "code",
   "execution_count": null,
   "id": "51c24bd2-1576-4edd-b462-952214ef3008",
   "metadata": {},
   "outputs": [],
   "source": [
    "if nselectors < 1:  # Maybe this can be nselectors == 0 ?\n",
    "    raise RuntimeError('BZ_DATA_ERROR: Invalid number of selectors')"
   ]
  },
  {
   "cell_type": "code",
   "execution_count": null,
   "id": "b941ce28-b02b-404c-b26a-cdd14fcb930c",
   "metadata": {},
   "outputs": [],
   "source": [
    "bzd.selectormtf = [0] * BZ_MAX_SELECTORS"
   ]
  },
  {
   "cell_type": "code",
   "execution_count": null,
   "id": "fc7fb602-d4f1-461f-bd8b-a3126a5c4c98",
   "metadata": {},
   "outputs": [],
   "source": [
    "for i in range(nselectors):\n",
    "    j = 0\n",
    "    while True:\n",
    "        uc = bzd._get_bits(1, 'BZ_X_SELECTOR_3')\n",
    "        if uc == 0:  # Why not store this value as 3 bits rather than a set of bits? It can only be the number of groups which is already stored as 3 bits above.\n",
    "            break\n",
    "        j += 1\n",
    "        if j >= ngroups:\n",
    "            raise RuntimeError('BZ_DATA_ERROR: Invalid selectorMtf value')\n",
    "    bzd.selectormtf[i] = j"
   ]
  },
  {
   "cell_type": "code",
   "execution_count": null,
   "id": "5aaa2e9c-0638-490b-9111-1fd1ac81f293",
   "metadata": {
    "jupyter": {
     "source_hidden": true
    }
   },
   "outputs": [],
   "source": [
    "expected = [0, 0, 1, 4, 3, 0, 0, 3, 3, 0, 0, 2, 1, 0, 3, 1, 1, 1, 2, 2, 1, 1, 2, 0, 0, 0, 1, 1, 3, 0, 3, 0, 0, 0, 0, 1, 0] + [0] * 17965"
   ]
  },
  {
   "cell_type": "code",
   "execution_count": null,
   "id": "661d0869-e8bc-4c6e-a6fd-3823659acf55",
   "metadata": {},
   "outputs": [],
   "source": [
    "self.assertListEqual(bzd.selectormtf, expected)"
   ]
  },
  {
   "cell_type": "code",
   "execution_count": null,
   "id": "a42738c5-4649-40e1-adf0-63749db38620",
   "metadata": {},
   "outputs": [],
   "source": [
    "# Undo MTF values for selectors"
   ]
  },
  {
   "cell_type": "code",
   "execution_count": null,
   "id": "92700d68-1402-4174-9555-ca8634ed98d1",
   "metadata": {},
   "outputs": [],
   "source": [
    "pos = [0] * BZ_N_GROUPS"
   ]
  },
  {
   "cell_type": "code",
   "execution_count": null,
   "id": "c44376b2-95a2-4207-acc4-7b0bda6823f4",
   "metadata": {},
   "outputs": [],
   "source": [
    "pos"
   ]
  },
  {
   "cell_type": "code",
   "execution_count": null,
   "id": "6ede3491-5d03-44a1-9c3b-b1f0fc1dec4a",
   "metadata": {},
   "outputs": [],
   "source": [
    "for i in range(ngroups):\n",
    "    pos[i] = i"
   ]
  },
  {
   "cell_type": "code",
   "execution_count": null,
   "id": "708238db-565f-4e4e-83ed-38902c8ab4cf",
   "metadata": {},
   "outputs": [],
   "source": [
    "pos"
   ]
  },
  {
   "cell_type": "code",
   "execution_count": null,
   "id": "f1148752-69c8-4d84-87fd-79a476da730b",
   "metadata": {},
   "outputs": [],
   "source": [
    "expected = [0, 1, 2, 3, 4, 0]"
   ]
  },
  {
   "cell_type": "code",
   "execution_count": null,
   "id": "e2f301b7-b16e-4cd2-95e4-15d6e4d40bec",
   "metadata": {},
   "outputs": [],
   "source": [
    "self.assertListEqual(pos, expected)"
   ]
  },
  {
   "cell_type": "code",
   "execution_count": null,
   "id": "5a9c5405-3c8f-46fb-97e4-fe86db5e71c6",
   "metadata": {},
   "outputs": [],
   "source": [
    "bzd.selector = [0] * BZ_MAX_SELECTORS"
   ]
  },
  {
   "cell_type": "code",
   "execution_count": null,
   "id": "0c226b89-b5b6-4550-9e89-c5ffb72d3608",
   "metadata": {},
   "outputs": [],
   "source": [
    "for i in range(nselectors):\n",
    "    v = bzd.selectormtf[i]\n",
    "    tmp = pos[v]\n",
    "    while v > 0:\n",
    "        pos[v] = pos[v-1]\n",
    "        v -= 1\n",
    "    pos[0] = tmp\n",
    "    bzd.selector[i] = tmp"
   ]
  },
  {
   "cell_type": "code",
   "execution_count": null,
   "id": "0820c4b7-9b05-4fac-bb00-cbc6b6e72485",
   "metadata": {
    "jupyter": {
     "source_hidden": true
    }
   },
   "outputs": [],
   "source": [
    "expected = [0, 0, 1, 4, 2, 2, 2, 0, 1, 1, 1, 2, 1, 1, 4, 1, 4, 1, 2, 4, 2, 4, 1, 1, 1, 1, 4, 1, 0, 0, 2, 2, 2, 2, 2, 0, 0] + [0] * 17965"
   ]
  },
  {
   "cell_type": "code",
   "execution_count": null,
   "id": "588befee-d55e-4119-accb-a7334d3d2732",
   "metadata": {},
   "outputs": [],
   "source": [
    "self.assertListEqual(bzd.selector, expected)"
   ]
  },
  {
   "cell_type": "code",
   "execution_count": null,
   "id": "202f3517-a58b-47ac-8c6f-9bb397359e37",
   "metadata": {},
   "outputs": [],
   "source": [
    "# Coding tables"
   ]
  },
  {
   "cell_type": "code",
   "execution_count": null,
   "id": "94da2e1e-bd6a-4e29-8d75-4945b29d0227",
   "metadata": {},
   "outputs": [],
   "source": [
    "bzd.len = [[0 for _ in range(BZ_MAX_ALPHA_SIZE)] for _ in range(BZ_N_GROUPS)]"
   ]
  },
  {
   "cell_type": "code",
   "execution_count": null,
   "id": "8b237208-5d91-4c65-b92a-9da6b1b46a8e",
   "metadata": {},
   "outputs": [],
   "source": [
    "for i in range(ngroups):\n",
    "    curr = bzd._get_bits(5, 'BZ_X_CODING_1')\n",
    "    for j in range(alphasize):\n",
    "        while True:\n",
    "            if curr < 1 or curr > 20:\n",
    "                raise RuntimeError('BZ_DATA_ERROR: Invalid BZ_X_CODING_1')\n",
    "            uc = bzd._get_bits(1, 'BZ_X_CODING_2')\n",
    "            if uc == 0:\n",
    "                break\n",
    "            uc = bzd._get_bits(1, 'BZ_X_CODING_3')\n",
    "            if uc == 0:\n",
    "                curr += 1\n",
    "            else:\n",
    "                curr -= 1\n",
    "        bzd.len[i][j] = curr"
   ]
  },
  {
   "cell_type": "code",
   "execution_count": null,
   "id": "91003ba2-f13f-45f0-a9ef-85a8b4e189a9",
   "metadata": {
    "jupyter": {
     "source_hidden": true
    }
   },
   "outputs": [],
   "source": [
    "expected = [[3, 3, 4, 5, 6, 5, 5, 7, 6, 5, 9, 6, 9, 7, 6, 8, 9, 9, 8, 9, 8, 8, 9, 9, 7, 8, 9, 9, 8, 7, 8, 9, 8, 9, 9, 9, 8, 9, 9, 9, 9, 8, 8, 8, 9, 9, 8, 9, 9, 9, 8, 8, 8, 9, 7, 9, 9, 9, 9, 8, 9, 8, 9, 8, 9, 8, 8, 9, 9, 9, 8, 9, 9, 9, 9, 9, 9, 9, 8, 9, 8, 9, 9, 8, 8, 8, 8, 9, 7, 8, 9, 9, 7, 8, 9, 9, 9, 8, 8, 9, 7, 8, 8, 9, 9, 8, 8, 9, 9, 8, 9, 8, 7, 9, 8, 9, 7, 9, 9, 9, 9, 9, 9, 9, 9, 8, 9, 9, 9, 8, 9, 8, 9, 9, 9, 9, 9, 7, 9, 9, 8, 9, 9, 9, 9, 9, 9, 9, 8, 9, 9, 9, 8, 9, 7, 9, 7, 6, 5, 8, 0, 0, 0, 0, 0, 0, 0, 0, 0, 0, 0, 0, 0, 0, 0, 0, 0, 0, 0, 0, 0, 0, 0, 0, 0, 0, 0, 0, 0, 0, 0, 0, 0, 0, 0, 0, 0, 0, 0, 0, 0, 0, 0, 0, 0, 0, 0, 0, 0, 0, 0, 0, 0, 0, 0, 0, 0, 0, 0, 0, 0, 0, 0, 0, 0, 0, 0, 0, 0, 0, 0, 0, 0, 0, 0, 0, 0, 0, 0, 0, 0, 0, 0, 0, 0, 0, 0, 0, 0, 0, 0, 0, 0, 0, 0, 0, 0, 0], [3, 4, 4, 4, 4, 5, 5, 5, 5, 5, 5, 6, 6, 6, 7, 6, 6, 6, 7, 6, 7, 8, 6, 7, 7, 7, 8, 7, 8, 8, 8, 10, 8, 8, 10, 10, 9, 8, 9, 9, 9, 10, 9, 9, 9, 9, 8, 9, 9, 9, 9, 9, 9, 9, 10, 9, 9, 9, 10, 9, 10, 9, 8, 10, 9, 9, 9, 8, 9, 9, 9, 9, 9, 9, 9, 9, 9, 8, 9, 10, 10, 9, 9, 10, 10, 10, 10, 9, 9, 9, 9, 10, 10, 9, 9, 9, 9, 9, 9, 9, 9, 10, 9, 9, 9, 10, 9, 9, 9, 10, 9, 9, 10, 8, 10, 10, 10, 9, 9, 10, 10, 9, 9, 9, 9, 9, 9, 9, 10, 10, 9, 9, 10, 9, 9, 9, 9, 9, 9, 9, 9, 9, 9, 9, 9, 9, 9, 9, 9, 9, 9, 9, 9, 9, 9, 9, 10, 9, 9, 10, 0, 0, 0, 0, 0, 0, 0, 0, 0, 0, 0, 0, 0, 0, 0, 0, 0, 0, 0, 0, 0, 0, 0, 0, 0, 0, 0, 0, 0, 0, 0, 0, 0, 0, 0, 0, 0, 0, 0, 0, 0, 0, 0, 0, 0, 0, 0, 0, 0, 0, 0, 0, 0, 0, 0, 0, 0, 0, 0, 0, 0, 0, 0, 0, 0, 0, 0, 0, 0, 0, 0, 0, 0, 0, 0, 0, 0, 0, 0, 0, 0, 0, 0, 0, 0, 0, 0, 0, 0, 0, 0, 0, 0, 0, 0, 0, 0, 0], [2, 3, 3, 4, 5, 5, 7, 7, 7, 7, 7, 7, 7, 7, 8, 9, 9, 9, 9, 9, 9, 9, 7, 9, 9, 9, 8, 9, 9, 9, 9, 9, 9, 9, 9, 8, 9, 9, 9, 8, 9, 9, 9, 9, 9, 9, 9, 8, 9, 9, 9, 9, 9, 9, 9, 9, 9, 9, 9, 9, 9, 9, 9, 9, 9, 9, 9, 9, 8, 9, 9, 9, 9, 9, 9, 9, 9, 9, 9, 9, 9, 9, 9, 9, 9, 9, 9, 9, 9, 9, 9, 9, 9, 9, 9, 9, 9, 9, 9, 9, 9, 9, 9, 9, 9, 8, 9, 9, 9, 9, 9, 9, 9, 9, 9, 9, 9, 9, 9, 9, 9, 9, 9, 9, 9, 9, 9, 9, 9, 9, 9, 9, 9, 9, 9, 9, 9, 9, 7, 8, 9, 9, 9, 9, 9, 9, 9, 9, 9, 9, 9, 9, 9, 9, 9, 9, 9, 9, 9, 9, 0, 0, 0, 0, 0, 0, 0, 0, 0, 0, 0, 0, 0, 0, 0, 0, 0, 0, 0, 0, 0, 0, 0, 0, 0, 0, 0, 0, 0, 0, 0, 0, 0, 0, 0, 0, 0, 0, 0, 0, 0, 0, 0, 0, 0, 0, 0, 0, 0, 0, 0, 0, 0, 0, 0, 0, 0, 0, 0, 0, 0, 0, 0, 0, 0, 0, 0, 0, 0, 0, 0, 0, 0, 0, 0, 0, 0, 0, 0, 0, 0, 0, 0, 0, 0, 0, 0, 0, 0, 0, 0, 0, 0, 0, 0, 0, 0, 0], [8, 8, 7, 7, 7, 7, 7, 7, 7, 7, 8, 8, 8, 7, 8, 8, 7, 7, 7, 8, 7, 8, 8, 8, 8, 8, 8, 7, 7, 8, 7, 8, 7, 7, 7, 7, 8, 7, 7, 8, 7, 8, 7, 7, 8, 8, 8, 8, 8, 8, 8, 8, 8, 8, 7, 7, 7, 7, 8, 8, 7, 8, 8, 7, 8, 7, 7, 7, 7, 7, 7, 7, 7, 8, 7, 7, 7, 7, 7, 7, 7, 7, 7, 8, 7, 7, 7, 7, 8, 8, 8, 8, 7, 8, 8, 8, 7, 7, 8, 8, 8, 8, 8, 7, 7, 7, 8, 7, 7, 8, 8, 8, 8, 8, 8, 8, 8, 7, 7, 7, 7, 7, 7, 7, 7, 7, 7, 7, 7, 7, 7, 7, 7, 8, 7, 7, 7, 8, 7, 7, 8, 7, 7, 7, 7, 7, 7, 7, 8, 7, 7, 7, 7, 7, 7, 7, 8, 7, 8, 8, 0, 0, 0, 0, 0, 0, 0, 0, 0, 0, 0, 0, 0, 0, 0, 0, 0, 0, 0, 0, 0, 0, 0, 0, 0, 0, 0, 0, 0, 0, 0, 0, 0, 0, 0, 0, 0, 0, 0, 0, 0, 0, 0, 0, 0, 0, 0, 0, 0, 0, 0, 0, 0, 0, 0, 0, 0, 0, 0, 0, 0, 0, 0, 0, 0, 0, 0, 0, 0, 0, 0, 0, 0, 0, 0, 0, 0, 0, 0, 0, 0, 0, 0, 0, 0, 0, 0, 0, 0, 0, 0, 0, 0, 0, 0, 0, 0, 0], [2, 4, 3, 5, 6, 5, 5, 6, 7, 6, 6, 7, 7, 7, 6, 9, 7, 9, 8, 8, 9, 9, 7, 7, 8, 8, 9, 7, 7, 9, 9, 7, 8, 8, 9, 9, 9, 9, 9, 7, 9, 9, 9, 9, 8, 9, 9, 9, 9, 9, 9, 9, 9, 9, 9, 9, 9, 9, 9, 9, 9, 9, 8, 9, 9, 9, 9, 9, 9, 9, 9, 9, 9, 9, 9, 9, 9, 9, 9, 9, 9, 9, 9, 9, 9, 9, 9, 9, 9, 9, 9, 9, 9, 9, 9, 8, 8, 8, 8, 8, 8, 9, 9, 9, 9, 9, 9, 9, 9, 9, 9, 8, 9, 9, 9, 7, 9, 9, 9, 9, 9, 9, 9, 9, 9, 9, 9, 9, 9, 9, 9, 9, 9, 9, 9, 9, 9, 9, 9, 9, 9, 9, 9, 9, 9, 9, 9, 9, 9, 9, 9, 9, 9, 9, 9, 9, 9, 9, 9, 9, 0, 0, 0, 0, 0, 0, 0, 0, 0, 0, 0, 0, 0, 0, 0, 0, 0, 0, 0, 0, 0, 0, 0, 0, 0, 0, 0, 0, 0, 0, 0, 0, 0, 0, 0, 0, 0, 0, 0, 0, 0, 0, 0, 0, 0, 0, 0, 0, 0, 0, 0, 0, 0, 0, 0, 0, 0, 0, 0, 0, 0, 0, 0, 0, 0, 0, 0, 0, 0, 0, 0, 0, 0, 0, 0, 0, 0, 0, 0, 0, 0, 0, 0, 0, 0, 0, 0, 0, 0, 0, 0, 0, 0, 0, 0, 0, 0, 0], [0, 0, 0, 0, 0, 0, 0, 0, 0, 0, 0, 0, 0, 0, 0, 0, 0, 0, 0, 0, 0, 0, 0, 0, 0, 0, 0, 0, 0, 0, 0, 0, 0, 0, 0, 0, 0, 0, 0, 0, 0, 0, 0, 0, 0, 0, 0, 0, 0, 0, 0, 0, 0, 0, 0, 0, 0, 0, 0, 0, 0, 0, 0, 0, 0, 0, 0, 0, 0, 0, 0, 0, 0, 0, 0, 0, 0, 0, 0, 0, 0, 0, 0, 0, 0, 0, 0, 0, 0, 0, 0, 0, 0, 0, 0, 0, 0, 0, 0, 0, 0, 0, 0, 0, 0, 0, 0, 0, 0, 0, 0, 0, 0, 0, 0, 0, 0, 0, 0, 0, 0, 0, 0, 0, 0, 0, 0, 0, 0, 0, 0, 0, 0, 0, 0, 0, 0, 0, 0, 0, 0, 0, 0, 0, 0, 0, 0, 0, 0, 0, 0, 0, 0, 0, 0, 0, 0, 0, 0, 0, 0, 0, 0, 0, 0, 0, 0, 0, 0, 0, 0, 0, 0, 0, 0, 0, 0, 0, 0, 0, 0, 0, 0, 0, 0, 0, 0, 0, 0, 0, 0, 0, 0, 0, 0, 0, 0, 0, 0, 0, 0, 0, 0, 0, 0, 0, 0, 0, 0, 0, 0, 0, 0, 0, 0, 0, 0, 0, 0, 0, 0, 0, 0, 0, 0, 0, 0, 0, 0, 0, 0, 0, 0, 0, 0, 0, 0, 0, 0, 0, 0, 0, 0, 0, 0, 0, 0, 0, 0, 0, 0, 0, 0, 0, 0, 0, 0, 0]]"
   ]
  },
  {
   "cell_type": "code",
   "execution_count": null,
   "id": "4d5d780d-985a-4498-b28a-77878e177eee",
   "metadata": {},
   "outputs": [],
   "source": [
    "self.assertListEqual(bzd.len, expected)"
   ]
  },
  {
   "cell_type": "code",
   "execution_count": null,
   "id": "8ade37fd-3a48-47fe-bdf9-61ce2cdf0916",
   "metadata": {},
   "outputs": [],
   "source": [
    "# Huffman decoding tables"
   ]
  },
  {
   "cell_type": "code",
   "execution_count": null,
   "id": "715766d0-d6da-40b7-ad3a-faf9d6c367fc",
   "metadata": {},
   "outputs": [],
   "source": [
    "bzd.perm = [[0 for _ in range(BZ_MAX_ALPHA_SIZE)] for _ in range(BZ_N_GROUPS)]\n",
    "bzd.base = [[0 for _ in range(BZ_MAX_ALPHA_SIZE)] for _ in range(BZ_N_GROUPS)]\n",
    "bzd.limit = [[0 for _ in range(BZ_MAX_ALPHA_SIZE)] for _ in range(BZ_N_GROUPS)]"
   ]
  },
  {
   "cell_type": "code",
   "execution_count": null,
   "id": "ef6bde65-ec65-4c3b-b6e4-eff2c774624b",
   "metadata": {},
   "outputs": [],
   "source": [
    "bzd.minlens = [0] * BZ_N_GROUPS"
   ]
  },
  {
   "cell_type": "code",
   "execution_count": null,
   "id": "aa3dd1c7-19c9-42c7-ad8b-ea2936c44c7c",
   "metadata": {},
   "outputs": [],
   "source": [
    "for t in range(ngroups):\n",
    "    minlen = 32\n",
    "    maxlen = 8\n",
    "    for i in range(alphasize):\n",
    "        if bzd.len[t][i] > maxlen:\n",
    "            maxlen = bzd.len[t][i]\n",
    "        if bzd.len[t][i] < minlen:\n",
    "            minlen = bzd.len[t][i]\n",
    "\n",
    "    limit = bzd.limit[t]\n",
    "    base = bzd.base[t]\n",
    "    perm = bzd.perm[t]\n",
    "    length = bzd.len[t]\n",
    "\n",
    "    pp = 0\n",
    "    for i in range(minlen, maxlen + 1):\n",
    "        for j in range(alphasize):\n",
    "            if length[j] == i:\n",
    "                perm[pp] = j\n",
    "                pp += 1\n",
    "\n",
    "    for i in range(BZ_MAX_CODE_LEN):\n",
    "        base[i] = 0\n",
    "\n",
    "    for i in range(alphasize):\n",
    "        base[length[i] + 1] += 1\n",
    "\n",
    "    for i in range(BZ_MAX_CODE_LEN):\n",
    "        base[i] += base[i - 1]\n",
    "\n",
    "    for i in range(BZ_MAX_CODE_LEN):\n",
    "        limit[i] = 0\n",
    "\n",
    "    vec = 0\n",
    "    for i in range(minlen, maxlen + 1):\n",
    "        vec += base[i + 1] - base[i]\n",
    "        limit[i] = vec - 1\n",
    "        vec <<= 1\n",
    "\n",
    "    for i in range(minlen + 1, maxlen + 1):\n",
    "        base[i] = ((limit[i - 1] + 1) << 1) - base[i]\n",
    "\n",
    "    bzd.minlens[t] = minlen"
   ]
  },
  {
   "cell_type": "code",
   "execution_count": null,
   "id": "2c8b43aa-7c1c-4a84-8f87-ef97b1cc4b05",
   "metadata": {
    "jupyter": {
     "source_hidden": true
    }
   },
   "outputs": [],
   "source": [
    "expected = [[0, 1, 2, 3, 5, 6, 9, 158, 4, 8, 11, 14, 157, 7, 13, 24, 29, 54, 88, 92, 100, 112, 116, 137, 154, 156, 15, 18, 20, 21, 25, 28, 30, 32, 36, 41, 42, 43, 46, 50, 51, 52, 59, 61, 63, 65, 66, 70, 78, 80, 83, 84, 85, 86, 89, 93, 97, 98, 101, 102, 105, 106, 109, 111, 114, 125, 129, 131, 140, 148, 152, 159, 10, 12, 16, 17, 19, 22, 23, 26, 27, 31, 33, 34, 35, 37, 38, 39, 40, 44, 45, 47, 48, 49, 53, 55, 56, 57, 58, 60, 62, 64, 67, 68, 69, 71, 72, 73, 74, 75, 76, 77, 79, 81, 82, 87, 90, 91, 94, 95, 96, 99, 103, 104, 107, 108, 110, 113, 115, 117, 118, 119, 120, 121, 122, 123, 124, 126, 127, 128, 130, 132, 133, 134, 135, 136, 138, 139, 141, 142, 143, 144, 145, 146, 147, 149, 150, 151, 153, 155, 0, 0, 0, 0, 0, 0, 0, 0, 0, 0, 0, 0, 0, 0, 0, 0, 0, 0, 0, 0, 0, 0, 0, 0, 0, 0, 0, 0, 0, 0, 0, 0, 0, 0, 0, 0, 0, 0, 0, 0, 0, 0, 0, 0, 0, 0, 0, 0, 0, 0, 0, 0, 0, 0, 0, 0, 0, 0, 0, 0, 0, 0, 0, 0, 0, 0, 0, 0, 0, 0, 0, 0, 0, 0, 0, 0, 0, 0, 0, 0, 0, 0, 0, 0, 0, 0, 0, 0, 0, 0, 0, 0, 0, 0, 0, 0, 0, 0], [0, 1, 2, 3, 4, 5, 6, 7, 8, 9, 10, 11, 12, 13, 15, 16, 17, 19, 22, 14, 18, 20, 23, 24, 25, 27, 21, 26, 28, 29, 30, 32, 33, 37, 46, 62, 67, 77, 113, 36, 38, 39, 40, 42, 43, 44, 45, 47, 48, 49, 50, 51, 52, 53, 55, 56, 57, 59, 61, 64, 65, 66, 68, 69, 70, 71, 72, 73, 74, 75, 76, 78, 81, 82, 87, 88, 89, 90, 93, 94, 95, 96, 97, 98, 99, 100, 102, 103, 104, 106, 107, 108, 110, 111, 117, 118, 121, 122, 123, 124, 125, 126, 127, 130, 131, 133, 134, 135, 136, 137, 138, 139, 140, 141, 142, 143, 144, 145, 146, 147, 148, 149, 150, 151, 152, 153, 154, 155, 157, 158, 31, 34, 35, 41, 54, 58, 60, 63, 79, 80, 83, 84, 85, 86, 91, 92, 101, 105, 109, 112, 114, 115, 116, 119, 120, 128, 129, 132, 156, 159, 0, 0, 0, 0, 0, 0, 0, 0, 0, 0, 0, 0, 0, 0, 0, 0, 0, 0, 0, 0, 0, 0, 0, 0, 0, 0, 0, 0, 0, 0, 0, 0, 0, 0, 0, 0, 0, 0, 0, 0, 0, 0, 0, 0, 0, 0, 0, 0, 0, 0, 0, 0, 0, 0, 0, 0, 0, 0, 0, 0, 0, 0, 0, 0, 0, 0, 0, 0, 0, 0, 0, 0, 0, 0, 0, 0, 0, 0, 0, 0, 0, 0, 0, 0, 0, 0, 0, 0, 0, 0, 0, 0, 0, 0, 0, 0, 0, 0], [0, 1, 2, 3, 4, 5, 6, 7, 8, 9, 10, 11, 12, 13, 22, 138, 14, 26, 35, 39, 47, 68, 105, 139, 15, 16, 17, 18, 19, 20, 21, 23, 24, 25, 27, 28, 29, 30, 31, 32, 33, 34, 36, 37, 38, 40, 41, 42, 43, 44, 45, 46, 48, 49, 50, 51, 52, 53, 54, 55, 56, 57, 58, 59, 60, 61, 62, 63, 64, 65, 66, 67, 69, 70, 71, 72, 73, 74, 75, 76, 77, 78, 79, 80, 81, 82, 83, 84, 85, 86, 87, 88, 89, 90, 91, 92, 93, 94, 95, 96, 97, 98, 99, 100, 101, 102, 103, 104, 106, 107, 108, 109, 110, 111, 112, 113, 114, 115, 116, 117, 118, 119, 120, 121, 122, 123, 124, 125, 126, 127, 128, 129, 130, 131, 132, 133, 134, 135, 136, 137, 140, 141, 142, 143, 144, 145, 146, 147, 148, 149, 150, 151, 152, 153, 154, 155, 156, 157, 158, 159, 0, 0, 0, 0, 0, 0, 0, 0, 0, 0, 0, 0, 0, 0, 0, 0, 0, 0, 0, 0, 0, 0, 0, 0, 0, 0, 0, 0, 0, 0, 0, 0, 0, 0, 0, 0, 0, 0, 0, 0, 0, 0, 0, 0, 0, 0, 0, 0, 0, 0, 0, 0, 0, 0, 0, 0, 0, 0, 0, 0, 0, 0, 0, 0, 0, 0, 0, 0, 0, 0, 0, 0, 0, 0, 0, 0, 0, 0, 0, 0, 0, 0, 0, 0, 0, 0, 0, 0, 0, 0, 0, 0, 0, 0, 0, 0, 0, 0], [2, 3, 4, 5, 6, 7, 8, 9, 13, 16, 17, 18, 20, 27, 28, 30, 32, 33, 34, 35, 37, 38, 40, 42, 43, 54, 55, 56, 57, 60, 63, 65, 66, 67, 68, 69, 70, 71, 72, 74, 75, 76, 77, 78, 79, 80, 81, 82, 84, 85, 86, 87, 92, 96, 97, 103, 104, 105, 107, 108, 117, 118, 119, 120, 121, 122, 123, 124, 125, 126, 127, 128, 129, 130, 131, 132, 134, 135, 136, 138, 139, 141, 142, 143, 144, 145, 146, 147, 149, 150, 151, 152, 153, 154, 155, 157, 0, 1, 10, 11, 12, 14, 15, 19, 21, 22, 23, 24, 25, 26, 29, 31, 36, 39, 41, 44, 45, 46, 47, 48, 49, 50, 51, 52, 53, 58, 59, 61, 62, 64, 73, 83, 88, 89, 90, 91, 93, 94, 95, 98, 99, 100, 101, 102, 106, 109, 110, 111, 112, 113, 114, 115, 116, 133, 137, 140, 148, 156, 158, 159, 0, 0, 0, 0, 0, 0, 0, 0, 0, 0, 0, 0, 0, 0, 0, 0, 0, 0, 0, 0, 0, 0, 0, 0, 0, 0, 0, 0, 0, 0, 0, 0, 0, 0, 0, 0, 0, 0, 0, 0, 0, 0, 0, 0, 0, 0, 0, 0, 0, 0, 0, 0, 0, 0, 0, 0, 0, 0, 0, 0, 0, 0, 0, 0, 0, 0, 0, 0, 0, 0, 0, 0, 0, 0, 0, 0, 0, 0, 0, 0, 0, 0, 0, 0, 0, 0, 0, 0, 0, 0, 0, 0, 0, 0, 0, 0, 0, 0], [0, 2, 1, 3, 5, 6, 4, 7, 9, 10, 14, 8, 11, 12, 13, 16, 22, 23, 27, 28, 31, 39, 115, 18, 19, 24, 25, 32, 33, 44, 62, 95, 96, 97, 98, 99, 100, 111, 15, 17, 20, 21, 26, 29, 30, 34, 35, 36, 37, 38, 40, 41, 42, 43, 45, 46, 47, 48, 49, 50, 51, 52, 53, 54, 55, 56, 57, 58, 59, 60, 61, 63, 64, 65, 66, 67, 68, 69, 70, 71, 72, 73, 74, 75, 76, 77, 78, 79, 80, 81, 82, 83, 84, 85, 86, 87, 88, 89, 90, 91, 92, 93, 94, 101, 102, 103, 104, 105, 106, 107, 108, 109, 110, 112, 113, 114, 116, 117, 118, 119, 120, 121, 122, 123, 124, 125, 126, 127, 128, 129, 130, 131, 132, 133, 134, 135, 136, 137, 138, 139, 140, 141, 142, 143, 144, 145, 146, 147, 148, 149, 150, 151, 152, 153, 154, 155, 156, 157, 158, 159, 0, 0, 0, 0, 0, 0, 0, 0, 0, 0, 0, 0, 0, 0, 0, 0, 0, 0, 0, 0, 0, 0, 0, 0, 0, 0, 0, 0, 0, 0, 0, 0, 0, 0, 0, 0, 0, 0, 0, 0, 0, 0, 0, 0, 0, 0, 0, 0, 0, 0, 0, 0, 0, 0, 0, 0, 0, 0, 0, 0, 0, 0, 0, 0, 0, 0, 0, 0, 0, 0, 0, 0, 0, 0, 0, 0, 0, 0, 0, 0, 0, 0, 0, 0, 0, 0, 0, 0, 0, 0, 0, 0, 0, 0, 0, 0, 0, 0],[0, 0, 0, 0, 0, 0, 0, 0, 0, 0, 0, 0, 0, 0, 0, 0, 0, 0, 0, 0, 0, 0, 0, 0, 0, 0, 0, 0, 0, 0, 0, 0, 0, 0, 0, 0, 0, 0, 0, 0, 0, 0, 0, 0, 0, 0, 0, 0, 0, 0, 0, 0, 0, 0, 0, 0, 0, 0, 0, 0, 0, 0, 0, 0, 0, 0, 0, 0, 0, 0, 0, 0, 0, 0, 0, 0, 0, 0, 0, 0, 0, 0, 0, 0, 0, 0, 0, 0, 0, 0, 0, 0, 0, 0, 0, 0, 0, 0, 0, 0, 0, 0, 0, 0, 0, 0, 0, 0, 0, 0, 0, 0, 0, 0, 0, 0, 0, 0, 0, 0, 0, 0, 0, 0, 0, 0, 0, 0, 0, 0, 0, 0, 0, 0, 0, 0, 0, 0, 0, 0, 0, 0, 0, 0, 0, 0, 0, 0, 0, 0, 0, 0, 0, 0, 0, 0, 0, 0, 0, 0, 0, 0, 0, 0, 0, 0, 0, 0, 0, 0, 0, 0, 0, 0, 0, 0, 0, 0, 0, 0, 0, 0, 0, 0, 0, 0, 0, 0, 0, 0, 0, 0, 0, 0, 0, 0, 0, 0, 0, 0, 0, 0, 0, 0, 0, 0, 0, 0, 0, 0, 0, 0, 0, 0, 0, 0, 0, 0, 0, 0, 0, 0, 0, 0, 0, 0, 0, 0, 0, 0, 0, 0, 0, 0, 0, 0, 0, 0, 0, 0, 0, 0, 0, 0, 0, 0, 0, 0, 0, 0, 0, 0, 0, 0, 0, 0, 0, 0]]"
   ]
  },
  {
   "cell_type": "code",
   "execution_count": null,
   "id": "db785ecb-bdb1-47d5-8d3d-12c57bbb3708",
   "metadata": {},
   "outputs": [],
   "source": [
    "self.assertListEqual(bzd.perm, expected)"
   ]
  },
  {
   "cell_type": "code",
   "execution_count": null,
   "id": "52390d94-d078-4643-87ab-ca2a89044577",
   "metadata": {
    "jupyter": {
     "source_hidden": true
    }
   },
   "outputs": [],
   "source": [
    "expected = [[0, 0, 0, 0, 2, 7, 22, 57, 140, 352, 160, 160, 160, 160, 160, 160, 160, 160, 160, 160, 160, 160, 160, 0, 0, 0, 0, 0, 0, 0, 0, 0, 0, 0, 0, 0, 0, 0, 0, 0, 0, 0, 0, 0, 0, 0, 0, 0, 0, 0, 0, 0, 0, 0, 0, 0, 0, 0, 0, 0, 0, 0, 0, 0, 0, 0, 0, 0, 0, 0, 0, 0, 0, 0, 0, 0, 0, 0, 0, 0, 0, 0, 0, 0, 0, 0, 0, 0, 0, 0, 0, 0, 0, 0, 0, 0, 0, 0, 0, 0, 0, 0, 0, 0, 0, 0, 0, 0, 0, 0, 0, 0, 0, 0, 0, 0, 0, 0, 0, 0, 0, 0, 0, 0, 0, 0, 0, 0, 0, 0, 0, 0, 0, 0, 0, 0, 0, 0, 0, 0, 0, 0, 0, 0, 0, 0, 0, 0, 0, 0, 0, 0, 0, 0, 0, 0, 0, 0, 0, 0, 0, 0, 0, 0, 0, 0, 0, 0, 0, 0, 0, 0, 0, 0, 0, 0, 0, 0, 0, 0, 0, 0, 0, 0, 0, 0, 0, 0, 0, 0, 0, 0, 0, 0, 0, 0, 0, 0, 0, 0, 0, 0, 0, 0, 0, 0, 0, 0, 0, 0, 0, 0, 0, 0, 0, 0, 0, 0, 0, 0, 0, 0, 0, 0, 0, 0, 0, 0, 0, 0, 0, 0, 0, 0, 0, 0, 0, 0, 0, 0, 0, 0, 0, 0, 0, 0, 0, 0, 0, 0, 0, 0, 0, 0, 0, 0, 0, 0], [0, 0, 0, 0, 1, 7, 25, 69, 164, 367, 864, 160, 160, 160, 160, 160, 160, 160, 160, 160, 160, 160, 160, 0, 0, 0, 0, 0, 0, 0, 0, 0, 0, 0, 0, 0, 0, 0, 0, 0, 0, 0, 0, 0, 0, 0, 0, 0, 0, 0, 0, 0, 0, 0, 0, 0, 0, 0, 0, 0, 0, 0, 0, 0, 0, 0, 0, 0, 0, 0, 0, 0, 0, 0, 0, 0, 0, 0, 0, 0, 0, 0, 0, 0, 0, 0, 0, 0, 0, 0, 0, 0, 0, 0, 0, 0, 0, 0, 0, 0, 0, 0, 0, 0, 0, 0, 0, 0, 0, 0, 0, 0, 0, 0, 0, 0, 0, 0, 0, 0, 0, 0, 0, 0, 0, 0, 0, 0, 0, 0, 0, 0, 0, 0, 0, 0, 0, 0, 0, 0, 0, 0, 0, 0, 0, 0, 0, 0, 0, 0, 0, 0, 0, 0, 0, 0, 0, 0, 0, 0, 0, 0, 0, 0, 0, 0, 0, 0, 0, 0, 0, 0, 0, 0, 0, 0, 0, 0, 0, 0, 0, 0, 0, 0, 0, 0, 0, 0, 0, 0, 0, 0, 0, 0, 0, 0, 0, 0, 0, 0, 0, 0, 0, 0, 0, 0, 0, 0, 0, 0, 0, 0, 0, 0, 0, 0, 0, 0, 0, 0, 0, 0, 0, 0, 0, 0, 0, 0, 0, 0, 0, 0, 0, 0, 0, 0, 0, 0, 0, 0, 0, 0, 0, 0, 0, 0, 0, 0, 0, 0, 0, 0, 0, 0, 0, 0, 0, 0], [0, 0, 0, 1, 5, 14, 34, 74, 164, 352, 160, 160, 160, 160, 160, 160, 160, 160, 160, 160, 160, 160, 160, 0, 0, 0, 0, 0, 0, 0, 0, 0, 0, 0, 0, 0, 0, 0, 0, 0, 0, 0, 0, 0, 0, 0, 0, 0, 0, 0, 0, 0, 0, 0, 0, 0, 0, 0, 0, 0, 0, 0, 0, 0, 0, 0, 0, 0, 0, 0, 0, 0, 0, 0, 0, 0, 0, 0, 0, 0, 0, 0, 0, 0, 0, 0, 0, 0, 0, 0, 0, 0, 0, 0, 0, 0, 0, 0, 0, 0, 0, 0, 0, 0, 0, 0, 0, 0, 0, 0, 0, 0, 0, 0, 0, 0, 0, 0, 0, 0, 0, 0, 0, 0, 0, 0, 0, 0, 0, 0, 0, 0, 0, 0, 0, 0, 0, 0, 0, 0, 0, 0, 0, 0, 0, 0, 0, 0, 0, 0, 0, 0, 0, 0, 0, 0, 0, 0, 0, 0, 0, 0, 0, 0, 0, 0, 0, 0, 0, 0, 0, 0, 0, 0, 0, 0, 0, 0, 0, 0, 0, 0, 0, 0, 0, 0, 0, 0, 0, 0, 0, 0, 0, 0, 0, 0, 0, 0, 0, 0, 0, 0, 0, 0, 0, 0, 0, 0, 0, 0, 0, 0, 0, 0, 0, 0, 0, 0, 0, 0, 0, 0, 0, 0, 0, 0, 0, 0, 0, 0, 0, 0, 0, 0, 0, 0, 0, 0, 0, 0, 0, 0, 0, 0, 0, 0, 0, 0, 0, 0, 0, 0, 0, 0, 0, 0, 0, 0], [0, 0, 0, 0, 0, 0, 0, 0, 96, 160, 160, 160, 160, 160, 160, 160, 160, 160, 160, 160, 160, 160, 160, 0, 0, 0, 0, 0, 0, 0, 0, 0, 0, 0, 0, 0, 0, 0, 0, 0, 0, 0, 0, 0, 0, 0, 0, 0, 0, 0, 0, 0, 0, 0, 0, 0, 0, 0, 0, 0, 0, 0, 0, 0, 0, 0, 0, 0, 0, 0, 0, 0, 0, 0, 0, 0, 0, 0, 0, 0, 0, 0, 0, 0, 0, 0, 0, 0, 0, 0, 0, 0, 0, 0, 0, 0, 0, 0, 0, 0, 0, 0, 0, 0, 0, 0, 0, 0, 0, 0, 0, 0, 0, 0, 0, 0, 0, 0, 0, 0, 0, 0, 0, 0, 0, 0, 0, 0, 0, 0, 0, 0, 0, 0, 0, 0, 0, 0, 0, 0, 0, 0, 0, 0, 0, 0, 0, 0, 0, 0, 0, 0, 0, 0, 0, 0, 0, 0, 0, 0, 0, 0, 0, 0, 0, 0, 0, 0, 0, 0, 0, 0, 0, 0, 0, 0, 0, 0, 0, 0, 0, 0, 0, 0, 0, 0, 0, 0, 0, 0, 0, 0, 0, 0, 0, 0, 0, 0, 0, 0, 0, 0, 0, 0, 0, 0, 0, 0, 0, 0, 0, 0, 0, 0, 0, 0, 0, 0, 0, 0, 0, 0, 0, 0, 0, 0, 0, 0, 0, 0, 0, 0, 0, 0, 0, 0, 0, 0, 0, 0, 0, 0, 0, 0, 0, 0, 0, 0, 0, 0, 0, 0, 0, 0, 0, 0, 0, 0], [0, 0, 0, 1, 4, 11, 28, 67, 157, 352, 160, 160, 160, 160, 160, 160, 160, 160, 160, 160, 160, 160, 160, 0, 0, 0, 0, 0, 0, 0, 0, 0, 0, 0, 0, 0, 0, 0, 0, 0, 0, 0, 0, 0, 0, 0, 0, 0, 0, 0, 0, 0, 0, 0, 0, 0, 0, 0, 0, 0, 0, 0, 0, 0, 0, 0, 0, 0, 0, 0, 0, 0, 0, 0, 0, 0, 0, 0, 0, 0, 0, 0, 0, 0, 0, 0, 0, 0, 0, 0, 0, 0, 0, 0, 0, 0, 0, 0, 0, 0, 0, 0, 0, 0, 0, 0, 0, 0, 0, 0, 0, 0, 0, 0, 0, 0, 0, 0, 0, 0, 0, 0, 0, 0, 0, 0, 0, 0, 0, 0, 0, 0, 0, 0, 0, 0, 0, 0, 0, 0, 0, 0, 0, 0, 0, 0, 0, 0, 0, 0, 0, 0, 0, 0, 0, 0, 0, 0, 0, 0, 0, 0, 0, 0, 0, 0, 0, 0, 0, 0, 0, 0, 0, 0, 0, 0, 0, 0, 0, 0, 0, 0, 0, 0, 0, 0, 0, 0, 0, 0, 0, 0, 0, 0, 0, 0, 0, 0, 0, 0, 0, 0, 0, 0, 0, 0, 0, 0, 0, 0, 0, 0, 0, 0, 0, 0, 0, 0, 0, 0, 0, 0, 0, 0, 0, 0, 0, 0, 0, 0, 0, 0, 0, 0, 0, 0, 0, 0, 0, 0, 0, 0, 0, 0, 0, 0, 0, 0, 0, 0, 0, 0, 0, 0, 0, 0, 0, 0],[0, 0, 0, 0, 0, 0, 0, 0, 0, 0, 0, 0, 0, 0, 0, 0, 0, 0, 0, 0, 0, 0, 0, 0, 0, 0, 0, 0, 0, 0, 0, 0, 0, 0, 0, 0, 0, 0, 0, 0, 0, 0, 0, 0, 0, 0, 0, 0, 0, 0, 0, 0, 0, 0, 0, 0, 0, 0, 0, 0, 0, 0, 0, 0, 0, 0, 0, 0, 0, 0, 0, 0, 0, 0, 0, 0, 0, 0, 0, 0, 0, 0, 0, 0, 0, 0, 0, 0, 0, 0, 0, 0, 0, 0, 0, 0, 0, 0, 0, 0, 0, 0, 0, 0, 0, 0, 0, 0, 0, 0, 0, 0, 0, 0, 0, 0, 0, 0, 0, 0, 0, 0, 0, 0, 0, 0, 0, 0, 0, 0, 0, 0, 0, 0, 0, 0, 0, 0, 0, 0, 0, 0, 0, 0, 0, 0, 0, 0, 0, 0, 0, 0, 0, 0, 0, 0, 0, 0, 0, 0, 0, 0, 0, 0, 0, 0, 0, 0, 0, 0, 0, 0, 0, 0, 0, 0, 0, 0, 0, 0, 0, 0, 0, 0, 0, 0, 0, 0, 0, 0, 0, 0, 0, 0, 0, 0, 0, 0, 0, 0, 0, 0, 0, 0, 0, 0, 0, 0, 0, 0, 0, 0, 0, 0, 0, 0, 0, 0, 0, 0, 0, 0, 0, 0, 0, 0, 0, 0, 0, 0, 0, 0, 0, 0, 0, 0, 0, 0, 0, 0, 0, 0, 0, 0, 0, 0, 0, 0, 0, 0, 0, 0, 0, 0, 0, 0, 0, 0]]"
   ]
  },
  {
   "cell_type": "code",
   "execution_count": null,
   "id": "2c4d9a78-679b-415d-8237-8dbf7209685d",
   "metadata": {},
   "outputs": [],
   "source": [
    "self.assertListEqual(bzd.base, expected)"
   ]
  },
  {
   "cell_type": "code",
   "execution_count": null,
   "id": "562220ff-d250-4b57-b1c1-7a4174e67977",
   "metadata": {
    "jupyter": {
     "source_hidden": true
    }
   },
   "outputs": [],
   "source": [
    "expected = [[0, 0, 0, 1, 4, 14, 34, 82, 211, 511, 0, 0, 0, 0, 0, 0, 0, 0, 0, 0, 0, 0, 0, 0, 0, 0, 0, 0, 0, 0, 0, 0, 0, 0, 0, 0, 0, 0, 0, 0, 0, 0, 0, 0, 0, 0, 0, 0, 0, 0, 0, 0, 0, 0, 0, 0, 0, 0, 0, 0, 0, 0, 0, 0, 0, 0, 0, 0, 0, 0, 0, 0, 0, 0, 0, 0, 0, 0, 0, 0, 0, 0, 0, 0, 0, 0, 0, 0, 0, 0, 0, 0, 0, 0, 0, 0, 0, 0, 0, 0, 0, 0, 0, 0, 0, 0, 0, 0, 0, 0, 0, 0, 0, 0, 0, 0, 0, 0, 0, 0, 0, 0, 0, 0, 0, 0, 0, 0, 0, 0, 0, 0, 0, 0, 0, 0, 0, 0, 0, 0, 0, 0, 0, 0, 0, 0, 0, 0, 0, 0, 0, 0, 0, 0, 0, 0, 0, 0, 0, 0, 0, 0, 0, 0, 0, 0, 0, 0, 0, 0, 0, 0, 0, 0, 0, 0, 0, 0, 0, 0, 0, 0, 0, 0, 0, 0, 0, 0, 0, 0, 0, 0, 0, 0, 0, 0, 0, 0, 0, 0, 0, 0, 0, 0, 0, 0, 0, 0, 0, 0, 0, 0, 0, 0, 0, 0, 0, 0, 0, 0, 0, 0, 0, 0, 0, 0, 0, 0, 0, 0, 0, 0, 0, 0, 0, 0, 0, 0, 0, 0, 0, 0, 0, 0, 0, 0, 0, 0, 0, 0, 0, 0, 0, 0, 0, 0, 0, 0], [0, 0, 0, 0, 5, 17, 43, 94, 202, 496, 1023, 0, 0, 0, 0, 0, 0, 0, 0, 0, 0, 0, 0, 0, 0, 0, 0, 0, 0, 0, 0, 0, 0, 0, 0, 0, 0, 0, 0, 0, 0, 0, 0, 0, 0, 0, 0, 0, 0, 0, 0, 0, 0, 0, 0, 0, 0, 0, 0, 0, 0, 0, 0, 0, 0, 0, 0, 0, 0, 0, 0, 0, 0, 0, 0, 0, 0, 0, 0, 0, 0, 0, 0, 0, 0, 0, 0, 0, 0, 0, 0, 0, 0, 0, 0, 0, 0, 0, 0, 0, 0, 0, 0, 0, 0, 0, 0, 0, 0, 0, 0, 0, 0, 0, 0, 0, 0, 0, 0, 0, 0, 0, 0, 0, 0, 0, 0, 0, 0, 0, 0, 0, 0, 0, 0, 0, 0, 0, 0, 0, 0, 0, 0, 0, 0, 0, 0, 0, 0, 0, 0, 0, 0, 0, 0, 0, 0, 0, 0, 0, 0, 0, 0, 0, 0, 0, 0, 0, 0, 0, 0, 0, 0, 0, 0, 0, 0, 0, 0, 0, 0, 0, 0, 0, 0, 0, 0, 0, 0, 0, 0, 0, 0, 0, 0, 0, 0, 0, 0, 0, 0, 0, 0, 0, 0, 0, 0, 0, 0, 0, 0, 0, 0, 0, 0, 0, 0, 0, 0, 0, 0, 0, 0, 0, 0, 0, 0, 0, 0, 0, 0, 0, 0, 0, 0, 0, 0, 0, 0, 0, 0, 0, 0, 0, 0, 0, 0, 0, 0, 0, 0, 0, 0, 0, 0, 0, 0, 0], [0, 0, 0, 3, 8, 19, 39, 89, 187, 511, 0, 0, 0, 0, 0, 0, 0, 0, 0, 0, 0, 0, 0, 0, 0, 0, 0, 0, 0, 0, 0, 0, 0, 0, 0, 0, 0, 0, 0, 0, 0, 0, 0, 0, 0, 0, 0, 0, 0, 0, 0, 0, 0, 0, 0, 0, 0, 0, 0, 0, 0, 0, 0, 0, 0, 0, 0, 0, 0, 0, 0, 0, 0, 0, 0, 0, 0, 0, 0, 0, 0, 0, 0, 0, 0, 0, 0, 0, 0, 0, 0, 0, 0, 0, 0, 0, 0, 0, 0, 0, 0, 0, 0, 0, 0, 0, 0, 0, 0, 0, 0, 0, 0, 0, 0, 0, 0, 0, 0, 0, 0, 0, 0, 0, 0, 0, 0, 0, 0, 0, 0, 0, 0, 0, 0, 0, 0, 0, 0, 0, 0, 0, 0, 0, 0, 0, 0, 0, 0, 0, 0, 0, 0, 0, 0, 0, 0, 0, 0, 0, 0, 0, 0, 0, 0, 0, 0, 0, 0, 0, 0, 0, 0, 0, 0, 0, 0, 0, 0, 0, 0, 0, 0, 0, 0, 0, 0, 0, 0, 0, 0, 0, 0, 0, 0, 0, 0, 0, 0, 0, 0, 0, 0, 0, 0, 0, 0, 0, 0, 0, 0, 0, 0, 0, 0, 0, 0, 0, 0, 0, 0, 0, 0, 0, 0, 0, 0, 0, 0, 0, 0, 0, 0, 0, 0, 0, 0, 0, 0, 0, 0, 0, 0, 0, 0, 0, 0, 0, 0, 0, 0, 0, 0, 0, 0, 0, 0, 0], [0, 0, 0, 0, 0, 0, 0, 95, 255, 0, 0, 0, 0, 0, 0, 0, 0, 0, 0, 0, 0, 0, 0, 0, 0, 0, 0, 0, 0, 0, 0, 0, 0, 0, 0, 0, 0, 0, 0, 0, 0, 0, 0, 0, 0, 0, 0, 0, 0, 0, 0, 0, 0, 0, 0, 0, 0, 0, 0, 0, 0, 0, 0, 0, 0, 0, 0, 0, 0, 0, 0, 0, 0, 0, 0, 0, 0, 0, 0, 0, 0, 0, 0, 0, 0, 0, 0, 0, 0, 0, 0, 0, 0, 0, 0, 0, 0, 0, 0, 0, 0, 0, 0, 0, 0, 0, 0, 0, 0, 0, 0, 0, 0, 0, 0, 0, 0, 0, 0, 0, 0, 0, 0, 0, 0, 0, 0, 0, 0, 0, 0, 0, 0, 0, 0, 0, 0, 0, 0, 0, 0, 0, 0, 0, 0, 0, 0, 0, 0, 0, 0, 0, 0, 0, 0, 0, 0, 0, 0, 0, 0, 0, 0, 0, 0, 0, 0, 0, 0, 0, 0, 0, 0, 0, 0, 0, 0, 0, 0, 0, 0, 0, 0, 0, 0, 0, 0, 0, 0, 0, 0, 0, 0, 0, 0, 0, 0, 0, 0, 0, 0, 0, 0, 0, 0, 0, 0, 0, 0, 0, 0, 0, 0, 0, 0, 0, 0, 0, 0, 0, 0, 0, 0, 0, 0, 0, 0, 0, 0, 0, 0, 0, 0, 0, 0, 0, 0, 0, 0, 0, 0, 0, 0, 0, 0, 0, 0, 0, 0, 0, 0, 0, 0, 0, 0, 0, 0, 0], [0, 0, 0, 2, 6, 16, 38, 89, 194, 511, 0, 0, 0, 0, 0, 0, 0, 0, 0, 0, 0, 0, 0, 0, 0, 0, 0, 0, 0, 0, 0, 0, 0, 0, 0, 0, 0, 0, 0, 0, 0, 0, 0, 0, 0, 0, 0, 0, 0, 0, 0, 0, 0, 0, 0, 0, 0, 0, 0, 0, 0, 0, 0, 0, 0, 0, 0, 0, 0, 0, 0, 0, 0, 0, 0, 0, 0, 0, 0, 0, 0, 0, 0, 0, 0, 0, 0, 0, 0, 0, 0, 0, 0, 0, 0, 0, 0, 0, 0, 0, 0, 0, 0, 0, 0, 0, 0, 0, 0, 0, 0, 0, 0, 0, 0, 0, 0, 0, 0, 0, 0, 0, 0, 0, 0, 0, 0, 0, 0, 0, 0, 0, 0, 0, 0, 0, 0, 0, 0, 0, 0, 0, 0, 0, 0, 0, 0, 0, 0, 0, 0, 0, 0, 0, 0, 0, 0, 0, 0, 0, 0, 0, 0, 0, 0, 0, 0, 0, 0, 0, 0, 0, 0, 0, 0, 0, 0, 0, 0, 0, 0, 0, 0, 0, 0, 0, 0, 0, 0, 0, 0, 0, 0, 0, 0, 0, 0, 0, 0, 0, 0, 0, 0, 0, 0, 0, 0, 0, 0, 0, 0, 0, 0, 0, 0, 0, 0, 0, 0, 0, 0, 0, 0, 0, 0, 0, 0, 0, 0, 0, 0, 0, 0, 0, 0, 0, 0, 0, 0, 0, 0, 0, 0, 0, 0, 0, 0, 0, 0, 0, 0, 0, 0, 0, 0, 0, 0, 0],[0, 0, 0, 0, 0, 0, 0, 0, 0, 0, 0, 0, 0, 0, 0, 0, 0, 0, 0, 0, 0, 0, 0, 0, 0, 0, 0, 0, 0, 0, 0, 0, 0, 0, 0, 0, 0, 0, 0, 0, 0, 0, 0, 0, 0, 0, 0, 0, 0, 0, 0, 0, 0, 0, 0, 0, 0, 0, 0, 0, 0, 0, 0, 0, 0, 0, 0, 0, 0, 0, 0, 0, 0, 0, 0, 0, 0, 0, 0, 0, 0, 0, 0, 0, 0, 0, 0, 0, 0, 0, 0, 0, 0, 0, 0, 0, 0, 0, 0, 0, 0, 0, 0, 0, 0, 0, 0, 0, 0, 0, 0, 0, 0, 0, 0, 0, 0, 0, 0, 0, 0, 0, 0, 0, 0, 0, 0, 0, 0, 0, 0, 0, 0, 0, 0, 0, 0, 0, 0, 0, 0, 0, 0, 0, 0, 0, 0, 0, 0, 0, 0, 0, 0, 0, 0, 0, 0, 0, 0, 0, 0, 0, 0, 0, 0, 0, 0, 0, 0, 0, 0, 0, 0, 0, 0, 0, 0, 0, 0, 0, 0, 0, 0, 0, 0, 0, 0, 0, 0, 0, 0, 0, 0, 0, 0, 0, 0, 0, 0, 0, 0, 0, 0, 0, 0, 0, 0, 0, 0, 0, 0, 0, 0, 0, 0, 0, 0, 0, 0, 0, 0, 0, 0, 0, 0, 0, 0, 0, 0, 0, 0, 0, 0, 0, 0, 0, 0, 0, 0, 0, 0, 0, 0, 0, 0, 0, 0, 0, 0, 0, 0, 0, 0, 0, 0, 0, 0, 0]]"
   ]
  },
  {
   "cell_type": "code",
   "execution_count": null,
   "id": "a51b4e7d-b318-4af3-872d-0272708277cc",
   "metadata": {},
   "outputs": [],
   "source": [
    "self.assertListEqual(bzd.limit, expected)"
   ]
  },
  {
   "cell_type": "code",
   "execution_count": null,
   "id": "4996fa2c-7db5-4d75-bc98-f75bc1c90019",
   "metadata": {},
   "outputs": [],
   "source": [
    "expected = [3, 3, 2, 7, 2, 0]"
   ]
  },
  {
   "cell_type": "code",
   "execution_count": null,
   "id": "7f945951-8ef6-4342-a1ef-718e68bcab5f",
   "metadata": {},
   "outputs": [],
   "source": [
    "self.assertListEqual(bzd.minlens, expected)"
   ]
  },
  {
   "cell_type": "code",
   "execution_count": null,
   "id": "eb2744d2-4838-4c90-8636-3dee26bdd189",
   "metadata": {},
   "outputs": [],
   "source": [
    "eob = bzd.ninuse + 1\n",
    "nblockmax = NSIS_COMPRESS_BZIP2_LEVEL * 100_000\n",
    "groupno = -1\n",
    "grouppos = 0"
   ]
  },
  {
   "cell_type": "code",
   "execution_count": null,
   "id": "40522496-b737-433e-be39-ef03f0b49e42",
   "metadata": {},
   "outputs": [],
   "source": [
    "self.assertEqual(eob, 159)"
   ]
  },
  {
   "cell_type": "code",
   "execution_count": null,
   "id": "b44fc26c-a4e7-43ec-b6e5-a10b9f4638ed",
   "metadata": {},
   "outputs": [],
   "source": [
    "bzd.unzftab = [0] * 256"
   ]
  },
  {
   "cell_type": "code",
   "execution_count": null,
   "id": "4db394cf-e06d-4230-99aa-e834ab081466",
   "metadata": {},
   "outputs": [],
   "source": [
    "bzd.mtfa = [0] * MTFA_SIZE\n",
    "bzd.mtfbase = [0] * int(256 / MTFL_SIZE)"
   ]
  },
  {
   "cell_type": "code",
   "execution_count": null,
   "id": "e63d28f8-5fde-4e9f-9aa8-3682cc45dad9",
   "metadata": {},
   "outputs": [],
   "source": [
    "k = MTFA_SIZE - 1\n",
    "\n",
    "for i in reversed(range(int(256 / MTFL_SIZE))):\n",
    "    for j in reversed(range(MTFL_SIZE)):\n",
    "        bzd.mtfa[k] = i * MTFL_SIZE + j\n",
    "        k -= 1\n",
    "    bzd.mtfbase[i] = k + 1"
   ]
  },
  {
   "cell_type": "code",
   "execution_count": null,
   "id": "5ea8f3a8-04a1-4adf-a486-7ef1e26917f0",
   "metadata": {
    "jupyter": {
     "source_hidden": true
    }
   },
   "outputs": [],
   "source": [
    "expected = [0, 0, 0, 0, 0, 0, 0, 0, 0, 0, 0, 0, 0, 0, 0, 0, 0, 0, 0, 0, 0, 0, 0, 0, 0, 0, 0, 0, 0, 0, 0, 0, 0, 0, 0, 0, 0, 0, 0, 0, 0, 0, 0, 0, 0, 0, 0, 0, 0, 0, 0, 0, 0, 0, 0, 0, 0, 0, 0, 0, 0, 0, 0, 0, 0, 0, 0, 0, 0, 0, 0, 0, 0, 0, 0, 0, 0, 0, 0, 0, 0, 0, 0, 0, 0, 0, 0, 0, 0, 0, 0, 0, 0, 0, 0, 0, 0, 0, 0, 0, 0, 0, 0, 0, 0, 0, 0, 0, 0, 0, 0, 0, 0, 0, 0, 0, 0, 0, 0, 0, 0, 0, 0, 0, 0, 0, 0, 0, 0, 0, 0, 0, 0, 0, 0, 0, 0, 0, 0, 0, 0, 0, 0, 0, 0, 0, 0, 0, 0, 0, 0, 0, 0, 0, 0, 0, 0, 0, 0, 0, 0, 0, 0, 0, 0, 0, 0, 0, 0, 0, 0, 0, 0, 0, 0, 0, 0, 0, 0, 0, 0, 0, 0, 0, 0, 0, 0, 0, 0, 0, 0, 0, 0, 0, 0, 0, 0, 0, 0, 0, 0, 0, 0, 0, 0, 0, 0, 0, 0, 0, 0, 0, 0, 0, 0, 0, 0, 0, 0, 0, 0, 0, 0, 0, 0, 0, 0, 0, 0, 0, 0, 0, 0, 0, 0, 0, 0, 0, 0, 0, 0, 0, 0, 0, 0, 0, 0, 0, 0, 0, 0, 0, 0, 0, 0, 0, 0, 0, 0, 0, 0, 0, 0, 0, 0, 0, 0, 0, 0, 0, 0, 0, 0, 0, 0, 0, 0, 0, 0, 0, 0, 0, 0, 0, 0, 0, 0, 0, 0, 0, 0, 0, 0, 0, 0, 0, 0, 0, 0, 0, 0, 0, 0, 0, 0, 0, 0, 0, 0, 0, 0, 0, 0, 0, 0, 0, 0, 0, 0, 0, 0, 0, 0, 0, 0, 0, 0, 0, 0, 0, 0, 0, 0, 0, 0, 0, 0, 0, 0, 0, 0, 0, 0, 0, 0, 0, 0, 0, 0, 0, 0, 0, 0, 0, 0, 0, 0, 0, 0, 0, 0, 0, 0, 0, 0, 0, 0, 0, 0, 0, 0, 0, 0, 0, 0, 0, 0, 0, 0, 0, 0, 0, 0, 0, 0, 0, 0, 0, 0, 0, 0, 0, 0, 0, 0, 0, 0, 0, 0, 0, 0, 0, 0, 0, 0, 0, 0, 0, 0, 0, 0, 0, 0, 0, 0, 0, 0, 0, 0, 0, 0, 0, 0, 0, 0, 0, 0, 0, 0, 0, 0, 0, 0, 0, 0, 0, 0, 0, 0, 0, 0, 0, 0, 0, 0, 0, 0, 0, 0, 0, 0, 0, 0, 0, 0, 0, 0, 0, 0, 0, 0, 0, 0, 0, 0, 0, 0, 0, 0, 0, 0, 0, 0, 0, 0, 0, 0, 0, 0, 0, 0, 0, 0, 0, 0, 0, 0, 0, 0, 0, 0, 0, 0, 0, 0, 0, 0, 0, 0, 0, 0, 0, 0, 0, 0, 0, 0, 0, 0, 0, 0, 0, 0, 0, 0, 0, 0, 0, 0, 0, 0, 0, 0, 0, 0, 0, 0, 0, 0, 0, 0, 0, 0, 0, 0, 0, 0, 0, 0, 0, 0, 0, 0, 0, 0, 0, 0, 0, 0, 0, 0, 0, 0, 0, 0, 0, 0, 0, 0, 0, 0, 0, 0, 0, 0, 0, 0, 0, 0, 0, 0, 0, 0, 0, 0, 0, 0, 0, 0, 0, 0, 0, 0, 0, 0, 0, 0, 0, 0, 0, 0, 0, 0, 0, 0, 0, 0, 0, 0, 0, 0, 0, 0, 0, 0, 0, 0, 0, 0, 0, 0, 0, 0, 0, 0, 0, 0, 0, 0, 0, 0, 0, 0, 0, 0, 0, 0, 0, 0, 0, 0, 0, 0, 0, 0, 0, 0, 0, 0, 0, 0, 0, 0, 0, 0, 0, 0, 0, 0, 0, 0, 0, 0, 0, 0, 0, 0, 0, 0, 0, 0, 0, 0, 0, 0, 0, 0, 0, 0, 0, 0, 0, 0, 0, 0, 0, 0, 0, 0, 0, 0, 0, 0, 0, 0, 0, 0, 0, 0, 0, 0, 0, 0, 0, 0, 0, 0, 0, 0, 0, 0, 0, 0, 0, 0, 0, 0, 0, 0, 0, 0, 0, 0, 0, 0, 0, 0, 0, 0, 0, 0, 0, 0, 0, 0, 0, 0, 0, 0, 0, 0, 0, 0, 0, 0, 0, 0, 0, 0, 0, 0, 0, 0, 0, 0, 0, 0, 0, 0, 0, 0, 0, 0, 0, 0, 0, 0, 0, 0, 0, 0, 0, 0, 0, 0, 0, 0, 0, 0, 0, 0, 0, 0, 0, 0, 0, 0, 0, 0, 0, 0, 0, 0, 0, 0, 0, 0, 0, 0, 0, 0, 0, 0, 0, 0, 0, 0, 0, 0, 0, 0, 0, 0, 0, 0, 0, 0, 0, 0, 0, 0, 0, 0, 0, 0, 0, 0, 0, 0, 0, 0, 0, 0, 0, 0, 0, 0, 0, 0, 0, 0, 0, 0, 0, 0, 0, 0, 0, 0, 0, 0, 0, 0, 0, 0, 0, 0, 0, 0, 0, 0, 0, 0, 0, 0, 0, 0, 0, 0, 0, 0, 0, 0, 0, 0, 0, 0, 0, 0, 0, 0, 0, 0, 0, 0, 0, 0, 0, 0, 0, 0, 0, 0, 0, 0, 0, 0, 0, 0, 0, 0, 0, 0, 0, 0, 0, 0, 0, 0, 0, 0, 0, 0, 0, 0, 0, 0, 0, 0, 0, 0, 0, 0, 0, 0, 0, 0, 0, 0, 0, 0, 0, 0, 0, 0, 0, 0, 0, 0, 0, 0, 0, 0, 0, 0, 0, 0, 0, 0, 0, 0, 0, 0, 0, 0, 0, 0, 0, 0, 0, 0, 0, 0, 0, 0, 0, 0, 0, 0, 0, 0, 0, 0, 0, 0, 0, 0, 0, 0, 0, 0, 0, 0, 0, 0, 0, 0, 0, 0, 0, 0, 0, 0, 0, 0, 0, 0, 0, 0, 0, 0, 0, 0, 0, 0, 0, 0, 0, 0, 0, 0, 0, 0, 0, 0, 0, 0, 0, 0, 0, 0, 0, 0, 0, 0, 0, 0, 0, 0, 0, 0, 0, 0, 0, 0, 0, 0, 0, 0, 0, 0, 0, 0, 0, 0, 0, 0, 0, 0, 0, 0, 0, 0, 0, 0, 0, 0, 0, 0, 0, 0, 0, 0, 0, 0, 0, 0, 0, 0, 0, 0, 0, 0, 0, 0, 0, 0, 0, 0, 0, 0, 0, 0, 0, 0, 0, 0, 0, 0, 0, 0, 0, 0, 0, 0, 0, 0, 0, 0, 0, 0, 0, 0, 0, 0, 0, 0, 0, 0, 0, 0, 0, 0, 0, 0, 0, 0, 0, 0, 0, 0, 0, 0, 0, 0, 0, 0, 0, 0, 0, 0, 0, 0, 0, 0, 0, 0, 0, 0, 0, 0, 0, 0, 0, 0, 0, 0, 0, 0, 0, 0, 0, 0, 0, 0, 0, 0, 0, 0, 0, 0, 0, 0, 0, 0, 0, 0, 0, 0, 0, 0, 0, 0, 0, 0, 0, 0, 0, 0, 0, 0, 0, 0, 0, 0, 0, 0, 0, 0, 0, 0, 0, 0, 0, 0, 0, 0, 0, 0, 0, 0, 0, 0, 0, 0, 0, 0, 0, 0, 0, 0, 0, 0, 0, 0, 0, 0, 0, 0, 0, 0, 0, 0, 0, 0, 0, 0, 0, 0, 0, 0, 0, 0, 0, 0, 0, 0, 0, 0, 0, 0, 0, 0, 0, 0, 0, 0, 0, 0, 0, 0, 0, 0, 0, 0, 0, 0, 0, 0, 0, 0, 0, 0, 0, 0, 0, 0, 0, 0, 0, 0, 0, 0, 0, 0, 0, 0, 0, 0, 0, 0, 0, 0, 0, 0, 0, 0, 0, 0, 0, 0, 0, 0, 0, 0, 0, 0, 0, 0, 0, 0, 0, 0, 0, 0, 0, 0, 0, 0, 0, 0, 0, 0, 0, 0, 0, 0, 0, 0, 0, 0, 0, 0, 0, 0, 0, 0, 0, 0, 0, 0, 0, 0, 0, 0, 0, 0, 0, 0, 0, 0, 0, 0, 0, 0, 0, 0, 0, 0, 0, 0, 0, 0, 0, 0, 0, 0, 0, 0, 0, 0, 0, 0, 0, 0, 0, 0, 0, 0, 0, 0, 0, 0, 0, 0, 0, 0, 0, 0, 0, 0, 0, 0, 0, 0, 0, 0, 0, 0, 0, 0, 0, 0, 0, 0, 0, 0, 0, 0, 0, 0, 0, 0, 0, 0, 0, 0, 0, 0, 0, 0, 0, 0, 0, 0, 0, 0, 0, 0, 0, 0, 0, 0, 0, 0, 0, 0, 0, 0, 0, 0, 0, 0, 0, 0, 0, 0, 0, 0, 0, 0, 0, 0, 0, 0, 0, 0, 0, 0, 0, 0, 0, 0, 0, 0, 0, 0, 0, 0, 0, 0, 0, 0, 0, 0, 0, 0, 0, 0, 0, 0, 0, 0, 0, 0, 0, 0, 0, 0, 0, 0, 0, 0, 0, 0, 0, 0, 0, 0, 0, 0, 0, 0, 0, 0, 0, 0, 0, 0, 0, 0, 0, 0, 0, 0, 0, 0, 0, 0, 0, 0, 0, 0, 0, 0, 0, 0, 0, 0, 0, 0, 0, 0, 0, 0, 0, 0, 0, 0, 0, 0, 0, 0, 0, 0, 0, 0, 0, 0, 0, 0, 0, 0, 0, 0, 0, 0, 0, 0, 0, 0, 0, 0, 0, 0, 0, 0, 0, 0, 0, 0, 0, 0, 0, 0, 0, 0, 0, 0, 0, 0, 0, 0, 0, 0, 0, 0, 0, 0, 0, 0, 0, 0, 0, 0, 0, 0, 0, 0, 0, 0, 0, 0, 0, 0, 0, 0, 0, 0, 0, 0, 0, 0, 0, 0, 0, 0, 0, 0, 0, 0, 0, 0, 0, 0, 0, 0, 0, 0, 0, 0, 0, 0, 0, 0, 0, 0, 0, 0, 0, 0, 0, 0, 0, 0, 0, 0, 0, 0, 0, 0, 0, 0, 0, 0, 0, 0, 0, 0, 0, 0, 0, 0, 0, 0, 0, 0, 0, 0, 0, 0, 0, 0, 0, 0, 0, 0, 0, 0, 0, 0, 0, 0, 0, 0, 0, 0, 0, 0, 0, 0, 0, 0, 0, 0, 0, 0, 0, 0, 0, 0, 0, 0, 0, 0, 0, 0, 0, 0, 0, 0, 0, 0, 0, 0, 0, 0, 0, 0, 0, 0, 0, 0, 0, 0, 0, 0, 0, 0, 0, 0, 0, 0, 0, 0, 0, 0, 0, 0, 0, 0, 0, 0, 0, 0, 0, 0, 0, 0, 0, 0, 0, 0, 0, 0, 0, 0, 0, 0, 0, 0, 0, 0, 0, 0, 0, 0, 0, 0, 0, 0, 0, 0, 0, 0, 0, 0, 0, 0, 0, 0, 0, 0, 0, 0, 0, 0, 0, 0, 0, 0, 0, 0, 0, 0, 0, 0, 0, 0, 0, 0, 0, 0, 0, 0, 0, 0, 0, 0, 0, 0, 0, 0, 0, 0, 0, 0, 0, 0, 0, 0, 0, 0, 0, 0, 0, 0, 0, 0, 0, 0, 0, 0, 0, 0, 0, 0, 0, 0, 0, 0, 0, 0, 0, 0, 0, 0, 0, 0, 0, 0, 0, 0, 0, 0, 0, 0, 0, 0, 0, 0, 0, 0, 0, 0, 0, 0, 0, 0, 0, 0, 0, 0, 0, 0, 0, 0, 0, 0, 0, 0, 0, 0, 0, 0, 0, 0, 0, 0, 0, 0, 0, 0, 0, 0, 0, 0, 0, 0, 0, 0, 0, 0, 0, 0, 0, 0, 0, 0, 0, 0, 0, 0, 0, 0, 0, 0, 0, 0, 0, 0, 0, 0, 0, 0, 0, 0, 0, 0, 0, 0, 0, 0, 0, 0, 0, 0, 0, 0, 0, 0, 0, 0, 0, 0, 0, 0, 0, 0, 0, 0, 0, 0, 0, 0, 0, 0, 0, 0, 0, 0, 0, 0, 0, 0, 0, 0, 0, 0, 0, 0, 0, 0, 0, 0, 0, 0, 0, 0, 0, 0, 0, 0, 0, 0, 0, 0, 0, 0, 0, 0, 0, 0, 0, 0, 0, 0, 0, 0, 0, 0, 0, 0, 0, 0, 0, 0, 0, 0, 0, 0, 0, 0, 0, 0, 0, 0, 0, 0, 0, 0, 0, 0, 0, 0, 0, 0, 0, 0, 0, 0, 0, 0, 0, 0, 0, 0, 0, 0, 0, 0, 0, 0, 0, 0, 0, 0, 0, 0, 0, 0, 0, 0, 0, 0, 0, 0, 0, 0, 0, 0, 0, 0, 0, 0, 0, 0, 0, 0, 0, 0, 0, 0, 0, 0, 0, 0, 0, 0, 0, 0, 0, 0, 0, 0, 0, 0, 0, 0, 0, 0, 0, 0, 0, 0, 0, 0, 0, 0, 0, 0, 0, 0, 0, 0, 0, 0, 0, 0, 0, 0, 0, 0, 0, 0, 0, 0, 0, 0, 0, 0, 0, 0, 0, 0, 0, 0, 0, 0, 0, 0, 0, 0, 0, 0, 0, 0, 0, 0, 0, 0, 0, 0, 0, 0, 0, 0, 0, 0, 0, 0, 0, 0, 0, 0, 0, 0, 0, 0, 0, 0, 0, 0, 0, 0, 0, 0, 0, 0, 0, 0, 0, 0, 0, 0, 0, 0, 0, 0, 0, 0, 0, 0, 0, 0, 0, 0, 0, 0, 0, 0, 0, 0, 0, 0, 0, 0, 0, 0, 0, 0, 0, 0, 0, 0, 0, 0, 0, 0, 0, 0, 0, 0, 0, 0, 0, 0, 0, 0, 0, 0, 0, 0, 0, 0, 0, 0, 0, 0, 0, 0, 0, 0, 0, 0, 0, 0, 0, 0, 0, 0, 0, 0, 0, 0, 0, 0, 0, 0, 0, 0, 0, 0, 0, 0, 0, 0, 0, 0, 0, 0, 0, 0, 0, 0, 0, 0, 0, 0, 0, 0, 0, 0, 0, 0, 0, 0, 0, 0, 0, 0, 0, 0, 0, 0, 0, 0, 0, 0, 0, 0, 0, 0, 0, 0, 0, 0, 0, 0, 0, 0, 0, 0, 0, 0, 0, 0, 0, 0, 0, 0, 0, 0, 0, 0, 0, 0, 0, 0, 0, 0, 0, 0, 0, 0, 0, 0, 0, 0, 0, 0, 0, 0, 0, 0, 0, 0, 0, 0, 0, 0, 0, 0, 0, 0, 0, 0, 0, 0, 0, 0, 0, 0, 0, 0, 0, 0, 0, 0, 0, 0, 0, 0, 0, 0, 0, 0, 0, 0, 0, 0, 0, 0, 0, 0, 0, 0, 0, 0, 0, 0, 0, 0, 0, 0, 0, 0, 0, 0, 0, 0, 0, 0, 0, 0, 0, 0, 0, 0, 0, 0, 0, 0, 0, 0, 0, 0, 0, 0, 0, 0, 0, 0, 0, 0, 0, 0, 0, 0, 0, 0, 0, 0, 0, 0, 0, 0, 0, 0, 0, 0, 0, 0, 0, 0, 0, 0, 0, 0, 0, 0, 0, 0, 0, 0, 0, 0, 0, 0, 0, 0, 0, 0, 0, 0, 0, 0, 0, 0, 0, 0, 0, 0, 0, 0, 0, 0, 0, 0, 0, 0, 0, 0, 0, 0, 0, 0, 0, 0, 0, 0, 0, 0, 0, 0, 0, 0, 0, 0, 0, 0, 0, 0, 0, 0, 0, 0, 0, 0, 0, 0, 0, 0, 0, 0, 0, 0, 0, 0, 0, 0, 0, 0, 0, 0, 0, 0, 0, 0, 0, 0, 0, 0, 0, 0, 0, 0, 0, 0, 0, 0, 0, 0, 0, 0, 0, 0, 0, 0, 0, 0, 0, 0, 0, 0, 0, 0, 0, 0, 0, 0, 0, 0, 0, 0, 0, 0, 0, 0, 0, 0, 0, 0, 0, 0, 0, 0, 0, 0, 0, 0, 0, 0, 0, 0, 0, 0, 0, 0, 0, 0, 0, 0, 0, 0, 0, 0, 0, 0, 0, 0, 0, 0, 0, 0, 0, 0, 0, 0, 0, 0, 0, 0, 0, 0, 0, 0, 0, 0, 0, 0, 0, 0, 0, 0, 0, 0, 0, 0, 0, 0, 0, 0, 0, 0, 0, 0, 0, 0, 0, 0, 0, 0, 0, 0, 0, 0, 0, 0, 0, 0, 0, 0, 0, 0, 0, 0, 0, 0, 0, 0, 0, 0, 0, 0, 0, 0, 0, 0, 0, 0, 0, 0, 0, 0, 0, 0, 0, 0, 0, 0, 0, 0, 0, 0, 0, 0, 0, 0, 0, 0, 0, 0, 0, 0, 0, 0, 0, 0, 0, 0, 0, 0, 0, 0, 0, 0, 0, 0, 0, 0, 0, 0, 0, 0, 0, 0, 0, 0, 0, 0, 0, 0, 0, 0, 0, 0, 0, 0, 0, 0, 0, 0, 0, 0, 0, 0, 0, 0, 0, 0, 0, 0, 0, 0, 0, 0, 0, 0, 0, 0, 0, 0, 0, 0, 0, 0, 0, 0, 0, 0, 0, 0, 0, 0, 0, 0, 0, 0, 0, 0, 0, 0, 0, 0, 0, 0, 0, 0, 0, 0, 0, 0, 0, 0, 0, 0, 0, 0, 0, 0, 0, 0, 0, 0, 0, 0, 0, 0, 0, 0, 0, 0, 0, 0, 0, 0, 0, 0, 0, 0, 0, 0, 0, 0, 0, 0, 0, 0, 0, 0, 0, 0, 0, 0, 0, 0, 0, 0, 0, 0, 0, 0, 0, 0, 0, 0, 0, 0, 0, 0, 0, 0, 0, 0, 0, 0, 0, 0, 0, 0, 0, 0, 0, 0, 0, 0, 0, 0, 0, 0, 0, 0, 0, 0, 0, 0, 0, 0, 0, 0, 0, 0, 0, 0, 0, 0, 0, 0, 0, 0, 0, 0, 0, 0, 0, 0, 0, 0, 0, 0, 0, 0, 0, 0, 0, 0, 0, 0, 0, 0, 0, 0, 0, 0, 0, 0, 0, 0, 0, 0, 0, 0, 0, 0, 0, 0, 0, 0, 0, 0, 0, 0, 0, 0, 0, 0, 0, 0, 0, 0, 0, 0, 0, 0, 0, 0, 0, 0, 0, 0, 0, 0, 0, 0, 0, 0, 0, 0, 0, 0, 0, 0, 0, 0, 0, 0, 0, 0, 0, 0, 0, 0, 0, 0, 0, 0, 0, 0, 0, 0, 0, 0, 0, 0, 0, 0, 0, 0, 0, 0, 0, 0, 0, 0, 0, 0, 0, 0, 0, 0, 0, 0, 0, 0, 0, 0, 0, 0, 0, 0, 0, 0, 0, 0, 0, 0, 0, 0, 0, 0, 0, 0, 0, 0, 0, 0, 0, 0, 0, 0, 0, 0, 0, 0, 0, 0, 0, 0, 0, 0, 0, 0, 0, 0, 0, 0, 0, 0, 0, 0, 0, 0, 0, 0, 0, 0, 0, 0, 0, 0, 0, 0, 0, 0, 0, 0, 0, 0, 0, 0, 0, 0, 0, 0, 0, 0, 0, 0, 0, 0, 0, 0, 0, 0, 0, 0, 0, 0, 0, 0, 0, 0, 0, 0, 0, 0, 0, 0, 0, 0, 0, 0, 0, 0, 0, 0, 0, 0, 0, 0, 0, 0, 0, 0, 0, 0, 0, 0, 0, 0, 0, 0, 0, 0, 0, 0, 0, 0, 0, 0, 0, 0, 0, 0, 0, 0, 0, 0, 0, 0, 0, 0, 0, 0, 0, 0, 0, 0, 0, 0, 0, 0, 0, 0, 0, 0, 0, 0, 0, 0, 0, 0, 0, 0, 0, 0, 0, 0, 0, 0, 0, 0, 0, 0, 0, 0, 0, 0, 0, 0, 0, 0, 0, 0, 0, 0, 0, 0, 0, 0, 0, 0, 0, 0, 0, 0, 0, 0, 0, 0, 0, 0, 0, 0, 0, 0, 0, 0, 0, 0, 0, 0, 0, 0, 0, 0, 0, 0, 0, 0, 0, 0, 0, 0, 0, 0, 0, 0, 0, 0, 0, 0, 0, 0, 0, 0, 0, 0, 0, 0, 0, 0, 0, 0, 0, 0, 0, 0, 0, 0, 0, 0, 0, 0, 0, 0, 0, 0, 0, 0, 0, 0, 0, 0, 0, 0, 0, 0, 0, 0, 0, 0, 0, 0, 0, 0, 0, 0, 0, 0, 0, 0, 0, 0, 0, 0, 0, 0, 0, 0, 0, 0, 0, 0, 0, 0, 0, 0, 0, 0, 0, 0, 0, 0, 0, 0, 0, 0, 0, 0, 0, 0, 0, 0, 0, 0, 0, 0, 0, 0, 0, 0, 0, 0, 0, 0, 0, 0, 0, 0, 0, 0, 0, 0, 0, 0, 0, 0, 0, 0, 0, 0, 0, 0, 0, 0, 0, 0, 0, 0, 0, 0, 0, 0, 0, 0, 0, 0, 0, 0, 0, 0, 0, 0, 0, 0, 0, 0, 0, 0, 0, 0, 0, 0, 0, 0, 0, 0, 0, 0, 0, 0, 0, 0, 0, 0, 0, 0, 0, 0, 0, 0, 0, 0, 0, 0, 0, 0, 0, 0, 0, 0, 0, 0, 0, 0, 0, 0, 0, 0, 0, 0, 0, 0, 0, 0, 0, 0, 0, 0, 0, 0, 0, 0, 0, 0, 0, 0, 0, 0, 0, 0, 0, 0, 0, 0, 0, 0, 0, 0, 0, 0, 0, 0, 0, 0, 0, 0, 0, 0, 0, 0, 0, 0, 0, 0, 0, 0, 0, 0, 0, 0, 0, 0, 0, 0, 0, 0, 0, 0, 0, 0, 0, 0, 0, 0, 0, 0, 0, 0, 0, 0, 0, 0, 0, 0, 0, 0, 0, 0, 0, 0, 0, 0, 0, 0, 0, 0, 0, 0, 0, 0, 0, 0, 0, 0, 0, 0, 0, 0, 0, 0, 0, 0, 0, 0, 0, 0, 0, 0, 0, 0, 0, 0, 0, 0, 0, 0, 0, 0, 0, 0, 0, 0, 0, 0, 0, 0, 0, 0, 0, 0, 0, 0, 0, 0, 0, 0, 0, 0, 0, 0, 0, 0, 0, 0, 0, 0, 0, 0, 0, 0, 0, 0, 0, 0, 0, 0, 0, 0, 0, 0, 0, 0, 0, 0, 0, 0, 0, 0, 0, 0, 0, 0, 0, 0, 0, 0, 0, 0, 0, 0, 0, 0, 0, 0, 0, 0, 0, 0, 0, 0, 0, 0, 0, 0, 0, 0, 0, 0, 0, 0, 0, 0, 0, 0, 0, 0, 0, 0, 0, 0, 0, 0, 0, 0, 0, 0, 0, 0, 0, 0, 0, 0, 0, 0, 0, 0, 0, 0, 0, 0, 0, 0, 0, 0, 0, 0, 0, 0, 0, 0, 0, 0, 0, 0, 0, 0, 0, 0, 0, 0, 0, 0, 0, 0, 0, 0, 0, 0, 0, 0, 0, 0, 0, 0, 0, 0, 0, 0, 0, 0, 0, 0, 0, 0, 0, 0, 0, 0, 0, 0, 0, 0, 0, 0, 0, 0, 0, 0, 0, 0, 0, 0, 0, 0, 0, 0, 0, 0, 0, 0, 0, 0, 0, 0, 0, 0, 0, 0, 0, 0, 0, 0, 0, 0, 0, 0, 0, 0, 0, 0, 0, 0, 0, 0, 0, 0, 0, 0, 0, 0, 0, 0, 0, 0, 0, 0, 0, 0, 0, 0, 0, 0, 0, 0, 0, 0, 0, 0, 0, 0, 0, 0, 0, 0, 0, 0, 0, 0, 0, 0, 0, 0, 0, 0, 0, 0, 0, 0, 0, 0, 0, 0, 0, 0, 0, 0, 0, 0, 0, 0, 0, 0, 0, 0, 0, 0, 0, 0, 0, 0, 0, 0, 0, 0, 0, 0, 0, 0, 0, 0, 0, 0, 0, 0, 0, 0, 0, 0, 0, 0, 0, 0, 0, 0, 0, 0, 0, 0, 0, 0, 0, 0, 0, 0, 0, 0, 0, 0, 0, 0, 0, 0, 0, 0, 0, 0, 0, 0, 0, 0, 0, 0, 0, 0, 0, 0, 0, 0, 0, 0, 0, 0, 0, 0, 0, 0, 0, 0, 0, 0, 0, 0, 0, 0, 0, 0, 0, 0, 1, 2, 3, 4, 5, 6, 7, 8, 9, 10, 11, 12, 13, 14, 15, 16, 17, 18, 19, 20, 21, 22, 23, 24, 25, 26, 27, 28, 29, 30, 31, 32, 33, 34, 35, 36, 37, 38, 39, 40, 41, 42, 43, 44, 45, 46, 47, 48, 49, 50, 51, 52, 53, 54, 55, 56, 57, 58, 59, 60, 61, 62, 63, 64, 65, 66, 67, 68, 69, 70, 71, 72, 73, 74, 75, 76, 77, 78, 79, 80, 81, 82, 83, 84, 85, 86, 87, 88, 89, 90, 91, 92, 93, 94, 95, 96, 97, 98, 99, 100, 101, 102, 103, 104, 105, 106, 107, 108, 109, 110, 111, 112, 113, 114, 115, 116, 117, 118, 119, 120, 121, 122, 123, 124, 125, 126, 127, 128, 129, 130, 131, 132, 133, 134, 135, 136, 137, 138, 139, 140, 141, 142, 143, 144, 145, 146, 147, 148, 149, 150, 151, 152, 153, 154, 155, 156, 157, 158, 159, 160, 161, 162, 163, 164, 165, 166, 167, 168, 169, 170, 171, 172, 173, 174, 175, 176, 177, 178, 179, 180, 181, 182, 183, 184, 185, 186, 187, 188, 189, 190, 191, 192, 193, 194, 195, 196, 197, 198, 199, 200, 201, 202, 203, 204, 205, 206, 207, 208, 209, 210, 211, 212, 213, 214, 215, 216, 217, 218, 219, 220, 221, 222, 223, 224, 225, 226, 227, 228, 229, 230, 231, 232, 233, 234, 235, 236, 237, 238, 239, 240, 241, 242, 243, 244, 245, 246, 247, 248, 249, 250, 251, 252, 253, 254, 255]"
   ]
  },
  {
   "cell_type": "code",
   "execution_count": null,
   "id": "1b0102a7-cc11-430e-9bac-62465918d314",
   "metadata": {},
   "outputs": [],
   "source": [
    "self.assertListEqual(bzd.mtfa, expected)"
   ]
  },
  {
   "cell_type": "code",
   "execution_count": null,
   "id": "18ddbdbf-4a53-412a-add6-e41681231ed6",
   "metadata": {},
   "outputs": [],
   "source": [
    "expected = [3840, 3856, 3872, 3888, 3904, 3920, 3936, 3952, 3968, 3984, 4000, 4016, 4032, 4048, 4064, 4080]"
   ]
  },
  {
   "cell_type": "code",
   "execution_count": null,
   "id": "799ff41c-c89e-4332-9d2a-03e9365f67e0",
   "metadata": {},
   "outputs": [],
   "source": [
    "self.assertListEqual(bzd.mtfbase, expected)"
   ]
  },
  {
   "cell_type": "code",
   "execution_count": null,
   "id": "5d40b412-70ac-437c-be3b-b566bd2603b1",
   "metadata": {},
   "outputs": [],
   "source": [
    "nblock = 0"
   ]
  },
  {
   "cell_type": "code",
   "execution_count": null,
   "id": "7f0ba3c1-1521-4165-8fed-02773d7ad8df",
   "metadata": {},
   "outputs": [],
   "source": [
    "gsel = 0\n",
    "gminlen = 0\n",
    "glimit = 0\n",
    "gperm = 0\n",
    "gbase = 0\n",
    "zn = 0"
   ]
  },
  {
   "cell_type": "code",
   "execution_count": null,
   "id": "9450b00a-d51a-4a42-a64e-b4c912be9651",
   "metadata": {},
   "outputs": [],
   "source": [
    "if grouppos == 0:\n",
    "    groupno += 1\n",
    "    if groupno >= nselectors:\n",
    "        raise RuntimeError('BZ_DATA_ERROR: Number of groups too large')\n",
    "    grouppos = BZ_G_SIZE\n",
    "    gsel = bzd.selector[groupno]\n",
    "    gminlen = bzd.minlens[gsel]\n",
    "    glimit = bzd.limit[gsel]\n",
    "    gperm = bzd.perm[gsel]\n",
    "    gbase = bzd.base[gsel]\n",
    "grouppos -= 1\n",
    "zn = gminlen"
   ]
  },
  {
   "cell_type": "code",
   "execution_count": null,
   "id": "c988eccf-462b-46f8-9ec1-eee874cc83bf",
   "metadata": {},
   "outputs": [],
   "source": [
    "self.assertEqual(groupno, 0)"
   ]
  },
  {
   "cell_type": "code",
   "execution_count": null,
   "id": "e4942944-0e9c-48aa-b6b8-e29b9371f3f7",
   "metadata": {},
   "outputs": [],
   "source": [
    "self.assertEqual(gsel, 0)"
   ]
  },
  {
   "cell_type": "code",
   "execution_count": null,
   "id": "639e0a89-7897-4781-97ba-a02d498fd905",
   "metadata": {},
   "outputs": [],
   "source": [
    "self.assertEqual(gminlen, 3)"
   ]
  },
  {
   "cell_type": "code",
   "execution_count": null,
   "id": "52034a2b-6a80-4763-9afa-17f5f5f01654",
   "metadata": {
    "jupyter": {
     "source_hidden": true
    }
   },
   "outputs": [],
   "source": [
    "expected = [0, 0, 0, 1, 4, 14, 34, 82, 211, 511, 0, 0, 0, 0, 0, 0, 0, 0, 0, 0, 0, 0, 0, 0, 0, 0, 0, 0, 0, 0, 0, 0, 0, 0, 0, 0, 0, 0, 0, 0, 0, 0, 0, 0, 0, 0, 0, 0, 0, 0, 0, 0, 0, 0, 0, 0, 0, 0, 0, 0, 0, 0, 0, 0, 0, 0, 0, 0, 0, 0, 0, 0, 0, 0, 0, 0, 0, 0, 0, 0, 0, 0, 0, 0, 0, 0, 0, 0, 0, 0, 0, 0, 0, 0, 0, 0, 0, 0, 0, 0, 0, 0, 0, 0, 0, 0, 0, 0, 0, 0, 0, 0, 0, 0, 0, 0, 0, 0, 0, 0, 0, 0, 0, 0, 0, 0, 0, 0, 0, 0, 0, 0, 0, 0, 0, 0, 0, 0, 0, 0, 0, 0, 0, 0, 0, 0, 0, 0, 0, 0, 0, 0, 0, 0, 0, 0, 0, 0, 0, 0, 0, 0, 0, 0, 0, 0, 0, 0, 0, 0, 0, 0, 0, 0, 0, 0, 0, 0, 0, 0, 0, 0, 0, 0, 0, 0, 0, 0, 0, 0, 0, 0, 0, 0, 0, 0, 0, 0, 0, 0, 0, 0, 0, 0, 0, 0, 0, 0, 0, 0, 0, 0, 0, 0, 0, 0, 0, 0, 0, 0, 0, 0, 0, 0, 0, 0, 0, 0, 0, 0, 0, 0, 0, 0, 0, 0, 0, 0, 0, 0, 0, 0, 0, 0, 0, 0, 0, 0, 0, 0, 0, 0, 0, 0, 0, 0, 0, 0]"
   ]
  },
  {
   "cell_type": "code",
   "execution_count": null,
   "id": "166a7fbf-e69f-4067-91d6-ce36ee91f034",
   "metadata": {},
   "outputs": [],
   "source": [
    "self.assertListEqual(glimit, expected)"
   ]
  },
  {
   "cell_type": "code",
   "execution_count": null,
   "id": "9201a387-acb8-47fa-bf9a-9d45d2141118",
   "metadata": {
    "jupyter": {
     "source_hidden": true
    }
   },
   "outputs": [],
   "source": [
    "expected = [0, 1, 2, 3, 5, 6, 9, 158, 4, 8, 11, 14, 157, 7, 13, 24, 29, 54, 88, 92, 100, 112, 116, 137, 154, 156, 15, 18, 20, 21, 25, 28, 30, 32, 36, 41, 42, 43, 46, 50, 51, 52, 59, 61, 63, 65, 66, 70, 78, 80, 83, 84, 85, 86, 89, 93, 97, 98, 101, 102, 105, 106, 109, 111, 114, 125, 129, 131, 140, 148, 152, 159, 10, 12, 16, 17, 19, 22, 23, 26, 27, 31, 33, 34, 35, 37, 38, 39, 40, 44, 45, 47, 48, 49, 53, 55, 56, 57, 58, 60, 62, 64, 67, 68, 69, 71, 72, 73, 74, 75, 76, 77, 79, 81, 82, 87, 90, 91, 94, 95, 96, 99, 103, 104, 107, 108, 110, 113, 115, 117, 118, 119, 120, 121, 122, 123, 124, 126, 127, 128, 130, 132, 133, 134, 135, 136, 138, 139, 141, 142, 143, 144, 145, 146, 147, 149, 150, 151, 153, 155, 0, 0, 0, 0, 0, 0, 0, 0, 0, 0, 0, 0, 0, 0, 0, 0, 0, 0, 0, 0, 0, 0, 0, 0, 0, 0, 0, 0, 0, 0, 0, 0, 0, 0, 0, 0, 0, 0, 0, 0, 0, 0, 0, 0, 0, 0, 0, 0, 0, 0, 0, 0, 0, 0, 0, 0, 0, 0, 0, 0, 0, 0, 0, 0, 0, 0, 0, 0, 0, 0, 0, 0, 0, 0, 0, 0, 0, 0, 0, 0, 0, 0, 0, 0, 0, 0, 0, 0, 0, 0, 0, 0, 0, 0, 0, 0, 0, 0]"
   ]
  },
  {
   "cell_type": "code",
   "execution_count": null,
   "id": "7bd74614-6b5c-4abf-8c07-27dc01400c6e",
   "metadata": {},
   "outputs": [],
   "source": [
    "self.assertListEqual(gperm, expected)"
   ]
  },
  {
   "cell_type": "code",
   "execution_count": null,
   "id": "ef2bc322-e566-454e-89eb-08892c17c9b3",
   "metadata": {
    "jupyter": {
     "source_hidden": true
    }
   },
   "outputs": [],
   "source": [
    "expected = [0, 0, 0, 0, 2, 7, 22, 57, 140, 352, 160, 160, 160, 160, 160, 160, 160, 160, 160, 160, 160, 160, 160, 0, 0, 0, 0, 0, 0, 0, 0, 0, 0, 0, 0, 0, 0, 0, 0, 0, 0, 0, 0, 0, 0, 0, 0, 0, 0, 0, 0, 0, 0, 0, 0, 0, 0, 0, 0, 0, 0, 0, 0, 0, 0, 0, 0, 0, 0, 0, 0, 0, 0, 0, 0, 0, 0, 0, 0, 0, 0, 0, 0, 0, 0, 0, 0, 0, 0, 0, 0, 0, 0, 0, 0, 0, 0, 0, 0, 0, 0, 0, 0, 0, 0, 0, 0, 0, 0, 0, 0, 0, 0, 0, 0, 0, 0, 0, 0, 0, 0, 0, 0, 0, 0, 0, 0, 0, 0, 0, 0, 0, 0, 0, 0, 0, 0, 0, 0, 0, 0, 0, 0, 0, 0, 0, 0, 0, 0, 0, 0, 0, 0, 0, 0, 0, 0, 0, 0, 0, 0, 0, 0, 0, 0, 0, 0, 0, 0, 0, 0, 0, 0, 0, 0, 0, 0, 0, 0, 0, 0, 0, 0, 0, 0, 0, 0, 0, 0, 0, 0, 0, 0, 0, 0, 0, 0, 0, 0, 0, 0, 0, 0, 0, 0, 0, 0, 0, 0, 0, 0, 0, 0, 0, 0, 0, 0, 0, 0, 0, 0, 0, 0, 0, 0, 0, 0, 0, 0, 0, 0, 0, 0, 0, 0, 0, 0, 0, 0, 0, 0, 0, 0, 0, 0, 0, 0, 0, 0, 0, 0, 0, 0, 0, 0, 0, 0, 0]"
   ]
  },
  {
   "cell_type": "code",
   "execution_count": null,
   "id": "9f868001-bb84-44e2-a2d9-f38b1ea9dce3",
   "metadata": {},
   "outputs": [],
   "source": [
    "self.assertListEqual(gbase, expected)"
   ]
  },
  {
   "cell_type": "code",
   "execution_count": null,
   "id": "53b0791b-5971-43ac-abe0-33a1c3b803ab",
   "metadata": {},
   "outputs": [],
   "source": [
    "self.assertEqual(grouppos, 49)"
   ]
  },
  {
   "cell_type": "code",
   "execution_count": null,
   "id": "cd428d2d-1509-4eaa-8f4c-d37a3854c764",
   "metadata": {},
   "outputs": [],
   "source": [
    "self.assertEqual(zn, 3)"
   ]
  },
  {
   "cell_type": "code",
   "execution_count": null,
   "id": "abe133e6-c48b-4933-8abf-10cd6ad62adc",
   "metadata": {},
   "outputs": [],
   "source": [
    "zvec = bzd._get_bits(zn, 'BZ_X_MTF_1')"
   ]
  },
  {
   "cell_type": "code",
   "execution_count": null,
   "id": "fe9be251-10e7-46a4-aa50-2c19316a16e1",
   "metadata": {},
   "outputs": [],
   "source": [
    "self.assertEqual(zvec, 4)"
   ]
  },
  {
   "cell_type": "code",
   "execution_count": null,
   "id": "8f5fffc6-3adb-419c-a3e8-58ed2f9df60e",
   "metadata": {},
   "outputs": [],
   "source": [
    "while True:\n",
    "    if zn > 20:\n",
    "        raise RuntimeError('BZ_DATA_ERROR: Value zv too large')\n",
    "    if zvec <= glimit[zn]:\n",
    "        break\n",
    "    zn += 1\n",
    "    zj = bzd._get_bits(1, 'BZ_X_MTF_2')\n",
    "    zvec = (zvec << 1) | zj"
   ]
  },
  {
   "cell_type": "code",
   "execution_count": null,
   "id": "630a1840-e23b-499a-b2f1-524277ab0281",
   "metadata": {},
   "outputs": [],
   "source": [
    "self.assertEqual(zn, 6)"
   ]
  },
  {
   "cell_type": "code",
   "execution_count": null,
   "id": "6786e460-9a9d-4647-ae11-382a8197617e",
   "metadata": {},
   "outputs": [],
   "source": [
    "self.assertEqual(zj, 0)"
   ]
  },
  {
   "cell_type": "code",
   "execution_count": null,
   "id": "b730f197-5ef2-4766-a8f7-7633e8d1ea79",
   "metadata": {},
   "outputs": [],
   "source": [
    "self.assertEqual(zvec, 34)"
   ]
  },
  {
   "cell_type": "code",
   "execution_count": null,
   "id": "cae76486-bf10-4024-8c7f-4c79870c8543",
   "metadata": {},
   "outputs": [],
   "source": [
    "if zvec - gbase[zn] < 0 or zvec - gbase[zn] >= BZ_MAX_ALPHA_SIZE:\n",
    "    raise RuntimeError('BZ_DATA_ERROR: Value zvec outside of acceptable range')"
   ]
  },
  {
   "cell_type": "code",
   "execution_count": null,
   "id": "003c1ea0-592c-447d-b11d-75db997217ea",
   "metadata": {},
   "outputs": [],
   "source": [
    "nextsym = gperm[zvec - gbase[zn]]"
   ]
  },
  {
   "cell_type": "code",
   "execution_count": null,
   "id": "90e4176f-78aa-4c46-aecc-178e324bd4f4",
   "metadata": {},
   "outputs": [],
   "source": [
    "self.assertEqual(nextsym, 157)"
   ]
  },
  {
   "cell_type": "code",
   "execution_count": null,
   "id": "3200e14e-30a9-4c78-bcac-7883341bc441",
   "metadata": {},
   "outputs": [],
   "source": [
    "# Fourth"
   ]
  },
  {
   "cell_type": "code",
   "execution_count": null,
   "id": "7bd59840-2609-4d20-bb19-425b8d08a5fb",
   "metadata": {},
   "outputs": [],
   "source": [
    "if nblock >= nblockmax:\n",
    "    raise RuntimeError('BZ_DATA_ERROR: Value nblock higher than maximum')"
   ]
  },
  {
   "cell_type": "code",
   "execution_count": null,
   "id": "2ce252f9-6acd-422a-933f-46722b5d6194",
   "metadata": {},
   "outputs": [],
   "source": [
    "pp = 0\n",
    "nn = nextsym - 1"
   ]
  },
  {
   "cell_type": "code",
   "execution_count": null,
   "id": "7c0e5469-97a9-4c01-8815-473c3e5e9c0b",
   "metadata": {},
   "outputs": [],
   "source": [
    "self.assertEqual(nn, 156)"
   ]
  },
  {
   "cell_type": "code",
   "execution_count": null,
   "id": "f88124b3-2a80-45e8-af26-1028ff12c37b",
   "metadata": {},
   "outputs": [],
   "source": [
    "# Sixth"
   ]
  },
  {
   "cell_type": "code",
   "execution_count": null,
   "id": "71db8895-3e41-4b33-968f-4c90fd5df60d",
   "metadata": {},
   "outputs": [],
   "source": [
    "lno = int(nn / MTFL_SIZE)"
   ]
  },
  {
   "cell_type": "code",
   "execution_count": null,
   "id": "444c1d4e-e370-4265-91ad-e649a09967ec",
   "metadata": {},
   "outputs": [],
   "source": [
    "self.assertEqual(lno, 9)"
   ]
  },
  {
   "cell_type": "code",
   "execution_count": null,
   "id": "2eb6b68b-de09-48fb-800c-701dd1889c43",
   "metadata": {},
   "outputs": [],
   "source": [
    "off = nn % MTFL_SIZE"
   ]
  },
  {
   "cell_type": "code",
   "execution_count": null,
   "id": "ba14ae76-aaea-44fc-9741-2d421283ae65",
   "metadata": {},
   "outputs": [],
   "source": [
    "self.assertEqual(off, 12)"
   ]
  },
  {
   "cell_type": "code",
   "execution_count": null,
   "id": "75eb78ff-9429-42d0-88c3-f9632ca26f34",
   "metadata": {},
   "outputs": [],
   "source": [
    "pp = bzd.mtfbase[lno] + off"
   ]
  },
  {
   "cell_type": "code",
   "execution_count": null,
   "id": "7bbb5f7a-fb98-41ac-b038-cc37db031c2f",
   "metadata": {},
   "outputs": [],
   "source": [
    "self.assertEqual(pp, 3996)"
   ]
  },
  {
   "cell_type": "code",
   "execution_count": null,
   "id": "547ba5cf-9e31-4987-bb53-036d44d9c730",
   "metadata": {},
   "outputs": [],
   "source": [
    "uc = bzd.mtfa[pp]"
   ]
  },
  {
   "cell_type": "code",
   "execution_count": null,
   "id": "f4bb56e6-3f8b-44c4-9302-34632e447b96",
   "metadata": {},
   "outputs": [],
   "source": [
    "self.assertEqual(uc, 156)"
   ]
  },
  {
   "cell_type": "code",
   "execution_count": null,
   "id": "c690cf8f-a644-421f-9f11-c1db39a53da9",
   "metadata": {},
   "outputs": [],
   "source": [
    "while pp > bzd.mtfbase[lno]:\n",
    "    bzd.mtfa[pp] = bzd.mtfa[pp - 1]\n",
    "    pp -= 1"
   ]
  },
  {
   "cell_type": "code",
   "execution_count": null,
   "id": "6862f510-af2b-43cc-bd78-cb6ab3ec2666",
   "metadata": {
    "jupyter": {
     "source_hidden": true
    }
   },
   "outputs": [],
   "source": [
    "expected = [0, 0, 0, 0, 0, 0, 0, 0, 0, 0, 0, 0, 0, 0, 0, 0, 0, 0, 0, 0, 0, 0, 0, 0, 0, 0, 0, 0, 0, 0, 0, 0, 0, 0, 0, 0, 0, 0, 0, 0, 0, 0, 0, 0, 0, 0, 0, 0, 0, 0, 0, 0, 0, 0, 0, 0, 0, 0, 0, 0, 0, 0, 0, 0, 0, 0, 0, 0, 0, 0, 0, 0, 0, 0, 0, 0, 0, 0, 0, 0, 0, 0, 0, 0, 0, 0, 0, 0, 0, 0, 0, 0, 0, 0, 0, 0, 0, 0, 0, 0, 0, 0, 0, 0, 0, 0, 0, 0, 0, 0, 0, 0, 0, 0, 0, 0, 0, 0, 0, 0, 0, 0, 0, 0, 0, 0, 0, 0, 0, 0, 0, 0, 0, 0, 0, 0, 0, 0, 0, 0, 0, 0, 0, 0, 0, 0, 0, 0, 0, 0, 0, 0, 0, 0, 0, 0, 0, 0, 0, 0, 0, 0, 0, 0, 0, 0, 0, 0, 0, 0, 0, 0, 0, 0, 0, 0, 0, 0, 0, 0, 0, 0, 0, 0, 0, 0, 0, 0, 0, 0, 0, 0, 0, 0, 0, 0, 0, 0, 0, 0, 0, 0, 0, 0, 0, 0, 0, 0, 0, 0, 0, 0, 0, 0, 0, 0, 0, 0, 0, 0, 0, 0, 0, 0, 0, 0, 0, 0, 0, 0, 0, 0, 0, 0, 0, 0, 0, 0, 0, 0, 0, 0, 0, 0, 0, 0, 0, 0, 0, 0, 0, 0, 0, 0, 0, 0, 0, 0, 0, 0, 0, 0, 0, 0, 0, 0, 0, 0, 0, 0, 0, 0, 0, 0, 0, 0, 0, 0, 0, 0, 0, 0, 0, 0, 0, 0, 0, 0, 0, 0, 0, 0, 0, 0, 0, 0, 0, 0, 0, 0, 0, 0, 0, 0, 0, 0, 0, 0, 0, 0, 0, 0, 0, 0, 0, 0, 0, 0, 0, 0, 0, 0, 0, 0, 0, 0, 0, 0, 0, 0, 0, 0, 0, 0, 0, 0, 0, 0, 0, 0, 0, 0, 0, 0, 0, 0, 0, 0, 0, 0, 0, 0, 0, 0, 0, 0, 0, 0, 0, 0, 0, 0, 0, 0, 0, 0, 0, 0, 0, 0, 0, 0, 0, 0, 0, 0, 0, 0, 0, 0, 0, 0, 0, 0, 0, 0, 0, 0, 0, 0, 0, 0, 0, 0, 0, 0, 0, 0, 0, 0, 0, 0, 0, 0, 0, 0, 0, 0, 0, 0, 0, 0, 0, 0, 0, 0, 0, 0, 0, 0, 0, 0, 0, 0, 0, 0, 0, 0, 0, 0, 0, 0, 0, 0, 0, 0, 0, 0, 0, 0, 0, 0, 0, 0, 0, 0, 0, 0, 0, 0, 0, 0, 0, 0, 0, 0, 0, 0, 0, 0, 0, 0, 0, 0, 0, 0, 0, 0, 0, 0, 0, 0, 0, 0, 0, 0, 0, 0, 0, 0, 0, 0, 0, 0, 0, 0, 0, 0, 0, 0, 0, 0, 0, 0, 0, 0, 0, 0, 0, 0, 0, 0, 0, 0, 0, 0, 0, 0, 0, 0, 0, 0, 0, 0, 0, 0, 0, 0, 0, 0, 0, 0, 0, 0, 0, 0, 0, 0, 0, 0, 0, 0, 0, 0, 0, 0, 0, 0, 0, 0, 0, 0, 0, 0, 0, 0, 0, 0, 0, 0, 0, 0, 0, 0, 0, 0, 0, 0, 0, 0, 0, 0, 0, 0, 0, 0, 0, 0, 0, 0, 0, 0, 0, 0, 0, 0, 0, 0, 0, 0, 0, 0, 0, 0, 0, 0, 0, 0, 0, 0, 0, 0, 0, 0, 0, 0, 0, 0, 0, 0, 0, 0, 0, 0, 0, 0, 0, 0, 0, 0, 0, 0, 0, 0, 0, 0, 0, 0, 0, 0, 0, 0, 0, 0, 0, 0, 0, 0, 0, 0, 0, 0, 0, 0, 0, 0, 0, 0, 0, 0, 0, 0, 0, 0, 0, 0, 0, 0, 0, 0, 0, 0, 0, 0, 0, 0, 0, 0, 0, 0, 0, 0, 0, 0, 0, 0, 0, 0, 0, 0, 0, 0, 0, 0, 0, 0, 0, 0, 0, 0, 0, 0, 0, 0, 0, 0, 0, 0, 0, 0, 0, 0, 0, 0, 0, 0, 0, 0, 0, 0, 0, 0, 0, 0, 0, 0, 0, 0, 0, 0, 0, 0, 0, 0, 0, 0, 0, 0, 0, 0, 0, 0, 0, 0, 0, 0, 0, 0, 0, 0, 0, 0, 0, 0, 0, 0, 0, 0, 0, 0, 0, 0, 0, 0, 0, 0, 0, 0, 0, 0, 0, 0, 0, 0, 0, 0, 0, 0, 0, 0, 0, 0, 0, 0, 0, 0, 0, 0, 0, 0, 0, 0, 0, 0, 0, 0, 0, 0, 0, 0, 0, 0, 0, 0, 0, 0, 0, 0, 0, 0, 0, 0, 0, 0, 0, 0, 0, 0, 0, 0, 0, 0, 0, 0, 0, 0, 0, 0, 0, 0, 0, 0, 0, 0, 0, 0, 0, 0, 0, 0, 0, 0, 0, 0, 0, 0, 0, 0, 0, 0, 0, 0, 0, 0, 0, 0, 0, 0, 0, 0, 0, 0, 0, 0, 0, 0, 0, 0, 0, 0, 0, 0, 0, 0, 0, 0, 0, 0, 0, 0, 0, 0, 0, 0, 0, 0, 0, 0, 0, 0, 0, 0, 0, 0, 0, 0, 0, 0, 0, 0, 0, 0, 0, 0, 0, 0, 0, 0, 0, 0, 0, 0, 0, 0, 0, 0, 0, 0, 0, 0, 0, 0, 0, 0, 0, 0, 0, 0, 0, 0, 0, 0, 0, 0, 0, 0, 0, 0, 0, 0, 0, 0, 0, 0, 0, 0, 0, 0, 0, 0, 0, 0, 0, 0, 0, 0, 0, 0, 0, 0, 0, 0, 0, 0, 0, 0, 0, 0, 0, 0, 0, 0, 0, 0, 0, 0, 0, 0, 0, 0, 0, 0, 0, 0, 0, 0, 0, 0, 0, 0, 0, 0, 0, 0, 0, 0, 0, 0, 0, 0, 0, 0, 0, 0, 0, 0, 0, 0, 0, 0, 0, 0, 0, 0, 0, 0, 0, 0, 0, 0, 0, 0, 0, 0, 0, 0, 0, 0, 0, 0, 0, 0, 0, 0, 0, 0, 0, 0, 0, 0, 0, 0, 0, 0, 0, 0, 0, 0, 0, 0, 0, 0, 0, 0, 0, 0, 0, 0, 0, 0, 0, 0, 0, 0, 0, 0, 0, 0, 0, 0, 0, 0, 0, 0, 0, 0, 0, 0, 0, 0, 0, 0, 0, 0, 0, 0, 0, 0, 0, 0, 0, 0, 0, 0, 0, 0, 0, 0, 0, 0, 0, 0, 0, 0, 0, 0, 0, 0, 0, 0, 0, 0, 0, 0, 0, 0, 0, 0, 0, 0, 0, 0, 0, 0, 0, 0, 0, 0, 0, 0, 0, 0, 0, 0, 0, 0, 0, 0, 0, 0, 0, 0, 0, 0, 0, 0, 0, 0, 0, 0, 0, 0, 0, 0, 0, 0, 0, 0, 0, 0, 0, 0, 0, 0, 0, 0, 0, 0, 0, 0, 0, 0, 0, 0, 0, 0, 0, 0, 0, 0, 0, 0, 0, 0, 0, 0, 0, 0, 0, 0, 0, 0, 0, 0, 0, 0, 0, 0, 0, 0, 0, 0, 0, 0, 0, 0, 0, 0, 0, 0, 0, 0, 0, 0, 0, 0, 0, 0, 0, 0, 0, 0, 0, 0, 0, 0, 0, 0, 0, 0, 0, 0, 0, 0, 0, 0, 0, 0, 0, 0, 0, 0, 0, 0, 0, 0, 0, 0, 0, 0, 0, 0, 0, 0, 0, 0, 0, 0, 0, 0, 0, 0, 0, 0, 0, 0, 0, 0, 0, 0, 0, 0, 0, 0, 0, 0, 0, 0, 0, 0, 0, 0, 0, 0, 0, 0, 0, 0, 0, 0, 0, 0, 0, 0, 0, 0, 0, 0, 0, 0, 0, 0, 0, 0, 0, 0, 0, 0, 0, 0, 0, 0, 0, 0, 0, 0, 0, 0, 0, 0, 0, 0, 0, 0, 0, 0, 0, 0, 0, 0, 0, 0, 0, 0, 0, 0, 0, 0, 0, 0, 0, 0, 0, 0, 0, 0, 0, 0, 0, 0, 0, 0, 0, 0, 0, 0, 0, 0, 0, 0, 0, 0, 0, 0, 0, 0, 0, 0, 0, 0, 0, 0, 0, 0, 0, 0, 0, 0, 0, 0, 0, 0, 0, 0, 0, 0, 0, 0, 0, 0, 0, 0, 0, 0, 0, 0, 0, 0, 0, 0, 0, 0, 0, 0, 0, 0, 0, 0, 0, 0, 0, 0, 0, 0, 0, 0, 0, 0, 0, 0, 0, 0, 0, 0, 0, 0, 0, 0, 0, 0, 0, 0, 0, 0, 0, 0, 0, 0, 0, 0, 0, 0, 0, 0, 0, 0, 0, 0, 0, 0, 0, 0, 0, 0, 0, 0, 0, 0, 0, 0, 0, 0, 0, 0, 0, 0, 0, 0, 0, 0, 0, 0, 0, 0, 0, 0, 0, 0, 0, 0, 0, 0, 0, 0, 0, 0, 0, 0, 0, 0, 0, 0, 0, 0, 0, 0, 0, 0, 0, 0, 0, 0, 0, 0, 0, 0, 0, 0, 0, 0, 0, 0, 0, 0, 0, 0, 0, 0, 0, 0, 0, 0, 0, 0, 0, 0, 0, 0, 0, 0, 0, 0, 0, 0, 0, 0, 0, 0, 0, 0, 0, 0, 0, 0, 0, 0, 0, 0, 0, 0, 0, 0, 0, 0, 0, 0, 0, 0, 0, 0, 0, 0, 0, 0, 0, 0, 0, 0, 0, 0, 0, 0, 0, 0, 0, 0, 0, 0, 0, 0, 0, 0, 0, 0, 0, 0, 0, 0, 0, 0, 0, 0, 0, 0, 0, 0, 0, 0, 0, 0, 0, 0, 0, 0, 0, 0, 0, 0, 0, 0, 0, 0, 0, 0, 0, 0, 0, 0, 0, 0, 0, 0, 0, 0, 0, 0, 0, 0, 0, 0, 0, 0, 0, 0, 0, 0, 0, 0, 0, 0, 0, 0, 0, 0, 0, 0, 0, 0, 0, 0, 0, 0, 0, 0, 0, 0, 0, 0, 0, 0, 0, 0, 0, 0, 0, 0, 0, 0, 0, 0, 0, 0, 0, 0, 0, 0, 0, 0, 0, 0, 0, 0, 0, 0, 0, 0, 0, 0, 0, 0, 0, 0, 0, 0, 0, 0, 0, 0, 0, 0, 0, 0, 0, 0, 0, 0, 0, 0, 0, 0, 0, 0, 0, 0, 0, 0, 0, 0, 0, 0, 0, 0, 0, 0, 0, 0, 0, 0, 0, 0, 0, 0, 0, 0, 0, 0, 0, 0, 0, 0, 0, 0, 0, 0, 0, 0, 0, 0, 0, 0, 0, 0, 0, 0, 0, 0, 0, 0, 0, 0, 0, 0, 0, 0, 0, 0, 0, 0, 0, 0, 0, 0, 0, 0, 0, 0, 0, 0, 0, 0, 0, 0, 0, 0, 0, 0, 0, 0, 0, 0, 0, 0, 0, 0, 0, 0, 0, 0, 0, 0, 0, 0, 0, 0, 0, 0, 0, 0, 0, 0, 0, 0, 0, 0, 0, 0, 0, 0, 0, 0, 0, 0, 0, 0, 0, 0, 0, 0, 0, 0, 0, 0, 0, 0, 0, 0, 0, 0, 0, 0, 0, 0, 0, 0, 0, 0, 0, 0, 0, 0, 0, 0, 0, 0, 0, 0, 0, 0, 0, 0, 0, 0, 0, 0, 0, 0, 0, 0, 0, 0, 0, 0, 0, 0, 0, 0, 0, 0, 0, 0, 0, 0, 0, 0, 0, 0, 0, 0, 0, 0, 0, 0, 0, 0, 0, 0, 0, 0, 0, 0, 0, 0, 0, 0, 0, 0, 0, 0, 0, 0, 0, 0, 0, 0, 0, 0, 0, 0, 0, 0, 0, 0, 0, 0, 0, 0, 0, 0, 0, 0, 0, 0, 0, 0, 0, 0, 0, 0, 0, 0, 0, 0, 0, 0, 0, 0, 0, 0, 0, 0, 0, 0, 0, 0, 0, 0, 0, 0, 0, 0, 0, 0, 0, 0, 0, 0, 0, 0, 0, 0, 0, 0, 0, 0, 0, 0, 0, 0, 0, 0, 0, 0, 0, 0, 0, 0, 0, 0, 0, 0, 0, 0, 0, 0, 0, 0, 0, 0, 0, 0, 0, 0, 0, 0, 0, 0, 0, 0, 0, 0, 0, 0, 0, 0, 0, 0, 0, 0, 0, 0, 0, 0, 0, 0, 0, 0, 0, 0, 0, 0, 0, 0, 0, 0, 0, 0, 0, 0, 0, 0, 0, 0, 0, 0, 0, 0, 0, 0, 0, 0, 0, 0, 0, 0, 0, 0, 0, 0, 0, 0, 0, 0, 0, 0, 0, 0, 0, 0, 0, 0, 0, 0, 0, 0, 0, 0, 0, 0, 0, 0, 0, 0, 0, 0, 0, 0, 0, 0, 0, 0, 0, 0, 0, 0, 0, 0, 0, 0, 0, 0, 0, 0, 0, 0, 0, 0, 0, 0, 0, 0, 0, 0, 0, 0, 0, 0, 0, 0, 0, 0, 0, 0, 0, 0, 0, 0, 0, 0, 0, 0, 0, 0, 0, 0, 0, 0, 0, 0, 0, 0, 0, 0, 0, 0, 0, 0, 0, 0, 0, 0, 0, 0, 0, 0, 0, 0, 0, 0, 0, 0, 0, 0, 0, 0, 0, 0, 0, 0, 0, 0, 0, 0, 0, 0, 0, 0, 0, 0, 0, 0, 0, 0, 0, 0, 0, 0, 0, 0, 0, 0, 0, 0, 0, 0, 0, 0, 0, 0, 0, 0, 0, 0, 0, 0, 0, 0, 0, 0, 0, 0, 0, 0, 0, 0, 0, 0, 0, 0, 0, 0, 0, 0, 0, 0, 0, 0, 0, 0, 0, 0, 0, 0, 0, 0, 0, 0, 0, 0, 0, 0, 0, 0, 0, 0, 0, 0, 0, 0, 0, 0, 0, 0, 0, 0, 0, 0, 0, 0, 0, 0, 0, 0, 0, 0, 0, 0, 0, 0, 0, 0, 0, 0, 0, 0, 0, 0, 0, 0, 0, 0, 0, 0, 0, 0, 0, 0, 0, 0, 0, 0, 0, 0, 0, 0, 0, 0, 0, 0, 0, 0, 0, 0, 0, 0, 0, 0, 0, 0, 0, 0, 0, 0, 0, 0, 0, 0, 0, 0, 0, 0, 0, 0, 0, 0, 0, 0, 0, 0, 0, 0, 0, 0, 0, 0, 0, 0, 0, 0, 0, 0, 0, 0, 0, 0, 0, 0, 0, 0, 0, 0, 0, 0, 0, 0, 0, 0, 0, 0, 0, 0, 0, 0, 0, 0, 0, 0, 0, 0, 0, 0, 0, 0, 0, 0, 0, 0, 0, 0, 0, 0, 0, 0, 0, 0, 0, 0, 0, 0, 0, 0, 0, 0, 0, 0, 0, 0, 0, 0, 0, 0, 0, 0, 0, 0, 0, 0, 0, 0, 0, 0, 0, 0, 0, 0, 0, 0, 0, 0, 0, 0, 0, 0, 0, 0, 0, 0, 0, 0, 0, 0, 0, 0, 0, 0, 0, 0, 0, 0, 0, 0, 0, 0, 0, 0, 0, 0, 0, 0, 0, 0, 0, 0, 0, 0, 0, 0, 0, 0, 0, 0, 0, 0, 0, 0, 0, 0, 0, 0, 0, 0, 0, 0, 0, 0, 0, 0, 0, 0, 0, 0, 0, 0, 0, 0, 0, 0, 0, 0, 0, 0, 0, 0, 0, 0, 0, 0, 0, 0, 0, 0, 0, 0, 0, 0, 0, 0, 0, 0, 0, 0, 0, 0, 0, 0, 0, 0, 0, 0, 0, 0, 0, 0, 0, 0, 0, 0, 0, 0, 0, 0, 0, 0, 0, 0, 0, 0, 0, 0, 0, 0, 0, 0, 0, 0, 0, 0, 0, 0, 0, 0, 0, 0, 0, 0, 0, 0, 0, 0, 0, 0, 0, 0, 0, 0, 0, 0, 0, 0, 0, 0, 0, 0, 0, 0, 0, 0, 0, 0, 0, 0, 0, 0, 0, 0, 0, 0, 0, 0, 0, 0, 0, 0, 0, 0, 0, 0, 0, 0, 0, 0, 0, 0, 0, 0, 0, 0, 0, 0, 0, 0, 0, 0, 0, 0, 0, 0, 0, 0, 0, 0, 0, 0, 0, 0, 0, 0, 0, 0, 0, 0, 0, 0, 0, 0, 0, 0, 0, 0, 0, 0, 0, 0, 0, 0, 0, 0, 0, 0, 0, 0, 0, 0, 0, 0, 0, 0, 0, 0, 0, 0, 0, 0, 0, 0, 0, 0, 0, 0, 0, 0, 0, 0, 0, 0, 0, 0, 0, 0, 0, 0, 0, 0, 0, 0, 0, 0, 0, 0, 0, 0, 0, 0, 0, 0, 0, 0, 0, 0, 0, 0, 0, 0, 0, 0, 0, 0, 0, 0, 0, 0, 0, 0, 0, 0, 0, 0, 0, 0, 0, 0, 0, 0, 0, 0, 0, 0, 0, 0, 0, 0, 0, 0, 0, 0, 0, 0, 0, 0, 0, 0, 0, 0, 0, 0, 0, 0, 0, 0, 0, 0, 0, 0, 0, 0, 0, 0, 0, 0, 0, 0, 0, 0, 0, 0, 0, 0, 0, 0, 0, 0, 0, 0, 0, 0, 0, 0, 0, 0, 0, 0, 0, 0, 0, 0, 0, 0, 0, 0, 0, 0, 0, 0, 0, 0, 0, 0, 0, 0, 0, 0, 0, 0, 0, 0, 0, 0, 0, 0, 0, 0, 0, 0, 0, 0, 0, 0, 0, 0, 0, 0, 0, 0, 0, 0, 0, 0, 0, 0, 0, 0, 0, 0, 0, 0, 0, 0, 0, 0, 0, 0, 0, 0, 0, 0, 0, 0, 0, 0, 0, 0, 0, 0, 0, 0, 0, 0, 0, 0, 0, 0, 0, 0, 0, 0, 0, 0, 0, 0, 0, 0, 0, 0, 0, 0, 0, 0, 0, 0, 0, 0, 0, 0, 0, 0, 0, 0, 0, 0, 0, 0, 0, 0, 0, 0, 0, 0, 0, 0, 0, 0, 0, 0, 0, 0, 0, 0, 0, 0, 0, 0, 0, 0, 0, 0, 0, 0, 0, 0, 0, 0, 0, 0, 0, 0, 0, 0, 0, 0, 0, 0, 0, 0, 0, 0, 0, 0, 0, 0, 0, 0, 0, 0, 0, 0, 0, 0, 0, 0, 0, 0, 0, 0, 0, 0, 0, 0, 0, 0, 0, 0, 0, 0, 0, 0, 0, 0, 0, 0, 0, 0, 0, 0, 0, 0, 0, 0, 0, 0, 0, 0, 0, 0, 0, 0, 0, 0, 0, 0, 0, 0, 0, 0, 0, 0, 0, 0, 0, 0, 0, 0, 0, 0, 0, 0, 0, 0, 0, 0, 0, 0, 0, 0, 0, 0, 0, 0, 0, 0, 0, 0, 0, 0, 0, 0, 0, 0, 0, 0, 0, 0, 0, 0, 0, 0, 0, 0, 0, 0, 0, 0, 0, 0, 0, 0, 0, 0, 0, 0, 0, 0, 0, 0, 0, 0, 0, 0, 0, 0, 0, 0, 0, 0, 0, 0, 0, 0, 0, 0, 0, 0, 0, 0, 0, 0, 0, 0, 0, 0, 0, 0, 0, 0, 0, 0, 0, 0, 0, 0, 0, 0, 0, 0, 0, 0, 0, 0, 0, 0, 0, 0, 0, 0, 0, 0, 0, 0, 0, 0, 0, 0, 0, 0, 0, 0, 0, 0, 0, 0, 0, 0, 0, 0, 0, 0, 0, 0, 0, 0, 0, 0, 0, 0, 0, 0, 0, 0, 0, 0, 0, 0, 0, 0, 0, 0, 0, 0, 0, 0, 0, 0, 0, 0, 0, 0, 0, 0, 0, 0, 0, 0, 0, 0, 0, 0, 0, 0, 0, 0, 0, 0, 0, 0, 0, 0, 0, 0, 0, 0, 0, 0, 0, 0, 0, 0, 0, 0, 0, 0, 0, 0, 0, 0, 0, 0, 0, 0, 0, 0, 0, 0, 0, 0, 0, 0, 0, 0, 0, 0, 0, 0, 0, 0, 0, 0, 0, 0, 0, 0, 0, 0, 0, 0, 0, 0, 0, 0, 0, 0, 0, 0, 0, 0, 0, 0, 0, 0, 0, 0, 0, 0, 0, 0, 0, 0, 0, 0, 0, 0, 0, 0, 0, 0, 0, 0, 0, 0, 0, 0, 0, 0, 0, 0, 0, 0, 0, 0, 0, 0, 0, 0, 0, 0, 0, 0, 0, 0, 0, 0, 0, 0, 0, 0, 0, 0, 0, 0, 0, 0, 0, 0, 0, 0, 0, 0, 0, 0, 0, 0, 0, 0, 0, 0, 0, 0, 0, 0, 0, 0, 0, 0, 0, 0, 0, 0, 0, 0, 0, 0, 0, 0, 0, 0, 0, 0, 0, 0, 0, 0, 0, 0, 0, 0, 0, 0, 0, 0, 0, 0, 0, 0, 0, 0, 0, 0, 0, 0, 0, 0, 0, 0, 0, 0, 0, 0, 0, 0, 0, 0, 0, 0, 0, 0, 0, 0, 0, 0, 0, 0, 0, 0, 0, 0, 0, 0, 0, 0, 0, 0, 0, 0, 0, 0, 0, 0, 0, 0, 0, 0, 0, 0, 0, 0, 0, 0, 0, 0, 0, 0, 0, 0, 0, 0, 0, 0, 0, 0, 0, 0, 0, 0, 0, 0, 0, 0, 0, 0, 0, 0, 0, 0, 0, 0, 0, 0, 0, 0, 0, 0, 0, 0, 0, 0, 0, 0, 0, 0, 0, 0, 0, 0, 0, 0, 0, 0, 0, 0, 0, 0, 0, 0, 0, 0, 0, 0, 0, 0, 0, 0, 0, 0, 0, 0, 0, 0, 0, 0, 0, 0, 0, 0, 0, 0, 0, 0, 0, 0, 0, 0, 0, 0, 0, 0, 0, 0, 0, 0, 0, 0, 0, 0, 0, 0, 0, 0, 0, 0, 0, 0, 0, 0, 0, 0, 0, 0, 0, 0, 0, 0, 0, 0, 0, 0, 0, 0, 0, 0, 0, 0, 0, 0, 0, 0, 0, 0, 0, 0, 0, 0, 0, 0, 0, 0, 0, 0, 0, 0, 0, 0, 0, 0, 0, 0, 0, 0, 0, 0, 0, 0, 0, 0, 0, 0, 0, 0, 0, 0, 0, 0, 0, 0, 0, 0, 0, 0, 0, 0, 0, 0, 0, 0, 0, 0, 0, 0, 0, 0, 0, 0, 0, 0, 0, 0, 0, 0, 0, 0, 0, 0, 0, 0, 0, 0, 0, 0, 0, 0, 0, 0, 0, 0, 0, 0, 0, 0, 0, 0, 0, 0, 0, 0, 0, 0, 0, 0, 0, 0, 0, 0, 0, 0, 0, 0, 0, 0, 0, 0, 0, 0, 0, 0, 0, 0, 0, 0, 0, 0, 0, 0, 0, 0, 0, 0, 0, 0, 0, 0, 0, 0, 0, 0, 0, 0, 0, 0, 0, 0, 0, 0, 0, 0, 0, 0, 0, 0, 0, 0, 0, 0, 0, 0, 0, 0, 0, 0, 0, 0, 0, 0, 0, 0, 0, 0, 0, 0, 0, 0, 0, 0, 0, 0, 0, 0, 0, 0, 0, 0, 0, 0, 0, 0, 0, 0, 0, 0, 0, 0, 0, 0, 0, 0, 0, 0, 0, 0, 0, 0, 0, 0, 0, 0, 0, 0, 0, 0, 0, 0, 0, 0, 0, 0, 0, 0, 0, 0, 0, 0, 0, 0, 0, 0, 0, 0, 0, 0, 0, 0, 0, 0, 0, 0, 0, 0, 0, 0, 0, 0, 0, 0, 0, 0, 0, 0, 0, 0, 0, 0, 0, 0, 0, 0, 0, 0, 0, 0, 0, 0, 0, 0, 0, 0, 0, 0, 0, 0, 0, 0, 0, 0, 0, 0, 0, 0, 0, 0, 0, 0, 0, 0, 0, 0, 0, 0, 0, 0, 0, 0, 0, 0, 0, 0, 0, 0, 0, 0, 0, 0, 0, 0, 0, 0, 0, 0, 0, 0, 0, 0, 0, 0, 0, 0, 0, 0, 0, 0, 0, 0, 0, 0, 0, 0, 0, 0, 0, 0, 0, 0, 0, 0, 0, 0, 0, 0, 0, 0, 0, 0, 0, 0, 0, 0, 0, 1, 2, 3, 4, 5, 6, 7, 8, 9, 10, 11, 12, 13, 14, 15, 16, 17, 18, 19, 20, 21, 22, 23, 24, 25, 26, 27, 28, 29, 30, 31, 32, 33, 34, 35, 36, 37, 38, 39, 40, 41, 42, 43, 44, 45, 46, 47, 48, 49, 50, 51, 52, 53, 54, 55, 56, 57, 58, 59, 60, 61, 62, 63, 64, 65, 66, 67, 68, 69, 70, 71, 72, 73, 74, 75, 76, 77, 78, 79, 80, 81, 82, 83, 84, 85, 86, 87, 88, 89, 90, 91, 92, 93, 94, 95, 96, 97, 98, 99, 100, 101, 102, 103, 104, 105, 106, 107, 108, 109, 110, 111, 112, 113, 114, 115, 116, 117, 118, 119, 120, 121, 122, 123, 124, 125, 126, 127, 128, 129, 130, 131, 132, 133, 134, 135, 136, 137, 138, 139, 140, 141, 142, 143, 144, 144, 145, 146, 147, 148, 149, 150, 151, 152, 153, 154, 155, 157, 158, 159, 160, 161, 162, 163, 164, 165, 166, 167, 168, 169, 170, 171, 172, 173, 174, 175, 176, 177, 178, 179, 180, 181, 182, 183, 184, 185, 186, 187, 188, 189, 190, 191, 192, 193, 194, 195, 196, 197, 198, 199, 200, 201, 202, 203, 204, 205, 206, 207, 208, 209, 210, 211, 212, 213, 214, 215, 216, 217, 218, 219, 220, 221, 222, 223, 224, 225, 226, 227, 228, 229, 230, 231, 232, 233, 234, 235, 236, 237, 238, 239, 240, 241, 242, 243, 244, 245, 246, 247, 248, 249, 250, 251, 252, 253, 254, 255]"
   ]
  },
  {
   "cell_type": "code",
   "execution_count": null,
   "id": "1755783c-921a-4b40-a768-be193ce28fef",
   "metadata": {},
   "outputs": [],
   "source": [
    "self.assertListEqual(bzd.mtfa, expected)"
   ]
  },
  {
   "cell_type": "code",
   "execution_count": null,
   "id": "252fbd7c-87c2-4af0-b13f-119bcd4c5309",
   "metadata": {},
   "outputs": [],
   "source": [
    "bzd.mtfbase[lno] += 1"
   ]
  },
  {
   "cell_type": "code",
   "execution_count": null,
   "id": "e5a82e67-b906-458f-8f29-dee30c6eb335",
   "metadata": {},
   "outputs": [],
   "source": [
    "self.assertEqual(bzd.mtfbase[lno], 3985)"
   ]
  },
  {
   "cell_type": "code",
   "execution_count": null,
   "id": "80aab5c4-1bd4-42f9-829a-b1d64095000b",
   "metadata": {},
   "outputs": [],
   "source": [
    "while lno > 0:\n",
    "    bzd.mtfbase[lno] -= 1\n",
    "    bzd.mtfa[bzd.mtfbase[lno]] = bzd.mtfa[bzd.mtfbase[lno - 1] + MTFL_SIZE - 1]\n",
    "    lno -= 1"
   ]
  },
  {
   "cell_type": "code",
   "execution_count": null,
   "id": "8d790f51-f814-450e-8ce4-1a74512d7a82",
   "metadata": {},
   "outputs": [],
   "source": [
    "expected = [3840, 3855, 3871, 3887, 3903, 3919, 3935, 3951, 3967, 3984, 4000, 4016, 4032, 4048, 4064, 4080]"
   ]
  },
  {
   "cell_type": "code",
   "execution_count": null,
   "id": "d6d56ace-eb4d-4037-9976-326a848358fa",
   "metadata": {},
   "outputs": [],
   "source": [
    "self.assertListEqual(bzd.mtfbase, expected)"
   ]
  },
  {
   "cell_type": "code",
   "execution_count": null,
   "id": "2d0c3374-7145-458c-afbb-187ab8bfd6c1",
   "metadata": {
    "jupyter": {
     "source_hidden": true
    }
   },
   "outputs": [],
   "source": [
    "expected = [0, 0, 0, 0, 0, 0, 0, 0, 0, 0, 0, 0, 0, 0, 0, 0, 0, 0, 0, 0, 0, 0, 0, 0, 0, 0, 0, 0, 0, 0, 0, 0, 0, 0, 0, 0, 0, 0, 0, 0, 0, 0, 0, 0, 0, 0, 0, 0, 0, 0, 0, 0, 0, 0, 0, 0, 0, 0, 0, 0, 0, 0, 0, 0, 0, 0, 0, 0, 0, 0, 0, 0, 0, 0, 0, 0, 0, 0, 0, 0, 0, 0, 0, 0, 0, 0, 0, 0, 0, 0, 0, 0, 0, 0, 0, 0, 0, 0, 0, 0, 0, 0, 0, 0, 0, 0, 0, 0, 0, 0, 0, 0, 0, 0, 0, 0, 0, 0, 0, 0, 0, 0, 0, 0, 0, 0, 0, 0, 0, 0, 0, 0, 0, 0, 0, 0, 0, 0, 0, 0, 0, 0, 0, 0, 0, 0, 0, 0, 0, 0, 0, 0, 0, 0, 0, 0, 0, 0, 0, 0, 0, 0, 0, 0, 0, 0, 0, 0, 0, 0, 0, 0, 0, 0, 0, 0, 0, 0, 0, 0, 0, 0, 0, 0, 0, 0, 0, 0, 0, 0, 0, 0, 0, 0, 0, 0, 0, 0, 0, 0, 0, 0, 0, 0, 0, 0, 0, 0, 0, 0, 0, 0, 0, 0, 0, 0, 0, 0, 0, 0, 0, 0, 0, 0, 0, 0, 0, 0, 0, 0, 0, 0, 0, 0, 0, 0, 0, 0, 0, 0, 0, 0, 0, 0, 0, 0, 0, 0, 0, 0, 0, 0, 0, 0, 0, 0, 0, 0, 0, 0, 0, 0, 0, 0, 0, 0, 0, 0, 0, 0, 0, 0, 0, 0, 0, 0, 0, 0, 0, 0, 0, 0, 0, 0, 0, 0, 0, 0, 0, 0, 0, 0, 0, 0, 0, 0, 0, 0, 0, 0, 0, 0, 0, 0, 0, 0, 0, 0, 0, 0, 0, 0, 0, 0, 0, 0, 0, 0, 0, 0, 0, 0, 0, 0, 0, 0, 0, 0, 0, 0, 0, 0, 0, 0, 0, 0, 0, 0, 0, 0, 0, 0, 0, 0, 0, 0, 0, 0, 0, 0, 0, 0, 0, 0, 0, 0, 0, 0, 0, 0, 0, 0, 0, 0, 0, 0, 0, 0, 0, 0, 0, 0, 0, 0, 0, 0, 0, 0, 0, 0, 0, 0, 0, 0, 0, 0, 0, 0, 0, 0, 0, 0, 0, 0, 0, 0, 0, 0, 0, 0, 0, 0, 0, 0, 0, 0, 0, 0, 0, 0, 0, 0, 0, 0, 0, 0, 0, 0, 0, 0, 0, 0, 0, 0, 0, 0, 0, 0, 0, 0, 0, 0, 0, 0, 0, 0, 0, 0, 0, 0, 0, 0, 0, 0, 0, 0, 0, 0, 0, 0, 0, 0, 0, 0, 0, 0, 0, 0, 0, 0, 0, 0, 0, 0, 0, 0, 0, 0, 0, 0, 0, 0, 0, 0, 0, 0, 0, 0, 0, 0, 0, 0, 0, 0, 0, 0, 0, 0, 0, 0, 0, 0, 0, 0, 0, 0, 0, 0, 0, 0, 0, 0, 0, 0, 0, 0, 0, 0, 0, 0, 0, 0, 0, 0, 0, 0, 0, 0, 0, 0, 0, 0, 0, 0, 0, 0, 0, 0, 0, 0, 0, 0, 0, 0, 0, 0, 0, 0, 0, 0, 0, 0, 0, 0, 0, 0, 0, 0, 0, 0, 0, 0, 0, 0, 0, 0, 0, 0, 0, 0, 0, 0, 0, 0, 0, 0, 0, 0, 0, 0, 0, 0, 0, 0, 0, 0, 0, 0, 0, 0, 0, 0, 0, 0, 0, 0, 0, 0, 0, 0, 0, 0, 0, 0, 0, 0, 0, 0, 0, 0, 0, 0, 0, 0, 0, 0, 0, 0, 0, 0, 0, 0, 0, 0, 0, 0, 0, 0, 0, 0, 0, 0, 0, 0, 0, 0, 0, 0, 0, 0, 0, 0, 0, 0, 0, 0, 0, 0, 0, 0, 0, 0, 0, 0, 0, 0, 0, 0, 0, 0, 0, 0, 0, 0, 0, 0, 0, 0, 0, 0, 0, 0, 0, 0, 0, 0, 0, 0, 0, 0, 0, 0, 0, 0, 0, 0, 0, 0, 0, 0, 0, 0, 0, 0, 0, 0, 0, 0, 0, 0, 0, 0, 0, 0, 0, 0, 0, 0, 0, 0, 0, 0, 0, 0, 0, 0, 0, 0, 0, 0, 0, 0, 0, 0, 0, 0, 0, 0, 0, 0, 0, 0, 0, 0, 0, 0, 0, 0, 0, 0, 0, 0, 0, 0, 0, 0, 0, 0, 0, 0, 0, 0, 0, 0, 0, 0, 0, 0, 0, 0, 0, 0, 0, 0, 0, 0, 0, 0, 0, 0, 0, 0, 0, 0, 0, 0, 0, 0, 0, 0, 0, 0, 0, 0, 0, 0, 0, 0, 0, 0, 0, 0, 0, 0, 0, 0, 0, 0, 0, 0, 0, 0, 0, 0, 0, 0, 0, 0, 0, 0, 0, 0, 0, 0, 0, 0, 0, 0, 0, 0, 0, 0, 0, 0, 0, 0, 0, 0, 0, 0, 0, 0, 0, 0, 0, 0, 0, 0, 0, 0, 0, 0, 0, 0, 0, 0, 0, 0, 0, 0, 0, 0, 0, 0, 0, 0, 0, 0, 0, 0, 0, 0, 0, 0, 0, 0, 0, 0, 0, 0, 0, 0, 0, 0, 0, 0, 0, 0, 0, 0, 0, 0, 0, 0, 0, 0, 0, 0, 0, 0, 0, 0, 0, 0, 0, 0, 0, 0, 0, 0, 0, 0, 0, 0, 0, 0, 0, 0, 0, 0, 0, 0, 0, 0, 0, 0, 0, 0, 0, 0, 0, 0, 0, 0, 0, 0, 0, 0, 0, 0, 0, 0, 0, 0, 0, 0, 0, 0, 0, 0, 0, 0, 0, 0, 0, 0, 0, 0, 0, 0, 0, 0, 0, 0, 0, 0, 0, 0, 0, 0, 0, 0, 0, 0, 0, 0, 0, 0, 0, 0, 0, 0, 0, 0, 0, 0, 0, 0, 0, 0, 0, 0, 0, 0, 0, 0, 0, 0, 0, 0, 0, 0, 0, 0, 0, 0, 0, 0, 0, 0, 0, 0, 0, 0, 0, 0, 0, 0, 0, 0, 0, 0, 0, 0, 0, 0, 0, 0, 0, 0, 0, 0, 0, 0, 0, 0, 0, 0, 0, 0, 0, 0, 0, 0, 0, 0, 0, 0, 0, 0, 0, 0, 0, 0, 0, 0, 0, 0, 0, 0, 0, 0, 0, 0, 0, 0, 0, 0, 0, 0, 0, 0, 0, 0, 0, 0, 0, 0, 0, 0, 0, 0, 0, 0, 0, 0, 0, 0, 0, 0, 0, 0, 0, 0, 0, 0, 0, 0, 0, 0, 0, 0, 0, 0, 0, 0, 0, 0, 0, 0, 0, 0, 0, 0, 0, 0, 0, 0, 0, 0, 0, 0, 0, 0, 0, 0, 0, 0, 0, 0, 0, 0, 0, 0, 0, 0, 0, 0, 0, 0, 0, 0, 0, 0, 0, 0, 0, 0, 0, 0, 0, 0, 0, 0, 0, 0, 0, 0, 0, 0, 0, 0, 0, 0, 0, 0, 0, 0, 0, 0, 0, 0, 0, 0, 0, 0, 0, 0, 0, 0, 0, 0, 0, 0, 0, 0, 0, 0, 0, 0, 0, 0, 0, 0, 0, 0, 0, 0, 0, 0, 0, 0, 0, 0, 0, 0, 0, 0, 0, 0, 0, 0, 0, 0, 0, 0, 0, 0, 0, 0, 0, 0, 0, 0, 0, 0, 0, 0, 0, 0, 0, 0, 0, 0, 0, 0, 0, 0, 0, 0, 0, 0, 0, 0, 0, 0, 0, 0, 0, 0, 0, 0, 0, 0, 0, 0, 0, 0, 0, 0, 0, 0, 0, 0, 0, 0, 0, 0, 0, 0, 0, 0, 0, 0, 0, 0, 0, 0, 0, 0, 0, 0, 0, 0, 0, 0, 0, 0, 0, 0, 0, 0, 0, 0, 0, 0, 0, 0, 0, 0, 0, 0, 0, 0, 0, 0, 0, 0, 0, 0, 0, 0, 0, 0, 0, 0, 0, 0, 0, 0, 0, 0, 0, 0, 0, 0, 0, 0, 0, 0, 0, 0, 0, 0, 0, 0, 0, 0, 0, 0, 0, 0, 0, 0, 0, 0, 0, 0, 0, 0, 0, 0, 0, 0, 0, 0, 0, 0, 0, 0, 0, 0, 0, 0, 0, 0, 0, 0, 0, 0, 0, 0, 0, 0, 0, 0, 0, 0, 0, 0, 0, 0, 0, 0, 0, 0, 0, 0, 0, 0, 0, 0, 0, 0, 0, 0, 0, 0, 0, 0, 0, 0, 0, 0, 0, 0, 0, 0, 0, 0, 0, 0, 0, 0, 0, 0, 0, 0, 0, 0, 0, 0, 0, 0, 0, 0, 0, 0, 0, 0, 0, 0, 0, 0, 0, 0, 0, 0, 0, 0, 0, 0, 0, 0, 0, 0, 0, 0, 0, 0, 0, 0, 0, 0, 0, 0, 0, 0, 0, 0, 0, 0, 0, 0, 0, 0, 0, 0, 0, 0, 0, 0, 0, 0, 0, 0, 0, 0, 0, 0, 0, 0, 0, 0, 0, 0, 0, 0, 0, 0, 0, 0, 0, 0, 0, 0, 0, 0, 0, 0, 0, 0, 0, 0, 0, 0, 0, 0, 0, 0, 0, 0, 0, 0, 0, 0, 0, 0, 0, 0, 0, 0, 0, 0, 0, 0, 0, 0, 0, 0, 0, 0, 0, 0, 0, 0, 0, 0, 0, 0, 0, 0, 0, 0, 0, 0, 0, 0, 0, 0, 0, 0, 0, 0, 0, 0, 0, 0, 0, 0, 0, 0, 0, 0, 0, 0, 0, 0, 0, 0, 0, 0, 0, 0, 0, 0, 0, 0, 0, 0, 0, 0, 0, 0, 0, 0, 0, 0, 0, 0, 0, 0, 0, 0, 0, 0, 0, 0, 0, 0, 0, 0, 0, 0, 0, 0, 0, 0, 0, 0, 0, 0, 0, 0, 0, 0, 0, 0, 0, 0, 0, 0, 0, 0, 0, 0, 0, 0, 0, 0, 0, 0, 0, 0, 0, 0, 0, 0, 0, 0, 0, 0, 0, 0, 0, 0, 0, 0, 0, 0, 0, 0, 0, 0, 0, 0, 0, 0, 0, 0, 0, 0, 0, 0, 0, 0, 0, 0, 0, 0, 0, 0, 0, 0, 0, 0, 0, 0, 0, 0, 0, 0, 0, 0, 0, 0, 0, 0, 0, 0, 0, 0, 0, 0, 0, 0, 0, 0, 0, 0, 0, 0, 0, 0, 0, 0, 0, 0, 0, 0, 0, 0, 0, 0, 0, 0, 0, 0, 0, 0, 0, 0, 0, 0, 0, 0, 0, 0, 0, 0, 0, 0, 0, 0, 0, 0, 0, 0, 0, 0, 0, 0, 0, 0, 0, 0, 0, 0, 0, 0, 0, 0, 0, 0, 0, 0, 0, 0, 0, 0, 0, 0, 0, 0, 0, 0, 0, 0, 0, 0, 0, 0, 0, 0, 0, 0, 0, 0, 0, 0, 0, 0, 0, 0, 0, 0, 0, 0, 0, 0, 0, 0, 0, 0, 0, 0, 0, 0, 0, 0, 0, 0, 0, 0, 0, 0, 0, 0, 0, 0, 0, 0, 0, 0, 0, 0, 0, 0, 0, 0, 0, 0, 0, 0, 0, 0, 0, 0, 0, 0, 0, 0, 0, 0, 0, 0, 0, 0, 0, 0, 0, 0, 0, 0, 0, 0, 0, 0, 0, 0, 0, 0, 0, 0, 0, 0, 0, 0, 0, 0, 0, 0, 0, 0, 0, 0, 0, 0, 0, 0, 0, 0, 0, 0, 0, 0, 0, 0, 0, 0, 0, 0, 0, 0, 0, 0, 0, 0, 0, 0, 0, 0, 0, 0, 0, 0, 0, 0, 0, 0, 0, 0, 0, 0, 0, 0, 0, 0, 0, 0, 0, 0, 0, 0, 0, 0, 0, 0, 0, 0, 0, 0, 0, 0, 0, 0, 0, 0, 0, 0, 0, 0, 0, 0, 0, 0, 0, 0, 0, 0, 0, 0, 0, 0, 0, 0, 0, 0, 0, 0, 0, 0, 0, 0, 0, 0, 0, 0, 0, 0, 0, 0, 0, 0, 0, 0, 0, 0, 0, 0, 0, 0, 0, 0, 0, 0, 0, 0, 0, 0, 0, 0, 0, 0, 0, 0, 0, 0, 0, 0, 0, 0, 0, 0, 0, 0, 0, 0, 0, 0, 0, 0, 0, 0, 0, 0, 0, 0, 0, 0, 0, 0, 0, 0, 0, 0, 0, 0, 0, 0, 0, 0, 0, 0, 0, 0, 0, 0, 0, 0, 0, 0, 0, 0, 0, 0, 0, 0, 0, 0, 0, 0, 0, 0, 0, 0, 0, 0, 0, 0, 0, 0, 0, 0, 0, 0, 0, 0, 0, 0, 0, 0, 0, 0, 0, 0, 0, 0, 0, 0, 0, 0, 0, 0, 0, 0, 0, 0, 0, 0, 0, 0, 0, 0, 0, 0, 0, 0, 0, 0, 0, 0, 0, 0, 0, 0, 0, 0, 0, 0, 0, 0, 0, 0, 0, 0, 0, 0, 0, 0, 0, 0, 0, 0, 0, 0, 0, 0, 0, 0, 0, 0, 0, 0, 0, 0, 0, 0, 0, 0, 0, 0, 0, 0, 0, 0, 0, 0, 0, 0, 0, 0, 0, 0, 0, 0, 0, 0, 0, 0, 0, 0, 0, 0, 0, 0, 0, 0, 0, 0, 0, 0, 0, 0, 0, 0, 0, 0, 0, 0, 0, 0, 0, 0, 0, 0, 0, 0, 0, 0, 0, 0, 0, 0, 0, 0, 0, 0, 0, 0, 0, 0, 0, 0, 0, 0, 0, 0, 0, 0, 0, 0, 0, 0, 0, 0, 0, 0, 0, 0, 0, 0, 0, 0, 0, 0, 0, 0, 0, 0, 0, 0, 0, 0, 0, 0, 0, 0, 0, 0, 0, 0, 0, 0, 0, 0, 0, 0, 0, 0, 0, 0, 0, 0, 0, 0, 0, 0, 0, 0, 0, 0, 0, 0, 0, 0, 0, 0, 0, 0, 0, 0, 0, 0, 0, 0, 0, 0, 0, 0, 0, 0, 0, 0, 0, 0, 0, 0, 0, 0, 0, 0, 0, 0, 0, 0, 0, 0, 0, 0, 0, 0, 0, 0, 0, 0, 0, 0, 0, 0, 0, 0, 0, 0, 0, 0, 0, 0, 0, 0, 0, 0, 0, 0, 0, 0, 0, 0, 0, 0, 0, 0, 0, 0, 0, 0, 0, 0, 0, 0, 0, 0, 0, 0, 0, 0, 0, 0, 0, 0, 0, 0, 0, 0, 0, 0, 0, 0, 0, 0, 0, 0, 0, 0, 0, 0, 0, 0, 0, 0, 0, 0, 0, 0, 0, 0, 0, 0, 0, 0, 0, 0, 0, 0, 0, 0, 0, 0, 0, 0, 0, 0, 0, 0, 0, 0, 0, 0, 0, 0, 0, 0, 0, 0, 0, 0, 0, 0, 0, 0, 0, 0, 0, 0, 0, 0, 0, 0, 0, 0, 0, 0, 0, 0, 0, 0, 0, 0, 0, 0, 0, 0, 0, 0, 0, 0, 0, 0, 0, 0, 0, 0, 0, 0, 0, 0, 0, 0, 0, 0, 0, 0, 0, 0, 0, 0, 0, 0, 0, 0, 0, 0, 0, 0, 0, 0, 0, 0, 0, 0, 0, 0, 0, 0, 0, 0, 0, 0, 0, 0, 0, 0, 0, 0, 0, 0, 0, 0, 0, 0, 0, 0, 0, 0, 0, 0, 0, 0, 0, 0, 0, 0, 0, 0, 0, 0, 0, 0, 0, 0, 0, 0, 0, 0, 0, 0, 0, 0, 0, 0, 0, 0, 0, 0, 0, 0, 0, 0, 0, 0, 0, 0, 0, 0, 0, 0, 0, 0, 0, 0, 0, 0, 0, 0, 0, 0, 0, 0, 0, 0, 0, 0, 0, 0, 0, 0, 0, 0, 0, 0, 0, 0, 0, 0, 0, 0, 0, 0, 0, 0, 0, 0, 0, 0, 0, 0, 0, 0, 0, 0, 0, 0, 0, 0, 0, 0, 0, 0, 0, 0, 0, 0, 0, 0, 0, 0, 0, 0, 0, 0, 0, 0, 0, 0, 0, 0, 0, 0, 0, 0, 0, 0, 0, 0, 0, 0, 0, 0, 0, 0, 0, 0, 0, 0, 0, 0, 0, 0, 0, 0, 0, 0, 0, 0, 0, 0, 0, 0, 0, 0, 0, 0, 0, 0, 0, 0, 0, 0, 0, 0, 0, 0, 0, 0, 0, 0, 0, 0, 0, 0, 0, 0, 0, 0, 0, 0, 0, 0, 0, 0, 0, 0, 0, 0, 0, 0, 0, 0, 0, 0, 0, 0, 0, 0, 0, 0, 0, 0, 0, 0, 0, 0, 0, 0, 0, 0, 0, 0, 0, 0, 0, 0, 0, 0, 0, 0, 0, 0, 0, 0, 0, 0, 0, 0, 0, 0, 0, 0, 0, 0, 0, 0, 0, 0, 0, 0, 0, 0, 0, 0, 0, 0, 0, 0, 0, 0, 0, 0, 0, 0, 0, 0, 0, 0, 0, 0, 0, 0, 0, 0, 0, 0, 0, 0, 0, 0, 0, 0, 0, 0, 0, 0, 0, 0, 0, 0, 0, 0, 0, 0, 0, 0, 0, 0, 0, 0, 0, 0, 0, 0, 0, 0, 0, 0, 0, 0, 0, 0, 0, 0, 0, 0, 0, 0, 0, 0, 0, 0, 0, 0, 0, 0, 0, 0, 0, 0, 0, 0, 0, 0, 0, 0, 0, 0, 0, 0, 0, 0, 0, 0, 0, 0, 0, 0, 0, 0, 0, 0, 0, 0, 0, 0, 0, 0, 0, 0, 0, 0, 0, 0, 0, 0, 0, 0, 0, 0, 0, 0, 0, 0, 0, 0, 0, 0, 0, 0, 0, 0, 0, 0, 0, 0, 0, 0, 0, 0, 0, 0, 0, 0, 0, 0, 0, 0, 0, 0, 0, 0, 0, 0, 0, 0, 0, 0, 0, 0, 0, 0, 0, 0, 0, 0, 0, 0, 0, 0, 0, 0, 0, 0, 0, 0, 0, 0, 0, 0, 0, 0, 0, 0, 0, 0, 0, 0, 0, 0, 0, 0, 0, 0, 0, 0, 0, 0, 0, 0, 0, 0, 0, 0, 0, 0, 0, 0, 0, 0, 0, 0, 0, 0, 0, 0, 0, 0, 0, 0, 0, 0, 0, 0, 0, 0, 0, 0, 0, 0, 0, 0, 0, 0, 0, 0, 0, 0, 0, 0, 0, 0, 0, 0, 0, 0, 0, 0, 0, 0, 0, 0, 0, 0, 0, 0, 0, 0, 0, 0, 0, 0, 0, 0, 0, 0, 0, 0, 0, 0, 0, 0, 0, 0, 0, 0, 0, 0, 0, 0, 0, 0, 0, 0, 0, 0, 0, 0, 0, 0, 0, 0, 0, 0, 0, 0, 0, 0, 0, 0, 0, 0, 0, 0, 0, 0, 0, 0, 0, 0, 0, 0, 0, 0, 0, 0, 0, 0, 0, 0, 0, 0, 0, 0, 0, 0, 0, 0, 0, 0, 0, 0, 0, 0, 0, 0, 0, 0, 0, 0, 0, 0, 0, 0, 0, 0, 0, 0, 0, 0, 0, 0, 0, 0, 0, 0, 0, 0, 0, 0, 0, 0, 0, 0, 0, 0, 0, 0, 0, 0, 0, 0, 0, 0, 0, 0, 0, 0, 0, 0, 0, 0, 0, 0, 0, 0, 0, 0, 0, 0, 0, 0, 0, 0, 0, 0, 0, 0, 0, 0, 0, 0, 0, 0, 0, 0, 0, 0, 0, 0, 0, 0, 0, 0, 0, 0, 0, 0, 0, 0, 0, 0, 0, 0, 0, 0, 0, 0, 0, 0, 0, 0, 0, 0, 0, 0, 0, 0, 0, 0, 0, 0, 0, 0, 0, 0, 0, 0, 0, 0, 0, 0, 0, 0, 0, 0, 0, 0, 0, 0, 0, 0, 0, 0, 0, 0, 0, 0, 0, 0, 0, 0, 0, 0, 0, 0, 0, 0, 0, 0, 0, 0, 0, 0, 0, 0, 0, 0, 0, 0, 0, 0, 0, 0, 0, 0, 0, 0, 0, 0, 0, 0, 0, 0, 0, 0, 0, 0, 0, 0, 0, 0, 0, 0, 0, 0, 0, 0, 0, 0, 0, 0, 0, 0, 0, 0, 0, 0, 0, 0, 0, 0, 0, 0, 0, 0, 0, 0, 0, 0, 0, 0, 0, 0, 0, 0, 0, 0, 0, 0, 0, 0, 0, 0, 0, 0, 0, 0, 0, 0, 0, 0, 0, 0, 0, 0, 0, 0, 0, 0, 0, 0, 0, 0, 0, 0, 0, 0, 0, 0, 0, 0, 0, 0, 0, 0, 0, 0, 0, 0, 0, 0, 0, 0, 0, 0, 0, 0, 0, 0, 0, 0, 0, 0, 0, 0, 0, 0, 0, 0, 0, 0, 0, 0, 0, 0, 0, 0, 0, 0, 0, 0, 0, 0, 0, 0, 0, 0, 0, 0, 0, 0, 0, 0, 0, 0, 0, 0, 0, 0, 0, 0, 0, 0, 0, 0, 0, 0, 0, 0, 0, 0, 0, 0, 0, 0, 0, 0, 0, 0, 0, 0, 0, 0, 0, 0, 0, 0, 0, 0, 0, 0, 0, 0, 0, 0, 0, 0, 0, 0, 0, 0, 0, 0, 0, 0, 0, 0, 0, 0, 0, 0, 0, 0, 0, 0, 0, 0, 0, 0, 0, 0, 0, 0, 0, 0, 0, 0, 0, 0, 0, 0, 0, 0, 0, 0, 0, 0, 0, 0, 0, 0, 0, 0, 0, 0, 0, 0, 0, 0, 0, 0, 0, 0, 0, 0, 0, 0, 0, 0, 0, 0, 0, 0, 0, 0, 0, 0, 0, 0, 0, 0, 0, 0, 0, 0, 0, 0, 0, 0, 0, 0, 0, 0, 0, 0, 0, 0, 0, 0, 0, 0, 0, 0, 0, 0, 0, 0, 0, 0, 0, 0, 0, 0, 0, 0, 0, 0, 0, 0, 0, 0, 0, 0, 0, 0, 0, 0, 0, 0, 0, 0, 0, 0, 0, 0, 0, 0, 0, 0, 0, 0, 0, 0, 0, 0, 0, 0, 0, 0, 0, 0, 0, 0, 0, 0, 0, 0, 0, 0, 0, 0, 0, 0, 0, 0, 0, 0, 0, 0, 0, 0, 0, 0, 0, 0, 0, 0, 0, 0, 0, 0, 0, 0, 0, 0, 0, 0, 0, 0, 0, 0, 0, 0, 0, 0, 0, 0, 0, 0, 0, 0, 0, 0, 0, 0, 0, 0, 0, 0, 0, 0, 0, 0, 0, 0, 0, 0, 0, 0, 0, 0, 0, 0, 0, 0, 0, 0, 0, 0, 0, 0, 0, 0, 0, 0, 0, 0, 0, 0, 0, 0, 0, 0, 0, 0, 0, 0, 0, 0, 0, 0, 0, 0, 0, 0, 0, 0, 0, 0, 0, 0, 0, 0, 0, 0, 0, 0, 0, 0, 0, 0, 0, 0, 0, 0, 0, 0, 0, 0, 0, 0, 0, 0, 0, 0, 0, 0, 0, 0, 0, 0, 0, 0, 0, 0, 0, 0, 0, 0, 0, 0, 0, 0, 0, 0, 0, 0, 0, 0, 0, 0, 0, 0, 0, 0, 0, 0, 0, 0, 0, 0, 0, 0, 0, 0, 0, 0, 0, 0, 0, 0, 0, 0, 0, 0, 0, 0, 0, 0, 0, 0, 0, 0, 0, 0, 0, 0, 0, 0, 0, 0, 0, 0, 0, 0, 0, 0, 0, 0, 0, 0, 0, 0, 0, 0, 0, 0, 0, 0, 0, 0, 0, 0, 0, 0, 0, 0, 0, 0, 0, 0, 0, 0, 0, 0, 0, 0, 0, 0, 0, 0, 0, 0, 0, 0, 0, 0, 0, 0, 0, 0, 0, 0, 0, 0, 0, 0, 0, 0, 0, 0, 0, 0, 0, 0, 0, 0, 0, 0, 0, 0, 0, 0, 0, 0, 0, 0, 0, 0, 0, 0, 0, 0, 0, 0, 0, 0, 0, 0, 0, 0, 0, 0, 0, 0, 0, 0, 0, 0, 0, 0, 0, 0, 0, 0, 0, 0, 0, 0, 0, 0, 0, 0, 0, 0, 0, 0, 0, 0, 0, 0, 0, 0, 0, 1, 2, 3, 4, 5, 6, 7, 8, 9, 10, 11, 12, 13, 14, 15, 16, 17, 18, 19, 20, 21, 22, 23, 24, 25, 26, 27, 28, 29, 30, 31, 32, 33, 34, 35, 36, 37, 38, 39, 40, 41, 42, 43, 44, 45, 46, 47, 48, 49, 50, 51, 52, 53, 54, 55, 56, 57, 58, 59, 60, 61, 62, 63, 64, 65, 66, 67, 68, 69, 70, 71, 72, 73, 74, 75, 76, 77, 78, 79, 80, 81, 82, 83, 84, 85, 86, 87, 88, 89, 90, 91, 92, 93, 94, 95, 96, 97, 98, 99, 100, 101, 102, 103, 104, 105, 106, 107, 108, 109, 110, 111, 112, 113, 114, 115, 116, 117, 118, 119, 120, 121, 122, 123, 124, 125, 126, 127, 128, 129, 130, 131, 132, 133, 134, 135, 136, 137, 138, 139, 140, 141, 142, 143, 143, 144, 145, 146, 147, 148, 149, 150, 151, 152, 153, 154, 155, 157, 158, 159, 160, 161, 162, 163, 164, 165, 166, 167, 168, 169, 170, 171, 172, 173, 174, 175, 176, 177, 178, 179, 180, 181, 182, 183, 184, 185, 186, 187, 188, 189, 190, 191, 192, 193, 194, 195, 196, 197, 198, 199, 200, 201, 202, 203, 204, 205, 206, 207, 208, 209, 210, 211, 212, 213, 214, 215, 216, 217, 218, 219, 220, 221, 222, 223, 224, 225, 226, 227, 228, 229, 230, 231, 232, 233, 234, 235, 236, 237, 238, 239, 240, 241, 242, 243, 244, 245, 246, 247, 248, 249, 250, 251, 252, 253, 254, 255]"
   ]
  },
  {
   "cell_type": "code",
   "execution_count": null,
   "id": "e6806c37-f7e1-4f93-bf4b-bdc99853a4a2",
   "metadata": {},
   "outputs": [],
   "source": [
    "self.assertListEqual(bzd.mtfa, expected)"
   ]
  },
  {
   "cell_type": "code",
   "execution_count": null,
   "id": "97205d98-4312-4349-addc-f2794838ac3e",
   "metadata": {},
   "outputs": [],
   "source": [
    "bzd.mtfbase[0] -= 1"
   ]
  },
  {
   "cell_type": "code",
   "execution_count": null,
   "id": "a5bf1ea2-2dbc-4c1f-bf1a-26de0a546b37",
   "metadata": {},
   "outputs": [],
   "source": [
    "expected = [3839, 3855, 3871, 3887, 3903, 3919, 3935, 3951, 3967, 3984, 4000, 4016, 4032, 4048, 4064, 4080]"
   ]
  },
  {
   "cell_type": "code",
   "execution_count": null,
   "id": "3f2858b2-bbe8-4120-9696-a27718d1f7c9",
   "metadata": {},
   "outputs": [],
   "source": [
    "self.assertListEqual(bzd.mtfbase, expected)"
   ]
  },
  {
   "cell_type": "code",
   "execution_count": null,
   "id": "eb095b91-5d61-4843-80ca-246ba98f596d",
   "metadata": {},
   "outputs": [],
   "source": [
    "bzd.mtfa[bzd.mtfbase[0]] = uc;"
   ]
  },
  {
   "cell_type": "code",
   "execution_count": null,
   "id": "d3936954-aa55-4bdc-8043-62c791e561a1",
   "metadata": {
    "jupyter": {
     "source_hidden": true
    }
   },
   "outputs": [],
   "source": [
    "expected = [0, 0, 0, 0, 0, 0, 0, 0, 0, 0, 0, 0, 0, 0, 0, 0, 0, 0, 0, 0, 0, 0, 0, 0, 0, 0, 0, 0, 0, 0, 0, 0, 0, 0, 0, 0, 0, 0, 0, 0, 0, 0, 0, 0, 0, 0, 0, 0, 0, 0, 0, 0, 0, 0, 0, 0, 0, 0, 0, 0, 0, 0, 0, 0, 0, 0, 0, 0, 0, 0, 0, 0, 0, 0, 0, 0, 0, 0, 0, 0, 0, 0, 0, 0, 0, 0, 0, 0, 0, 0, 0, 0, 0, 0, 0, 0, 0, 0, 0, 0, 0, 0, 0, 0, 0, 0, 0, 0, 0, 0, 0, 0, 0, 0, 0, 0, 0, 0, 0, 0, 0, 0, 0, 0, 0, 0, 0, 0, 0, 0, 0, 0, 0, 0, 0, 0, 0, 0, 0, 0, 0, 0, 0, 0, 0, 0, 0, 0, 0, 0, 0, 0, 0, 0, 0, 0, 0, 0, 0, 0, 0, 0, 0, 0, 0, 0, 0, 0, 0, 0, 0, 0, 0, 0, 0, 0, 0, 0, 0, 0, 0, 0, 0, 0, 0, 0, 0, 0, 0, 0, 0, 0, 0, 0, 0, 0, 0, 0, 0, 0, 0, 0, 0, 0, 0, 0, 0, 0, 0, 0, 0, 0, 0, 0, 0, 0, 0, 0, 0, 0, 0, 0, 0, 0, 0, 0, 0, 0, 0, 0, 0, 0, 0, 0, 0, 0, 0, 0, 0, 0, 0, 0, 0, 0, 0, 0, 0, 0, 0, 0, 0, 0, 0, 0, 0, 0, 0, 0, 0, 0, 0, 0, 0, 0, 0, 0, 0, 0, 0, 0, 0, 0, 0, 0, 0, 0, 0, 0, 0, 0, 0, 0, 0, 0, 0, 0, 0, 0, 0, 0, 0, 0, 0, 0, 0, 0, 0, 0, 0, 0, 0, 0, 0, 0, 0, 0, 0, 0, 0, 0, 0, 0, 0, 0, 0, 0, 0, 0, 0, 0, 0, 0, 0, 0, 0, 0, 0, 0, 0, 0, 0, 0, 0, 0, 0, 0, 0, 0, 0, 0, 0, 0, 0, 0, 0, 0, 0, 0, 0, 0, 0, 0, 0, 0, 0, 0, 0, 0, 0, 0, 0, 0, 0, 0, 0, 0, 0, 0, 0, 0, 0, 0, 0, 0, 0, 0, 0, 0, 0, 0, 0, 0, 0, 0, 0, 0, 0, 0, 0, 0, 0, 0, 0, 0, 0, 0, 0, 0, 0, 0, 0, 0, 0, 0, 0, 0, 0, 0, 0, 0, 0, 0, 0, 0, 0, 0, 0, 0, 0, 0, 0, 0, 0, 0, 0, 0, 0, 0, 0, 0, 0, 0, 0, 0, 0, 0, 0, 0, 0, 0, 0, 0, 0, 0, 0, 0, 0, 0, 0, 0, 0, 0, 0, 0, 0, 0, 0, 0, 0, 0, 0, 0, 0, 0, 0, 0, 0, 0, 0, 0, 0, 0, 0, 0, 0, 0, 0, 0, 0, 0, 0, 0, 0, 0, 0, 0, 0, 0, 0, 0, 0, 0, 0, 0, 0, 0, 0, 0, 0, 0, 0, 0, 0, 0, 0, 0, 0, 0, 0, 0, 0, 0, 0, 0, 0, 0, 0, 0, 0, 0, 0, 0, 0, 0, 0, 0, 0, 0, 0, 0, 0, 0, 0, 0, 0, 0, 0, 0, 0, 0, 0, 0, 0, 0, 0, 0, 0, 0, 0, 0, 0, 0, 0, 0, 0, 0, 0, 0, 0, 0, 0, 0, 0, 0, 0, 0, 0, 0, 0, 0, 0, 0, 0, 0, 0, 0, 0, 0, 0, 0, 0, 0, 0, 0, 0, 0, 0, 0, 0, 0, 0, 0, 0, 0, 0, 0, 0, 0, 0, 0, 0, 0, 0, 0, 0, 0, 0, 0, 0, 0, 0, 0, 0, 0, 0, 0, 0, 0, 0, 0, 0, 0, 0, 0, 0, 0, 0, 0, 0, 0, 0, 0, 0, 0, 0, 0, 0, 0, 0, 0, 0, 0, 0, 0, 0, 0, 0, 0, 0, 0, 0, 0, 0, 0, 0, 0, 0, 0, 0, 0, 0, 0, 0, 0, 0, 0, 0, 0, 0, 0, 0, 0, 0, 0, 0, 0, 0, 0, 0, 0, 0, 0, 0, 0, 0, 0, 0, 0, 0, 0, 0, 0, 0, 0, 0, 0, 0, 0, 0, 0, 0, 0, 0, 0, 0, 0, 0, 0, 0, 0, 0, 0, 0, 0, 0, 0, 0, 0, 0, 0, 0, 0, 0, 0, 0, 0, 0, 0, 0, 0, 0, 0, 0, 0, 0, 0, 0, 0, 0, 0, 0, 0, 0, 0, 0, 0, 0, 0, 0, 0, 0, 0, 0, 0, 0, 0, 0, 0, 0, 0, 0, 0, 0, 0, 0, 0, 0, 0, 0, 0, 0, 0, 0, 0, 0, 0, 0, 0, 0, 0, 0, 0, 0, 0, 0, 0, 0, 0, 0, 0, 0, 0, 0, 0, 0, 0, 0, 0, 0, 0, 0, 0, 0, 0, 0, 0, 0, 0, 0, 0, 0, 0, 0, 0, 0, 0, 0, 0, 0, 0, 0, 0, 0, 0, 0, 0, 0, 0, 0, 0, 0, 0, 0, 0, 0, 0, 0, 0, 0, 0, 0, 0, 0, 0, 0, 0, 0, 0, 0, 0, 0, 0, 0, 0, 0, 0, 0, 0, 0, 0, 0, 0, 0, 0, 0, 0, 0, 0, 0, 0, 0, 0, 0, 0, 0, 0, 0, 0, 0, 0, 0, 0, 0, 0, 0, 0, 0, 0, 0, 0, 0, 0, 0, 0, 0, 0, 0, 0, 0, 0, 0, 0, 0, 0, 0, 0, 0, 0, 0, 0, 0, 0, 0, 0, 0, 0, 0, 0, 0, 0, 0, 0, 0, 0, 0, 0, 0, 0, 0, 0, 0, 0, 0, 0, 0, 0, 0, 0, 0, 0, 0, 0, 0, 0, 0, 0, 0, 0, 0, 0, 0, 0, 0, 0, 0, 0, 0, 0, 0, 0, 0, 0, 0, 0, 0, 0, 0, 0, 0, 0, 0, 0, 0, 0, 0, 0, 0, 0, 0, 0, 0, 0, 0, 0, 0, 0, 0, 0, 0, 0, 0, 0, 0, 0, 0, 0, 0, 0, 0, 0, 0, 0, 0, 0, 0, 0, 0, 0, 0, 0, 0, 0, 0, 0, 0, 0, 0, 0, 0, 0, 0, 0, 0, 0, 0, 0, 0, 0, 0, 0, 0, 0, 0, 0, 0, 0, 0, 0, 0, 0, 0, 0, 0, 0, 0, 0, 0, 0, 0, 0, 0, 0, 0, 0, 0, 0, 0, 0, 0, 0, 0, 0, 0, 0, 0, 0, 0, 0, 0, 0, 0, 0, 0, 0, 0, 0, 0, 0, 0, 0, 0, 0, 0, 0, 0, 0, 0, 0, 0, 0, 0, 0, 0, 0, 0, 0, 0, 0, 0, 0, 0, 0, 0, 0, 0, 0, 0, 0, 0, 0, 0, 0, 0, 0, 0, 0, 0, 0, 0, 0, 0, 0, 0, 0, 0, 0, 0, 0, 0, 0, 0, 0, 0, 0, 0, 0, 0, 0, 0, 0, 0, 0, 0, 0, 0, 0, 0, 0, 0, 0, 0, 0, 0, 0, 0, 0, 0, 0, 0, 0, 0, 0, 0, 0, 0, 0, 0, 0, 0, 0, 0, 0, 0, 0, 0, 0, 0, 0, 0, 0, 0, 0, 0, 0, 0, 0, 0, 0, 0, 0, 0, 0, 0, 0, 0, 0, 0, 0, 0, 0, 0, 0, 0, 0, 0, 0, 0, 0, 0, 0, 0, 0, 0, 0, 0, 0, 0, 0, 0, 0, 0, 0, 0, 0, 0, 0, 0, 0, 0, 0, 0, 0, 0, 0, 0, 0, 0, 0, 0, 0, 0, 0, 0, 0, 0, 0, 0, 0, 0, 0, 0, 0, 0, 0, 0, 0, 0, 0, 0, 0, 0, 0, 0, 0, 0, 0, 0, 0, 0, 0, 0, 0, 0, 0, 0, 0, 0, 0, 0, 0, 0, 0, 0, 0, 0, 0, 0, 0, 0, 0, 0, 0, 0, 0, 0, 0, 0, 0, 0, 0, 0, 0, 0, 0, 0, 0, 0, 0, 0, 0, 0, 0, 0, 0, 0, 0, 0, 0, 0, 0, 0, 0, 0, 0, 0, 0, 0, 0, 0, 0, 0, 0, 0, 0, 0, 0, 0, 0, 0, 0, 0, 0, 0, 0, 0, 0, 0, 0, 0, 0, 0, 0, 0, 0, 0, 0, 0, 0, 0, 0, 0, 0, 0, 0, 0, 0, 0, 0, 0, 0, 0, 0, 0, 0, 0, 0, 0, 0, 0, 0, 0, 0, 0, 0, 0, 0, 0, 0, 0, 0, 0, 0, 0, 0, 0, 0, 0, 0, 0, 0, 0, 0, 0, 0, 0, 0, 0, 0, 0, 0, 0, 0, 0, 0, 0, 0, 0, 0, 0, 0, 0, 0, 0, 0, 0, 0, 0, 0, 0, 0, 0, 0, 0, 0, 0, 0, 0, 0, 0, 0, 0, 0, 0, 0, 0, 0, 0, 0, 0, 0, 0, 0, 0, 0, 0, 0, 0, 0, 0, 0, 0, 0, 0, 0, 0, 0, 0, 0, 0, 0, 0, 0, 0, 0, 0, 0, 0, 0, 0, 0, 0, 0, 0, 0, 0, 0, 0, 0, 0, 0, 0, 0, 0, 0, 0, 0, 0, 0, 0, 0, 0, 0, 0, 0, 0, 0, 0, 0, 0, 0, 0, 0, 0, 0, 0, 0, 0, 0, 0, 0, 0, 0, 0, 0, 0, 0, 0, 0, 0, 0, 0, 0, 0, 0, 0, 0, 0, 0, 0, 0, 0, 0, 0, 0, 0, 0, 0, 0, 0, 0, 0, 0, 0, 0, 0, 0, 0, 0, 0, 0, 0, 0, 0, 0, 0, 0, 0, 0, 0, 0, 0, 0, 0, 0, 0, 0, 0, 0, 0, 0, 0, 0, 0, 0, 0, 0, 0, 0, 0, 0, 0, 0, 0, 0, 0, 0, 0, 0, 0, 0, 0, 0, 0, 0, 0, 0, 0, 0, 0, 0, 0, 0, 0, 0, 0, 0, 0, 0, 0, 0, 0, 0, 0, 0, 0, 0, 0, 0, 0, 0, 0, 0, 0, 0, 0, 0, 0, 0, 0, 0, 0, 0, 0, 0, 0, 0, 0, 0, 0, 0, 0, 0, 0, 0, 0, 0, 0, 0, 0, 0, 0, 0, 0, 0, 0, 0, 0, 0, 0, 0, 0, 0, 0, 0, 0, 0, 0, 0, 0, 0, 0, 0, 0, 0, 0, 0, 0, 0, 0, 0, 0, 0, 0, 0, 0, 0, 0, 0, 0, 0, 0, 0, 0, 0, 0, 0, 0, 0, 0, 0, 0, 0, 0, 0, 0, 0, 0, 0, 0, 0, 0, 0, 0, 0, 0, 0, 0, 0, 0, 0, 0, 0, 0, 0, 0, 0, 0, 0, 0, 0, 0, 0, 0, 0, 0, 0, 0, 0, 0, 0, 0, 0, 0, 0, 0, 0, 0, 0, 0, 0, 0, 0, 0, 0, 0, 0, 0, 0, 0, 0, 0, 0, 0, 0, 0, 0, 0, 0, 0, 0, 0, 0, 0, 0, 0, 0, 0, 0, 0, 0, 0, 0, 0, 0, 0, 0, 0, 0, 0, 0, 0, 0, 0, 0, 0, 0, 0, 0, 0, 0, 0, 0, 0, 0, 0, 0, 0, 0, 0, 0, 0, 0, 0, 0, 0, 0, 0, 0, 0, 0, 0, 0, 0, 0, 0, 0, 0, 0, 0, 0, 0, 0, 0, 0, 0, 0, 0, 0, 0, 0, 0, 0, 0, 0, 0, 0, 0, 0, 0, 0, 0, 0, 0, 0, 0, 0, 0, 0, 0, 0, 0, 0, 0, 0, 0, 0, 0, 0, 0, 0, 0, 0, 0, 0, 0, 0, 0, 0, 0, 0, 0, 0, 0, 0, 0, 0, 0, 0, 0, 0, 0, 0, 0, 0, 0, 0, 0, 0, 0, 0, 0, 0, 0, 0, 0, 0, 0, 0, 0, 0, 0, 0, 0, 0, 0, 0, 0, 0, 0, 0, 0, 0, 0, 0, 0, 0, 0, 0, 0, 0, 0, 0, 0, 0, 0, 0, 0, 0, 0, 0, 0, 0, 0, 0, 0, 0, 0, 0, 0, 0, 0, 0, 0, 0, 0, 0, 0, 0, 0, 0, 0, 0, 0, 0, 0, 0, 0, 0, 0, 0, 0, 0, 0, 0, 0, 0, 0, 0, 0, 0, 0, 0, 0, 0, 0, 0, 0, 0, 0, 0, 0, 0, 0, 0, 0, 0, 0, 0, 0, 0, 0, 0, 0, 0, 0, 0, 0, 0, 0, 0, 0, 0, 0, 0, 0, 0, 0, 0, 0, 0, 0, 0, 0, 0, 0, 0, 0, 0, 0, 0, 0, 0, 0, 0, 0, 0, 0, 0, 0, 0, 0, 0, 0, 0, 0, 0, 0, 0, 0, 0, 0, 0, 0, 0, 0, 0, 0, 0, 0, 0, 0, 0, 0, 0, 0, 0, 0, 0, 0, 0, 0, 0, 0, 0, 0, 0, 0, 0, 0, 0, 0, 0, 0, 0, 0, 0, 0, 0, 0, 0, 0, 0, 0, 0, 0, 0, 0, 0, 0, 0, 0, 0, 0, 0, 0, 0, 0, 0, 0, 0, 0, 0, 0, 0, 0, 0, 0, 0, 0, 0, 0, 0, 0, 0, 0, 0, 0, 0, 0, 0, 0, 0, 0, 0, 0, 0, 0, 0, 0, 0, 0, 0, 0, 0, 0, 0, 0, 0, 0, 0, 0, 0, 0, 0, 0, 0, 0, 0, 0, 0, 0, 0, 0, 0, 0, 0, 0, 0, 0, 0, 0, 0, 0, 0, 0, 0, 0, 0, 0, 0, 0, 0, 0, 0, 0, 0, 0, 0, 0, 0, 0, 0, 0, 0, 0, 0, 0, 0, 0, 0, 0, 0, 0, 0, 0, 0, 0, 0, 0, 0, 0, 0, 0, 0, 0, 0, 0, 0, 0, 0, 0, 0, 0, 0, 0, 0, 0, 0, 0, 0, 0, 0, 0, 0, 0, 0, 0, 0, 0, 0, 0, 0, 0, 0, 0, 0, 0, 0, 0, 0, 0, 0, 0, 0, 0, 0, 0, 0, 0, 0, 0, 0, 0, 0, 0, 0, 0, 0, 0, 0, 0, 0, 0, 0, 0, 0, 0, 0, 0, 0, 0, 0, 0, 0, 0, 0, 0, 0, 0, 0, 0, 0, 0, 0, 0, 0, 0, 0, 0, 0, 0, 0, 0, 0, 0, 0, 0, 0, 0, 0, 0, 0, 0, 0, 0, 0, 0, 0, 0, 0, 0, 0, 0, 0, 0, 0, 0, 0, 0, 0, 0, 0, 0, 0, 0, 0, 0, 0, 0, 0, 0, 0, 0, 0, 0, 0, 0, 0, 0, 0, 0, 0, 0, 0, 0, 0, 0, 0, 0, 0, 0, 0, 0, 0, 0, 0, 0, 0, 0, 0, 0, 0, 0, 0, 0, 0, 0, 0, 0, 0, 0, 0, 0, 0, 0, 0, 0, 0, 0, 0, 0, 0, 0, 0, 0, 0, 0, 0, 0, 0, 0, 0, 0, 0, 0, 0, 0, 0, 0, 0, 0, 0, 0, 0, 0, 0, 0, 0, 0, 0, 0, 0, 0, 0, 0, 0, 0, 0, 0, 0, 0, 0, 0, 0, 0, 0, 0, 0, 0, 0, 0, 0, 0, 0, 0, 0, 0, 0, 0, 0, 0, 0, 0, 0, 0, 0, 0, 0, 0, 0, 0, 0, 0, 0, 0, 0, 0, 0, 0, 0, 0, 0, 0, 0, 0, 0, 0, 0, 0, 0, 0, 0, 0, 0, 0, 0, 0, 0, 0, 0, 0, 0, 0, 0, 0, 0, 0, 0, 0, 0, 0, 0, 0, 0, 0, 0, 0, 0, 0, 0, 0, 0, 0, 0, 0, 0, 0, 0, 0, 0, 0, 0, 0, 0, 0, 0, 0, 0, 0, 0, 0, 0, 0, 0, 0, 0, 0, 0, 0, 0, 0, 0, 0, 0, 0, 0, 0, 0, 0, 0, 0, 0, 0, 0, 0, 0, 0, 0, 0, 0, 0, 0, 0, 0, 0, 0, 0, 0, 0, 0, 0, 0, 0, 0, 0, 0, 0, 0, 0, 0, 0, 0, 0, 0, 0, 0, 0, 0, 0, 0, 0, 0, 0, 0, 0, 0, 0, 0, 0, 0, 0, 0, 0, 0, 0, 0, 0, 0, 0, 0, 0, 0, 0, 0, 0, 0, 0, 0, 0, 0, 0, 0, 0, 0, 0, 0, 0, 0, 0, 0, 0, 0, 0, 0, 0, 0, 0, 0, 0, 0, 0, 0, 0, 0, 0, 0, 0, 0, 0, 0, 0, 0, 0, 0, 0, 0, 0, 0, 0, 0, 0, 0, 0, 0, 0, 0, 0, 0, 0, 0, 0, 0, 0, 0, 0, 0, 0, 0, 0, 0, 0, 0, 0, 0, 0, 0, 0, 0, 0, 0, 0, 0, 0, 0, 0, 0, 0, 0, 0, 0, 0, 0, 0, 0, 0, 0, 0, 0, 0, 0, 0, 0, 0, 0, 0, 0, 0, 0, 0, 0, 0, 0, 0, 0, 0, 0, 0, 0, 0, 0, 0, 0, 0, 0, 0, 0, 0, 0, 0, 0, 0, 0, 0, 0, 0, 0, 0, 0, 0, 0, 0, 0, 0, 0, 0, 0, 0, 0, 0, 0, 0, 0, 0, 0, 0, 0, 0, 0, 0, 0, 0, 0, 0, 0, 0, 0, 0, 0, 0, 0, 0, 0, 0, 0, 0, 0, 0, 0, 0, 0, 0, 0, 0, 0, 0, 0, 0, 0, 0, 0, 0, 0, 0, 0, 0, 0, 0, 0, 0, 0, 0, 0, 0, 0, 0, 0, 0, 0, 0, 0, 0, 0, 0, 0, 0, 0, 0, 0, 0, 0, 0, 0, 0, 0, 0, 0, 0, 0, 0, 0, 0, 0, 0, 0, 0, 0, 0, 0, 0, 0, 0, 0, 0, 0, 0, 0, 0, 0, 0, 0, 0, 0, 0, 0, 0, 0, 0, 0, 0, 0, 0, 0, 0, 0, 0, 0, 0, 0, 0, 0, 0, 0, 0, 0, 0, 0, 0, 0, 0, 0, 0, 0, 0, 0, 0, 0, 0, 0, 0, 0, 0, 0, 0, 0, 0, 0, 0, 0, 0, 0, 0, 0, 0, 0, 0, 0, 0, 0, 0, 0, 0, 0, 0, 0, 0, 0, 0, 0, 0, 0, 0, 0, 0, 0, 0, 0, 0, 0, 0, 0, 0, 0, 0, 0, 0, 0, 0, 0, 0, 0, 0, 0, 0, 0, 0, 0, 0, 0, 0, 0, 0, 0, 0, 0, 0, 0, 0, 0, 0, 0, 0, 0, 0, 0, 0, 0, 0, 0, 0, 0, 0, 0, 0, 0, 0, 0, 0, 0, 0, 0, 0, 0, 0, 0, 0, 0, 0, 0, 0, 0, 0, 0, 0, 0, 0, 0, 0, 0, 0, 0, 0, 0, 0, 0, 0, 0, 0, 0, 0, 0, 0, 0, 0, 0, 0, 0, 0, 0, 0, 0, 0, 0, 0, 0, 0, 0, 0, 0, 0, 0, 0, 0, 0, 0, 0, 0, 0, 0, 0, 0, 0, 0, 0, 0, 0, 0, 0, 0, 0, 0, 0, 0, 0, 0, 0, 0, 0, 0, 0, 0, 0, 0, 0, 0, 0, 0, 0, 0, 0, 0, 0, 0, 0, 0, 0, 0, 0, 0, 0, 0, 0, 0, 0, 0, 0, 0, 0, 0, 0, 0, 0, 0, 0, 0, 0, 0, 0, 0, 0, 0, 0, 0, 0, 0, 0, 0, 0, 0, 0, 0, 0, 0, 0, 0, 0, 0, 0, 0, 0, 0, 0, 0, 0, 0, 0, 0, 0, 0, 0, 0, 0, 0, 0, 0, 0, 0, 0, 0, 0, 0, 0, 0, 0, 0, 0, 0, 0, 0, 0, 0, 0, 0, 0, 0, 0, 0, 0, 0, 0, 0, 0, 0, 0, 0, 0, 0, 0, 0, 0, 0, 0, 0, 0, 0, 0, 0, 0, 0, 0, 0, 0, 0, 0, 0, 0, 0, 0, 0, 0, 0, 0, 0, 0, 0, 0, 0, 0, 0, 0, 0, 0, 0, 0, 0, 0, 0, 0, 0, 0, 0, 0, 0, 0, 0, 0, 0, 0, 0, 0, 0, 0, 0, 0, 0, 0, 0, 0, 0, 0, 0, 0, 0, 0, 0, 0, 0, 0, 0, 0, 0, 0, 0, 0, 0, 0, 0, 0, 0, 0, 0, 0, 0, 0, 0, 0, 0, 0, 0, 0, 0, 0, 0, 0, 0, 0, 0, 0, 0, 0, 0, 0, 0, 0, 0, 0, 0, 0, 0, 0, 0, 0, 0, 0, 0, 0, 0, 0, 0, 0, 0, 0, 0, 0, 0, 0, 0, 0, 0, 0, 0, 0, 0, 0, 0, 0, 0, 0, 0, 0, 0, 0, 0, 0, 0, 0, 0, 0, 0, 0, 0, 0, 0, 0, 0, 0, 0, 0, 0, 0, 0, 0, 0, 0, 0, 0, 0, 0, 0, 0, 0, 0, 0, 0, 0, 0, 0, 0, 0, 0, 0, 0, 0, 0, 0, 0, 0, 0, 0, 0, 0, 0, 0, 0, 0, 0, 0, 0, 0, 0, 0, 0, 0, 0, 0, 0, 0, 0, 0, 0, 0, 0, 0, 0, 0, 0, 0, 0, 0, 0, 0, 0, 0, 0, 0, 0, 0, 0, 0, 0, 0, 0, 0, 0, 0, 0, 0, 0, 0, 0, 0, 0, 0, 0, 0, 0, 0, 0, 0, 0, 0, 0, 0, 0, 0, 0, 0, 0, 0, 0, 0, 0, 0, 0, 0, 0, 0, 0, 0, 0, 0, 0, 0, 0, 0, 0, 0, 0, 0, 0, 0, 0, 0, 0, 0, 0, 0, 0, 0, 0, 0, 0, 0, 0, 0, 0, 0, 0, 0, 0, 0, 0, 0, 0, 0, 0, 0, 0, 0, 0, 0, 0, 0, 0, 0, 0, 0, 0, 0, 0, 0, 0, 0, 0, 0, 0, 0, 0, 0, 0, 0, 0, 0, 0, 0, 0, 0, 0, 0, 0, 0, 0, 0, 0, 0, 0, 0, 0, 0, 0, 0, 0, 0, 0, 0, 0, 0, 0, 0, 0, 0, 0, 0, 0, 0, 0, 0, 0, 0, 0, 0, 0, 0, 0, 0, 0, 0, 0, 0, 0, 0, 0, 0, 0, 0, 0, 0, 0, 0, 0, 0, 0, 0, 0, 0, 0, 0, 0, 0, 0, 0, 0, 0, 0, 0, 0, 0, 0, 0, 0, 0, 0, 0, 0, 0, 0, 0, 0, 0, 0, 0, 0, 0, 0, 0, 0, 0, 0, 0, 0, 0, 0, 0, 0, 0, 0, 0, 0, 0, 0, 0, 0, 0, 0, 0, 0, 0, 0, 0, 0, 0, 0, 0, 0, 0, 0, 0, 0, 0, 0, 0, 0, 0, 0, 0, 0, 0, 0, 0, 0, 0, 0, 0, 0, 0, 0, 0, 0, 0, 0, 0, 0, 0, 0, 0, 0, 0, 0, 0, 0, 0, 0, 0, 0, 0, 0, 0, 0, 0, 0, 0, 0, 0, 0, 0, 0, 0, 0, 0, 0, 0, 0, 0, 0, 0, 0, 0, 0, 0, 0, 0, 0, 0, 0, 0, 0, 0, 0, 0, 0, 0, 0, 0, 0, 0, 0, 0, 0, 0, 0, 0, 0, 0, 0, 0, 0, 0, 0, 0, 0, 0, 0, 0, 0, 0, 0, 0, 0, 0, 0, 0, 0, 0, 0, 0, 0, 0, 0, 0, 0, 0, 0, 0, 0, 0, 0, 0, 0, 0, 0, 0, 0, 0, 0, 0, 0, 0, 0, 0, 0, 0, 0, 0, 0, 0, 0, 0, 0, 0, 0, 0, 0, 0, 0, 0, 0, 0, 0, 0, 0, 0, 0, 0, 0, 0, 0, 0, 0, 0, 0, 0, 0, 0, 0, 0, 0, 0, 0, 0, 0, 0, 0, 0, 0, 0, 0, 0, 0, 0, 0, 0, 0, 0, 0, 0, 0, 0, 0, 0, 0, 156, 0, 1, 2, 3, 4, 5, 6, 7, 8, 9, 10, 11, 12, 13, 14, 15, 16, 17, 18, 19, 20, 21, 22, 23, 24, 25, 26, 27, 28, 29, 30, 31, 32, 33, 34, 35, 36, 37, 38, 39, 40, 41, 42, 43, 44, 45, 46, 47, 48, 49, 50, 51, 52, 53, 54, 55, 56, 57, 58, 59, 60, 61, 62, 63, 64, 65, 66, 67, 68, 69, 70, 71, 72, 73, 74, 75, 76, 77, 78, 79, 80, 81, 82, 83, 84, 85, 86, 87, 88, 89, 90, 91, 92, 93, 94, 95, 96, 97, 98, 99, 100, 101, 102, 103, 104, 105, 106, 107, 108, 109, 110, 111, 112, 113, 114, 115, 116, 117, 118, 119, 120, 121, 122, 123, 124, 125, 126, 127, 128, 129, 130, 131, 132, 133, 134, 135, 136, 137, 138, 139, 140, 141, 142, 143, 143, 144, 145, 146, 147, 148, 149, 150, 151, 152, 153, 154, 155, 157, 158, 159, 160, 161, 162, 163, 164, 165, 166, 167, 168, 169, 170, 171, 172, 173, 174, 175, 176, 177, 178, 179, 180, 181, 182, 183, 184, 185, 186, 187, 188, 189, 190, 191, 192, 193, 194, 195, 196, 197, 198, 199, 200, 201, 202, 203, 204, 205, 206, 207, 208, 209, 210, 211, 212, 213, 214, 215, 216, 217, 218, 219, 220, 221, 222, 223, 224, 225, 226, 227, 228, 229, 230, 231, 232, 233, 234, 235, 236, 237, 238, 239, 240, 241, 242, 243, 244, 245, 246, 247, 248, 249, 250, 251, 252, 253, 254, 255]"
   ]
  },
  {
   "cell_type": "code",
   "execution_count": null,
   "id": "1f5e26c6-0745-49c7-b437-fa4377d2b15e",
   "metadata": {},
   "outputs": [],
   "source": [
    "self.assertListEqual(bzd.mtfa, expected)"
   ]
  },
  {
   "cell_type": "code",
   "execution_count": null,
   "id": "471e0c47-8f13-49b4-a991-976ed86b6e13",
   "metadata": {},
   "outputs": [],
   "source": [
    "if bzd.mtfbase[0] == 0:\n",
    "    k = MTFA_SIZE - 1\n",
    "    for i in reversed(range(int(256 / MTFL_SIZE))):\n",
    "        for j in reversed(range(MTFL_SIZE)):\n",
    "            bzd.mtfa[k] = bzd.mtfa[bzd.mtfbase[i] + j]\n",
    "            k -= 1\n",
    "        bzd.mtfbase[i] = k + 1"
   ]
  },
  {
   "cell_type": "code",
   "execution_count": null,
   "id": "2ebddbfe-8727-4030-8bf5-f956a589a95c",
   "metadata": {
    "jupyter": {
     "source_hidden": true
    }
   },
   "outputs": [],
   "source": [
    "expected = [0, 0, 0, 0, 0, 0, 0, 0, 0, 0, 0, 0, 0, 0, 0, 0, 0, 0, 0, 0, 0, 0, 0, 0, 0, 0, 0, 0, 0, 0, 0, 0, 0, 0, 0, 0, 0, 0, 0, 0, 0, 0, 0, 0, 0, 0, 0, 0, 0, 0, 0, 0, 0, 0, 0, 0, 0, 0, 0, 0, 0, 0, 0, 0, 0, 0, 0, 0, 0, 0, 0, 0, 0, 0, 0, 0, 0, 0, 0, 0, 0, 0, 0, 0, 0, 0, 0, 0, 0, 0, 0, 0, 0, 0, 0, 0, 0, 0, 0, 0, 0, 0, 0, 0, 0, 0, 0, 0, 0, 0, 0, 0, 0, 0, 0, 0, 0, 0, 0, 0, 0, 0, 0, 0, 0, 0, 0, 0, 0, 0, 0, 0, 0, 0, 0, 0, 0, 0, 0, 0, 0, 0, 0, 0, 0, 0, 0, 0, 0, 0, 0, 0, 0, 0, 0, 0, 0, 0, 0, 0, 0, 0, 0, 0, 0, 0, 0, 0, 0, 0, 0, 0, 0, 0, 0, 0, 0, 0, 0, 0, 0, 0, 0, 0, 0, 0, 0, 0, 0, 0, 0, 0, 0, 0, 0, 0, 0, 0, 0, 0, 0, 0, 0, 0, 0, 0, 0, 0, 0, 0, 0, 0, 0, 0, 0, 0, 0, 0, 0, 0, 0, 0, 0, 0, 0, 0, 0, 0, 0, 0, 0, 0, 0, 0, 0, 0, 0, 0, 0, 0, 0, 0, 0, 0, 0, 0, 0, 0, 0, 0, 0, 0, 0, 0, 0, 0, 0, 0, 0, 0, 0, 0, 0, 0, 0, 0, 0, 0, 0, 0, 0, 0, 0, 0, 0, 0, 0, 0, 0, 0, 0, 0, 0, 0, 0, 0, 0, 0, 0, 0, 0, 0, 0, 0, 0, 0, 0, 0, 0, 0, 0, 0, 0, 0, 0, 0, 0, 0, 0, 0, 0, 0, 0, 0, 0, 0, 0, 0, 0, 0, 0, 0, 0, 0, 0, 0, 0, 0, 0, 0, 0, 0, 0, 0, 0, 0, 0, 0, 0, 0, 0, 0, 0, 0, 0, 0, 0, 0, 0, 0, 0, 0, 0, 0, 0, 0, 0, 0, 0, 0, 0, 0, 0, 0, 0, 0, 0, 0, 0, 0, 0, 0, 0, 0, 0, 0, 0, 0, 0, 0, 0, 0, 0, 0, 0, 0, 0, 0, 0, 0, 0, 0, 0, 0, 0, 0, 0, 0, 0, 0, 0, 0, 0, 0, 0, 0, 0, 0, 0, 0, 0, 0, 0, 0, 0, 0, 0, 0, 0, 0, 0, 0, 0, 0, 0, 0, 0, 0, 0, 0, 0, 0, 0, 0, 0, 0, 0, 0, 0, 0, 0, 0, 0, 0, 0, 0, 0, 0, 0, 0, 0, 0, 0, 0, 0, 0, 0, 0, 0, 0, 0, 0, 0, 0, 0, 0, 0, 0, 0, 0, 0, 0, 0, 0, 0, 0, 0, 0, 0, 0, 0, 0, 0, 0, 0, 0, 0, 0, 0, 0, 0, 0, 0, 0, 0, 0, 0, 0, 0, 0, 0, 0, 0, 0, 0, 0, 0, 0, 0, 0, 0, 0, 0, 0, 0, 0, 0, 0, 0, 0, 0, 0, 0, 0, 0, 0, 0, 0, 0, 0, 0, 0, 0, 0, 0, 0, 0, 0, 0, 0, 0, 0, 0, 0, 0, 0, 0, 0, 0, 0, 0, 0, 0, 0, 0, 0, 0, 0, 0, 0, 0, 0, 0, 0, 0, 0, 0, 0, 0, 0, 0, 0, 0, 0, 0, 0, 0, 0, 0, 0, 0, 0, 0, 0, 0, 0, 0, 0, 0, 0, 0, 0, 0, 0, 0, 0, 0, 0, 0, 0, 0, 0, 0, 0, 0, 0, 0, 0, 0, 0, 0, 0, 0, 0, 0, 0, 0, 0, 0, 0, 0, 0, 0, 0, 0, 0, 0, 0, 0, 0, 0, 0, 0, 0, 0, 0, 0, 0, 0, 0, 0, 0, 0, 0, 0, 0, 0, 0, 0, 0, 0, 0, 0, 0, 0, 0, 0, 0, 0, 0, 0, 0, 0, 0, 0, 0, 0, 0, 0, 0, 0, 0, 0, 0, 0, 0, 0, 0, 0, 0, 0, 0, 0, 0, 0, 0, 0, 0, 0, 0, 0, 0, 0, 0, 0, 0, 0, 0, 0, 0, 0, 0, 0, 0, 0, 0, 0, 0, 0, 0, 0, 0, 0, 0, 0, 0, 0, 0, 0, 0, 0, 0, 0, 0, 0, 0, 0, 0, 0, 0, 0, 0, 0, 0, 0, 0, 0, 0, 0, 0, 0, 0, 0, 0, 0, 0, 0, 0, 0, 0, 0, 0, 0, 0, 0, 0, 0, 0, 0, 0, 0, 0, 0, 0, 0, 0, 0, 0, 0, 0, 0, 0, 0, 0, 0, 0, 0, 0, 0, 0, 0, 0, 0, 0, 0, 0, 0, 0, 0, 0, 0, 0, 0, 0, 0, 0, 0, 0, 0, 0, 0, 0, 0, 0, 0, 0, 0, 0, 0, 0, 0, 0, 0, 0, 0, 0, 0, 0, 0, 0, 0, 0, 0, 0, 0, 0, 0, 0, 0, 0, 0, 0, 0, 0, 0, 0, 0, 0, 0, 0, 0, 0, 0, 0, 0, 0, 0, 0, 0, 0, 0, 0, 0, 0, 0, 0, 0, 0, 0, 0, 0, 0, 0, 0, 0, 0, 0, 0, 0, 0, 0, 0, 0, 0, 0, 0, 0, 0, 0, 0, 0, 0, 0, 0, 0, 0, 0, 0, 0, 0, 0, 0, 0, 0, 0, 0, 0, 0, 0, 0, 0, 0, 0, 0, 0, 0, 0, 0, 0, 0, 0, 0, 0, 0, 0, 0, 0, 0, 0, 0, 0, 0, 0, 0, 0, 0, 0, 0, 0, 0, 0, 0, 0, 0, 0, 0, 0, 0, 0, 0, 0, 0, 0, 0, 0, 0, 0, 0, 0, 0, 0, 0, 0, 0, 0, 0, 0, 0, 0, 0, 0, 0, 0, 0, 0, 0, 0, 0, 0, 0, 0, 0, 0, 0, 0, 0, 0, 0, 0, 0, 0, 0, 0, 0, 0, 0, 0, 0, 0, 0, 0, 0, 0, 0, 0, 0, 0, 0, 0, 0, 0, 0, 0, 0, 0, 0, 0, 0, 0, 0, 0, 0, 0, 0, 0, 0, 0, 0, 0, 0, 0, 0, 0, 0, 0, 0, 0, 0, 0, 0, 0, 0, 0, 0, 0, 0, 0, 0, 0, 0, 0, 0, 0, 0, 0, 0, 0, 0, 0, 0, 0, 0, 0, 0, 0, 0, 0, 0, 0, 0, 0, 0, 0, 0, 0, 0, 0, 0, 0, 0, 0, 0, 0, 0, 0, 0, 0, 0, 0, 0, 0, 0, 0, 0, 0, 0, 0, 0, 0, 0, 0, 0, 0, 0, 0, 0, 0, 0, 0, 0, 0, 0, 0, 0, 0, 0, 0, 0, 0, 0, 0, 0, 0, 0, 0, 0, 0, 0, 0, 0, 0, 0, 0, 0, 0, 0, 0, 0, 0, 0, 0, 0, 0, 0, 0, 0, 0, 0, 0, 0, 0, 0, 0, 0, 0, 0, 0, 0, 0, 0, 0, 0, 0, 0, 0, 0, 0, 0, 0, 0, 0, 0, 0, 0, 0, 0, 0, 0, 0, 0, 0, 0, 0, 0, 0, 0, 0, 0, 0, 0, 0, 0, 0, 0, 0, 0, 0, 0, 0, 0, 0, 0, 0, 0, 0, 0, 0, 0, 0, 0, 0, 0, 0, 0, 0, 0, 0, 0, 0, 0, 0, 0, 0, 0, 0, 0, 0, 0, 0, 0, 0, 0, 0, 0, 0, 0, 0, 0, 0, 0, 0, 0, 0, 0, 0, 0, 0, 0, 0, 0, 0, 0, 0, 0, 0, 0, 0, 0, 0, 0, 0, 0, 0, 0, 0, 0, 0, 0, 0, 0, 0, 0, 0, 0, 0, 0, 0, 0, 0, 0, 0, 0, 0, 0, 0, 0, 0, 0, 0, 0, 0, 0, 0, 0, 0, 0, 0, 0, 0, 0, 0, 0, 0, 0, 0, 0, 0, 0, 0, 0, 0, 0, 0, 0, 0, 0, 0, 0, 0, 0, 0, 0, 0, 0, 0, 0, 0, 0, 0, 0, 0, 0, 0, 0, 0, 0, 0, 0, 0, 0, 0, 0, 0, 0, 0, 0, 0, 0, 0, 0, 0, 0, 0, 0, 0, 0, 0, 0, 0, 0, 0, 0, 0, 0, 0, 0, 0, 0, 0, 0, 0, 0, 0, 0, 0, 0, 0, 0, 0, 0, 0, 0, 0, 0, 0, 0, 0, 0, 0, 0, 0, 0, 0, 0, 0, 0, 0, 0, 0, 0, 0, 0, 0, 0, 0, 0, 0, 0, 0, 0, 0, 0, 0, 0, 0, 0, 0, 0, 0, 0, 0, 0, 0, 0, 0, 0, 0, 0, 0, 0, 0, 0, 0, 0, 0, 0, 0, 0, 0, 0, 0, 0, 0, 0, 0, 0, 0, 0, 0, 0, 0, 0, 0, 0, 0, 0, 0, 0, 0, 0, 0, 0, 0, 0, 0, 0, 0, 0, 0, 0, 0, 0, 0, 0, 0, 0, 0, 0, 0, 0, 0, 0, 0, 0, 0, 0, 0, 0, 0, 0, 0, 0, 0, 0, 0, 0, 0, 0, 0, 0, 0, 0, 0, 0, 0, 0, 0, 0, 0, 0, 0, 0, 0, 0, 0, 0, 0, 0, 0, 0, 0, 0, 0, 0, 0, 0, 0, 0, 0, 0, 0, 0, 0, 0, 0, 0, 0, 0, 0, 0, 0, 0, 0, 0, 0, 0, 0, 0, 0, 0, 0, 0, 0, 0, 0, 0, 0, 0, 0, 0, 0, 0, 0, 0, 0, 0, 0, 0, 0, 0, 0, 0, 0, 0, 0, 0, 0, 0, 0, 0, 0, 0, 0, 0, 0, 0, 0, 0, 0, 0, 0, 0, 0, 0, 0, 0, 0, 0, 0, 0, 0, 0, 0, 0, 0, 0, 0, 0, 0, 0, 0, 0, 0, 0, 0, 0, 0, 0, 0, 0, 0, 0, 0, 0, 0, 0, 0, 0, 0, 0, 0, 0, 0, 0, 0, 0, 0, 0, 0, 0, 0, 0, 0, 0, 0, 0, 0, 0, 0, 0, 0, 0, 0, 0, 0, 0, 0, 0, 0, 0, 0, 0, 0, 0, 0, 0, 0, 0, 0, 0, 0, 0, 0, 0, 0, 0, 0, 0, 0, 0, 0, 0, 0, 0, 0, 0, 0, 0, 0, 0, 0, 0, 0, 0, 0, 0, 0, 0, 0, 0, 0, 0, 0, 0, 0, 0, 0, 0, 0, 0, 0, 0, 0, 0, 0, 0, 0, 0, 0, 0, 0, 0, 0, 0, 0, 0, 0, 0, 0, 0, 0, 0, 0, 0, 0, 0, 0, 0, 0, 0, 0, 0, 0, 0, 0, 0, 0, 0, 0, 0, 0, 0, 0, 0, 0, 0, 0, 0, 0, 0, 0, 0, 0, 0, 0, 0, 0, 0, 0, 0, 0, 0, 0, 0, 0, 0, 0, 0, 0, 0, 0, 0, 0, 0, 0, 0, 0, 0, 0, 0, 0, 0, 0, 0, 0, 0, 0, 0, 0, 0, 0, 0, 0, 0, 0, 0, 0, 0, 0, 0, 0, 0, 0, 0, 0, 0, 0, 0, 0, 0, 0, 0, 0, 0, 0, 0, 0, 0, 0, 0, 0, 0, 0, 0, 0, 0, 0, 0, 0, 0, 0, 0, 0, 0, 0, 0, 0, 0, 0, 0, 0, 0, 0, 0, 0, 0, 0, 0, 0, 0, 0, 0, 0, 0, 0, 0, 0, 0, 0, 0, 0, 0, 0, 0, 0, 0, 0, 0, 0, 0, 0, 0, 0, 0, 0, 0, 0, 0, 0, 0, 0, 0, 0, 0, 0, 0, 0, 0, 0, 0, 0, 0, 0, 0, 0, 0, 0, 0, 0, 0, 0, 0, 0, 0, 0, 0, 0, 0, 0, 0, 0, 0, 0, 0, 0, 0, 0, 0, 0, 0, 0, 0, 0, 0, 0, 0, 0, 0, 0, 0, 0, 0, 0, 0, 0, 0, 0, 0, 0, 0, 0, 0, 0, 0, 0, 0, 0, 0, 0, 0, 0, 0, 0, 0, 0, 0, 0, 0, 0, 0, 0, 0, 0, 0, 0, 0, 0, 0, 0, 0, 0, 0, 0, 0, 0, 0, 0, 0, 0, 0, 0, 0, 0, 0, 0, 0, 0, 0, 0, 0, 0, 0, 0, 0, 0, 0, 0, 0, 0, 0, 0, 0, 0, 0, 0, 0, 0, 0, 0, 0, 0, 0, 0, 0, 0, 0, 0, 0, 0, 0, 0, 0, 0, 0, 0, 0, 0, 0, 0, 0, 0, 0, 0, 0, 0, 0, 0, 0, 0, 0, 0, 0, 0, 0, 0, 0, 0, 0, 0, 0, 0, 0, 0, 0, 0, 0, 0, 0, 0, 0, 0, 0, 0, 0, 0, 0, 0, 0, 0, 0, 0, 0, 0, 0, 0, 0, 0, 0, 0, 0, 0, 0, 0, 0, 0, 0, 0, 0, 0, 0, 0, 0, 0, 0, 0, 0, 0, 0, 0, 0, 0, 0, 0, 0, 0, 0, 0, 0, 0, 0, 0, 0, 0, 0, 0, 0, 0, 0, 0, 0, 0, 0, 0, 0, 0, 0, 0, 0, 0, 0, 0, 0, 0, 0, 0, 0, 0, 0, 0, 0, 0, 0, 0, 0, 0, 0, 0, 0, 0, 0, 0, 0, 0, 0, 0, 0, 0, 0, 0, 0, 0, 0, 0, 0, 0, 0, 0, 0, 0, 0, 0, 0, 0, 0, 0, 0, 0, 0, 0, 0, 0, 0, 0, 0, 0, 0, 0, 0, 0, 0, 0, 0, 0, 0, 0, 0, 0, 0, 0, 0, 0, 0, 0, 0, 0, 0, 0, 0, 0, 0, 0, 0, 0, 0, 0, 0, 0, 0, 0, 0, 0, 0, 0, 0, 0, 0, 0, 0, 0, 0, 0, 0, 0, 0, 0, 0, 0, 0, 0, 0, 0, 0, 0, 0, 0, 0, 0, 0, 0, 0, 0, 0, 0, 0, 0, 0, 0, 0, 0, 0, 0, 0, 0, 0, 0, 0, 0, 0, 0, 0, 0, 0, 0, 0, 0, 0, 0, 0, 0, 0, 0, 0, 0, 0, 0, 0, 0, 0, 0, 0, 0, 0, 0, 0, 0, 0, 0, 0, 0, 0, 0, 0, 0, 0, 0, 0, 0, 0, 0, 0, 0, 0, 0, 0, 0, 0, 0, 0, 0, 0, 0, 0, 0, 0, 0, 0, 0, 0, 0, 0, 0, 0, 0, 0, 0, 0, 0, 0, 0, 0, 0, 0, 0, 0, 0, 0, 0, 0, 0, 0, 0, 0, 0, 0, 0, 0, 0, 0, 0, 0, 0, 0, 0, 0, 0, 0, 0, 0, 0, 0, 0, 0, 0, 0, 0, 0, 0, 0, 0, 0, 0, 0, 0, 0, 0, 0, 0, 0, 0, 0, 0, 0, 0, 0, 0, 0, 0, 0, 0, 0, 0, 0, 0, 0, 0, 0, 0, 0, 0, 0, 0, 0, 0, 0, 0, 0, 0, 0, 0, 0, 0, 0, 0, 0, 0, 0, 0, 0, 0, 0, 0, 0, 0, 0, 0, 0, 0, 0, 0, 0, 0, 0, 0, 0, 0, 0, 0, 0, 0, 0, 0, 0, 0, 0, 0, 0, 0, 0, 0, 0, 0, 0, 0, 0, 0, 0, 0, 0, 0, 0, 0, 0, 0, 0, 0, 0, 0, 0, 0, 0, 0, 0, 0, 0, 0, 0, 0, 0, 0, 0, 0, 0, 0, 0, 0, 0, 0, 0, 0, 0, 0, 0, 0, 0, 0, 0, 0, 0, 0, 0, 0, 0, 0, 0, 0, 0, 0, 0, 0, 0, 0, 0, 0, 0, 0, 0, 0, 0, 0, 0, 0, 0, 0, 0, 0, 0, 0, 0, 0, 0, 0, 0, 0, 0, 0, 0, 0, 0, 0, 0, 0, 0, 0, 0, 0, 0, 0, 0, 0, 0, 0, 0, 0, 0, 0, 0, 0, 0, 0, 0, 0, 0, 0, 0, 0, 0, 0, 0, 0, 0, 0, 0, 0, 0, 0, 0, 0, 0, 0, 0, 0, 0, 0, 0, 0, 0, 0, 0, 0, 0, 0, 0, 0, 0, 0, 0, 0, 0, 0, 0, 0, 0, 0, 0, 0, 0, 0, 0, 0, 0, 0, 0, 0, 0, 0, 0, 0, 0, 0, 0, 0, 0, 0, 0, 0, 0, 0, 0, 0, 0, 0, 0, 0, 0, 0, 0, 0, 0, 0, 0, 0, 0, 0, 0, 0, 0, 0, 0, 0, 0, 0, 0, 0, 0, 0, 0, 0, 0, 0, 0, 0, 0, 0, 0, 0, 0, 0, 0, 0, 0, 0, 0, 0, 0, 0, 0, 0, 0, 0, 0, 0, 0, 0, 0, 0, 0, 0, 0, 0, 0, 0, 0, 0, 0, 0, 0, 0, 0, 0, 0, 0, 0, 0, 0, 0, 0, 0, 0, 0, 0, 0, 0, 0, 0, 0, 0, 0, 0, 0, 0, 0, 0, 0, 0, 0, 0, 0, 0, 0, 0, 0, 0, 0, 0, 0, 0, 0, 0, 0, 0, 0, 0, 0, 0, 0, 0, 0, 0, 0, 0, 0, 0, 0, 0, 0, 0, 0, 0, 0, 0, 0, 0, 0, 0, 0, 0, 0, 0, 0, 0, 0, 0, 0, 0, 0, 0, 0, 0, 0, 0, 0, 0, 0, 0, 0, 0, 0, 0, 0, 0, 0, 0, 0, 0, 0, 0, 0, 0, 0, 0, 0, 0, 0, 0, 0, 0, 0, 0, 0, 0, 0, 0, 0, 0, 0, 0, 0, 0, 0, 0, 0, 0, 0, 0, 0, 0, 0, 0, 0, 0, 0, 0, 0, 0, 0, 0, 0, 0, 0, 0, 0, 0, 0, 0, 0, 0, 0, 0, 0, 0, 0, 0, 0, 0, 0, 0, 0, 0, 0, 0, 0, 0, 0, 0, 0, 0, 0, 0, 0, 0, 0, 0, 0, 0, 0, 0, 0, 0, 0, 0, 0, 0, 0, 0, 0, 0, 0, 0, 0, 0, 0, 0, 0, 0, 0, 0, 0, 0, 0, 0, 0, 0, 0, 0, 0, 0, 0, 0, 0, 0, 0, 0, 0, 0, 0, 0, 0, 0, 0, 0, 0, 0, 0, 0, 0, 0, 0, 0, 0, 0, 0, 0, 0, 0, 0, 0, 0, 0, 0, 0, 0, 0, 0, 0, 0, 0, 0, 0, 0, 0, 0, 0, 0, 0, 0, 0, 0, 0, 0, 0, 0, 0, 0, 0, 0, 0, 0, 0, 0, 0, 0, 0, 0, 0, 0, 0, 0, 0, 0, 0, 0, 0, 0, 0, 0, 0, 0, 0, 0, 0, 0, 0, 0, 0, 0, 0, 0, 0, 0, 0, 0, 0, 0, 0, 0, 0, 0, 0, 0, 0, 0, 0, 0, 0, 0, 0, 0, 0, 0, 0, 0, 0, 0, 0, 0, 0, 0, 0, 0, 0, 0, 0, 0, 0, 0, 0, 0, 0, 0, 0, 0, 0, 0, 0, 0, 0, 0, 0, 0, 0, 0, 0, 0, 0, 0, 0, 0, 0, 0, 0, 0, 0, 0, 0, 0, 0, 0, 0, 0, 0, 0, 0, 0, 0, 0, 0, 0, 0, 0, 0, 0, 0, 0, 0, 0, 0, 0, 0, 0, 0, 0, 0, 0, 0, 0, 0, 0, 0, 0, 0, 0, 0, 0, 0, 0, 0, 0, 0, 0, 0, 0, 0, 0, 0, 0, 0, 0, 0, 0, 0, 0, 0, 0, 0, 0, 0, 0, 0, 0, 0, 0, 0, 0, 0, 0, 0, 0, 0, 0, 0, 0, 0, 0, 0, 0, 0, 0, 0, 0, 0, 0, 0, 0, 0, 0, 0, 0, 0, 0, 0, 0, 0, 0, 0, 0, 0, 0, 0, 0, 0, 0, 0, 0, 0, 0, 0, 0, 0, 0, 0, 0, 0, 0, 0, 0, 0, 0, 0, 0, 0, 0, 0, 0, 0, 0, 0, 0, 0, 0, 0, 0, 0, 0, 0, 0, 0, 0, 0, 0, 0, 0, 0, 0, 0, 0, 0, 0, 0, 0, 0, 0, 0, 0, 0, 0, 0, 0, 0, 0, 0, 0, 0, 0, 0, 0, 0, 0, 0, 0, 0, 0, 0, 0, 0, 0, 0, 0, 0, 0, 0, 0, 0, 0, 0, 0, 0, 0, 0, 0, 0, 0, 0, 0, 0, 0, 0, 0, 0, 0, 0, 0, 0, 0, 0, 0, 0, 0, 0, 0, 0, 0, 0, 0, 0, 0, 0, 0, 0, 0, 0, 0, 0, 0, 0, 0, 0, 0, 0, 0, 0, 0, 0, 0, 0, 0, 0, 0, 0, 0, 0, 0, 0, 0, 0, 0, 0, 0, 0, 0, 0, 0, 0, 0, 0, 0, 0, 0, 0, 0, 0, 0, 0, 0, 0, 0, 0, 0, 0, 0, 0, 0, 0, 0, 0, 0, 0, 0, 0, 0, 0, 0, 0, 0, 0, 0, 0, 0, 0, 0, 0, 0, 0, 0, 0, 0, 0, 0, 0, 0, 0, 0, 0, 0, 0, 0, 0, 0, 0, 0, 0, 0, 0, 0, 0, 0, 0, 0, 0, 0, 0, 0, 0, 0, 0, 0, 0, 0, 0, 0, 0, 0, 0, 0, 0, 0, 0, 0, 0, 0, 0, 0, 0, 0, 0, 0, 0, 0, 0, 0, 0, 0, 0, 0, 0, 0, 0, 0, 0, 0, 0, 0, 0, 0, 0, 0, 0, 0, 0, 0, 0, 0, 0, 0, 0, 0, 0, 0, 0, 0, 0, 0, 0, 0, 0, 0, 0, 0, 0, 0, 0, 0, 0, 0, 0, 0, 0, 0, 0, 0, 0, 0, 0, 0, 0, 0, 0, 0, 0, 0, 0, 0, 0, 0, 0, 0, 0, 0, 0, 0, 0, 0, 0, 0, 0, 0, 0, 0, 0, 0, 0, 0, 0, 0, 0, 0, 0, 0, 0, 0, 0, 0, 0, 0, 0, 0, 0, 0, 0, 0, 0, 0, 0, 0, 0, 0, 0, 0, 0, 0, 0, 0, 0, 0, 0, 0, 0, 0, 0, 0, 0, 0, 0, 0, 0, 0, 0, 0, 0, 0, 0, 0, 0, 0, 0, 0, 0, 0, 0, 0, 0, 0, 0, 0, 0, 0, 0, 0, 0, 0, 0, 0, 0, 0, 0, 0, 0, 0, 0, 0, 0, 0, 0, 0, 0, 0, 0, 0, 0, 0, 0, 0, 0, 0, 0, 0, 0, 0, 0, 0, 0, 0, 0, 0, 0, 0, 0, 0, 0, 0, 0, 0, 0, 0, 0, 0, 0, 0, 0, 0, 0, 0, 0, 0, 0, 0, 0, 0, 0, 0, 0, 0, 0, 0, 0, 0, 0, 0, 0, 0, 0, 0, 0, 0, 0, 0, 0, 0, 0, 0, 0, 0, 0, 0, 0, 0, 0, 0, 0, 0, 0, 0, 0, 0, 0, 0, 0, 0, 0, 0, 0, 0, 0, 0, 0, 0, 0, 0, 0, 0, 0, 0, 0, 0, 0, 0, 0, 0, 0, 0, 0, 0, 0, 0, 0, 0, 0, 0, 0, 0, 0, 0, 0, 0, 0, 0, 0, 0, 0, 0, 0, 0, 0, 0, 0, 0, 0, 0, 0, 0, 0, 0, 0, 0, 0, 0, 0, 0, 0, 0, 0, 0, 0, 0, 0, 0, 0, 0, 0, 0, 0, 0, 0, 0, 0, 0, 0, 0, 0, 0, 0, 0, 0, 0, 0, 0, 0, 0, 0, 0, 0, 0, 0, 0, 0, 0, 0, 0, 0, 0, 0, 0, 0, 0, 0, 0, 0, 0, 0, 0, 0, 0, 0, 0, 0, 0, 0, 0, 0, 0, 0, 0, 0, 0, 0, 0, 0, 0, 0, 0, 0, 0, 0, 0, 0, 0, 0, 0, 0, 0, 0, 0, 0, 0, 0, 0, 0, 0, 0, 0, 0, 0, 0, 0, 0, 0, 0, 0, 0, 0, 156, 0, 1, 2, 3, 4, 5, 6, 7, 8, 9, 10, 11, 12, 13, 14, 15, 16, 17, 18, 19, 20, 21, 22, 23, 24, 25, 26, 27, 28, 29, 30, 31, 32, 33, 34, 35, 36, 37, 38, 39, 40, 41, 42, 43, 44, 45, 46, 47, 48, 49, 50, 51, 52, 53, 54, 55, 56, 57, 58, 59, 60, 61, 62, 63, 64, 65, 66, 67, 68, 69, 70, 71, 72, 73, 74, 75, 76, 77, 78, 79, 80, 81, 82, 83, 84, 85, 86, 87, 88, 89, 90, 91, 92, 93, 94, 95, 96, 97, 98, 99, 100, 101, 102, 103, 104, 105, 106, 107, 108, 109, 110, 111, 112, 113, 114, 115, 116, 117, 118, 119, 120, 121, 122, 123, 124, 125, 126, 127, 128, 129, 130, 131, 132, 133, 134, 135, 136, 137, 138, 139, 140, 141, 142, 143, 143, 144, 145, 146, 147, 148, 149, 150, 151, 152, 153, 154, 155, 157, 158, 159, 160, 161, 162, 163, 164, 165, 166, 167, 168, 169, 170, 171, 172, 173, 174, 175, 176, 177, 178, 179, 180, 181, 182, 183, 184, 185, 186, 187, 188, 189, 190, 191, 192, 193, 194, 195, 196, 197, 198, 199, 200, 201, 202, 203, 204, 205, 206, 207, 208, 209, 210, 211, 212, 213, 214, 215, 216, 217, 218, 219, 220, 221, 222, 223, 224, 225, 226, 227, 228, 229, 230, 231, 232, 233, 234, 235, 236, 237, 238, 239, 240, 241, 242, 243, 244, 245, 246, 247, 248, 249, 250, 251, 252, 253, 254, 255]"
   ]
  },
  {
   "cell_type": "code",
   "execution_count": null,
   "id": "da61d3c2-fe37-4e02-bcd0-ac3138d0a305",
   "metadata": {},
   "outputs": [],
   "source": [
    "self.assertListEqual(bzd.mtfa, expected)"
   ]
  },
  {
   "cell_type": "code",
   "execution_count": null,
   "id": "51c701c3-a7c9-4cf3-8e00-c9131c311e57",
   "metadata": {},
   "outputs": [],
   "source": [
    "expected = [3839, 3855, 3871, 3887, 3903, 3919, 3935, 3951, 3967, 3984, 4000, 4016, 4032, 4048, 4064, 4080]"
   ]
  },
  {
   "cell_type": "code",
   "execution_count": null,
   "id": "c6c23ea5-ebee-43d7-b2f4-4e944d573ec0",
   "metadata": {},
   "outputs": [],
   "source": [
    "self.assertListEqual(bzd.mtfbase, expected)"
   ]
  },
  {
   "cell_type": "code",
   "execution_count": null,
   "id": "1b7f663f-07f3-4bf7-abb0-3526421bf660",
   "metadata": {},
   "outputs": [],
   "source": [
    "# Seventh"
   ]
  },
  {
   "cell_type": "code",
   "execution_count": null,
   "id": "fd315eb8-7712-4af5-b4be-3639dd6df7ae",
   "metadata": {},
   "outputs": [],
   "source": [
    "bzd.unzftab[bzd.seqtounseq[uc]] += 1"
   ]
  },
  {
   "cell_type": "code",
   "execution_count": null,
   "id": "f54d7071-004c-4e54-b474-e7001d873071",
   "metadata": {
    "jupyter": {
     "source_hidden": true
    }
   },
   "outputs": [],
   "source": [
    "expected = [0, 0, 0, 0, 0, 0, 0, 0, 0, 0, 0, 0, 0, 0, 0, 0, 0, 0, 0, 0, 0, 0, 0, 0, 0, 0, 0, 0, 0, 0, 0, 0, 0, 0, 0, 0, 0, 0, 0, 0, 0, 0, 0, 0, 0, 0, 0, 0, 0, 0, 0, 0, 0, 0, 0, 0, 0, 0, 0, 0, 0, 0, 0, 0, 0, 0, 0, 0, 0, 0, 0, 0, 0, 0, 0, 0, 0, 0, 0, 0, 0, 0, 0, 0, 0, 0, 0, 0, 0, 0, 0, 0, 0, 0, 0, 0, 0, 0, 0, 0, 0, 0, 0, 0, 0, 0, 0, 0, 0, 0, 0, 0, 0, 0, 0, 0, 0, 0, 0, 0, 0, 0, 0, 0, 0, 0, 0, 0, 0, 0, 0, 0, 0, 0, 0, 0, 0, 0, 0, 0, 0, 0, 0, 0, 0, 0, 0, 0, 0, 0, 0, 0, 0, 0, 0, 0, 0, 0, 0, 0, 0, 0, 0, 0, 0, 0, 0, 0, 0, 0, 0, 0, 0, 0, 0, 0, 0, 0, 0, 0, 0, 0, 0, 0, 0, 0, 0, 0, 0, 0, 0, 0, 0, 0, 0, 0, 0, 0, 0, 0, 0, 0, 0, 0, 0, 0, 0, 0, 0, 0, 0, 0, 0, 0, 0, 0, 0, 0, 0, 0, 0, 0, 0, 0, 0, 0, 0, 0, 0, 0, 0, 0, 0, 0, 0, 0, 0, 0, 0, 0, 0, 0, 0, 0, 0, 0, 0, 0, 0, 0, 0, 0, 0, 0, 1, 0]"
   ]
  },
  {
   "cell_type": "code",
   "execution_count": null,
   "id": "b66a89ed-21c4-4eb8-8ae5-37eadf451beb",
   "metadata": {},
   "outputs": [],
   "source": [
    "self.assertListEqual(bzd.unzftab, expected)"
   ]
  },
  {
   "cell_type": "code",
   "execution_count": null,
   "id": "707de00b-3047-44f6-bc34-7581f9552bb4",
   "metadata": {},
   "outputs": [],
   "source": [
    "bzd.tt = [0] * NSIS_COMPRESS_BZIP2_LEVEL * 100000"
   ]
  },
  {
   "cell_type": "code",
   "execution_count": null,
   "id": "88691514-b043-4823-9e9f-837209aa2a97",
   "metadata": {},
   "outputs": [],
   "source": [
    "bzd.tt[nblock] = bzd.seqtounseq[uc]"
   ]
  },
  {
   "cell_type": "code",
   "execution_count": null,
   "id": "a7953911-2fac-4aec-a670-dcf9e87be842",
   "metadata": {},
   "outputs": [],
   "source": [
    "self.assertEqual(bzd.tt[nblock], 254)"
   ]
  },
  {
   "cell_type": "code",
   "execution_count": null,
   "id": "e7d17035-0a5c-4d8d-832f-ae5edc667685",
   "metadata": {},
   "outputs": [],
   "source": [
    "nblock += 1"
   ]
  },
  {
   "cell_type": "code",
   "execution_count": null,
   "id": "2dd87e5c-9f4e-4875-b047-3371bb97aaee",
   "metadata": {},
   "outputs": [],
   "source": [
    "self.assertIs(nblock, 1)"
   ]
  },
  {
   "cell_type": "code",
   "execution_count": null,
   "id": "ebd81dba-cd12-41c7-a55f-653bd2aacd10",
   "metadata": {},
   "outputs": [],
   "source": [
    "if grouppos == 0:\n",
    "    groupno += 1\n",
    "    if groupno >= nselectors:\n",
    "        raise RuntimeError('BZ_DATA_ERROR: Number of groups too large')\n",
    "    grouppos = BZ_G_SIZE\n",
    "    gsel = bzd.selector[groupno]\n",
    "    gminlen = bzd.minlens[gsel]\n",
    "    glimit = bzd.limit[gsel]\n",
    "    gperm = bzd.perm[gsel]\n",
    "    gbase = bzd.base[gsel]\n",
    "grouppos -= 1\n",
    "zn = gminlen"
   ]
  },
  {
   "cell_type": "code",
   "execution_count": null,
   "id": "b4c027d1-7299-4d70-afa6-cf16693afdb4",
   "metadata": {},
   "outputs": [],
   "source": [
    "self.assertEqual(groupno, 0)"
   ]
  },
  {
   "cell_type": "code",
   "execution_count": null,
   "id": "9387e2f9-38d2-46e7-b6b2-dadd8fe7b2e7",
   "metadata": {},
   "outputs": [],
   "source": [
    "self.assertEqual(gsel, 0)"
   ]
  },
  {
   "cell_type": "code",
   "execution_count": null,
   "id": "10b69907-1860-402c-be06-3a5c1e8148b0",
   "metadata": {},
   "outputs": [],
   "source": [
    "self.assertEqual(gminlen, 3)"
   ]
  },
  {
   "cell_type": "code",
   "execution_count": null,
   "id": "3f0e9e08-e7f2-4810-a9b2-08fbba56bb9f",
   "metadata": {
    "jupyter": {
     "source_hidden": true
    }
   },
   "outputs": [],
   "source": [
    "expected = [0, 0, 0, 1, 4, 14, 34, 82, 211, 511, 0, 0, 0, 0, 0, 0, 0, 0, 0, 0, 0, 0, 0, 0, 0, 0, 0, 0, 0, 0, 0, 0, 0, 0, 0, 0, 0, 0, 0, 0, 0, 0, 0, 0, 0, 0, 0, 0, 0, 0, 0, 0, 0, 0, 0, 0, 0, 0, 0, 0, 0, 0, 0, 0, 0, 0, 0, 0, 0, 0, 0, 0, 0, 0, 0, 0, 0, 0, 0, 0, 0, 0, 0, 0, 0, 0, 0, 0, 0, 0, 0, 0, 0, 0, 0, 0, 0, 0, 0, 0, 0, 0, 0, 0, 0, 0, 0, 0, 0, 0, 0, 0, 0, 0, 0, 0, 0, 0, 0, 0, 0, 0, 0, 0, 0, 0, 0, 0, 0, 0, 0, 0, 0, 0, 0, 0, 0, 0, 0, 0, 0, 0, 0, 0, 0, 0, 0, 0, 0, 0, 0, 0, 0, 0, 0, 0, 0, 0, 0, 0, 0, 0, 0, 0, 0, 0, 0, 0, 0, 0, 0, 0, 0, 0, 0, 0, 0, 0, 0, 0, 0, 0, 0, 0, 0, 0, 0, 0, 0, 0, 0, 0, 0, 0, 0, 0, 0, 0, 0, 0, 0, 0, 0, 0, 0, 0, 0, 0, 0, 0, 0, 0, 0, 0, 0, 0, 0, 0, 0, 0, 0, 0, 0, 0, 0, 0, 0, 0, 0, 0, 0, 0, 0, 0, 0, 0, 0, 0, 0, 0, 0, 0, 0, 0, 0, 0, 0, 0, 0, 0, 0, 0, 0, 0, 0, 0, 0, 0]"
   ]
  },
  {
   "cell_type": "code",
   "execution_count": null,
   "id": "e9db9f69-3e14-46d5-8d40-a0e481bd54f4",
   "metadata": {},
   "outputs": [],
   "source": [
    "self.assertListEqual(glimit, expected)"
   ]
  },
  {
   "cell_type": "code",
   "execution_count": null,
   "id": "7b23217d-f47a-4271-af45-d4155cc3a48a",
   "metadata": {
    "jupyter": {
     "source_hidden": true
    }
   },
   "outputs": [],
   "source": [
    "expected = [0, 1, 2, 3, 5, 6, 9, 158, 4, 8, 11, 14, 157, 7, 13, 24, 29, 54, 88, 92, 100, 112, 116, 137, 154, 156, 15, 18, 20, 21, 25, 28, 30, 32, 36, 41, 42, 43, 46, 50, 51, 52, 59, 61, 63, 65, 66, 70, 78, 80, 83, 84, 85, 86, 89, 93, 97, 98, 101, 102, 105, 106, 109, 111, 114, 125, 129, 131, 140, 148, 152, 159, 10, 12, 16, 17, 19, 22, 23, 26, 27, 31, 33, 34, 35, 37, 38, 39, 40, 44, 45, 47, 48, 49, 53, 55, 56, 57, 58, 60, 62, 64, 67, 68, 69, 71, 72, 73, 74, 75, 76, 77, 79, 81, 82, 87, 90, 91, 94, 95, 96, 99, 103, 104, 107, 108, 110, 113, 115, 117, 118, 119, 120, 121, 122, 123, 124, 126, 127, 128, 130, 132, 133, 134, 135, 136, 138, 139, 141, 142, 143, 144, 145, 146, 147, 149, 150, 151, 153, 155, 0, 0, 0, 0, 0, 0, 0, 0, 0, 0, 0, 0, 0, 0, 0, 0, 0, 0, 0, 0, 0, 0, 0, 0, 0, 0, 0, 0, 0, 0, 0, 0, 0, 0, 0, 0, 0, 0, 0, 0, 0, 0, 0, 0, 0, 0, 0, 0, 0, 0, 0, 0, 0, 0, 0, 0, 0, 0, 0, 0, 0, 0, 0, 0, 0, 0, 0, 0, 0, 0, 0, 0, 0, 0, 0, 0, 0, 0, 0, 0, 0, 0, 0, 0, 0, 0, 0, 0, 0, 0, 0, 0, 0, 0, 0, 0, 0, 0]"
   ]
  },
  {
   "cell_type": "code",
   "execution_count": null,
   "id": "65f7ec0e-64a5-45bd-8f22-81c7153edf56",
   "metadata": {},
   "outputs": [],
   "source": [
    "self.assertListEqual(gperm, expected)"
   ]
  },
  {
   "cell_type": "code",
   "execution_count": null,
   "id": "18475cc1-28bf-4566-8dfd-796598378657",
   "metadata": {
    "jupyter": {
     "source_hidden": true
    }
   },
   "outputs": [],
   "source": [
    "expected = [0, 0, 0, 0, 2, 7, 22, 57, 140, 352, 160, 160, 160, 160, 160, 160, 160, 160, 160, 160, 160, 160, 160, 0, 0, 0, 0, 0, 0, 0, 0, 0, 0, 0, 0, 0, 0, 0, 0, 0, 0, 0, 0, 0, 0, 0, 0, 0, 0, 0, 0, 0, 0, 0, 0, 0, 0, 0, 0, 0, 0, 0, 0, 0, 0, 0, 0, 0, 0, 0, 0, 0, 0, 0, 0, 0, 0, 0, 0, 0, 0, 0, 0, 0, 0, 0, 0, 0, 0, 0, 0, 0, 0, 0, 0, 0, 0, 0, 0, 0, 0, 0, 0, 0, 0, 0, 0, 0, 0, 0, 0, 0, 0, 0, 0, 0, 0, 0, 0, 0, 0, 0, 0, 0, 0, 0, 0, 0, 0, 0, 0, 0, 0, 0, 0, 0, 0, 0, 0, 0, 0, 0, 0, 0, 0, 0, 0, 0, 0, 0, 0, 0, 0, 0, 0, 0, 0, 0, 0, 0, 0, 0, 0, 0, 0, 0, 0, 0, 0, 0, 0, 0, 0, 0, 0, 0, 0, 0, 0, 0, 0, 0, 0, 0, 0, 0, 0, 0, 0, 0, 0, 0, 0, 0, 0, 0, 0, 0, 0, 0, 0, 0, 0, 0, 0, 0, 0, 0, 0, 0, 0, 0, 0, 0, 0, 0, 0, 0, 0, 0, 0, 0, 0, 0, 0, 0, 0, 0, 0, 0, 0, 0, 0, 0, 0, 0, 0, 0, 0, 0, 0, 0, 0, 0, 0, 0, 0, 0, 0, 0, 0, 0, 0, 0, 0, 0, 0, 0]"
   ]
  },
  {
   "cell_type": "code",
   "execution_count": null,
   "id": "22979392-c1fb-44ff-b2e7-fa95db06001d",
   "metadata": {},
   "outputs": [],
   "source": [
    "self.assertListEqual(gbase, expected)"
   ]
  },
  {
   "cell_type": "code",
   "execution_count": null,
   "id": "ca8efe12-1343-4927-a4d6-0771483512bc",
   "metadata": {},
   "outputs": [],
   "source": [
    "self.assertEqual(grouppos, 48)"
   ]
  },
  {
   "cell_type": "code",
   "execution_count": null,
   "id": "c7b29d08-47b0-4247-b63f-b941334ee1a9",
   "metadata": {},
   "outputs": [],
   "source": [
    "self.assertEqual(zn, 3)"
   ]
  },
  {
   "cell_type": "code",
   "execution_count": null,
   "id": "9c7f82c4-a4eb-4d86-80e0-7ef24b0b46cb",
   "metadata": {},
   "outputs": [],
   "source": [
    "zvec = bzd._get_bits(zn, 'BZ_X_MTF_5')"
   ]
  },
  {
   "cell_type": "code",
   "execution_count": null,
   "id": "05d7b192-1118-4fa6-b743-6d003e8665b2",
   "metadata": {},
   "outputs": [],
   "source": [
    "self.assertEqual(zvec, 1)"
   ]
  },
  {
   "cell_type": "code",
   "execution_count": null,
   "id": "9d9ff0d3-dced-488c-9fad-144c2cabee07",
   "metadata": {},
   "outputs": [],
   "source": [
    "while True:\n",
    "    if zn > 20:\n",
    "        raise RuntimeError('BZ_DATA_ERROR: Value zv too large')\n",
    "    if zvec <= glimit[zn]:\n",
    "        break\n",
    "    zn += 1\n",
    "    zj = bzd._get_bits(1, 'BZ_X_MTF_6')\n",
    "    zvec = (zvec << 1) | zj"
   ]
  },
  {
   "cell_type": "code",
   "execution_count": null,
   "id": "ba45aba6-9da2-41b4-a370-856f5b075933",
   "metadata": {},
   "outputs": [],
   "source": [
    "self.assertEqual(zn, 3)"
   ]
  },
  {
   "cell_type": "code",
   "execution_count": null,
   "id": "e5dd8309-2c70-4ca0-8ad6-62d08b28f26f",
   "metadata": {},
   "outputs": [],
   "source": [
    "self.assertEqual(zj, 0)"
   ]
  },
  {
   "cell_type": "code",
   "execution_count": null,
   "id": "dd05c9b2-6d55-4a78-b705-80d67b1fa986",
   "metadata": {},
   "outputs": [],
   "source": [
    "self.assertEqual(zvec, 1)"
   ]
  },
  {
   "cell_type": "code",
   "execution_count": null,
   "id": "c9eda86a-d53e-44fe-9e7a-3c0985cc959a",
   "metadata": {},
   "outputs": [],
   "source": [
    "if zvec - gbase[zn] < 0 or zvec - gbase[zn] >= BZ_MAX_ALPHA_SIZE:\n",
    "    raise RuntimeError('BZ_DATA_ERROR: Value zvec outside of acceptable range')"
   ]
  },
  {
   "cell_type": "code",
   "execution_count": null,
   "id": "b0108233-8c3f-4b99-b235-12a9b32d49d6",
   "metadata": {},
   "outputs": [],
   "source": [
    "nextsym = gperm[zvec - gbase[zn]]"
   ]
  },
  {
   "cell_type": "code",
   "execution_count": null,
   "id": "41a971c0-8207-4435-8f63-72ec0d1c7287",
   "metadata": {},
   "outputs": [],
   "source": [
    "self.assertEqual(nextsym, 1)"
   ]
  },
  {
   "cell_type": "code",
   "execution_count": null,
   "id": "e8073e23-b5af-4a1e-943f-524a35af9c00",
   "metadata": {},
   "outputs": [],
   "source": [
    "# First"
   ]
  },
  {
   "cell_type": "code",
   "execution_count": null,
   "id": "2a71adb2-ca8b-44ba-84ba-800a1491bd47",
   "metadata": {},
   "outputs": [],
   "source": [
    "es = -1\n",
    "n = 1"
   ]
  },
  {
   "cell_type": "code",
   "execution_count": null,
   "id": "d9a6c738-8ea1-4481-9799-cb8a50c0b9d1",
   "metadata": {},
   "outputs": [],
   "source": [
    "# Second"
   ]
  },
  {
   "cell_type": "code",
   "execution_count": null,
   "id": "839d3157-4817-4f93-a3e0-cec0c20725ad",
   "metadata": {},
   "outputs": [],
   "source": [
    "if nextsym == BZ_RUNA:\n",
    "    es += n"
   ]
  },
  {
   "cell_type": "code",
   "execution_count": null,
   "id": "e1b46fbc-d494-4322-a461-67fc8cfa34cf",
   "metadata": {},
   "outputs": [],
   "source": [
    "self.assertEqual(es, -1)"
   ]
  },
  {
   "cell_type": "code",
   "execution_count": null,
   "id": "eb473c3f-da82-4071-bbfb-ae61bc88c977",
   "metadata": {},
   "outputs": [],
   "source": [
    "n = n << 1"
   ]
  },
  {
   "cell_type": "code",
   "execution_count": null,
   "id": "debc6d58-caf8-4121-896d-44df9aaf9853",
   "metadata": {},
   "outputs": [],
   "source": [
    "self.assertEqual(n, 2)"
   ]
  },
  {
   "cell_type": "code",
   "execution_count": null,
   "id": "5e405a3b-a1b0-46b2-a6f3-e649cb9bb41e",
   "metadata": {},
   "outputs": [],
   "source": [
    "if nextsym == BZ_RUNB:\n",
    "    es += n"
   ]
  },
  {
   "cell_type": "code",
   "execution_count": null,
   "id": "54835fa8-224b-45db-b653-3a4e638ceeb9",
   "metadata": {},
   "outputs": [],
   "source": [
    "self.assertEqual(es, 1)"
   ]
  },
  {
   "cell_type": "code",
   "execution_count": null,
   "id": "b0cc525b-c811-45ca-8f6a-29b663fbda70",
   "metadata": {},
   "outputs": [],
   "source": [
    "if grouppos == 0:\n",
    "    groupno += 1\n",
    "    if groupno >= nselectors:\n",
    "        raise RuntimeError('BZ_DATA_ERROR: Number of groups too large')\n",
    "    grouppos = BZ_G_SIZE\n",
    "    gsel = bzd.selector[groupno]\n",
    "    gminlen = bzd.minlens[gsel]\n",
    "    glimit = bzd.limit[gsel]\n",
    "    gperm = bzd.perm[gsel]\n",
    "    gbase = bzd.base[gsel]\n",
    "grouppos -= 1\n",
    "zn = gminlen"
   ]
  },
  {
   "cell_type": "code",
   "execution_count": null,
   "id": "b248e705-5430-4c47-b77d-37520ab95bf9",
   "metadata": {},
   "outputs": [],
   "source": [
    "self.assertEqual(groupno, 0)"
   ]
  },
  {
   "cell_type": "code",
   "execution_count": null,
   "id": "49d7fd04-d114-4a04-b9a0-b146f01087cb",
   "metadata": {},
   "outputs": [],
   "source": [
    "self.assertEqual(gsel, 0)"
   ]
  },
  {
   "cell_type": "code",
   "execution_count": null,
   "id": "4115f65b-3174-40fb-8ffb-a9be543b5bd3",
   "metadata": {},
   "outputs": [],
   "source": [
    "self.assertEqual(gminlen, 3)"
   ]
  },
  {
   "cell_type": "code",
   "execution_count": null,
   "id": "427156c9-3edd-4ede-bf04-946a93d9221e",
   "metadata": {
    "jupyter": {
     "source_hidden": true
    }
   },
   "outputs": [],
   "source": [
    "expected = [0, 0, 0, 1, 4, 14, 34, 82, 211, 511, 0, 0, 0, 0, 0, 0, 0, 0, 0, 0, 0, 0, 0, 0, 0, 0, 0, 0, 0, 0, 0, 0, 0, 0, 0, 0, 0, 0, 0, 0, 0, 0, 0, 0, 0, 0, 0, 0, 0, 0, 0, 0, 0, 0, 0, 0, 0, 0, 0, 0, 0, 0, 0, 0, 0, 0, 0, 0, 0, 0, 0, 0, 0, 0, 0, 0, 0, 0, 0, 0, 0, 0, 0, 0, 0, 0, 0, 0, 0, 0, 0, 0, 0, 0, 0, 0, 0, 0, 0, 0, 0, 0, 0, 0, 0, 0, 0, 0, 0, 0, 0, 0, 0, 0, 0, 0, 0, 0, 0, 0, 0, 0, 0, 0, 0, 0, 0, 0, 0, 0, 0, 0, 0, 0, 0, 0, 0, 0, 0, 0, 0, 0, 0, 0, 0, 0, 0, 0, 0, 0, 0, 0, 0, 0, 0, 0, 0, 0, 0, 0, 0, 0, 0, 0, 0, 0, 0, 0, 0, 0, 0, 0, 0, 0, 0, 0, 0, 0, 0, 0, 0, 0, 0, 0, 0, 0, 0, 0, 0, 0, 0, 0, 0, 0, 0, 0, 0, 0, 0, 0, 0, 0, 0, 0, 0, 0, 0, 0, 0, 0, 0, 0, 0, 0, 0, 0, 0, 0, 0, 0, 0, 0, 0, 0, 0, 0, 0, 0, 0, 0, 0, 0, 0, 0, 0, 0, 0, 0, 0, 0, 0, 0, 0, 0, 0, 0, 0, 0, 0, 0, 0, 0, 0, 0, 0, 0, 0, 0]"
   ]
  },
  {
   "cell_type": "code",
   "execution_count": null,
   "id": "79ff3e34-6f66-4262-983a-42bad6175737",
   "metadata": {},
   "outputs": [],
   "source": [
    "self.assertListEqual(glimit, expected)"
   ]
  },
  {
   "cell_type": "code",
   "execution_count": null,
   "id": "12e3448a-a6a1-4279-a354-b3beaf68ea42",
   "metadata": {
    "jupyter": {
     "source_hidden": true
    }
   },
   "outputs": [],
   "source": [
    "expected = [0, 1, 2, 3, 5, 6, 9, 158, 4, 8, 11, 14, 157, 7, 13, 24, 29, 54, 88, 92, 100, 112, 116, 137, 154, 156, 15, 18, 20, 21, 25, 28, 30, 32, 36, 41, 42, 43, 46, 50, 51, 52, 59, 61, 63, 65, 66, 70, 78, 80, 83, 84, 85, 86, 89, 93, 97, 98, 101, 102, 105, 106, 109, 111, 114, 125, 129, 131, 140, 148, 152, 159, 10, 12, 16, 17, 19, 22, 23, 26, 27, 31, 33, 34, 35, 37, 38, 39, 40, 44, 45, 47, 48, 49, 53, 55, 56, 57, 58, 60, 62, 64, 67, 68, 69, 71, 72, 73, 74, 75, 76, 77, 79, 81, 82, 87, 90, 91, 94, 95, 96, 99, 103, 104, 107, 108, 110, 113, 115, 117, 118, 119, 120, 121, 122, 123, 124, 126, 127, 128, 130, 132, 133, 134, 135, 136, 138, 139, 141, 142, 143, 144, 145, 146, 147, 149, 150, 151, 153, 155, 0, 0, 0, 0, 0, 0, 0, 0, 0, 0, 0, 0, 0, 0, 0, 0, 0, 0, 0, 0, 0, 0, 0, 0, 0, 0, 0, 0, 0, 0, 0, 0, 0, 0, 0, 0, 0, 0, 0, 0, 0, 0, 0, 0, 0, 0, 0, 0, 0, 0, 0, 0, 0, 0, 0, 0, 0, 0, 0, 0, 0, 0, 0, 0, 0, 0, 0, 0, 0, 0, 0, 0, 0, 0, 0, 0, 0, 0, 0, 0, 0, 0, 0, 0, 0, 0, 0, 0, 0, 0, 0, 0, 0, 0, 0, 0, 0, 0]"
   ]
  },
  {
   "cell_type": "code",
   "execution_count": null,
   "id": "d2574c9d-88a3-47eb-b3b7-7089307dcc2e",
   "metadata": {},
   "outputs": [],
   "source": [
    "self.assertListEqual(gperm, expected)"
   ]
  },
  {
   "cell_type": "code",
   "execution_count": null,
   "id": "294db8b3-d18d-4ee2-b598-56892215aaf1",
   "metadata": {
    "jupyter": {
     "source_hidden": true
    }
   },
   "outputs": [],
   "source": [
    "expected = [0, 0, 0, 0, 2, 7, 22, 57, 140, 352, 160, 160, 160, 160, 160, 160, 160, 160, 160, 160, 160, 160, 160, 0, 0, 0, 0, 0, 0, 0, 0, 0, 0, 0, 0, 0, 0, 0, 0, 0, 0, 0, 0, 0, 0, 0, 0, 0, 0, 0, 0, 0, 0, 0, 0, 0, 0, 0, 0, 0, 0, 0, 0, 0, 0, 0, 0, 0, 0, 0, 0, 0, 0, 0, 0, 0, 0, 0, 0, 0, 0, 0, 0, 0, 0, 0, 0, 0, 0, 0, 0, 0, 0, 0, 0, 0, 0, 0, 0, 0, 0, 0, 0, 0, 0, 0, 0, 0, 0, 0, 0, 0, 0, 0, 0, 0, 0, 0, 0, 0, 0, 0, 0, 0, 0, 0, 0, 0, 0, 0, 0, 0, 0, 0, 0, 0, 0, 0, 0, 0, 0, 0, 0, 0, 0, 0, 0, 0, 0, 0, 0, 0, 0, 0, 0, 0, 0, 0, 0, 0, 0, 0, 0, 0, 0, 0, 0, 0, 0, 0, 0, 0, 0, 0, 0, 0, 0, 0, 0, 0, 0, 0, 0, 0, 0, 0, 0, 0, 0, 0, 0, 0, 0, 0, 0, 0, 0, 0, 0, 0, 0, 0, 0, 0, 0, 0, 0, 0, 0, 0, 0, 0, 0, 0, 0, 0, 0, 0, 0, 0, 0, 0, 0, 0, 0, 0, 0, 0, 0, 0, 0, 0, 0, 0, 0, 0, 0, 0, 0, 0, 0, 0, 0, 0, 0, 0, 0, 0, 0, 0, 0, 0, 0, 0, 0, 0, 0, 0]"
   ]
  },
  {
   "cell_type": "code",
   "execution_count": null,
   "id": "7712c5f8-4eac-41fa-b9e4-9ba5728a3b95",
   "metadata": {},
   "outputs": [],
   "source": [
    "self.assertListEqual(gbase, expected)"
   ]
  },
  {
   "cell_type": "code",
   "execution_count": null,
   "id": "4f0a51c9-7e98-4b9d-8a6b-ba0d0c76d9bb",
   "metadata": {},
   "outputs": [],
   "source": [
    "self.assertEqual(grouppos, 47)"
   ]
  },
  {
   "cell_type": "code",
   "execution_count": null,
   "id": "ba4529dc-5cf2-4d7f-9405-3248a008670a",
   "metadata": {},
   "outputs": [],
   "source": [
    "self.assertEqual(zn, 3)"
   ]
  },
  {
   "cell_type": "code",
   "execution_count": null,
   "id": "57e5ff69-203e-4dc5-a2c5-4369a06838fc",
   "metadata": {},
   "outputs": [],
   "source": [
    "zvec = bzd._get_bits(zn, 'BZ_X_MTF_3')"
   ]
  },
  {
   "cell_type": "code",
   "execution_count": null,
   "id": "02e2511d-f668-492a-af5d-eb71d16e875f",
   "metadata": {},
   "outputs": [],
   "source": [
    "self.assertEqual(zvec, 3)"
   ]
  },
  {
   "cell_type": "code",
   "execution_count": null,
   "id": "d470175a-f755-4f55-84f7-1262927cc14e",
   "metadata": {},
   "outputs": [],
   "source": [
    "while True:\n",
    "    if zn > 20:\n",
    "        raise RuntimeError('BZ_DATA_ERROR: Value zv too large')\n",
    "    if zvec <= glimit[zn]:\n",
    "        break\n",
    "    zn += 1\n",
    "    zj = bzd._get_bits(1, 'BZ_X_MTF_4')\n",
    "    zvec = (zvec << 1) | zj"
   ]
  },
  {
   "cell_type": "code",
   "execution_count": null,
   "id": "8a86f5f1-00d7-499c-ab77-0c39ff8567b7",
   "metadata": {},
   "outputs": [],
   "source": [
    "self.assertEqual(zn, 5)"
   ]
  },
  {
   "cell_type": "code",
   "execution_count": null,
   "id": "58d35d80-7114-4f1f-9dc2-20b316a5edd5",
   "metadata": {},
   "outputs": [],
   "source": [
    "self.assertEqual(zj, 0)"
   ]
  },
  {
   "cell_type": "code",
   "execution_count": null,
   "id": "2b4b25ed-9e77-4be4-b669-dfa77df441ae",
   "metadata": {},
   "outputs": [],
   "source": [
    "self.assertEqual(zvec, 14)"
   ]
  },
  {
   "cell_type": "code",
   "execution_count": null,
   "id": "3a8cb23c-f929-4363-9750-3b10d66a9e1c",
   "metadata": {},
   "outputs": [],
   "source": [
    "if zvec - gbase[zn] < 0 or zvec - gbase[zn] >= BZ_MAX_ALPHA_SIZE:\n",
    "    raise RuntimeError('BZ_DATA_ERROR: Value zvec outside of acceptable range')"
   ]
  },
  {
   "cell_type": "code",
   "execution_count": null,
   "id": "c77db3c7-7b17-4710-92f0-28d280549b44",
   "metadata": {},
   "outputs": [],
   "source": [
    "nextsym = gperm[zvec - gbase[zn]]"
   ]
  },
  {
   "cell_type": "code",
   "execution_count": null,
   "id": "d8c0fd31-23a6-4140-b9b5-4029881c2f89",
   "metadata": {},
   "outputs": [],
   "source": [
    "self.assertEqual(nextsym, 158)"
   ]
  },
  {
   "cell_type": "code",
   "execution_count": null,
   "id": "b42b6450-f37c-45da-b581-a88cdeababe2",
   "metadata": {},
   "outputs": [],
   "source": [
    "# Third"
   ]
  },
  {
   "cell_type": "code",
   "execution_count": null,
   "id": "871bccbb-d81c-40c7-9c79-00a913056505",
   "metadata": {},
   "outputs": [],
   "source": [
    "es += 1"
   ]
  },
  {
   "cell_type": "code",
   "execution_count": null,
   "id": "fe7255e3-a3f5-4fea-bda0-cd9f46304c58",
   "metadata": {},
   "outputs": [],
   "source": [
    "self.assertEqual(es, 2)"
   ]
  },
  {
   "cell_type": "code",
   "execution_count": null,
   "id": "c72bc61f-01fc-4601-b70b-1f7fd4991a91",
   "metadata": {},
   "outputs": [],
   "source": [
    "uc = bzd.seqtounseq[bzd.mtfa[bzd.mtfbase[0]]]"
   ]
  },
  {
   "cell_type": "code",
   "execution_count": null,
   "id": "d5c4ec87-ccfb-4aa9-bf35-8f47de3ea874",
   "metadata": {},
   "outputs": [],
   "source": [
    "self.assertEqual(uc, 254)"
   ]
  },
  {
   "cell_type": "code",
   "execution_count": null,
   "id": "3a8a7e04-5805-4420-9524-f3d9866562af",
   "metadata": {},
   "outputs": [],
   "source": [
    "bzd.unzftab[uc] += es"
   ]
  },
  {
   "cell_type": "code",
   "execution_count": null,
   "id": "5e02da23-d238-40b7-a11c-07a33eacbe70",
   "metadata": {
    "jupyter": {
     "source_hidden": true
    }
   },
   "outputs": [],
   "source": [
    "expected = [0, 0, 0, 0, 0, 0, 0, 0, 0, 0, 0, 0, 0, 0, 0, 0, 0, 0, 0, 0, 0, 0, 0, 0, 0, 0, 0, 0, 0, 0, 0, 0, 0, 0, 0, 0, 0, 0, 0, 0, 0, 0, 0, 0, 0, 0, 0, 0, 0, 0, 0, 0, 0, 0, 0, 0, 0, 0, 0, 0, 0, 0, 0, 0, 0, 0, 0, 0, 0, 0, 0, 0, 0, 0, 0, 0, 0, 0, 0, 0, 0, 0, 0, 0, 0, 0, 0, 0, 0, 0, 0, 0, 0, 0, 0, 0, 0, 0, 0, 0, 0, 0, 0, 0, 0, 0, 0, 0, 0, 0, 0, 0, 0, 0, 0, 0, 0, 0, 0, 0, 0, 0, 0, 0, 0, 0, 0, 0, 0, 0, 0, 0, 0, 0, 0, 0, 0, 0, 0, 0, 0, 0, 0, 0, 0, 0, 0, 0, 0, 0, 0, 0, 0, 0, 0, 0, 0, 0, 0, 0, 0, 0, 0, 0, 0, 0, 0, 0, 0, 0, 0, 0, 0, 0, 0, 0, 0, 0, 0, 0, 0, 0, 0, 0, 0, 0, 0, 0, 0, 0, 0, 0, 0, 0, 0, 0, 0, 0, 0, 0, 0, 0, 0, 0, 0, 0, 0, 0, 0, 0, 0, 0, 0, 0, 0, 0, 0, 0, 0, 0, 0, 0, 0, 0, 0, 0, 0, 0, 0, 0, 0, 0, 0, 0, 0, 0, 0, 0, 0, 0, 0, 0, 0, 0, 0, 0, 0, 0, 0, 0, 0, 0, 0, 0, 3, 0]"
   ]
  },
  {
   "cell_type": "code",
   "execution_count": null,
   "id": "51c5ee38-ac96-452d-b293-c216543ef1f6",
   "metadata": {},
   "outputs": [],
   "source": [
    "self.assertListEqual(bzd.unzftab, expected)"
   ]
  },
  {
   "cell_type": "code",
   "execution_count": null,
   "id": "bbe18c8c-321e-4a53-8d75-060d5407de23",
   "metadata": {},
   "outputs": [],
   "source": [
    "self.assertEqual(nblock, 1)"
   ]
  },
  {
   "cell_type": "code",
   "execution_count": null,
   "id": "502a3f93-90ec-43d8-9f10-9d1e64f5eb14",
   "metadata": {},
   "outputs": [],
   "source": [
    "print(nblock)"
   ]
  },
  {
   "cell_type": "code",
   "execution_count": null,
   "id": "819465d1-9dde-4e57-8cbd-63916a36f29a",
   "metadata": {},
   "outputs": [],
   "source": [
    "counter = 0"
   ]
  },
  {
   "cell_type": "code",
   "execution_count": null,
   "id": "b03ae006-73f4-4aca-b534-ffb85675a5c8",
   "metadata": {},
   "outputs": [],
   "source": [
    "while es > 0:\n",
    "    if nblock >= nblockmax:\n",
    "        raise RuntimeError('BZ_DATA_ERROR: Value nblock too large')\n",
    "    bzd.tt[nblock] = uc\n",
    "    if not counter:\n",
    "        self.assertIs(bzd.tt[nblock], 254)\n",
    "    nblock += 1\n",
    "    if not counter:\n",
    "        self.assertIs(nblock, 2)\n",
    "    es -= 1\n",
    "    if not counter:\n",
    "        self.assertEqual(es, 1)\n",
    "    counter += 1"
   ]
  },
  {
   "cell_type": "code",
   "execution_count": null,
   "id": "f0599bf1-0d69-425e-9daa-ce446664c7fa",
   "metadata": {},
   "outputs": [],
   "source": [
    "expected = [254, 254, 254]"
   ]
  },
  {
   "cell_type": "code",
   "execution_count": null,
   "id": "d38a994e-6305-4d07-b6d1-e4885eef82ea",
   "metadata": {},
   "outputs": [],
   "source": [
    "actual = [z for z in bzd.tt if z]"
   ]
  },
  {
   "cell_type": "code",
   "execution_count": null,
   "id": "ee4897d3-c3f2-4b98-b0c8-507fa93a37d4",
   "metadata": {},
   "outputs": [],
   "source": [
    "self.assertListEqual(actual, expected)"
   ]
  },
  {
   "cell_type": "code",
   "execution_count": null,
   "id": "029c3cb1-1723-4a9d-83dc-1f019c7f6fe7",
   "metadata": {},
   "outputs": [],
   "source": [
    "# Fifth\n",
    "# if nn < MTFL_SIZE:\n",
    "#     pp = bzd.mtfbase[0]\n",
    "#     uc = bzd.mtfa[pp + nn]\n",
    "#     while nn > 0:\n",
    "#         bzd.mtfa[pp + nn] = bzd.mtfa[pp + nn - 1]\n",
    "#         nn -= 1\n",
    "#     bzd.mtfa[pp] = uc"
   ]
  },
  {
   "cell_type": "code",
   "execution_count": null,
   "id": "d5572908-d763-41d5-8d17-60cccd0b921d",
   "metadata": {},
   "outputs": [],
   "source": [
    "counter = 0"
   ]
  },
  {
   "cell_type": "code",
   "execution_count": null,
   "id": "c1d15427-fd1a-4417-bc1b-17c88cc78b9a",
   "metadata": {
    "jupyter": {
     "source_hidden": true
    }
   },
   "outputs": [],
   "source": [
    "expected_mtfa_1 = [0, 0, 0, 0, 0, 0, 0, 0, 0, 0, 0, 0, 0, 0, 0, 0, 0, 0, 0, 0, 0, 0, 0, 0, 0, 0, 0, 0, 0, 0, 0, 0, 0, 0, 0, 0, 0, 0, 0, 0, 0, 0, 0, 0, 0, 0, 0, 0, 0, 0, 0, 0, 0, 0, 0, 0, 0, 0, 0, 0, 0, 0, 0, 0, 0, 0, 0, 0, 0, 0, 0, 0, 0, 0, 0, 0, 0, 0, 0, 0, 0, 0, 0, 0, 0, 0, 0, 0, 0, 0, 0, 0, 0, 0, 0, 0, 0, 0, 0, 0, 0, 0, 0, 0, 0, 0, 0, 0, 0, 0, 0, 0, 0, 0, 0, 0, 0, 0, 0, 0, 0, 0, 0, 0, 0, 0, 0, 0, 0, 0, 0, 0, 0, 0, 0, 0, 0, 0, 0, 0, 0, 0, 0, 0, 0, 0, 0, 0, 0, 0, 0, 0, 0, 0, 0, 0, 0, 0, 0, 0, 0, 0, 0, 0, 0, 0, 0, 0, 0, 0, 0, 0, 0, 0, 0, 0, 0, 0, 0, 0, 0, 0, 0, 0, 0, 0, 0, 0, 0, 0, 0, 0, 0, 0, 0, 0, 0, 0, 0, 0, 0, 0, 0, 0, 0, 0, 0, 0, 0, 0, 0, 0, 0, 0, 0, 0, 0, 0, 0, 0, 0, 0, 0, 0, 0, 0, 0, 0, 0, 0, 0, 0, 0, 0, 0, 0, 0, 0, 0, 0, 0, 0, 0, 0, 0, 0, 0, 0, 0, 0, 0, 0, 0, 0, 0, 0, 0, 0, 0, 0, 0, 0, 0, 0, 0, 0, 0, 0, 0, 0, 0, 0, 0, 0, 0, 0, 0, 0, 0, 0, 0, 0, 0, 0, 0, 0, 0, 0, 0, 0, 0, 0, 0, 0, 0, 0, 0, 0, 0, 0, 0, 0, 0, 0, 0, 0, 0, 0, 0, 0, 0, 0, 0, 0, 0, 0, 0, 0, 0, 0, 0, 0, 0, 0, 0, 0, 0, 0, 0, 0, 0, 0, 0, 0, 0, 0, 0, 0, 0, 0, 0, 0, 0, 0, 0, 0, 0, 0, 0, 0, 0, 0, 0, 0, 0, 0, 0, 0, 0, 0, 0, 0, 0, 0, 0, 0, 0, 0, 0, 0, 0, 0, 0, 0, 0, 0, 0, 0, 0, 0, 0, 0, 0, 0, 0, 0, 0, 0, 0, 0, 0, 0, 0, 0, 0, 0, 0, 0, 0, 0, 0, 0, 0, 0, 0, 0, 0, 0, 0, 0, 0, 0, 0, 0, 0, 0, 0, 0, 0, 0, 0, 0, 0, 0, 0, 0, 0, 0, 0, 0, 0, 0, 0, 0, 0, 0, 0, 0, 0, 0, 0, 0, 0, 0, 0, 0, 0, 0, 0, 0, 0, 0, 0, 0, 0, 0, 0, 0, 0, 0, 0, 0, 0, 0, 0, 0, 0, 0, 0, 0, 0, 0, 0, 0, 0, 0, 0, 0, 0, 0, 0, 0, 0, 0, 0, 0, 0, 0, 0, 0, 0, 0, 0, 0, 0, 0, 0, 0, 0, 0, 0, 0, 0, 0, 0, 0, 0, 0, 0, 0, 0, 0, 0, 0, 0, 0, 0, 0, 0, 0, 0, 0, 0, 0, 0, 0, 0, 0, 0, 0, 0, 0, 0, 0, 0, 0, 0, 0, 0, 0, 0, 0, 0, 0, 0, 0, 0, 0, 0, 0, 0, 0, 0, 0, 0, 0, 0, 0, 0, 0, 0, 0, 0, 0, 0, 0, 0, 0, 0, 0, 0, 0, 0, 0, 0, 0, 0, 0, 0, 0, 0, 0, 0, 0, 0, 0, 0, 0, 0, 0, 0, 0, 0, 0, 0, 0, 0, 0, 0, 0, 0, 0, 0, 0, 0, 0, 0, 0, 0, 0, 0, 0, 0, 0, 0, 0, 0, 0, 0, 0, 0, 0, 0, 0, 0, 0, 0, 0, 0, 0, 0, 0, 0, 0, 0, 0, 0, 0, 0, 0, 0, 0, 0, 0, 0, 0, 0, 0, 0, 0, 0, 0, 0, 0, 0, 0, 0, 0, 0, 0, 0, 0, 0, 0, 0, 0, 0, 0, 0, 0, 0, 0, 0, 0, 0, 0, 0, 0, 0, 0, 0, 0, 0, 0, 0, 0, 0, 0, 0, 0, 0, 0, 0, 0, 0, 0, 0, 0, 0, 0, 0, 0, 0, 0, 0, 0, 0, 0, 0, 0, 0, 0, 0, 0, 0, 0, 0, 0, 0, 0, 0, 0, 0, 0, 0, 0, 0, 0, 0, 0, 0, 0, 0, 0, 0, 0, 0, 0, 0, 0, 0, 0, 0, 0, 0, 0, 0, 0, 0, 0, 0, 0, 0, 0, 0, 0, 0, 0, 0, 0, 0, 0, 0, 0, 0, 0, 0, 0, 0, 0, 0, 0, 0, 0, 0, 0, 0, 0, 0, 0, 0, 0, 0, 0, 0, 0, 0, 0, 0, 0, 0, 0, 0, 0, 0, 0, 0, 0, 0, 0, 0, 0, 0, 0, 0, 0, 0, 0, 0, 0, 0, 0, 0, 0, 0, 0, 0, 0, 0, 0, 0, 0, 0, 0, 0, 0, 0, 0, 0, 0, 0, 0, 0, 0, 0, 0, 0, 0, 0, 0, 0, 0, 0, 0, 0, 0, 0, 0, 0, 0, 0, 0, 0, 0, 0, 0, 0, 0, 0, 0, 0, 0, 0, 0, 0, 0, 0, 0, 0, 0, 0, 0, 0, 0, 0, 0, 0, 0, 0, 0, 0, 0, 0, 0, 0, 0, 0, 0, 0, 0, 0, 0, 0, 0, 0, 0, 0, 0, 0, 0, 0, 0, 0, 0, 0, 0, 0, 0, 0, 0, 0, 0, 0, 0, 0, 0, 0, 0, 0, 0, 0, 0, 0, 0, 0, 0, 0, 0, 0, 0, 0, 0, 0, 0, 0, 0, 0, 0, 0, 0, 0, 0, 0, 0, 0, 0, 0, 0, 0, 0, 0, 0, 0, 0, 0, 0, 0, 0, 0, 0, 0, 0, 0, 0, 0, 0, 0, 0, 0, 0, 0, 0, 0, 0, 0, 0, 0, 0, 0, 0, 0, 0, 0, 0, 0, 0, 0, 0, 0, 0, 0, 0, 0, 0, 0, 0, 0, 0, 0, 0, 0, 0, 0, 0, 0, 0, 0, 0, 0, 0, 0, 0, 0, 0, 0, 0, 0, 0, 0, 0, 0, 0, 0, 0, 0, 0, 0, 0, 0, 0, 0, 0, 0, 0, 0, 0, 0, 0, 0, 0, 0, 0, 0, 0, 0, 0, 0, 0, 0, 0, 0, 0, 0, 0, 0, 0, 0, 0, 0, 0, 0, 0, 0, 0, 0, 0, 0, 0, 0, 0, 0, 0, 0, 0, 0, 0, 0, 0, 0, 0, 0, 0, 0, 0, 0, 0, 0, 0, 0, 0, 0, 0, 0, 0, 0, 0, 0, 0, 0, 0, 0, 0, 0, 0, 0, 0, 0, 0, 0, 0, 0, 0, 0, 0, 0, 0, 0, 0, 0, 0, 0, 0, 0, 0, 0, 0, 0, 0, 0, 0, 0, 0, 0, 0, 0, 0, 0, 0, 0, 0, 0, 0, 0, 0, 0, 0, 0, 0, 0, 0, 0, 0, 0, 0, 0, 0, 0, 0, 0, 0, 0, 0, 0, 0, 0, 0, 0, 0, 0, 0, 0, 0, 0, 0, 0, 0, 0, 0, 0, 0, 0, 0, 0, 0, 0, 0, 0, 0, 0, 0, 0, 0, 0, 0, 0, 0, 0, 0, 0, 0, 0, 0, 0, 0, 0, 0, 0, 0, 0, 0, 0, 0, 0, 0, 0, 0, 0, 0, 0, 0, 0, 0, 0, 0, 0, 0, 0, 0, 0, 0, 0, 0, 0, 0, 0, 0, 0, 0, 0, 0, 0, 0, 0, 0, 0, 0, 0, 0, 0, 0, 0, 0, 0, 0, 0, 0, 0, 0, 0, 0, 0, 0, 0, 0, 0, 0, 0, 0, 0, 0, 0, 0, 0, 0, 0, 0, 0, 0, 0, 0, 0, 0, 0, 0, 0, 0, 0, 0, 0, 0, 0, 0, 0, 0, 0, 0, 0, 0, 0, 0, 0, 0, 0, 0, 0, 0, 0, 0, 0, 0, 0, 0, 0, 0, 0, 0, 0, 0, 0, 0, 0, 0, 0, 0, 0, 0, 0, 0, 0, 0, 0, 0, 0, 0, 0, 0, 0, 0, 0, 0, 0, 0, 0, 0, 0, 0, 0, 0, 0, 0, 0, 0, 0, 0, 0, 0, 0, 0, 0, 0, 0, 0, 0, 0, 0, 0, 0, 0, 0, 0, 0, 0, 0, 0, 0, 0, 0, 0, 0, 0, 0, 0, 0, 0, 0, 0, 0, 0, 0, 0, 0, 0, 0, 0, 0, 0, 0, 0, 0, 0, 0, 0, 0, 0, 0, 0, 0, 0, 0, 0, 0, 0, 0, 0, 0, 0, 0, 0, 0, 0, 0, 0, 0, 0, 0, 0, 0, 0, 0, 0, 0, 0, 0, 0, 0, 0, 0, 0, 0, 0, 0, 0, 0, 0, 0, 0, 0, 0, 0, 0, 0, 0, 0, 0, 0, 0, 0, 0, 0, 0, 0, 0, 0, 0, 0, 0, 0, 0, 0, 0, 0, 0, 0, 0, 0, 0, 0, 0, 0, 0, 0, 0, 0, 0, 0, 0, 0, 0, 0, 0, 0, 0, 0, 0, 0, 0, 0, 0, 0, 0, 0, 0, 0, 0, 0, 0, 0, 0, 0, 0, 0, 0, 0, 0, 0, 0, 0, 0, 0, 0, 0, 0, 0, 0, 0, 0, 0, 0, 0, 0, 0, 0, 0, 0, 0, 0, 0, 0, 0, 0, 0, 0, 0, 0, 0, 0, 0, 0, 0, 0, 0, 0, 0, 0, 0, 0, 0, 0, 0, 0, 0, 0, 0, 0, 0, 0, 0, 0, 0, 0, 0, 0, 0, 0, 0, 0, 0, 0, 0, 0, 0, 0, 0, 0, 0, 0, 0, 0, 0, 0, 0, 0, 0, 0, 0, 0, 0, 0, 0, 0, 0, 0, 0, 0, 0, 0, 0, 0, 0, 0, 0, 0, 0, 0, 0, 0, 0, 0, 0, 0, 0, 0, 0, 0, 0, 0, 0, 0, 0, 0, 0, 0, 0, 0, 0, 0, 0, 0, 0, 0, 0, 0, 0, 0, 0, 0, 0, 0, 0, 0, 0, 0, 0, 0, 0, 0, 0, 0, 0, 0, 0, 0, 0, 0, 0, 0, 0, 0, 0, 0, 0, 0, 0, 0, 0, 0, 0, 0, 0, 0, 0, 0, 0, 0, 0, 0, 0, 0, 0, 0, 0, 0, 0, 0, 0, 0, 0, 0, 0, 0, 0, 0, 0, 0, 0, 0, 0, 0, 0, 0, 0, 0, 0, 0, 0, 0, 0, 0, 0, 0, 0, 0, 0, 0, 0, 0, 0, 0, 0, 0, 0, 0, 0, 0, 0, 0, 0, 0, 0, 0, 0, 0, 0, 0, 0, 0, 0, 0, 0, 0, 0, 0, 0, 0, 0, 0, 0, 0, 0, 0, 0, 0, 0, 0, 0, 0, 0, 0, 0, 0, 0, 0, 0, 0, 0, 0, 0, 0, 0, 0, 0, 0, 0, 0, 0, 0, 0, 0, 0, 0, 0, 0, 0, 0, 0, 0, 0, 0, 0, 0, 0, 0, 0, 0, 0, 0, 0, 0, 0, 0, 0, 0, 0, 0, 0, 0, 0, 0, 0, 0, 0, 0, 0, 0, 0, 0, 0, 0, 0, 0, 0, 0, 0, 0, 0, 0, 0, 0, 0, 0, 0, 0, 0, 0, 0, 0, 0, 0, 0, 0, 0, 0, 0, 0, 0, 0, 0, 0, 0, 0, 0, 0, 0, 0, 0, 0, 0, 0, 0, 0, 0, 0, 0, 0, 0, 0, 0, 0, 0, 0, 0, 0, 0, 0, 0, 0, 0, 0, 0, 0, 0, 0, 0, 0, 0, 0, 0, 0, 0, 0, 0, 0, 0, 0, 0, 0, 0, 0, 0, 0, 0, 0, 0, 0, 0, 0, 0, 0, 0, 0, 0, 0, 0, 0, 0, 0, 0, 0, 0, 0, 0, 0, 0, 0, 0, 0, 0, 0, 0, 0, 0, 0, 0, 0, 0, 0, 0, 0, 0, 0, 0, 0, 0, 0, 0, 0, 0, 0, 0, 0, 0, 0, 0, 0, 0, 0, 0, 0, 0, 0, 0, 0, 0, 0, 0, 0, 0, 0, 0, 0, 0, 0, 0, 0, 0, 0, 0, 0, 0, 0, 0, 0, 0, 0, 0, 0, 0, 0, 0, 0, 0, 0, 0, 0, 0, 0, 0, 0, 0, 0, 0, 0, 0, 0, 0, 0, 0, 0, 0, 0, 0, 0, 0, 0, 0, 0, 0, 0, 0, 0, 0, 0, 0, 0, 0, 0, 0, 0, 0, 0, 0, 0, 0, 0, 0, 0, 0, 0, 0, 0, 0, 0, 0, 0, 0, 0, 0, 0, 0, 0, 0, 0, 0, 0, 0, 0, 0, 0, 0, 0, 0, 0, 0, 0, 0, 0, 0, 0, 0, 0, 0, 0, 0, 0, 0, 0, 0, 0, 0, 0, 0, 0, 0, 0, 0, 0, 0, 0, 0, 0, 0, 0, 0, 0, 0, 0, 0, 0, 0, 0, 0, 0, 0, 0, 0, 0, 0, 0, 0, 0, 0, 0, 0, 0, 0, 0, 0, 0, 0, 0, 0, 0, 0, 0, 0, 0, 0, 0, 0, 0, 0, 0, 0, 0, 0, 0, 0, 0, 0, 0, 0, 0, 0, 0, 0, 0, 0, 0, 0, 0, 0, 0, 0, 0, 0, 0, 0, 0, 0, 0, 0, 0, 0, 0, 0, 0, 0, 0, 0, 0, 0, 0, 0, 0, 0, 0, 0, 0, 0, 0, 0, 0, 0, 0, 0, 0, 0, 0, 0, 0, 0, 0, 0, 0, 0, 0, 0, 0, 0, 0, 0, 0, 0, 0, 0, 0, 0, 0, 0, 0, 0, 0, 0, 0, 0, 0, 0, 0, 0, 0, 0, 0, 0, 0, 0, 0, 0, 0, 0, 0, 0, 0, 0, 0, 0, 0, 0, 0, 0, 0, 0, 0, 0, 0, 0, 0, 0, 0, 0, 0, 0, 0, 0, 0, 0, 0, 0, 0, 0, 0, 0, 0, 0, 0, 0, 0, 0, 0, 0, 0, 0, 0, 0, 0, 0, 0, 0, 0, 0, 0, 0, 0, 0, 0, 0, 0, 0, 0, 0, 0, 0, 0, 0, 0, 0, 0, 0, 0, 0, 0, 0, 0, 0, 0, 0, 0, 0, 0, 0, 0, 0, 0, 0, 0, 0, 0, 0, 0, 0, 0, 0, 0, 0, 0, 0, 0, 0, 0, 0, 0, 0, 0, 0, 0, 0, 0, 0, 0, 0, 0, 0, 0, 0, 0, 0, 0, 0, 0, 0, 0, 0, 0, 0, 0, 0, 0, 0, 0, 0, 0, 0, 0, 0, 0, 0, 0, 0, 0, 0, 0, 0, 0, 0, 0, 0, 0, 0, 0, 0, 0, 0, 0, 0, 0, 0, 0, 0, 0, 0, 0, 0, 0, 0, 0, 0, 0, 0, 0, 0, 0, 0, 0, 0, 0, 0, 0, 0, 0, 0, 0, 0, 0, 0, 0, 0, 0, 0, 0, 0, 0, 0, 0, 0, 0, 0, 0, 0, 0, 0, 0, 0, 0, 0, 0, 0, 0, 0, 0, 0, 0, 0, 0, 0, 0, 0, 0, 0, 0, 0, 0, 0, 0, 0, 0, 0, 0, 0, 0, 0, 0, 0, 0, 0, 0, 0, 0, 0, 0, 0, 0, 0, 0, 0, 0, 0, 0, 0, 0, 0, 0, 0, 0, 0, 0, 0, 0, 0, 0, 0, 0, 0, 0, 0, 0, 0, 0, 0, 0, 0, 0, 0, 0, 0, 0, 0, 0, 0, 0, 0, 0, 0, 0, 0, 0, 0, 0, 0, 0, 0, 0, 0, 0, 0, 0, 0, 0, 0, 0, 0, 0, 0, 0, 0, 0, 0, 0, 0, 0, 0, 0, 0, 0, 0, 0, 0, 0, 0, 0, 0, 0, 0, 0, 0, 0, 0, 0, 0, 0, 0, 0, 0, 0, 0, 0, 0, 0, 0, 0, 0, 0, 0, 0, 0, 0, 0, 0, 0, 0, 0, 0, 0, 0, 0, 0, 0, 0, 0, 0, 0, 0, 0, 0, 0, 0, 0, 0, 0, 0, 0, 0, 0, 0, 0, 0, 0, 0, 0, 0, 0, 0, 0, 0, 0, 0, 0, 0, 0, 0, 0, 0, 0, 0, 0, 0, 0, 0, 0, 0, 0, 0, 0, 0, 0, 0, 0, 0, 0, 0, 0, 0, 0, 0, 0, 0, 0, 0, 0, 0, 0, 0, 0, 0, 0, 0, 0, 0, 0, 0, 0, 0, 0, 0, 0, 0, 0, 0, 0, 0, 0, 0, 0, 0, 0, 0, 0, 0, 0, 0, 0, 0, 0, 0, 0, 0, 0, 0, 0, 0, 0, 0, 0, 0, 0, 0, 0, 0, 0, 0, 0, 0, 0, 0, 0, 0, 0, 0, 0, 0, 0, 0, 0, 0, 0, 0, 0, 0, 0, 0, 0, 0, 0, 0, 0, 0, 0, 0, 0, 0, 0, 0, 0, 0, 0, 0, 0, 0, 0, 0, 0, 0, 0, 0, 0, 0, 0, 0, 0, 0, 0, 0, 0, 0, 0, 0, 0, 0, 0, 0, 0, 0, 0, 0, 0, 0, 0, 0, 0, 0, 0, 0, 0, 0, 0, 0, 0, 0, 0, 0, 0, 0, 0, 0, 0, 0, 0, 0, 0, 0, 0, 0, 0, 0, 0, 0, 0, 0, 0, 0, 0, 0, 0, 0, 0, 0, 0, 0, 0, 0, 0, 0, 0, 0, 0, 0, 0, 0, 0, 0, 0, 0, 0, 0, 0, 0, 0, 0, 0, 0, 0, 0, 0, 0, 0, 0, 0, 0, 0, 0, 0, 0, 0, 0, 0, 0, 0, 0, 0, 0, 0, 0, 0, 0, 0, 0, 0, 0, 0, 0, 0, 0, 0, 0, 0, 0, 0, 0, 0, 0, 0, 0, 0, 0, 0, 0, 0, 0, 0, 0, 0, 0, 0, 0, 0, 0, 0, 0, 0, 0, 0, 0, 0, 0, 0, 0, 0, 0, 0, 0, 0, 0, 0, 0, 0, 0, 0, 0, 0, 0, 0, 0, 0, 0, 0, 0, 0, 0, 0, 0, 0, 0, 0, 0, 0, 0, 0, 0, 0, 0, 0, 0, 0, 0, 0, 0, 0, 0, 0, 0, 0, 0, 0, 0, 0, 0, 0, 0, 0, 0, 0, 0, 0, 0, 0, 0, 0, 0, 0, 0, 0, 0, 0, 0, 0, 0, 0, 0, 0, 0, 0, 0, 0, 0, 0, 0, 0, 0, 0, 0, 0, 0, 0, 0, 0, 0, 0, 0, 0, 0, 0, 0, 0, 0, 0, 0, 0, 0, 0, 0, 0, 0, 0, 0, 0, 0, 0, 0, 0, 0, 0, 0, 0, 0, 0, 0, 0, 0, 0, 0, 0, 0, 0, 0, 0, 0, 0, 0, 0, 0, 0, 0, 0, 0, 0, 0, 0, 0, 0, 0, 0, 0, 0, 0, 0, 0, 0, 0, 0, 0, 0, 0, 0, 0, 0, 0, 0, 0, 0, 0, 0, 0, 0, 0, 0, 0, 0, 0, 0, 0, 0, 0, 0, 0, 0, 0, 0, 0, 0, 0, 0, 0, 0, 0, 0, 0, 0, 0, 0, 0, 0, 0, 0, 0, 0, 0, 0, 0, 0, 0, 0, 0, 0, 0, 0, 0, 0, 0, 0, 0, 0, 0, 0, 0, 0, 0, 0, 0, 0, 0, 0, 0, 0, 0, 0, 0, 0, 0, 0, 0, 0, 0, 0, 0, 0, 0, 0, 0, 0, 0, 0, 0, 0, 0, 0, 0, 0, 0, 0, 0, 0, 0, 0, 0, 0, 0, 0, 0, 0, 0, 0, 0, 0, 0, 0, 0, 0, 0, 0, 0, 0, 0, 0, 0, 0, 0, 0, 0, 0, 0, 0, 0, 0, 0, 0, 0, 0, 0, 0, 0, 0, 0, 0, 0, 0, 0, 0, 0, 0, 0, 0, 0, 0, 0, 0, 0, 0, 0, 0, 0, 0, 0, 0, 0, 0, 0, 0, 0, 0, 0, 0, 0, 0, 0, 0, 0, 0, 0, 0, 0, 0, 0, 0, 0, 0, 0, 0, 0, 0, 0, 0, 0, 0, 0, 0, 0, 0, 0, 0, 0, 0, 0, 0, 0, 0, 0, 0, 0, 0, 0, 0, 0, 0, 0, 0, 0, 0, 0, 0, 0, 0, 0, 0, 0, 0, 0, 0, 0, 0, 0, 0, 0, 0, 0, 0, 0, 0, 0, 0, 0, 0, 0, 0, 0, 0, 0, 0, 0, 0, 0, 0, 0, 0, 0, 0, 0, 0, 0, 0, 0, 0, 0, 0, 0, 0, 0, 0, 0, 0, 0, 0, 0, 0, 0, 0, 0, 0, 0, 0, 0, 0, 0, 0, 0, 0, 0, 0, 0, 0, 0, 0, 0, 0, 0, 0, 0, 0, 0, 0, 0, 0, 0, 0, 0, 0, 0, 0, 0, 0, 0, 0, 0, 0, 0, 0, 0, 0, 0, 0, 0, 0, 0, 0, 0, 0, 0, 0, 0, 0, 0, 0, 0, 0, 0, 0, 0, 0, 0, 0, 0, 0, 0, 0, 0, 0, 0, 0, 0, 0, 0, 0, 0, 0, 0, 0, 0, 0, 0, 0, 0, 0, 0, 0, 0, 0, 0, 0, 0, 0, 0, 0, 0, 0, 0, 0, 0, 0, 0, 0, 0, 0, 0, 0, 0, 0, 0, 0, 0, 0, 0, 0, 0, 0, 0, 0, 0, 0, 0, 0, 0, 0, 0, 0, 0, 0, 0, 0, 0, 0, 0, 0, 0, 0, 0, 0, 0, 0, 0, 0, 0, 0, 0, 0, 0, 0, 0, 0, 0, 0, 0, 0, 0, 0, 0, 0, 0, 0, 0, 0, 0, 0, 0, 0, 0, 0, 0, 0, 0, 0, 0, 0, 0, 0, 0, 0, 0, 0, 0, 0, 0, 0, 0, 0, 0, 0, 0, 0, 0, 0, 0, 0, 0, 0, 0, 0, 0, 0, 0, 0, 0, 0, 0, 0, 0, 0, 0, 0, 0, 0, 0, 0, 0, 0, 0, 0, 0, 0, 0, 0, 0, 0, 0, 0, 0, 0, 0, 0, 0, 0, 0, 0, 0, 0, 0, 0, 0, 0, 0, 0, 0, 0, 0, 0, 0, 0, 0, 0, 0, 0, 0, 0, 0, 0, 0, 0, 0, 0, 0, 0, 0, 0, 0, 0, 0, 0, 0, 0, 0, 0, 0, 0, 0, 0, 0, 0, 0, 0, 0, 0, 0, 0, 0, 0, 0, 0, 0, 0, 0, 0, 0, 0, 0, 0, 0, 0, 0, 0, 0, 0, 0, 0, 0, 0, 0, 0, 0, 0, 0, 0, 0, 0, 0, 0, 0, 0, 0, 0, 0, 0, 0, 0, 0, 0, 0, 0, 0, 0, 0, 0, 0, 0, 0, 0, 0, 0, 0, 0, 0, 0, 0, 0, 0, 0, 0, 0, 0, 0, 0, 0, 0, 0, 0, 0, 0, 0, 0, 0, 0, 0, 0, 0, 0, 0, 0, 0, 0, 0, 0, 0, 0, 0, 0, 0, 0, 0, 0, 0, 0, 0, 0, 0, 0, 0, 0, 0, 0, 0, 0, 0, 0, 0, 0, 0, 0, 0, 0, 0, 0, 0, 0, 0, 0, 0, 0, 0, 0, 0, 0, 0, 0, 0, 0, 0, 0, 0, 0, 0, 0, 0, 0, 0, 0, 0, 0, 0, 0, 0, 0, 0, 0, 0, 0, 0, 0, 0, 0, 0, 0, 0, 0, 0, 0, 0, 0, 0, 0, 0, 0, 0, 0, 0, 0, 0, 0, 0, 0, 0, 0, 0, 0, 0, 0, 0, 0, 0, 0, 0, 0, 0, 0, 0, 0, 0, 0, 0, 0, 0, 0, 0, 0, 0, 0, 0, 0, 0, 0, 0, 0, 0, 0, 0, 0, 0, 0, 0, 0, 0, 0, 0, 0, 157, 157, 156, 0, 1, 2, 3, 4, 5, 6, 7, 9, 10, 11, 12, 13, 14, 15, 16, 17, 18, 19, 20, 21, 22, 23, 24, 25, 26, 27, 28, 29, 30, 31, 32, 33, 34, 35, 36, 37, 38, 39, 40, 41, 42, 43, 44, 45, 46, 47, 48, 49, 50, 51, 52, 53, 54, 55, 56, 57, 58, 59, 60, 61, 62, 63, 64, 65, 66, 67, 68, 69, 70, 71, 72, 73, 74, 75, 76, 77, 78, 79, 80, 81, 82, 83, 84, 85, 86, 87, 88, 89, 90, 91, 92, 93, 94, 95, 96, 97, 98, 99, 100, 101, 102, 103, 104, 105, 106, 107, 108, 109, 110, 111, 112, 113, 114, 115, 116, 117, 118, 119, 120, 121, 122, 123, 124, 125, 126, 127, 128, 129, 130, 131, 132, 133, 134, 135, 136, 137, 138, 139, 140, 141, 142, 143, 142, 143, 144, 145, 146, 147, 148, 149, 150, 151, 152, 153, 154, 155, 158, 159, 160, 161, 162, 163, 164, 165, 166, 167, 168, 169, 170, 171, 172, 173, 174, 175, 176, 177, 178, 179, 180, 181, 182, 183, 184, 185, 186, 187, 188, 189, 190, 191, 192, 193, 194, 195, 196, 197, 198, 199, 200, 201, 202, 203, 204, 205, 206, 207, 208, 209, 210, 211, 212, 213, 214, 215, 216, 217, 218, 219, 220, 221, 222, 223, 224, 225, 226, 227, 228, 229, 230, 231, 232, 233, 234, 235, 236, 237, 238, 239, 240, 241, 242, 243, 244, 245, 246, 247, 248, 249, 250, 251, 252, 253, 254, 255]"
   ]
  },
  {
   "cell_type": "code",
   "execution_count": null,
   "id": "8741dd5b-937a-48ae-aba1-63e681accad8",
   "metadata": {
    "jupyter": {
     "source_hidden": true
    }
   },
   "outputs": [],
   "source": [
    "expected_mtfa_2 = [0, 0, 0, 0, 0, 0, 0, 0, 0, 0, 0, 0, 0, 0, 0, 0, 0, 0, 0, 0, 0, 0, 0, 0, 0, 0, 0, 0, 0, 0, 0, 0, 0, 0, 0, 0, 0, 0, 0, 0, 0, 0, 0, 0, 0, 0, 0, 0, 0, 0, 0, 0, 0, 0, 0, 0, 0, 0, 0, 0, 0, 0, 0, 0, 0, 0, 0, 0, 0, 0, 0, 0, 0, 0, 0, 0, 0, 0, 0, 0, 0, 0, 0, 0, 0, 0, 0, 0, 0, 0, 0, 0, 0, 0, 0, 0, 0, 0, 0, 0, 0, 0, 0, 0, 0, 0, 0, 0, 0, 0, 0, 0, 0, 0, 0, 0, 0, 0, 0, 0, 0, 0, 0, 0, 0, 0, 0, 0, 0, 0, 0, 0, 0, 0, 0, 0, 0, 0, 0, 0, 0, 0, 0, 0, 0, 0, 0, 0, 0, 0, 0, 0, 0, 0, 0, 0, 0, 0, 0, 0, 0, 0, 0, 0, 0, 0, 0, 0, 0, 0, 0, 0, 0, 0, 0, 0, 0, 0, 0, 0, 0, 0, 0, 0, 0, 0, 0, 0, 0, 0, 0, 0, 0, 0, 0, 0, 0, 0, 0, 0, 0, 0, 0, 0, 0, 0, 0, 0, 0, 0, 0, 0, 0, 0, 0, 0, 0, 0, 0, 0, 0, 0, 0, 0, 0, 0, 0, 0, 0, 0, 0, 0, 0, 0, 0, 0, 0, 0, 0, 0, 0, 0, 0, 0, 0, 0, 0, 0, 0, 0, 0, 0, 0, 0, 0, 0, 0, 0, 0, 0, 0, 0, 0, 0, 0, 0, 0, 0, 0, 0, 0, 0, 0, 0, 0, 0, 0, 0, 0, 0, 0, 0, 0, 0, 0, 0, 0, 0, 0, 0, 0, 0, 0, 0, 0, 0, 0, 0, 0, 0, 0, 0, 0, 0, 0, 0, 0, 0, 0, 0, 0, 0, 0, 0, 0, 0, 0, 0, 0, 0, 0, 0, 0, 0, 0, 0, 0, 0, 0, 0, 0, 0, 0, 0, 0, 0, 0, 0, 0, 0, 0, 0, 0, 0, 0, 0, 0, 0, 0, 0, 0, 0, 0, 0, 0, 0, 0, 0, 0, 0, 0, 0, 0, 0, 0, 0, 0, 0, 0, 0, 0, 0, 0, 0, 0, 0, 0, 0, 0, 0, 0, 0, 0, 0, 0, 0, 0, 0, 0, 0, 0, 0, 0, 0, 0, 0, 0, 0, 0, 0, 0, 0, 0, 0, 0, 0, 0, 0, 0, 0, 0, 0, 0, 0, 0, 0, 0, 0, 0, 0, 0, 0, 0, 0, 0, 0, 0, 0, 0, 0, 0, 0, 0, 0, 0, 0, 0, 0, 0, 0, 0, 0, 0, 0, 0, 0, 0, 0, 0, 0, 0, 0, 0, 0, 0, 0, 0, 0, 0, 0, 0, 0, 0, 0, 0, 0, 0, 0, 0, 0, 0, 0, 0, 0, 0, 0, 0, 0, 0, 0, 0, 0, 0, 0, 0, 0, 0, 0, 0, 0, 0, 0, 0, 0, 0, 0, 0, 0, 0, 0, 0, 0, 0, 0, 0, 0, 0, 0, 0, 0, 0, 0, 0, 0, 0, 0, 0, 0, 0, 0, 0, 0, 0, 0, 0, 0, 0, 0, 0, 0, 0, 0, 0, 0, 0, 0, 0, 0, 0, 0, 0, 0, 0, 0, 0, 0, 0, 0, 0, 0, 0, 0, 0, 0, 0, 0, 0, 0, 0, 0, 0, 0, 0, 0, 0, 0, 0, 0, 0, 0, 0, 0, 0, 0, 0, 0, 0, 0, 0, 0, 0, 0, 0, 0, 0, 0, 0, 0, 0, 0, 0, 0, 0, 0, 0, 0, 0, 0, 0, 0, 0, 0, 0, 0, 0, 0, 0, 0, 0, 0, 0, 0, 0, 0, 0, 0, 0, 0, 0, 0, 0, 0, 0, 0, 0, 0, 0, 0, 0, 0, 0, 0, 0, 0, 0, 0, 0, 0, 0, 0, 0, 0, 0, 0, 0, 0, 0, 0, 0, 0, 0, 0, 0, 0, 0, 0, 0, 0, 0, 0, 0, 0, 0, 0, 0, 0, 0, 0, 0, 0, 0, 0, 0, 0, 0, 0, 0, 0, 0, 0, 0, 0, 0, 0, 0, 0, 0, 0, 0, 0, 0, 0, 0, 0, 0, 0, 0, 0, 0, 0, 0, 0, 0, 0, 0, 0, 0, 0, 0, 0, 0, 0, 0, 0, 0, 0, 0, 0, 0, 0, 0, 0, 0, 0, 0, 0, 0, 0, 0, 0, 0, 0, 0, 0, 0, 0, 0, 0, 0, 0, 0, 0, 0, 0, 0, 0, 0, 0, 0, 0, 0, 0, 0, 0, 0, 0, 0, 0, 0, 0, 0, 0, 0, 0, 0, 0, 0, 0, 0, 0, 0, 0, 0, 0, 0, 0, 0, 0, 0, 0, 0, 0, 0, 0, 0, 0, 0, 0, 0, 0, 0, 0, 0, 0, 0, 0, 0, 0, 0, 0, 0, 0, 0, 0, 0, 0, 0, 0, 0, 0, 0, 0, 0, 0, 0, 0, 0, 0, 0, 0, 0, 0, 0, 0, 0, 0, 0, 0, 0, 0, 0, 0, 0, 0, 0, 0, 0, 0, 0, 0, 0, 0, 0, 0, 0, 0, 0, 0, 0, 0, 0, 0, 0, 0, 0, 0, 0, 0, 0, 0, 0, 0, 0, 0, 0, 0, 0, 0, 0, 0, 0, 0, 0, 0, 0, 0, 0, 0, 0, 0, 0, 0, 0, 0, 0, 0, 0, 0, 0, 0, 0, 0, 0, 0, 0, 0, 0, 0, 0, 0, 0, 0, 0, 0, 0, 0, 0, 0, 0, 0, 0, 0, 0, 0, 0, 0, 0, 0, 0, 0, 0, 0, 0, 0, 0, 0, 0, 0, 0, 0, 0, 0, 0, 0, 0, 0, 0, 0, 0, 0, 0, 0, 0, 0, 0, 0, 0, 0, 0, 0, 0, 0, 0, 0, 0, 0, 0, 0, 0, 0, 0, 0, 0, 0, 0, 0, 0, 0, 0, 0, 0, 0, 0, 0, 0, 0, 0, 0, 0, 0, 0, 0, 0, 0, 0, 0, 0, 0, 0, 0, 0, 0, 0, 0, 0, 0, 0, 0, 0, 0, 0, 0, 0, 0, 0, 0, 0, 0, 0, 0, 0, 0, 0, 0, 0, 0, 0, 0, 0, 0, 0, 0, 0, 0, 0, 0, 0, 0, 0, 0, 0, 0, 0, 0, 0, 0, 0, 0, 0, 0, 0, 0, 0, 0, 0, 0, 0, 0, 0, 0, 0, 0, 0, 0, 0, 0, 0, 0, 0, 0, 0, 0, 0, 0, 0, 0, 0, 0, 0, 0, 0, 0, 0, 0, 0, 0, 0, 0, 0, 0, 0, 0, 0, 0, 0, 0, 0, 0, 0, 0, 0, 0, 0, 0, 0, 0, 0, 0, 0, 0, 0, 0, 0, 0, 0, 0, 0, 0, 0, 0, 0, 0, 0, 0, 0, 0, 0, 0, 0, 0, 0, 0, 0, 0, 0, 0, 0, 0, 0, 0, 0, 0, 0, 0, 0, 0, 0, 0, 0, 0, 0, 0, 0, 0, 0, 0, 0, 0, 0, 0, 0, 0, 0, 0, 0, 0, 0, 0, 0, 0, 0, 0, 0, 0, 0, 0, 0, 0, 0, 0, 0, 0, 0, 0, 0, 0, 0, 0, 0, 0, 0, 0, 0, 0, 0, 0, 0, 0, 0, 0, 0, 0, 0, 0, 0, 0, 0, 0, 0, 0, 0, 0, 0, 0, 0, 0, 0, 0, 0, 0, 0, 0, 0, 0, 0, 0, 0, 0, 0, 0, 0, 0, 0, 0, 0, 0, 0, 0, 0, 0, 0, 0, 0, 0, 0, 0, 0, 0, 0, 0, 0, 0, 0, 0, 0, 0, 0, 0, 0, 0, 0, 0, 0, 0, 0, 0, 0, 0, 0, 0, 0, 0, 0, 0, 0, 0, 0, 0, 0, 0, 0, 0, 0, 0, 0, 0, 0, 0, 0, 0, 0, 0, 0, 0, 0, 0, 0, 0, 0, 0, 0, 0, 0, 0, 0, 0, 0, 0, 0, 0, 0, 0, 0, 0, 0, 0, 0, 0, 0, 0, 0, 0, 0, 0, 0, 0, 0, 0, 0, 0, 0, 0, 0, 0, 0, 0, 0, 0, 0, 0, 0, 0, 0, 0, 0, 0, 0, 0, 0, 0, 0, 0, 0, 0, 0, 0, 0, 0, 0, 0, 0, 0, 0, 0, 0, 0, 0, 0, 0, 0, 0, 0, 0, 0, 0, 0, 0, 0, 0, 0, 0, 0, 0, 0, 0, 0, 0, 0, 0, 0, 0, 0, 0, 0, 0, 0, 0, 0, 0, 0, 0, 0, 0, 0, 0, 0, 0, 0, 0, 0, 0, 0, 0, 0, 0, 0, 0, 0, 0, 0, 0, 0, 0, 0, 0, 0, 0, 0, 0, 0, 0, 0, 0, 0, 0, 0, 0, 0, 0, 0, 0, 0, 0, 0, 0, 0, 0, 0, 0, 0, 0, 0, 0, 0, 0, 0, 0, 0, 0, 0, 0, 0, 0, 0, 0, 0, 0, 0, 0, 0, 0, 0, 0, 0, 0, 0, 0, 0, 0, 0, 0, 0, 0, 0, 0, 0, 0, 0, 0, 0, 0, 0, 0, 0, 0, 0, 0, 0, 0, 0, 0, 0, 0, 0, 0, 0, 0, 0, 0, 0, 0, 0, 0, 0, 0, 0, 0, 0, 0, 0, 0, 0, 0, 0, 0, 0, 0, 0, 0, 0, 0, 0, 0, 0, 0, 0, 0, 0, 0, 0, 0, 0, 0, 0, 0, 0, 0, 0, 0, 0, 0, 0, 0, 0, 0, 0, 0, 0, 0, 0, 0, 0, 0, 0, 0, 0, 0, 0, 0, 0, 0, 0, 0, 0, 0, 0, 0, 0, 0, 0, 0, 0, 0, 0, 0, 0, 0, 0, 0, 0, 0, 0, 0, 0, 0, 0, 0, 0, 0, 0, 0, 0, 0, 0, 0, 0, 0, 0, 0, 0, 0, 0, 0, 0, 0, 0, 0, 0, 0, 0, 0, 0, 0, 0, 0, 0, 0, 0, 0, 0, 0, 0, 0, 0, 0, 0, 0, 0, 0, 0, 0, 0, 0, 0, 0, 0, 0, 0, 0, 0, 0, 0, 0, 0, 0, 0, 0, 0, 0, 0, 0, 0, 0, 0, 0, 0, 0, 0, 0, 0, 0, 0, 0, 0, 0, 0, 0, 0, 0, 0, 0, 0, 0, 0, 0, 0, 0, 0, 0, 0, 0, 0, 0, 0, 0, 0, 0, 0, 0, 0, 0, 0, 0, 0, 0, 0, 0, 0, 0, 0, 0, 0, 0, 0, 0, 0, 0, 0, 0, 0, 0, 0, 0, 0, 0, 0, 0, 0, 0, 0, 0, 0, 0, 0, 0, 0, 0, 0, 0, 0, 0, 0, 0, 0, 0, 0, 0, 0, 0, 0, 0, 0, 0, 0, 0, 0, 0, 0, 0, 0, 0, 0, 0, 0, 0, 0, 0, 0, 0, 0, 0, 0, 0, 0, 0, 0, 0, 0, 0, 0, 0, 0, 0, 0, 0, 0, 0, 0, 0, 0, 0, 0, 0, 0, 0, 0, 0, 0, 0, 0, 0, 0, 0, 0, 0, 0, 0, 0, 0, 0, 0, 0, 0, 0, 0, 0, 0, 0, 0, 0, 0, 0, 0, 0, 0, 0, 0, 0, 0, 0, 0, 0, 0, 0, 0, 0, 0, 0, 0, 0, 0, 0, 0, 0, 0, 0, 0, 0, 0, 0, 0, 0, 0, 0, 0, 0, 0, 0, 0, 0, 0, 0, 0, 0, 0, 0, 0, 0, 0, 0, 0, 0, 0, 0, 0, 0, 0, 0, 0, 0, 0, 0, 0, 0, 0, 0, 0, 0, 0, 0, 0, 0, 0, 0, 0, 0, 0, 0, 0, 0, 0, 0, 0, 0, 0, 0, 0, 0, 0, 0, 0, 0, 0, 0, 0, 0, 0, 0, 0, 0, 0, 0, 0, 0, 0, 0, 0, 0, 0, 0, 0, 0, 0, 0, 0, 0, 0, 0, 0, 0, 0, 0, 0, 0, 0, 0, 0, 0, 0, 0, 0, 0, 0, 0, 0, 0, 0, 0, 0, 0, 0, 0, 0, 0, 0, 0, 0, 0, 0, 0, 0, 0, 0, 0, 0, 0, 0, 0, 0, 0, 0, 0, 0, 0, 0, 0, 0, 0, 0, 0, 0, 0, 0, 0, 0, 0, 0, 0, 0, 0, 0, 0, 0, 0, 0, 0, 0, 0, 0, 0, 0, 0, 0, 0, 0, 0, 0, 0, 0, 0, 0, 0, 0, 0, 0, 0, 0, 0, 0, 0, 0, 0, 0, 0, 0, 0, 0, 0, 0, 0, 0, 0, 0, 0, 0, 0, 0, 0, 0, 0, 0, 0, 0, 0, 0, 0, 0, 0, 0, 0, 0, 0, 0, 0, 0, 0, 0, 0, 0, 0, 0, 0, 0, 0, 0, 0, 0, 0, 0, 0, 0, 0, 0, 0, 0, 0, 0, 0, 0, 0, 0, 0, 0, 0, 0, 0, 0, 0, 0, 0, 0, 0, 0, 0, 0, 0, 0, 0, 0, 0, 0, 0, 0, 0, 0, 0, 0, 0, 0, 0, 0, 0, 0, 0, 0, 0, 0, 0, 0, 0, 0, 0, 0, 0, 0, 0, 0, 0, 0, 0, 0, 0, 0, 0, 0, 0, 0, 0, 0, 0, 0, 0, 0, 0, 0, 0, 0, 0, 0, 0, 0, 0, 0, 0, 0, 0, 0, 0, 0, 0, 0, 0, 0, 0, 0, 0, 0, 0, 0, 0, 0, 0, 0, 0, 0, 0, 0, 0, 0, 0, 0, 0, 0, 0, 0, 0, 0, 0, 0, 0, 0, 0, 0, 0, 0, 0, 0, 0, 0, 0, 0, 0, 0, 0, 0, 0, 0, 0, 0, 0, 0, 0, 0, 0, 0, 0, 0, 0, 0, 0, 0, 0, 0, 0, 0, 0, 0, 0, 0, 0, 0, 0, 0, 0, 0, 0, 0, 0, 0, 0, 0, 0, 0, 0, 0, 0, 0, 0, 0, 0, 0, 0, 0, 0, 0, 0, 0, 0, 0, 0, 0, 0, 0, 0, 0, 0, 0, 0, 0, 0, 0, 0, 0, 0, 0, 0, 0, 0, 0, 0, 0, 0, 0, 0, 0, 0, 0, 0, 0, 0, 0, 0, 0, 0, 0, 0, 0, 0, 0, 0, 0, 0, 0, 0, 0, 0, 0, 0, 0, 0, 0, 0, 0, 0, 0, 0, 0, 0, 0, 0, 0, 0, 0, 0, 0, 0, 0, 0, 0, 0, 0, 0, 0, 0, 0, 0, 0, 0, 0, 0, 0, 0, 0, 0, 0, 0, 0, 0, 0, 0, 0, 0, 0, 0, 0, 0, 0, 0, 0, 0, 0, 0, 0, 0, 0, 0, 0, 0, 0, 0, 0, 0, 0, 0, 0, 0, 0, 0, 0, 0, 0, 0, 0, 0, 0, 0, 0, 0, 0, 0, 0, 0, 0, 0, 0, 0, 0, 0, 0, 0, 0, 0, 0, 0, 0, 0, 0, 0, 0, 0, 0, 0, 0, 0, 0, 0, 0, 0, 0, 0, 0, 0, 0, 0, 0, 0, 0, 0, 0, 0, 0, 0, 0, 0, 0, 0, 0, 0, 0, 0, 0, 0, 0, 0, 0, 0, 0, 0, 0, 0, 0, 0, 0, 0, 0, 0, 0, 0, 0, 0, 0, 0, 0, 0, 0, 0, 0, 0, 0, 0, 0, 0, 0, 0, 0, 0, 0, 0, 0, 0, 0, 0, 0, 0, 0, 0, 0, 0, 0, 0, 0, 0, 0, 0, 0, 0, 0, 0, 0, 0, 0, 0, 0, 0, 0, 0, 0, 0, 0, 0, 0, 0, 0, 0, 0, 0, 0, 0, 0, 0, 0, 0, 0, 0, 0, 0, 0, 0, 0, 0, 0, 0, 0, 0, 0, 0, 0, 0, 0, 0, 0, 0, 0, 0, 0, 0, 0, 0, 0, 0, 0, 0, 0, 0, 0, 0, 0, 0, 0, 0, 0, 0, 0, 0, 0, 0, 0, 0, 0, 0, 0, 0, 0, 0, 0, 0, 0, 0, 0, 0, 0, 0, 0, 0, 0, 0, 0, 0, 0, 0, 0, 0, 0, 0, 0, 0, 0, 0, 0, 0, 0, 0, 0, 0, 0, 0, 0, 0, 0, 0, 0, 0, 0, 0, 0, 0, 0, 0, 0, 0, 0, 0, 0, 0, 0, 0, 0, 0, 0, 0, 0, 0, 0, 0, 0, 0, 0, 0, 0, 0, 0, 0, 0, 0, 0, 0, 0, 0, 0, 0, 0, 0, 0, 0, 0, 0, 0, 0, 0, 0, 0, 0, 0, 0, 0, 0, 0, 0, 0, 0, 0, 0, 0, 0, 0, 0, 0, 0, 0, 0, 0, 0, 0, 0, 0, 0, 0, 0, 0, 0, 0, 0, 0, 0, 0, 0, 0, 0, 0, 0, 0, 0, 0, 0, 0, 0, 0, 0, 0, 0, 0, 0, 0, 0, 0, 0, 0, 0, 0, 0, 0, 0, 0, 0, 0, 0, 0, 0, 0, 0, 0, 0, 0, 0, 0, 0, 0, 0, 0, 0, 0, 0, 0, 0, 0, 0, 0, 0, 0, 0, 0, 0, 0, 0, 0, 0, 0, 0, 0, 0, 0, 0, 0, 0, 0, 0, 0, 0, 0, 0, 0, 0, 0, 0, 0, 0, 0, 0, 0, 0, 0, 0, 0, 0, 0, 0, 0, 0, 0, 0, 0, 0, 0, 0, 0, 0, 0, 0, 0, 0, 0, 0, 0, 0, 0, 0, 0, 0, 0, 0, 0, 0, 0, 0, 0, 0, 0, 0, 0, 0, 0, 0, 0, 0, 0, 0, 0, 0, 0, 0, 0, 0, 0, 0, 0, 0, 0, 0, 0, 0, 0, 0, 0, 0, 0, 0, 0, 0, 0, 0, 0, 0, 0, 0, 0, 0, 0, 0, 0, 0, 0, 0, 0, 0, 0, 0, 0, 0, 0, 0, 0, 0, 0, 0, 0, 0, 0, 0, 0, 0, 0, 0, 0, 0, 0, 0, 0, 0, 0, 0, 0, 0, 0, 0, 0, 0, 0, 0, 0, 0, 0, 0, 0, 0, 0, 0, 0, 0, 0, 0, 0, 0, 0, 0, 0, 0, 0, 0, 0, 0, 0, 0, 0, 0, 0, 0, 0, 0, 0, 0, 0, 0, 0, 0, 0, 0, 0, 0, 0, 0, 0, 0, 0, 0, 0, 0, 0, 0, 0, 0, 0, 0, 0, 0, 0, 0, 0, 0, 0, 0, 0, 0, 0, 0, 0, 0, 0, 0, 0, 0, 0, 0, 0, 0, 0, 0, 0, 0, 0, 0, 0, 0, 0, 0, 0, 0, 0, 0, 0, 0, 0, 0, 0, 0, 0, 0, 0, 0, 0, 0, 0, 0, 0, 0, 0, 0, 0, 0, 0, 0, 0, 0, 0, 0, 0, 0, 0, 0, 0, 0, 0, 0, 0, 0, 0, 0, 0, 0, 0, 0, 0, 0, 0, 0, 0, 0, 0, 0, 0, 0, 0, 0, 0, 0, 0, 0, 0, 0, 0, 0, 0, 0, 0, 0, 0, 0, 0, 0, 0, 0, 0, 0, 0, 0, 0, 0, 0, 0, 0, 0, 0, 0, 0, 0, 0, 0, 0, 0, 0, 0, 0, 0, 0, 0, 0, 0, 0, 0, 0, 0, 0, 0, 0, 0, 0, 0, 0, 0, 0, 0, 0, 0, 0, 0, 0, 0, 0, 0, 0, 0, 0, 0, 0, 0, 0, 0, 0, 0, 0, 0, 0, 0, 0, 0, 0, 0, 0, 0, 0, 0, 0, 0, 0, 0, 0, 0, 0, 0, 0, 0, 0, 0, 0, 0, 0, 0, 0, 0, 0, 0, 0, 0, 0, 0, 0, 0, 0, 0, 0, 0, 0, 0, 0, 0, 0, 0, 0, 0, 0, 0, 0, 0, 0, 0, 0, 0, 0, 0, 0, 0, 0, 0, 0, 0, 0, 0, 0, 0, 0, 0, 0, 0, 0, 0, 0, 0, 0, 0, 0, 0, 0, 0, 0, 0, 0, 0, 0, 0, 0, 0, 0, 0, 0, 0, 0, 0, 0, 0, 0, 0, 0, 0, 0, 0, 0, 0, 0, 0, 0, 0, 0, 0, 0, 0, 0, 0, 0, 0, 0, 0, 0, 0, 0, 0, 0, 0, 0, 0, 0, 0, 0, 0, 0, 0, 0, 0, 0, 0, 0, 0, 0, 0, 0, 0, 0, 0, 0, 0, 0, 0, 0, 0, 0, 0, 0, 0, 0, 0, 0, 0, 0, 0, 0, 0, 0, 0, 0, 0, 0, 0, 0, 0, 0, 0, 0, 0, 0, 0, 0, 0, 0, 0, 0, 0, 0, 0, 0, 0, 0, 0, 0, 0, 0, 0, 0, 0, 0, 0, 0, 0, 0, 0, 0, 0, 0, 0, 0, 0, 0, 0, 0, 0, 0, 0, 0, 0, 0, 0, 0, 0, 0, 0, 0, 0, 0, 0, 0, 0, 0, 0, 0, 0, 0, 0, 0, 0, 0, 0, 0, 0, 0, 0, 0, 0, 0, 0, 0, 0, 0, 0, 0, 0, 0, 0, 0, 0, 0, 0, 0, 0, 0, 0, 0, 0, 0, 0, 0, 0, 0, 0, 0, 0, 0, 0, 0, 0, 0, 0, 0, 0, 0, 0, 0, 0, 0, 0, 0, 0, 0, 0, 0, 0, 0, 0, 0, 0, 0, 0, 0, 0, 0, 0, 0, 0, 0, 0, 0, 0, 0, 0, 0, 0, 0, 0, 0, 0, 0, 0, 0, 0, 0, 0, 0, 0, 0, 0, 0, 0, 0, 0, 0, 0, 0, 0, 0, 0, 0, 0, 0, 0, 0, 0, 0, 0, 0, 0, 0, 0, 0, 0, 0, 0, 0, 0, 0, 0, 0, 0, 0, 0, 0, 0, 0, 0, 0, 0, 0, 0, 0, 0, 0, 0, 0, 0, 0, 0, 0, 0, 0, 0, 0, 0, 0, 0, 0, 0, 0, 0, 0, 0, 0, 0, 0, 0, 0, 0, 0, 0, 0, 0, 0, 0, 0, 0, 0, 0, 0, 0, 0, 0, 0, 0, 0, 0, 0, 0, 0, 0, 0, 0, 0, 0, 0, 0, 0, 0, 0, 0, 0, 0, 0, 0, 0, 0, 0, 0, 0, 0, 0, 0, 0, 0, 0, 0, 0, 0, 0, 0, 0, 0, 0, 0, 0, 0, 0, 0, 0, 0, 0, 0, 0, 0, 0, 0, 0, 0, 0, 0, 0, 0, 0, 0, 0, 0, 0, 0, 0, 0, 0, 0, 0, 0, 0, 0, 0, 0, 0, 0, 0, 0, 0, 0, 0, 0, 0, 0, 0, 0, 0, 0, 0, 0, 0, 0, 0, 0, 0, 0, 0, 0, 0, 0, 0, 0, 0, 0, 0, 0, 0, 0, 0, 0, 0, 0, 0, 0, 0, 0, 0, 0, 0, 0, 0, 0, 0, 0, 0, 0, 0, 0, 0, 0, 0, 0, 0, 0, 0, 0, 0, 0, 0, 0, 0, 0, 0, 0, 0, 0, 0, 0, 0, 0, 0, 0, 0, 0, 0, 0, 0, 0, 0, 0, 0, 0, 0, 0, 0, 0, 0, 0, 0, 0, 0, 0, 0, 0, 0, 0, 0, 0, 0, 0, 0, 0, 0, 0, 0, 0, 0, 0, 0, 0, 0, 0, 0, 0, 0, 0, 0, 0, 0, 0, 0, 0, 0, 0, 0, 0, 0, 0, 0, 0, 0, 0, 0, 0, 0, 0, 0, 0, 0, 0, 0, 0, 0, 0, 0, 0, 0, 0, 0, 0, 0, 0, 0, 0, 0, 0, 0, 0, 0, 0, 0, 0, 0, 0, 0, 0, 0, 0, 0, 0, 0, 0, 0, 0, 0, 0, 0, 0, 0, 0, 0, 0, 0, 0, 0, 0, 0, 0, 0, 0, 0, 0, 0, 0, 0, 0, 0, 0, 0, 0, 0, 0, 0, 0, 0, 0, 0, 0, 0, 0, 0, 0, 0, 0, 0, 0, 0, 0, 0, 0, 0, 0, 0, 0, 0, 0, 8, 157, 156, 0, 1, 2, 3, 4, 5, 6, 7, 9, 10, 11, 12, 13, 14, 15, 16, 17, 18, 19, 20, 21, 22, 23, 24, 25, 26, 27, 28, 29, 30, 31, 32, 33, 34, 35, 36, 37, 38, 39, 40, 41, 42, 43, 44, 45, 46, 47, 48, 49, 50, 51, 52, 53, 54, 55, 56, 57, 58, 59, 60, 61, 62, 63, 64, 65, 66, 67, 68, 69, 70, 71, 72, 73, 74, 75, 76, 77, 78, 79, 80, 81, 82, 83, 84, 85, 86, 87, 88, 89, 90, 91, 92, 93, 94, 95, 96, 97, 98, 99, 100, 101, 102, 103, 104, 105, 106, 107, 108, 109, 110, 111, 112, 113, 114, 115, 116, 117, 118, 119, 120, 121, 122, 123, 124, 125, 126, 127, 128, 129, 130, 131, 132, 133, 134, 135, 136, 137, 138, 139, 140, 141, 142, 143, 142, 143, 144, 145, 146, 147, 148, 149, 150, 151, 152, 153, 154, 155, 158, 159, 160, 161, 162, 163, 164, 165, 166, 167, 168, 169, 170, 171, 172, 173, 174, 175, 176, 177, 178, 179, 180, 181, 182, 183, 184, 185, 186, 187, 188, 189, 190, 191, 192, 193, 194, 195, 196, 197, 198, 199, 200, 201, 202, 203, 204, 205, 206, 207, 208, 209, 210, 211, 212, 213, 214, 215, 216, 217, 218, 219, 220, 221, 222, 223, 224, 225, 226, 227, 228, 229, 230, 231, 232, 233, 234, 235, 236, 237, 238, 239, 240, 241, 242, 243, 244, 245, 246, 247, 248, 249, 250, 251, 252, 253, 254, 255]"
   ]
  },
  {
   "cell_type": "code",
   "execution_count": null,
   "id": "dd0d4616-ff1e-4afc-87a9-4d5da69ec1c5",
   "metadata": {},
   "outputs": [],
   "source": [
    "while True:\n",
    "    if nextsym == eob:\n",
    "        break\n",
    "\n",
    "    if nextsym == BZ_RUNA or nextsym == BZ_RUNB:\n",
    "        es = -1\n",
    "        n = 1\n",
    "\n",
    "        while nextsym == BZ_RUNA or nextsym == BZ_RUNB:\n",
    "            if nextsym == BZ_RUNA:\n",
    "                es += n\n",
    "            n = n << 1\n",
    "            if nextsym == BZ_RUNB:\n",
    "                es += n\n",
    "\n",
    "            if grouppos == 0:\n",
    "                groupno += 1\n",
    "                if groupno >= nselectors:\n",
    "                    raise RuntimeError('BZ_DATA_ERROR: Number of groups too large')\n",
    "                grouppos = BZ_G_SIZE\n",
    "                gsel = bzd.selector[groupno]\n",
    "                gminlen = bzd.minlens[gsel]\n",
    "                glimit = bzd.limit[gsel]\n",
    "                gperm = bzd.perm[gsel]\n",
    "                gbase = bzd.base[gsel]\n",
    "            grouppos -= 1\n",
    "            zn = gminlen\n",
    "\n",
    "            zvec = bzd._get_bits(zn, 'BZ_X_MTF_3')\n",
    "\n",
    "            while True:\n",
    "                if zn > 20:\n",
    "                    raise RuntimeError('BZ_DATA_ERROR: Value zv too large')\n",
    "                if zvec <= glimit[zn]:\n",
    "                    break\n",
    "                zn += 1\n",
    "                zj = bzd._get_bits(1, 'BZ_X_MTF_4')\n",
    "                zvec = (zvec << 1) | zj\n",
    "\n",
    "            if zvec - gbase[zn] < 0 or zvec - gbase[zn] >= BZ_MAX_ALPHA_SIZE:\n",
    "                raise RuntimeError('BZ_DATA_ERROR: Value zvec outside of acceptable range')\n",
    "            nextsym = gperm[zvec - gbase[zn]]\n",
    "\n",
    "        es += 1\n",
    "        uc = bzd.seqtounseq[bzd.mtfa[bzd.mtfbase[0]]]\n",
    "        bzd.unzftab[uc] += es\n",
    "\n",
    "        while es > 0:\n",
    "            if nblock >= nblockmax:\n",
    "                raise RuntimeError('BZ_DATA_ERROR: Value nblock too large')\n",
    "            bzd.tt[nblock] = uc\n",
    "            nblock += 1\n",
    "            es -= 1\n",
    "\n",
    "    else:\n",
    "        if nblock >= nblockmax:\n",
    "            raise RuntimeError('BZ_DATA_ERROR: Value nblock higher than maximum')\n",
    "\n",
    "        pp = 0\n",
    "        nn = nextsym - 1\n",
    "\n",
    "        if nn < MTFL_SIZE:\n",
    "            if not counter:\n",
    "                self.assertEqual(nn, 10)\n",
    "            pp = bzd.mtfbase[0]\n",
    "            if not counter:\n",
    "                self.assertEqual(pp, 3838)\n",
    "            uc = bzd.mtfa[pp + nn]\n",
    "            if not counter:\n",
    "                self.assertEqual(uc, 8)\n",
    "            while nn > 0:\n",
    "                bzd.mtfa[pp + nn] = bzd.mtfa[pp + nn - 1]\n",
    "                nn -= 1\n",
    "            if not counter:\n",
    "                self.assertEqual(nn, 0)\n",
    "                self.assertListEqual(bzd.mtfa, expected_mtfa_1)\n",
    "            bzd.mtfa[pp] = uc\n",
    "            if not counter:\n",
    "                self.assertListEqual(bzd.mtfa, expected_mtfa_2)\n",
    "            counter += 1\n",
    "        else:\n",
    "            lno = int(nn / MTFL_SIZE)\n",
    "            off = nn % MTFL_SIZE\n",
    "            pp = bzd.mtfbase[lno] + off\n",
    "            uc = bzd.mtfa[pp]\n",
    "            \n",
    "            while pp > bzd.mtfbase[lno]:\n",
    "                bzd.mtfa[pp] = bzd.mtfa[pp - 1]\n",
    "                pp -= 1\n",
    "            \n",
    "            bzd.mtfbase[lno] += 1\n",
    "            \n",
    "            while lno > 0:\n",
    "                bzd.mtfbase[lno] -= 1\n",
    "                bzd.mtfa[bzd.mtfbase[lno]] = bzd.mtfa[bzd.mtfbase[lno - 1] + MTFL_SIZE - 1]\n",
    "                lno -= 1\n",
    "            \n",
    "            bzd.mtfbase[0] -= 1\n",
    "            \n",
    "            bzd.mtfa[bzd.mtfbase[0]] = uc;\n",
    "            \n",
    "            if bzd.mtfbase[0] == 0:\n",
    "                k = MTFA_SIZE - 1\n",
    "                for i in reversed(range(int(256 / MTFL_SIZE))):\n",
    "                    for j in reversed(range(MTFL_SIZE)):\n",
    "                        bzd.mtfa[k] = bzd.mtfa[bzd.mtfbase[i] + j]\n",
    "                        k -= 1\n",
    "                    bzd.mtfbase[i] = k + 1\n",
    "\n",
    "        bzd.unzftab[bzd.seqtounseq[uc]] += 1\n",
    "        bzd.tt[nblock] = bzd.seqtounseq[uc]\n",
    "        nblock += 1\n",
    "\n",
    "        if grouppos == 0:\n",
    "            groupno += 1\n",
    "            if groupno >= nselectors:\n",
    "                raise RuntimeError('BZ_DATA_ERROR: Number of groups too large')\n",
    "            grouppos = BZ_G_SIZE\n",
    "            gsel = bzd.selector[groupno]\n",
    "            gminlen = bzd.minlens[gsel]\n",
    "            glimit = bzd.limit[gsel]\n",
    "            gperm = bzd.perm[gsel]\n",
    "            gbase = bzd.base[gsel]\n",
    "        grouppos -= 1\n",
    "        zn = gminlen\n",
    "\n",
    "        zvec = bzd._get_bits(zn, 'BZ_X_MTF_5')\n",
    "\n",
    "        while True:\n",
    "            if zn > 20:\n",
    "                raise RuntimeError('BZ_DATA_ERROR: Value zv too large')\n",
    "            if zvec <= glimit[zn]:\n",
    "                break\n",
    "            zn += 1\n",
    "            zj = bzd._get_bits(1, 'BZ_X_MTF_6')\n",
    "            zvec = (zvec << 1) | zj\n",
    "\n",
    "        if zvec - gbase[zn] < 0 or zvec - gbase[zn] >= BZ_MAX_ALPHA_SIZE:\n",
    "            raise RuntimeError('BZ_DATA_ERROR: Value zvec outside of acceptable range')\n",
    "        \n",
    "        nextsym = gperm[zvec - gbase[zn]]"
   ]
  },
  {
   "cell_type": "code",
   "execution_count": null,
   "id": "93b20222-b15f-4fb1-92e1-a25edcf89641",
   "metadata": {},
   "outputs": [],
   "source": [
    "tt = [z for z in bzd.tt if z]"
   ]
  },
  {
   "cell_type": "code",
   "execution_count": null,
   "id": "85578168-7859-403f-9988-8f02802b960f",
   "metadata": {},
   "outputs": [],
   "source": [
    "self.assertEqual(len(tt), 1735)"
   ]
  },
  {
   "cell_type": "code",
   "execution_count": null,
   "id": "688f0b17-9cf4-4587-acc3-35da8ad2b630",
   "metadata": {
    "jupyter": {
     "source_hidden": true
    }
   },
   "outputs": [],
   "source": [
    "expected = [254, 254, 254, 255, 255, 255, 255, 8, 11, 2, 1, 96, 17, 4, 255, 1, 1, 2, 251, 1, 1, 255, 1, 1, 23, 39, 251, 251, 251, 251, 251, 251, 251, 138, 79, 188, 214, 1, 1, 104, 48, 103, 51, 51, 51, 51, 51, 101, 115, 115, 3, 106, 116, 101, 114, 242, 242, 4, 4, 105, 3, 77, 66, 75, 103, 100, 58, 107, 1, 128, 4, 121, 84, 101, 1, 1, 4, 101, 100, 46, 108, 46, 58, 4, 100, 114, 114, 32, 109, 115, 108, 62, 114, 115, 32, 32, 46, 32, 32, 116, 1, 32, 32, 71, 63, 32, 74, 71, 101, 34, 49, 101, 11, 58, 32, 32, 58, 46, 114, 103, 32, 101, 112, 32, 116, 116, 82, 21, 253, 11, 74, 10, 20, 20, 20, 119, 176, 119, 10, 8, 198, 6, 119, 250, 233, 244, 119, 62, 101, 107, 113, 74, 74, 1, 3, 5, 2, 22, 2, 52, 32, 1, 144, 144, 144, 10, 3, 3, 48, 2, 4, 5, 4, 2, 5, 5, 1, 128, 2, 5, 1, 5, 128, 128, 1, 2, 2, 2, 5, 2, 1, 3, 2, 2, 2, 2, 2, 1, 3, 1, 4, 4, 4, 1, 3, 1, 4, 3, 4, 2, 3, 2, 3, 255, 1, 2, 32, 32, 10, 92, 34, 32, 32, 255, 13, 13, 13, 13, 13, 13, 10, 32, 10, 114, 44, 2, 255, 58, 58, 58, 58, 58, 58, 58, 58, 101, 58, 58, 58, 108, 108, 46, 46, 58, 60, 119, 116, 107, 107, 111, 58, 33, 121, 109, 110, 110, 110, 116, 107, 58, 58, 58, 107, 110, 108, 83, 115, 46, 110, 121, 101, 108, 116, 101, 44, 116, 101, 101, 108, 111, 114, 103, 114, 97, 117, 58, 111, 103, 115, 101, 101, 116, 114, 103, 116, 101, 101, 101, 108, 108, 111, 111, 111, 111, 111, 102, 111, 101, 101, 100, 101, 101, 114, 101, 44, 110, 101, 100, 44, 111, 111, 111, 107, 107, 116, 110, 112, 116, 116, 116, 112, 116, 103, 114, 116, 116, 115, 104, 101, 108, 116, 121, 111, 101, 100, 100, 109, 117, 116, 112, 117, 116, 114, 114, 115, 115, 115, 97, 101, 2, 32, 32, 66, 110, 110, 110, 114, 110, 114, 101, 110, 101, 46, 114, 108, 114, 46, 101, 51, 108, 49, 50, 108, 51, 108, 116, 49, 46, 118, 110, 108, 108, 108, 100, 100, 101, 114, 101, 116, 103, 116, 114, 114, 101, 103, 116, 67, 32, 114, 32, 38, 32, 10, 32, 38, 92, 32, 32, 92, 32, 115, 115, 84, 32, 32, 110, 109, 32, 32, 32, 83, 10, 38, 32, 32, 32, 32, 32, 32, 32, 92, 111, 121, 38, 32, 32, 92, 111, 10, 73, 78, 69, 32, 108, 32, 83, 92, 92, 92, 32, 32, 32, 92, 116, 92, 115, 101, 58, 108, 101, 110, 116, 32, 116, 108, 112, 112, 66, 114, 114, 32, 118, 116, 116, 103, 112, 110, 116, 116, 116, 116, 116, 116, 116, 116, 116, 116, 116, 116, 116, 116, 116, 116, 116, 116, 116, 116, 116, 116, 116, 114, 114, 78, 67, 67, 32, 32, 32, 119, 119, 111, 119, 119, 116, 100, 101, 101, 110, 108, 108, 108, 108, 32, 108, 97, 112, 101, 65, 97, 97, 110, 110, 97, 105, 105, 105, 105, 101, 101, 32, 32, 32, 32, 32, 101, 32, 32, 105, 101, 101, 101, 101, 101, 97, 97, 101, 101, 114, 101, 110, 110, 101, 101, 101, 32, 32, 108, 108, 108, 108, 108, 108, 108, 108, 38, 32, 111, 32, 110, 115, 120, 120, 120, 109, 120, 120, 108, 115, 99, 104, 104, 116, 104, 118, 104, 108, 104, 104, 112, 116, 104, 99, 114, 104, 120, 117, 108, 115, 116, 108, 108, 114, 114, 114, 114, 114, 104, 104, 100, 108, 108, 108, 108, 108, 116, 116, 116, 116, 114, 112, 99, 115, 83, 83, 115, 83, 68, 68, 116, 82, 112, 114, 114, 110, 110, 110, 110, 82, 114, 100, 100, 104, 100, 100, 100, 100, 108, 100, 100, 108, 102, 32, 86, 108, 108, 108, 108, 114, 84, 84, 84, 84, 68, 100, 68, 108, 108, 108, 108, 82, 83, 83, 46, 46, 46, 46, 46, 46, 78, 78, 111, 102, 105, 32, 32, 32, 32, 32, 32, 32, 32, 32, 32, 32, 32, 111, 111, 111, 111, 105, 110, 110, 110, 110, 110, 110, 110, 110, 97, 73, 111, 111, 115, 116, 116, 116, 116, 116, 116, 116, 116, 99, 67, 116, 116, 83, 110, 108, 108, 108, 108, 77, 100, 100, 97, 102, 102, 102, 102, 70, 70, 70, 70, 119, 97, 97, 32, 32, 97, 32, 116, 87, 114, 108, 115, 110, 119, 116, 116, 116, 46, 119, 110, 32, 32, 32, 32, 32, 110, 110, 110, 32, 32, 32, 110, 110, 32, 32, 110, 32, 116, 116, 116, 116, 116, 116, 115, 116, 116, 107, 108, 107, 97, 68, 68, 117, 104, 119, 68, 110, 114, 114, 114, 99, 99, 99, 99, 99, 99, 99, 115, 83, 101, 108, 108, 108, 108, 108, 97, 108, 108, 108, 108, 108, 108, 108, 108, 108, 108, 108, 108, 105, 108, 108, 108, 108, 112, 111, 111, 111, 111, 111, 111, 111, 111, 105, 105, 105, 105, 98, 101, 101, 101, 101, 101, 108, 108, 105, 105, 105, 105, 101, 101, 112, 112, 67, 99, 67, 67, 108, 67, 97, 97, 97, 97, 97, 97, 105, 97, 97, 97, 97, 97, 97, 97, 97, 97, 97, 97, 97, 97, 97, 97, 97, 97, 111, 117, 67, 108, 105, 105, 108, 111, 97, 101, 97, 97, 111, 111, 109, 109, 101, 111, 111, 111, 111, 111, 111, 111, 111, 111, 111, 111, 105, 111, 105, 111, 97, 111, 105, 111, 105, 111, 111, 111, 105, 97, 117, 97, 97, 105, 111, 111, 111, 111, 105, 105, 105, 105, 105, 105, 105, 105, 105, 101, 105, 117, 117, 117, 85, 85, 117, 105, 103, 97, 111, 73, 105, 105, 73, 105, 105, 73, 105, 105, 105, 105, 105, 105, 105, 105, 105, 73, 73, 105, 105, 105, 105, 73, 101, 97, 97, 101, 111, 101, 101, 101, 101, 105, 84, 116, 116, 116, 116, 84, 116, 116, 116, 116, 116, 116, 116, 78, 78, 98, 77, 32, 115, 115, 83, 83, 114, 114, 70, 70, 102, 102, 102, 102, 102, 102, 102, 116, 67, 67, 67, 67, 99, 99, 99, 99, 99, 109, 105, 105, 105, 32, 100, 105, 105, 109, 105, 105, 112, 112, 112, 112, 105, 99, 98, 116, 32, 32, 67, 32, 114, 114, 114, 114, 102, 110, 67, 98, 108, 114, 111, 110, 121, 121, 121, 109, 104, 108, 100, 114, 114, 117, 111, 105, 117, 83, 83, 101, 105, 121, 112, 111, 115, 109, 109, 109, 109, 109, 109, 105, 109, 117, 111, 79, 116, 111, 101, 105, 101, 105, 105, 101, 111, 111, 111, 101, 111, 101, 111, 111, 101, 79, 101, 101, 101, 101, 101, 101, 116, 116, 103, 103, 97, 111, 97, 97, 67, 99, 32, 105, 101, 114, 32, 112, 116, 119, 119, 119, 80, 80, 114, 114, 114, 114, 99, 66, 38, 117, 69, 69, 69, 101, 111, 101, 97, 111, 114, 116, 116, 101, 101, 110, 108, 108, 105, 116, 116, 116, 116, 101, 101, 119, 111, 119, 119, 32, 32, 105, 115, 114, 32, 108, 111, 105, 101, 101, 101, 101, 101, 110, 110, 110, 110, 110, 110, 110, 110, 110, 110, 110, 110, 110, 110, 110, 110, 110, 110, 110, 110, 110, 110, 110, 32, 121, 101, 117, 32, 115, 115, 115, 115, 120, 102, 99, 99, 110, 117, 99, 114, 99, 99, 120, 110, 110, 114, 39, 39, 105, 111, 99, 99, 110, 102, 97, 101, 101, 115, 115, 115, 115, 115, 115, 115, 115, 115, 115, 115, 115, 115, 115, 115, 115, 115, 115, 115, 115, 115, 115, 115, 115, 101, 101, 105, 101, 101, 112, 97, 115, 32, 32, 32, 32, 32, 32, 32, 32, 111, 32, 115, 105, 97, 105, 110, 97, 97, 97, 97, 97, 112, 112, 32, 32, 32, 32, 32, 32, 32, 32, 32, 32, 32, 115, 115, 117, 120, 120, 83, 32, 101, 110, 110, 110, 110, 101, 101, 102, 102, 32, 111, 111, 111, 110, 113, 78, 32, 92, 92, 92, 32, 116, 116, 114, 67, 67, 112, 79, 32, 97, 111, 111, 32, 32, 116, 116, 32, 111, 92, 32, 32, 32, 32, 111, 111, 111, 101, 101, 101, 101, 101, 101, 101, 101, 69, 69, 102, 112, 114, 114, 97, 32, 32, 32, 116, 83, 3, 2, 2, 1, 2, 3, 3, 3, 3, 3, 3, 3, 1, 1, 158, 14, 251, 194, 108, 6, 44, 34, 64, 73, 91, 122, 144, 177, 14, 241, 219, 219, 219, 69, 43, 44, 251, 27, 59, 95, 97, 100, 103, 106, 237, 244, 3, 16, 246, 18, 116, 144, 200, 230, 238, 9, 235, 14, 36, 160, 179, 190, 226, 255, 20, 33, 47, 57, 69, 76, 8, 255, 8, 255, 255, 255, 255, 3, 8, 68, 120, 7, 128, 8, 255, 255, 255, 46, 40, 16, 6, 196, 196, 196, 172, 172, 172, 129, 128, 128, 128, 129, 4, 36, 255, 2, 109, 15, 255, 145, 6, 255, 16, 4, 25, 128, 128, 32, 25, 128, 128, 128, 36, 2, 5, 255, 5, 5, 128, 128, 128, 128, 22, 158, 158, 149, 128, 130, 187, 187, 149, 149, 149, 149, 2, 31, 31, 31, 177, 177, 177, 255, 255, 255, 255, 255, 255, 255, 255, 255, 255, 255, 255, 255, 255, 255, 255, 255, 255, 255, 255, 124, 29, 29, 29, 1, 1, 1, 10, 255, 255, 255, 255, 255, 255, 1, 255, 255, 255, 255, 255, 255, 255, 255, 255, 255, 255, 255, 255, 255, 255, 255, 255, 255, 255, 255, 255, 255, 255, 255, 255, 255, 255, 255, 255, 255, 255, 255, 255, 255, 255, 255, 255, 255, 255, 255, 255, 255, 255, 255, 255, 255, 255, 255, 255, 255, 255, 255, 255, 255, 255, 255, 255, 255, 255, 255, 255, 255, 255, 255, 255, 255, 255, 255, 255, 255, 255, 255, 255, 255, 255, 255, 217, 216, 213, 197, 199, 217, 255, 255, 255, 255, 255, 255, 255, 255, 219, 219, 204, 255, 219, 218, 212, 211, 211, 200, 203, 211, 205, 206, 207, 217, 197, 210, 198, 201, 208, 214, 215, 217, 209, 202, 209, 4, 30, 241]"
   ]
  },
  {
   "cell_type": "code",
   "execution_count": null,
   "id": "b68ada80-2184-482b-b156-d76630dc6fe9",
   "metadata": {},
   "outputs": [],
   "source": [
    "self.assertListEqual(tt, expected)"
   ]
  },
  {
   "cell_type": "code",
   "execution_count": null,
   "id": "b81fb035-5430-4722-a3ae-3968dfb6a945",
   "metadata": {},
   "outputs": [],
   "source": [
    "if bzd.origptr < 0:\n",
    "    raise RuntimeError('BZ_DATA_ERROR: Orig ptr is negative')"
   ]
  },
  {
   "cell_type": "code",
   "execution_count": null,
   "id": "d7a32cc7-0208-4615-b29f-a12bc719a3b9",
   "metadata": {},
   "outputs": [],
   "source": [
    "if bzd.origptr > 10 + NSIS_COMPRESS_BZIP2_LEVEL * 100000:\n",
    "    raise RuntimeError('BZ_DATA_ERROR: Orig ptr is too large')"
   ]
  },
  {
   "cell_type": "code",
   "execution_count": null,
   "id": "ff4bc05f-efd7-4e85-8fee-05660198877a",
   "metadata": {},
   "outputs": [],
   "source": [
    "cftab = [0] * 257"
   ]
  },
  {
   "cell_type": "code",
   "execution_count": null,
   "id": "1ed8a0c4-6f77-46d9-9137-43829fbb932b",
   "metadata": {},
   "outputs": [],
   "source": [
    "for i in range(1, 257):\n",
    "    cftab[i] = bzd.unzftab[i - 1] + cftab[i - 1]"
   ]
  },
  {
   "cell_type": "code",
   "execution_count": null,
   "id": "af33a06e-2d7b-48cb-baba-4a92ba4ad655",
   "metadata": {
    "jupyter": {
     "source_hidden": true
    }
   },
   "outputs": [],
   "source": [
    "expected = [0, 1857, 1888, 1915, 1936, 1952, 1962, 1966, 1967, 1973, 1974, 1984, 1987, 1987, 1993, 1996, 1997, 2000, 2001, 2002, 2002, 2006, 2007, 2009, 2010, 2010, 2012, 2012, 2013, 2013, 2016, 2017, 2020, 2158, 2160, 2163, 2163, 2166, 2166, 2172, 2175, 2176, 2176, 2176, 2177, 2183, 2183, 2201, 2202, 2204, 2207, 2208, 2215, 2216, 2216, 2216, 2216, 2216, 2217, 2239, 2240, 2241, 2241, 2243, 2244, 2245, 2246, 2250, 2268, 2276, 2284, 2290, 2292, 2292, 2301, 2305, 2306, 2307, 2310, 2317, 2321, 2323, 2323, 2327, 2343, 2351, 2353, 2354, 2355, 2355, 2355, 2355, 2356, 2370, 2370, 2370, 2371, 2372, 2435, 2439, 2466, 2491, 2603, 2623, 2637, 2652, 2729, 2731, 2741, 2832, 2850, 2930, 3017, 3042, 3044, 3106, 3164, 3276, 3294, 3297, 3316, 3327, 3337, 3338, 3338, 3339, 3339, 3339, 3339, 3357, 3359, 3360, 3360, 3360, 3360, 3360, 3360, 3360, 3360, 3361, 3361, 3361, 3361, 3361, 3361, 3366, 3367, 3367, 3367, 3367, 3372, 3372, 3372, 3372, 3372, 3372, 3372, 3372, 3372, 3375, 3375, 3376, 3376, 3376, 3376, 3376, 3376, 3376, 3376, 3376, 3376, 3376, 3376, 3379, 3379, 3379, 3379, 3380, 3384, 3384, 3385, 3385, 3385, 3385, 3385, 3385, 3385, 3385, 3387, 3388, 3388, 3389, 3389, 3389, 3389, 3390, 3390, 3393, 3395, 3397, 3398, 3400, 3401, 3402, 3403, 3404, 3405, 3406, 3407, 3408, 3410, 3411, 3414, 3415, 3416, 3418, 3419, 3420, 3424, 3425, 3431, 3431, 3431, 3431, 3431, 3431, 3431, 3432, 3432, 3432, 3432, 3433, 3433, 3433, 3434, 3434, 3435, 3435, 3436, 3437, 3437, 3437, 3439, 3441, 3441, 3443, 3443, 3444, 3444, 3444, 3444, 3445, 3455, 3455, 3456, 3459, 3592]"
   ]
  },
  {
   "cell_type": "code",
   "execution_count": null,
   "id": "f0fb5557-73f4-4657-adca-51d3f56ab6c8",
   "metadata": {},
   "outputs": [],
   "source": [
    "self.assertListEqual(cftab, expected)"
   ]
  },
  {
   "cell_type": "code",
   "execution_count": null,
   "id": "2a0051a0-3efa-4958-92e5-90c656370104",
   "metadata": {},
   "outputs": [],
   "source": [
    "for i in range(nblock):\n",
    "    uc = bzd.tt[i] & 0xff\n",
    "    bzd.tt[cftab[uc]] |= (i << 8)\n",
    "    cftab[uc] += 1"
   ]
  },
  {
   "cell_type": "code",
   "execution_count": null,
   "id": "3c38fd08-a9aa-46d6-8179-4250c7ab0c41",
   "metadata": {},
   "outputs": [],
   "source": [
    "self.assertEqual(nblock, 3592)"
   ]
  },
  {
   "cell_type": "code",
   "execution_count": null,
   "id": "578cd293-5d99-48db-9b49-ce718b1dc977",
   "metadata": {},
   "outputs": [],
   "source": [
    "tt = [z for z in bzd.tt if z]"
   ]
  },
  {
   "cell_type": "code",
   "execution_count": null,
   "id": "2fb32d3a-773c-4899-a43d-d376440add89",
   "metadata": {},
   "outputs": [],
   "source": [
    "self.assertEqual(len(tt), 3591)"
   ]
  },
  {
   "cell_type": "code",
   "execution_count": null,
   "id": "f22e8467-5207-4cbf-a7b4-cfdbf0fea563",
   "metadata": {
    "jupyter": {
     "source_hidden": true
    }
   },
   "outputs": [],
   "source": [
    "expected = [6910, 7166, 7422, 7679, 7935, 8191, 8447, 12296, 14859, 15106, 15361, 16992, 17169, 18436, 18943, 18945, 19201, 19458, 19963, 20225, 20481, 20991, 21249, 21505, 21783, 39719, 41216, 41472, 41728, 43008, 43520, 43776, 44544, 46331, 46587, 46843, 47099, 47355, 47611, 47867, 48010, 50767, 51132, 51414, 51713, 51969, 52584, 52784, 52992, 53351, 53555, 53811, 54067, 54323, 54579, 55141, 55411, 55923, 56064, 56320, 56576, 56835, 57194, 57460, 57701, 57970, 58112, 58368, 58866, 59122, 59396, 59652, 59904, 60160, 61184, 61440, 61696, 61952, 62313, 62464, 63488, 64000, 64515, 65024, 65280, 65536, 65869, 66114, 66379, 66919, 67428, 67642, 67947, 68097, 68736, 68868, 69497, 69716, 69989, 70145, 70401, 70660, 71013, 71524, 71726, 72044, 72238, 72506, 72708, 73316, 73586, 73842, 74016, 74349, 74611, 74860, 75070, 75378, 75635, 75808, 76064, 76334, 76576, 76832, 77428, 77569, 77856, 78112, 78407, 78655, 78880, 79690, 80455, 80741, 80930, 81201, 81509, 81675, 81978, 82208, 82464, 82746, 82990, 83570, 83815, 84000, 84325, 84848, 85024, 85364, 85620, 86098, 87317, 88317, 88587, 88832, 89162, 90634, 90900, 91156, 91412, 92672, 92928, 93184, 93559, 94128, 94839, 94986, 95488, 95752, 96256, 96512, 96966, 97030, 97280, 98167, 99322, 99561, 99828, 99959, 100864, 101120, 101376, 101632, 101888, 102144, 102400, 102656, 103486, 103781, 104043, 104305, 104522, 104778, 104961, 105219, 105477, 105730, 105984, 106240, 106496, 106774, 107008, 107264, 107522, 107776, 108032, 108800, 109056, 109312, 109568, 109824, 110080, 110336, 110644, 110848, 111104, 111392, 111616, 111872, 112128, 112384, 112640, 112896, 113408, 113664, 113920, 115200, 115456, 115712, 115968, 116225, 116480, 116736, 116992, 117248, 117904, 118160, 118416, 118528, 118784, 119040, 119296, 119552, 121344, 121610, 123139, 123395, 123648, 123952, 124416, 124930, 125184, 125444, 125696, 125952, 126208, 134144, 135680, 135936, 160773, 161280, 161540, 162304, 162560, 162816, 164096, 164354, 165632, 165888, 170501, 171008, 171264, 171776, 172032, 172288, 172544, 173056, 173317, 177664, 177920, 178176, 178432, 179200, 179712, 180225, 180736, 180992, 181760, 182016, 182272, 182528, 183040, 183296, 184320, 184832, 185088, 185600, 186112, 186368, 186624, 187008, 187904, 188160, 188672, 188928, 189184, 189440, 189696, 189954, 190213, 194304, 194561, 194821, 195072, 196352, 197376, 197632, 197888, 198144, 198656, 198912, 199424, 200960, 201216, 201600, 201984, 202240, 202496, 202752, 203136, 203264, 203520, 204544, 206336, 207361, 209408, 225538, 239874, 276738, 276997, 300544, 300802, 326401, 331008, 439811, 451840, 454656, 454912, 455170, 455426, 455682, 455938, 456194, 457472, 457728, 457984, 458240, 458497, 458755, 460545, 461316, 461568, 461824, 462080, 462336, 462596, 463360, 463620, 463873, 464128, 464384, 464643, 464896, 465152, 465409, 465664, 465920, 466176, 466432, 466688, 466948, 467203, 467456, 467716, 467970, 468227, 468480, 468736, 468992, 469248, 469506, 469763, 470271, 470272, 470528, 470784, 471040, 471296, 471552, 471808, 472064, 472321, 472578, 472832, 473088, 473344, 473600, 473856, 474112, 474368, 474624, 474880, 475136, 476416, 477184, 477440, 477696, 477952, 478208, 478464, 478720, 481536, 481824, 482080, 483072, 483840, 486144, 486400, 486656, 486912, 487168, 488192, 488448, 488704, 488960, 489216, 489472, 489728, 489984, 490496, 490752, 493066, 493312, 493568, 493824, 494172, 494370, 494624, 494880, 495104, 495360, 495872, 496128, 496384, 496640, 496896, 498944, 499456, 499967, 501504, 501760, 502016, 502528, 502784, 503040, 503296, 505088, 506125, 506381, 506637, 506893, 507149, 507405, 507648, 508416, 508682, 508960, 509450, 509810, 509996, 510208, 510720, 510976, 511232, 511490, 511744, 512255, 512256, 512512, 513280, 514048, 514560, 516096, 517178, 517434, 517690, 517946, 518202, 518458, 518714, 518970, 519269, 519482, 519738, 519994, 520556, 520812, 521006, 521262, 521530, 521788, 522103, 522356, 522603, 522859, 523119, 523322, 523553, 523897, 524141, 524398, 524654, 524910, 525056, 525428, 525675, 525882, 526138, 526394, 526592, 526848, 527211, 527470, 527980, 528211, 528499, 528686, 529006, 529273, 529509, 529772, 530036, 530277, 530476, 530804, 531045, 531301, 531564, 531823, 532082, 532327, 532594, 532833, 533109, 533306, 533615, 533863, 534131, 534373, 534629, 534900, 535154, 535399, 535668, 535909, 536165, 536421, 536684, 537452, 537711, 537967, 538223, 538479, 538735, 538982, 539247, 539493, 539749, 540004, 540261, 540517, 540786, 541029, 541228, 541550, 541797, 542052, 542252, 542575, 542831, 543087, 543339, 543595, 543860, 544110, 544368, 544628, 544884, 545140, 545392, 545652, 545895, 546162, 546420, 546676, 546931, 547176, 547429, 547692, 547956, 548217, 548463, 548709, 548964, 549220, 549485, 549749, 550004, 550256, 550517, 550772, 551026, 551282, 551539, 551795, 552051, 552545, 552704, 553061, 553216, 553728, 553986, 554528, 554752, 555008, 555264, 555552, 555842, 556398, 556654, 556800, 557056, 557422, 557682, 557934, 558194, 558336, 558592, 558949, 559214, 559461, 559662, 559986, 560236, 560498, 560686, 560997, 561203, 561516, 561713, 561970, 562284, 562483, 562796, 563060, 563456, 563761, 564224, 564480, 564782, 564992, 565760, 566016, 566272, 566646, 566784, 567296, 567662, 567916, 568172, 568428, 568676, 568932, 569189, 569458, 569701, 569972, 570215, 570484, 570738, 570994, 571237, 571495, 571648, 571904, 572160, 572416, 572788, 572995, 573440, 573728, 573952, 574322, 574464, 574752, 574976, 575232, 575526, 575776, 576000, 576256, 576512, 576768, 577034, 577280, 577536, 577824, 578086, 578396, 578560, 578848, 579072, 579328, 579616, 579840, 580188, 580352, 580608, 580864, 581120, 581408, 581747, 582003, 582144, 582400, 582740, 582912, 583168, 583424, 583680, 583936, 584192, 584448, 584736, 584992, 585326, 585581, 585760, 586016, 586272, 586835, 587018, 587302, 587552, 587808, 588064, 588320, 588576, 588800, 589056, 589312, 589824, 590112, 590624, 590940, 591215, 591360, 591737, 591910, 592160, 592384, 592640, 592896, 593152, 593440, 593664, 593920, 594268, 594944, 595311, 595466, 595785, 596046, 596293, 596480, 596736, 596992, 597280, 597504, 597760, 598016, 598272, 598528, 598784, 599040, 599404, 599584, 599891, 600064, 600412, 600668, 600924, 601120, 601376, 601632, 601856, 602204, 602484, 602716, 602880, 603763, 604005, 604218, 604780, 605029, 605294, 605556, 606976, 607264, 607604, 607852, 608112, 608368, 608578, 608882, 609138, 609312, 609654, 609908, 610164, 610407, 610672, 610926, 611188, 611444, 611700, 611956, 612212, 612468, 612724, 612980, 613236, 613492, 613748, 614004, 614260, 614516, 614772, 615028, 615284, 615540, 615796, 616052, 616308, 616564, 616820, 617074, 617330, 617550, 617795, 618051, 618272, 618528, 618784, 619127, 619383, 619631, 619895, 620151, 620404, 620644, 620901, 621157, 621422, 621676, 621932, 622188, 622444, 622624, 622956, 623104, 623457, 623728, 623973, 624193, 624481, 624737, 625006, 625262, 625505, 625769, 626025, 626281, 626537, 626789, 627045, 627232, 627488, 627744, 628000, 628256, 628581, 628768, 629024, 629353, 629605, 629861, 630117, 630373, 630629, 630881, 631137, 631397, 631653, 631922, 632165, 632430, 632686, 632933, 633189, 633445, 633632, 633888, 634220, 634476, 634732, 634988, 635244, 635500, 635756, 636012, 636198, 636448, 636783, 636960, 637294, 637440, 637811, 638072, 638328, 638584, 638829, 639096, 639352, 639852, 640115, 640355, 640616, 640872, 641140, 641384, 641654, 641896, 642156, 642408, 642664, 642928, 643188, 643432, 643683, 643954, 644200, 644472, 644725, 644972, 645235, 645492, 645740, 645996, 646258, 646514, 646770, 647026, 647282, 647528, 647784, 648036, 648300, 648556, 648812, 649068, 649324, 649588, 649844, 650100, 650356, 650610, 650864, 651107, 651379, 651603, 651859, 652147, 652371, 652612, 652868, 653172, 653394, 653680, 653938, 654194, 654446, 654702, 654958, 655214, 655442, 655730, 655972, 656228, 656488, 656740, 656996, 657252, 657508, 657772, 658020, 658276, 658540, 658790, 658976, 659286, 659564, 659820, 660076, 660332, 660594, 660820, 661076, 661332, 661588, 661828, 662116, 662340, 662636, 662892, 663148, 663404, 663634, 663891, 664147, 664366, 664622, 664878, 665134, 665390, 665646, 665934, 666190, 666479, 666726, 666985, 667168, 667424, 667680, 667936, 668192, 668448, 668704, 668960, 669216, 669472, 669728, 669984, 670319, 670575, 670831, 671087, 671337, 671854, 672110, 672366, 672622, 672878, 673134, 673390, 673646, 673889, 674121, 674415, 674671, 674816, 675072, 675443, 675700, 675956, 676212, 676468, 676724, 676980, 677236, 677492, 677731, 677955, 678260, 678516, 678739, 679022, 679276, 679532, 679788, 680044, 680269, 680548, 680804, 681057, 681318, 681574, 681830, 682086, 682310, 682566, 682822, 683078, 683383, 683617, 683873, 684064, 684320, 684641, 684832, 685172, 685399, 685682, 685932, 686195, 686446, 686711, 686964, 687220, 687476, 687662, 687991, 688238, 688416, 688672, 688928, 689184, 689440, 689774, 690030, 690286, 690464, 690720, 690976, 691310, 691566, 691744, 692000, 692334, 692512, 692852, 693108, 693364, 693620, 693876, 694132, 694387, 694644, 694900, 695147, 695404, 695659, 695905, 696132, 696388, 696693, 696936, 697207, 697412, 697710, 697970, 698226, 698482, 698624, 698880, 699235, 699747, 700003, 700259, 700515, 700771, 701027, 701299, 701523, 701797, 702060, 702316, 702572, 702828, 703084, 703329, 703596, 703852, 704108, 704364, 704620, 704876, 705132, 705388, 705644, 705900, 706156, 706412, 706665, 706924, 707180, 707436, 707692, 707952, 708207, 708463, 708719, 708975, 709231, 709487, 709743, 709999, 710249, 710505, 710761, 711017, 711266, 711525, 711781, 712037, 712293, 712549, 712812, 713068, 713321, 713577, 713833, 714089, 714341, 714597, 714864, 715120, 715331, 715619, 715843, 716099, 716396, 716611, 716897, 717153, 717409, 717665, 717921, 718177, 718441, 718689, 718945, 719201, 719457, 719713, 719969, 720225, 720481, 720737, 720993, 721249, 721505, 721761, 722017, 722273, 722529, 722785, 723055, 723317, 723523, 723820, 724073, 724329, 724588, 724736, 725103, 725345, 725605, 725857, 726113, 726383, 726639, 726893, 727149, 727397, 727663, 727919, 728175, 728431, 728687, 728943, 729199, 729344, 729711, 729967, 730223, 730479, 730729, 730991, 731241, 731503, 731745, 732015, 732265, 732527, 732777, 733039, 733295, 733551, 733801, 734049, 734325, 734561, 734817, 735081, 735343, 735599, 735855, 736111, 736361, 736617, 736873, 737129, 737385, 737641, 737897, 738153, 738409, 738661, 738921, 739189, 739445, 739701, 739925, 740181, 740469, 740713, 740967, 741217, 741487, 741705, 741993, 742249, 742473, 742761, 743017, 743241, 743529, 743785, 744041, 744297, 744553, 744809, 745065, 745321, 745577, 745801, 746057, 746345, 746601, 746857, 747113, 747337, 747621, 747873, 748129, 748389, 748655, 748901, 749157, 749413, 749669, 749929, 750164, 750452, 750708, 750964, 751220, 751444, 751732, 751988, 752244, 752500, 752756, 753012, 753268, 753486, 753742, 754018, 754253, 754464, 754803, 755059, 755283, 755539, 755826, 756082, 756294, 756550, 756838, 757094, 757350, 757606, 757862, 758118, 758374, 758644, 758851, 759107, 759363, 759619, 759907, 760163, 760419, 760675, 760931, 761197, 761449, 761705, 761961, 762144, 762468, 762729, 762985, 763245, 763497, 763753, 764016, 764272, 764528, 764784, 765033, 765283, 765538, 765812, 765984, 766240, 766531, 766752, 767090, 767346, 767602, 767858, 768102, 768366, 768579, 768866, 769132, 769394, 769647, 769902, 770169, 770425, 770681, 770925, 771176, 771436, 771684, 771954, 772210, 772469, 772719, 772969, 773237, 773459, 773715, 773989, 774249, 774521, 774768, 775023, 775283, 775533, 775789, 776045, 776301, 776557, 776813, 777065, 777325, 777589, 777839, 778063, 778356, 778607, 779109, 779369, 779621, 779881, 780137, 780389, 780655, 780911, 781167, 781413, 781679, 781925, 782191, 782447, 782693, 782927, 783205, 783461, 783717, 783973, 784229, 784485, 784756, 785012, 785255, 785511, 785761, 786031, 786273, 786529, 786755, 787043, 787232, 787561, 787813, 788082, 788256, 788592, 788852, 789111, 789367, 789623, 789840, 790096, 790386, 790642, 790898, 791154, 791395, 791618, 791846, 792181, 792389, 792645, 792901, 793189, 793455, 793701, 793953, 794223, 794482, 794740, 794996, 795237, 795493, 795758, 796012, 796268, 796521, 796788, 797044, 797300, 797556, 797797, 798053, 798327, 798575, 798839, 799095, 799264, 799520, 799849, 800115, 800370, 800544, 800876, 801135, 801385, 801637, 801893, 802149, 802405, 802661, 802926, 803182, 803438, 803694, 803950, 804206, 804462, 804718, 804974, 805230, 805486, 805742, 805998, 806254, 806510, 806766, 807022, 807278, 807534, 807790, 808046, 808302, 808558, 808736, 809081, 809317, 809589, 809760, 810099, 810355, 810611, 810867, 811128, 811366, 811619, 811875, 812142, 812405, 812643, 812914, 813155, 813411, 813688, 813934, 814190, 814450, 814631, 814887, 815209, 815471, 815715, 815971, 816238, 816486, 816737, 816997, 817253, 817523, 817779, 818035, 818291, 818547, 818803, 819059, 819315, 819571, 819827, 820083, 820339, 820595, 820851, 821107, 821363, 821619, 821875, 822131, 822387, 822643, 822899, 823155, 823411, 823653, 823909, 824169, 824421, 824677, 824944, 825185, 825459, 825632, 825888, 826144, 826400, 826656, 826912, 827168, 827424, 827759, 827936, 828275, 828521, 828769, 829033, 829294, 829537, 829793, 830049, 830305, 830561, 830832, 831088, 831264, 831520, 831776, 832032, 832288, 832544, 832800, 833056, 833312, 833568, 833824, 834163, 834419, 834677, 834936, 835192, 835411, 835616, 835941, 836206, 836462, 836718, 836974, 837221, 837477, 837734, 837990, 838176, 838400, 838767, 839023, 839279, 839534, 839793, 840014, 840224, 840540, 840796, 841052, 841248, 841588, 841844, 842098, 842307, 842563, 842864, 843087, 843296, 843617, 843887, 845167, 845344, 845600, 845940, 846196, 846368, 846703, 846940, 847136, 847392, 847648, 847904, 848239, 848495, 848751, 848997, 849253, 849509, 849765, 850021, 850277, 850533, 850789, 851013, 851269, 851456, 851814, 852080, 852338, 852594, 852833, 853024, 853280, 853536, 853876, 854099, 854528, 854784, 856832, 858112, 858368, 858624, 858880, 859139, 859394, 859650, 859905, 860160, 860416, 860672, 860928, 861184, 861440, 861698, 861955, 862211, 862467, 862723, 862979, 863232, 863491, 863747, 864000, 864256, 864512, 864768, 865024, 866304, 866561, 866817, 867072, 867328, 867584, 869120, 869376, 869888, 870144, 870400, 872192, 872960, 873984, 874496, 875264, 875776, 878336, 878592, 878848, 879104, 879360, 879616, 880128, 880384, 880640, 880896, 881152, 881408, 881664, 881920, 882176, 882432, 882688, 882944, 883200, 883456, 883712, 883968, 884224, 884480, 884736, 884992, 885248, 917504, 917760, 918272, 918528, 918784, 919040, 2718, 3854, 4347, 5058, 5120, 5740, 5894, 11264, 11520, 23808, 25344, 25600, 32000, 49664, 59180, 72994, 79936, 85833, 87899, 91770, 92304, 94641, 96014, 103153, 457216, 462848, 463104, 877787, 878043, 878299, 887040, 2373, 4395, 50432, 52268, 64507, 68379, 79163, 86367, 86625, 86884, 87655, 89344, 89600, 89856, 90112, 90368, 98666, 100333, 103412, 124160, 161792, 456704, 456960, 459008, 563200, 606720, 865280, 15619, 20992, 49920, 62992, 63478, 88338, 92020, 95376, 97992, 99046, 100590, 456448, 459264, 459520, 459776, 460032, 460288, 460800, 461056, 490240, 505344, 3337, 17920, 18176, 24320, 25856, 27648, 65003, 67086, 92452, 93856, 94387, 97726, 98530, 553472, 590591, 917248, 50176, 66580, 69153, 71215, 79417, 80197, 87116, 639488, 699392, 778752, 44296, 476928, 515072, 573184, 508160, 2047, 43272, 502527, 504063, 505855, 510719, 495616, 40195, 42760, 62788, 113152, 121856, 122368, 182784, 192512, 199936, 879872, 2168, 35079, 39424, 119808, 120064, 120448, 120576, 120832, 121088, 475648, 481032, 497408, 565248, 491008, 514816, 589568, 3072, 491520, 40448, 40959, 41215, 499968, 39167, 51502, 854272, 6184, 594432, 604432, 484614, 876996, 877252, 877508, 918016, 865708, 865964, 866220, 28672, 30464, 30720, 31232, 31488, 32256, 32512, 33280, 35584, 35840, 37120, 37888, 55681, 108288, 108544, 114688, 114944, 122112, 162048, 163072, 179456, 180480, 181504, 183552, 184576, 185344, 187136, 190464, 190720, 191488, 191744, 192000, 193024, 193280, 193536, 193792, 194048, 195328, 195584, 197120, 198400, 201856, 204032, 205568, 205824, 206080, 209664, 211712, 220672, 220928, 221184, 225024, 229632, 229888, 230144, 230400, 230656, 231168, 231424, 236032, 236288, 238848, 239360, 261120, 269312, 269568, 269824, 270080, 270336, 270592, 270848, 271104, 271360, 271616, 271872, 272128, 285952, 286336, 286848, 290304, 290560, 290816, 291072, 291328, 292352, 292608, 292864, 293632, 293888, 294400, 356096, 363776, 367616, 367872, 368384, 388608, 389632, 400640, 400896, 401920, 410112, 411136, 427008, 427264, 427520, 427776, 428032, 428288, 428544, 428800, 429312, 432640, 432896, 433152, 433408, 433664, 433920, 434176, 434432, 434688, 434944, 435200, 436992, 439552, 441600, 442624, 444672, 445696, 445952, 446720, 447488, 447744, 448000, 448256, 453376, 453632, 453888, 603521, 132608, 500224, 34304, 114432, 479236, 497664, 554240, 606500, 181248, 183808, 192768, 196864, 238592, 393216, 6655, 416000, 416256, 514304, 483584, 122880, 139264, 149504, 150528, 478976, 484096, 26624, 27136, 30976, 36352, 130048, 130304, 137472, 166912, 167936, 171520, 266496, 266752, 267008, 267264, 267520, 267776, 289536, 513794, 500480, 12032, 63853, 34560, 168960, 170752, 169216, 12815, 13311, 13312, 13568, 13824, 168448, 169728, 54929, 500736, 23296, 27392, 35328, 36096, 126464, 126720, 126976, 127232, 127488, 127744, 128000, 128256, 128768, 129024, 129280, 130560, 132352, 134912, 135168, 135424, 142080, 208128, 484870, 130816, 29696, 48128, 33024, 479488, 226560, 22272, 163328, 210944, 392960, 178944, 220160, 220416, 279808, 316928, 317440, 317696, 318208, 325120, 360448, 360704, 360960, 361216, 368128, 370176, 388096, 443648, 443904, 254720, 254976, 263936, 264448, 297984, 298240, 299264, 505856, 200704, 393728, 393984, 394240, 451328, 451584, 483328, 500992, 284160, 284416, 284672, 284928, 357888, 358144, 32768, 34047, 200192, 275968, 343296, 344064, 344832, 347392, 347648, 348928, 479744, 33536, 39936, 49168, 49408, 22528, 501252, 22016, 282112, 355840, 200448, 219904, 268032, 268288, 355072, 355328, 441344, 10496, 379648, 384256, 444416, 391168, 391449, 38784, 255488, 257536, 265728, 136960, 192256, 204288, 253696, 253952, 254464, 265984, 266240, 280576, 303104, 356864, 357120, 375040, 375296, 436736, 454400, 24832, 188416, 262912, 263168, 263424, 263680, 351744, 353024, 341504, 341760, 261376, 287232, 480000, 114304, 184096, 185856, 195840, 199168, 204825, 205056, 205312, 206592, 207104, 441984, 442240, 442496, 447268, 485122, 2816, 141568, 160512, 225792, 226816, 227072, 227840, 233216, 233472, 275712, 282880, 285440, 285696, 286464, 297728, 304896, 318464, 318720, 318976, 319232, 319488, 319744, 320256, 320512, 320768, 321024, 321280, 321536, 321792, 322048, 322304, 322560, 322816, 323072, 323328, 323584, 323840, 324096, 324352, 326912, 327424, 327680, 333312, 335616, 336128, 336384, 342784, 349440, 349696, 387072, 387584, 387840, 395264, 418048, 426496, 430080, 430848, 431104, 431360, 431616, 431872, 444928, 453120, 485376, 312832, 355584, 367104, 370432, 242432, 245760, 253184, 279552, 301056, 301312, 301568, 301824, 302080, 302336, 302592, 317184, 361472, 361728, 361984, 362240, 362496, 366848, 388352, 392704, 412928, 413184, 413952, 414464, 414720, 417024, 417280, 23040, 26368, 27904, 148224, 150272, 157184, 157440, 174592, 174848, 222976, 250112, 258048, 258304, 258816, 259072, 259328, 259584, 260096, 260352, 264192, 282368, 282624, 364032, 373248, 485632, 14080, 16384, 25088, 26112, 34048, 34816, 37376, 48389, 128512, 138240, 139008, 139776, 140032, 143104, 143360, 144640, 144896, 145152, 147712, 147968, 148480, 148736, 149248, 150016, 155648, 156928, 161024, 166144, 166656, 168192, 175104, 175616, 177152, 207872, 208640, 223232, 223488, 226304, 229120, 229376, 230912, 231936, 232192, 232448, 232704, 232960, 233728, 233984, 234496, 235264, 235520, 235776, 303360, 313088, 313344, 313600, 313856, 314112, 315904, 316160, 327168, 328960, 340224, 349184, 349952, 350464, 350720, 350976, 351232, 375552, 380416, 380928, 381696, 382720, 383232, 384000, 384512, 384768, 385024, 385280, 385536, 385792, 389120, 394496, 395008, 396544, 396800, 399104, 399360, 402944, 403200, 403456, 403712, 403968, 410624, 418304, 418560, 424960, 425216, 425728, 425984, 437248, 438528, 438784, 449280, 449536, 449792, 450048, 450304, 450560, 450816, 451072, 147200, 260864, 268800, 283136, 283392, 283648, 283904, 358400, 358656, 358912, 359168, 359424, 359680, 359936, 369664, 412672, 417792, 439040, 439296, 452096, 12799, 22784, 36864, 141056, 142592, 144128, 154112, 176128, 177408, 212736, 342528, 386560, 386816, 485888, 11776, 155392, 242688, 242944, 243456, 243968, 244480, 244736, 245504, 246272, 249600, 249856, 258560, 298752, 372736, 19968, 228096, 228352, 228608, 228864, 231680, 269056, 273408, 308224, 311808, 312064, 312320, 312576, 314880, 315136, 315392, 315648, 320000, 325632, 325888, 332288, 332800, 333824, 334336, 335360, 336640, 337920, 338176, 338432, 338688, 338944, 339200, 339456, 339712, 339968, 340480, 342272, 343552, 343808, 344320, 344576, 345088, 345344, 345600, 345856, 346112, 346368, 346624, 346880, 347136, 347904, 348160, 348416, 348672, 351488, 363008, 363264, 363520, 364288, 364544, 365056, 365312, 366592, 374528, 375808, 378624, 380672, 381184, 381440, 388864, 397824, 401152, 402688, 416512, 425472, 429824, 430336, 15872, 487424, 23552, 48645, 131584, 131840, 134656, 136192, 151552, 151808, 296960, 297472, 26880, 29440, 129536, 129792, 136704, 138496, 140288, 145408, 145664, 155904, 167424, 168704, 169472, 169984, 173824, 174080, 174336, 203776, 208384, 210176, 224000, 224256, 224512, 224768, 225280, 236544, 236800, 237056, 237312, 237568, 237824, 238080, 238336, 241920, 244224, 247040, 247808, 248064, 250368, 250624, 250880, 251136, 251392, 259840, 260608, 261632, 261888, 262144, 262400, 264704, 264960, 265216, 265472, 281088, 281344, 281600, 281856, 287744, 297216, 303616, 303872, 304128, 304384, 304640, 305152, 305408, 305664, 305920, 306176, 306432, 306688, 306944, 307200, 307456, 307712, 307968, 308480, 308736, 308992, 309248, 314368, 314624, 317952, 325376, 326144, 370688, 372992, 397312, 397568, 402176, 476672, 28928, 133120, 157696, 191232, 241152, 328448, 328704, 362752, 364800, 372480, 377088, 377344, 377600, 377856, 378112, 378368, 378880, 563968, 133376, 133632, 133888, 136448, 137728, 149760, 152320, 163584, 163840, 164608, 165120, 166400, 173568, 190976, 208896, 213248, 223744, 227328, 227584, 234752, 235008, 239616, 256512, 256768, 257024, 257280, 273664, 273920, 274176, 274432, 274688, 274944, 275200, 275456, 280832, 288256, 290048, 291584, 291840, 292096, 293120, 293376, 294144, 299520, 369920, 371456, 397056, 404224, 404480, 404736, 404992, 405248, 405504, 405760, 406016, 406272, 406528, 406784, 407040, 407296, 407552, 407808, 408064, 408320, 408576, 408832, 409088, 409344, 409600, 409856, 413440, 415232, 415488, 417536, 430592, 437504, 437760, 438016, 438272, 440832, 132096, 140544, 142336, 145920, 146176, 146432, 146688, 146944, 147456, 150784, 151040, 151296, 156672, 196096, 199680, 221952, 239104, 268544, 272384, 272640, 272896, 273152, 276224, 276480, 309760, 310016, 310272, 310528, 310784, 311040, 311296, 311552, 324608, 326656, 327936, 328192, 329216, 329472, 329728, 329984, 330240, 330496, 330752, 331264, 331520, 331776, 332032, 332544, 333056, 333568, 334080, 334592, 334848, 335104, 336896, 337152, 337408, 337664, 343040, 350208, 371200, 374272, 376576, 379392, 380160, 381952, 382208, 382464, 382976, 383488, 383744, 387328, 394752, 395520, 399872, 402432, 416768, 429056, 440064, 440320, 440576, 445184, 445440, 446976, 448512, 448768, 449024, 37632, 152576, 153600, 158464, 210432, 210688, 212992, 226048, 244992, 252928, 255744, 309504, 316416, 316672, 365568, 365824, 366080, 366336, 376320, 389888, 426240, 432128, 432384, 444160, 452352, 48901, 441088, 16640, 28160, 28416, 29952, 36608, 122624, 140800, 141312, 143872, 148992, 154368, 159232, 159488, 164864, 165376, 167168, 167680, 175360, 176640, 176896, 179968, 211200, 211456, 219392, 219648, 234240, 246016, 248320, 248576, 248832, 249088, 249344, 252672, 256000, 256256, 257792, 262656, 287488, 299776, 300032, 300288, 357376, 357632, 368640, 368896, 369152, 369408, 370944, 373504, 373760, 389376, 391680, 391936, 392192, 392448, 395776, 401664, 414208, 415744, 443392, 452608, 452864, 14336, 14592, 29184, 30208, 137216, 142848, 155136, 159744, 160000, 160256, 187392, 187648, 207616, 240128, 242176, 247296, 253440, 254208, 277248, 288000, 296192, 302848, 356352, 356608, 376832, 401408, 411392, 411648, 411904, 412160, 418816, 419072, 419328, 419584, 419840, 420096, 420352, 420608, 420864, 421120, 421376, 421632, 421888, 422144, 422400, 422656, 422912, 423168, 423424, 423680, 423936, 424192, 424448, 424704, 426752, 429568, 435456, 435712, 16128, 31744, 38144, 38400, 131328, 134400, 138752, 139520, 143616, 144384, 152064, 152832, 153088, 153344, 153856, 154624, 154880, 156160, 158208, 158976, 170240, 175872, 176384, 178688, 206848, 209152, 209920, 212224, 212480, 213504, 213760, 214016, 214272, 214528, 214784, 215040, 215296, 215552, 215808, 216064, 216320, 216576, 216832, 217088, 217344, 217600, 217856, 218112, 218368, 218624, 218880, 219136, 222720, 243200, 245248, 247552, 251648, 251904, 252160, 252416, 255232, 277504, 277760, 278016, 278272, 278528, 278784, 279040, 279296, 280064, 280320, 286976, 288768, 289024, 289280, 294656, 294912, 295168, 295424, 295680, 295936, 296448, 296704, 352000, 352256, 352512, 352768, 353280, 353536, 353792, 354048, 354304, 354560, 354816, 360192, 367360, 379904, 386048, 386304, 390144, 396032, 396288, 398080, 398336, 398592, 398848, 442880, 443136, 446208, 446464, 454144, 491776, 141824, 157952, 158720, 246784, 298496, 324864, 335872, 340736, 340992, 341248, 342016, 374016, 374784, 379136, 393472, 410880, 413696, 435968, 172800, 211968, 243712, 42112, 42624, 44928, 45952, 131072, 221440, 221696, 222208, 222464, 285184, 288512, 289792, 299008, 390400, 390656, 390912, 399616, 400128, 400384, 240384, 240640, 240896, 241408, 241664, 246528, 412416, 414976, 436224, 436480, 507904, 24576, 132864, 137984, 156416, 196608, 371712, 371968, 372224, 376064, 410368, 480278, 876544, 24064, 77214, 83358, 84629, 509312, 527746, 537019, 537275, 594688, 603285, 605845, 606101, 606357, 844032, 844288, 844544, 844800, 855808, 520192, 552192, 856064, 10240, 60416, 60672, 60928, 480512, 492032, 567040, 855552, 857088, 857344, 857600, 857856, 475392, 855040, 855296, 497920, 516352, 516608, 516864, 42240, 480770, 867871, 868127, 868383, 498176, 856320, 856576, 10752, 498432, 476160, 515505, 515761, 516017, 907775, 914687, 44032, 914944, 908031, 492288, 912640, 915200, 916991, 913151, 911103, 913663, 913919, 914175, 915456, 916735, 917247, 914688, 912383, 912639, 913407, 911872, 907519, 11008, 915967, 916223, 907008, 907007, 908032, 914431, 916479, 911740, 482333, 482589, 482845, 910337, 910593, 911361, 498688, 492544, 45312, 497152, 487680, 492800, 481290, 919296, 17408, 17664, 45568, 487936, 491264, 45056, 4608, 8448, 8704, 8960, 9216, 9472, 9728, 9984, 475904, 484352, 39168, 256, 512, 1023, 1279, 1535, 1791, 3839, 5631, 100609, 117759, 124927, 499455, 503807, 504319, 504575, 504831, 505087, 513023, 513279, 513791, 556287, 565759, 586751, 671743, 868863, 869119, 869887, 870911, 871167, 871423, 871679, 871935, 872191, 872703, 872959, 873471, 873727, 873983, 874495, 875007, 875263, 875775, 876287, 876543, 885759, 886015, 886271, 886527, 886783, 887039, 887551, 887807, 888063, 888319, 888575, 888831, 889087, 889343, 889599, 889855, 890111, 890367, 890623, 890879, 891135, 891391, 891647, 891903, 892159, 892415, 892671, 892927, 893183, 893439, 893695, 893951, 894207, 894463, 894719, 894975, 895231, 895487, 895743, 895999, 896255, 896473, 896728, 896981, 897221, 897479, 897753, 898047, 898303, 898559, 898815, 899071, 899327, 899583, 899839, 900059, 900315, 900556, 900863, 901083, 901338, 901588, 901843, 902099, 902344, 902603, 902867, 903117, 903374, 903631, 903897, 904133, 904402, 904646, 904905, 905168, 905430, 905687, 905945, 906193, 906442, 906705, 908292, 908544, 908800, 909086, 909312, 909568, 909824, 910080, 911345]"
   ]
  },
  {
   "cell_type": "code",
   "execution_count": null,
   "id": "8d956a50-b4cf-4751-8e44-14286fd0f81e",
   "metadata": {},
   "outputs": [],
   "source": [
    "self.assertListEqual(tt, expected)"
   ]
  },
  {
   "cell_type": "code",
   "execution_count": null,
   "id": "335d4591-020a-44c9-9ba0-523c0eeede37",
   "metadata": {},
   "outputs": [],
   "source": [
    "nblock_used = 0"
   ]
  },
  {
   "cell_type": "code",
   "execution_count": null,
   "id": "6131990a-1ed1-44c6-bfa9-895b0f8c4850",
   "metadata": {},
   "outputs": [],
   "source": [
    "tpos = bzd.tt[bzd.origptr] >> 8"
   ]
  },
  {
   "cell_type": "code",
   "execution_count": null,
   "id": "b03ef59e-f481-4b03-a393-50e401632d55",
   "metadata": {},
   "outputs": [],
   "source": [
    "print(tpos)"
   ]
  },
  {
   "cell_type": "code",
   "execution_count": null,
   "id": "c80edc1a-7631-40d8-acf6-33befa99749c",
   "metadata": {},
   "outputs": [],
   "source": [
    "self.assertEqual(tpos, 94)"
   ]
  },
  {
   "cell_type": "code",
   "execution_count": null,
   "id": "4df35911-7da2-4aed-ba9e-d5a4d3f90d4b",
   "metadata": {},
   "outputs": [],
   "source": [
    "tpos = bzd.tt[tpos]"
   ]
  },
  {
   "cell_type": "code",
   "execution_count": null,
   "id": "94a0689b-c21d-45e4-abbc-34112353c1b3",
   "metadata": {},
   "outputs": [],
   "source": [
    "print(tpos)"
   ]
  },
  {
   "cell_type": "code",
   "execution_count": null,
   "id": "4c207966-fd68-49ab-9e92-01ac8cfc5ea6",
   "metadata": {},
   "outputs": [],
   "source": [
    "self.assertEqual(tpos, 68736)"
   ]
  },
  {
   "cell_type": "code",
   "execution_count": null,
   "id": "c0007d59-1fb3-479e-b663-6775437b7583",
   "metadata": {},
   "outputs": [],
   "source": [
    "k0 = tpos & 0xff"
   ]
  },
  {
   "cell_type": "code",
   "execution_count": null,
   "id": "c5221bb3-5655-4e9a-b807-7dc076c3fb66",
   "metadata": {},
   "outputs": [],
   "source": [
    "print(k0)"
   ]
  },
  {
   "cell_type": "code",
   "execution_count": null,
   "id": "3938fdb2-f0f8-4a03-85a8-eefee7cd7472",
   "metadata": {},
   "outputs": [],
   "source": [
    "self.assertEqual(k0, 128)"
   ]
  },
  {
   "cell_type": "code",
   "execution_count": null,
   "id": "a7847fd0-b7f5-4aa2-adc4-3a76dddf8962",
   "metadata": {},
   "outputs": [],
   "source": [
    "tpos >>= 8"
   ]
  },
  {
   "cell_type": "code",
   "execution_count": null,
   "id": "e3ac2412-aeb2-4331-8aca-038bfe1cf21e",
   "metadata": {},
   "outputs": [],
   "source": [
    "print(tpos)"
   ]
  },
  {
   "cell_type": "code",
   "execution_count": null,
   "id": "1910b317-e78e-4669-8c67-c9ddfd3ce17d",
   "metadata": {},
   "outputs": [],
   "source": [
    "self.assertEqual(tpos, 268)"
   ]
  },
  {
   "cell_type": "code",
   "execution_count": null,
   "id": "abbdb1ef-61de-45ef-9c51-31d449b24d9e",
   "metadata": {},
   "outputs": [],
   "source": [
    "nblock_used += 1"
   ]
  },
  {
   "cell_type": "code",
   "execution_count": null,
   "id": "3641747f-60fb-4232-a880-fb11b2749686",
   "metadata": {},
   "outputs": [],
   "source": [
    "print(nblock_used)"
   ]
  },
  {
   "cell_type": "code",
   "execution_count": null,
   "id": "d674cf92-8789-4da8-94ca-cb2ff3b0dc0f",
   "metadata": {},
   "outputs": [],
   "source": [
    "self.assertEqual(nblock_used, 1)"
   ]
  },
  {
   "cell_type": "code",
   "execution_count": null,
   "id": "a404b792-2b8c-41ac-aaf6-4529f4850634",
   "metadata": {
    "jupyter": {
     "source_hidden": true
    }
   },
   "outputs": [],
   "source": [
    "def op1():\n",
    "    if cs_avail_out == 0:\n",
    "        return True\n",
    "    if c_state_out_len == 1:\n",
    "        return False\n",
    "    cs_next_out.append(c_state_out_ch)\n",
    "    c_state_out_len -= 1\n",
    "    cs_avail_out -= 1"
   ]
  },
  {
   "cell_type": "code",
   "execution_count": null,
   "id": "52c903dc-a118-4711-b010-07f49c246231",
   "metadata": {
    "jupyter": {
     "source_hidden": true
    }
   },
   "outputs": [],
   "source": [
    "def op2():\n",
    "    if cs_avail_out == 0:\n",
    "        c_state_out_len = 1\n",
    "        return True\n",
    "    cs_next_out.append(c_state_out_ch)\n",
    "    cs_avail_out -= 1"
   ]
  },
  {
   "cell_type": "code",
   "execution_count": null,
   "id": "8e63a971-059e-45d9-a984-9d2c6e2614b0",
   "metadata": {
    "jupyter": {
     "source_hidden": true
    }
   },
   "outputs": [],
   "source": [
    "def op3():\n",
    "    if nblock_used == s_save_nblockpp:\n",
    "        c_state_out_len = 0\n",
    "        return True\n",
    "    c_state_out_ch = k0\n",
    "    tpos = bzd.tt[tpos]\n",
    "    k1 = tpos & 0xff\n",
    "    tpos >>= 8\n",
    "    nblock_used += 1"
   ]
  },
  {
   "cell_type": "code",
   "execution_count": null,
   "id": "0100d425-5b48-4b05-9d64-10f43a33519d",
   "metadata": {
    "jupyter": {
     "source_hidden": true
    }
   },
   "outputs": [],
   "source": [
    "def op4():\n",
    "    if op2():\n",
    "        return True\n",
    "    if op3():\n",
    "        return True\n",
    "    if k1 != k0:\n",
    "        k0 = k1\n",
    "        if op4():\n",
    "            return True\n",
    "        return False\n",
    "    if nblock_used == s_save_nblockpp:\n",
    "        if op4():\n",
    "            return True\n",
    "        return False\n",
    "\n",
    "    op6()"
   ]
  },
  {
   "cell_type": "code",
   "execution_count": null,
   "id": "b9dff51a-4832-4c11-a32f-206e763302bf",
   "metadata": {
    "jupyter": {
     "source_hidden": true
    }
   },
   "outputs": [],
   "source": [
    "def op6():\n",
    "    c_state_out_len = 2\n",
    "    tpos = bzd.tt[tpos]\n",
    "    k1 = tpos & 0xff\n",
    "    tpos >>= 8\n",
    "    nblock_used += 1\n",
    "    if nblock_used == s_save_nblockpp:\n",
    "        return\n",
    "    if k1 != k0:\n",
    "        k0 = k1\n",
    "        return\n",
    "\n",
    "    c_state_out_len = 3\n",
    "    tpos = bzd.tt[tpos]\n",
    "    k1 = tpos & 0xff\n",
    "    tpos >>= 8\n",
    "    nblock_used += 1\n",
    "    if nblock_used == s_save_nblockpp:\n",
    "        return\n",
    "    if k1 != k0:\n",
    "        k0 = k1\n",
    "        return\n",
    "\n",
    "    tpos = bzd.tt[tpos]\n",
    "    k1 = tpos & 0xff\n",
    "    tpos >>= 8\n",
    "    nblock_used += 1\n",
    "    c_state_out_len = k1 + 4\n",
    "    tpos = bzd.tt[tpos]\n",
    "    k0 = tpos & 0xff\n",
    "    tpos >>= 8\n",
    "    nblock_used += 1"
   ]
  },
  {
   "cell_type": "code",
   "execution_count": null,
   "id": "8e1fd00b-2001-4dd8-8332-cc56c60c7064",
   "metadata": {
    "jupyter": {
     "source_hidden": true
    }
   },
   "outputs": [],
   "source": [
    "def foo():\n",
    "    while True:\n",
    "        if c_state_out_len > 0:\n",
    "            while True:\n",
    "                match op1():\n",
    "                    case False:\n",
    "                        break\n",
    "                    case True:\n",
    "                        return\n",
    "            if op2():\n",
    "                return\n",
    "        if op3():\n",
    "            return\n",
    "        if k1 != k0:\n",
    "            k0 = k1\n",
    "            if op4():\n",
    "                return\n",
    "            continue\n",
    "        if nblock_used == s_save_nblockpp:\n",
    "            if op4():\n",
    "                return\n",
    "            continue\n",
    "    \n",
    "        op6()"
   ]
  },
  {
   "cell_type": "code",
   "execution_count": null,
   "id": "836c6c43-094c-4dad-8e4e-65b2dc9428d7",
   "metadata": {},
   "outputs": [],
   "source": [
    "class UnRLE:\n",
    "    \"\"\"Remove run length encoding from compressed data.\"\"\"\n",
    "    def __init__(self, avail_out, tt, nblock, nblock_used, k0, tpos):\n",
    "        self.out_ch = 0\n",
    "        self.out_len = 0\n",
    "\n",
    "        self.nblock_used = nblock_used\n",
    "        self.k0 = k0\n",
    "        self.tpos = tpos\n",
    "        self.tt = tt\n",
    "        self.nblockpp = nblock + 1\n",
    "\n",
    "        self.avail_out = avail_out\n",
    "        self.next_out = bytearray()\n",
    "\n",
    "        self.k1 = None\n",
    "\n",
    "    def _op1(self):\n",
    "        if self.avail_out == 0:\n",
    "            return True\n",
    "        if self.out_len == 1:\n",
    "            return False\n",
    "        self.next_out.append(self.out_ch)\n",
    "        self.out_len -= 1\n",
    "        self.avail_out -= 1\n",
    "    \n",
    "    def _op2(self):\n",
    "        if self.avail_out == 0:\n",
    "            self.out_len = 1\n",
    "            return True\n",
    "        self.next_out.append(self.out_ch)\n",
    "        self.avail_out -= 1\n",
    "    \n",
    "    def _op3(self):\n",
    "        if self.nblock_used == self.nblockpp:\n",
    "            self.out_len = 0\n",
    "            return True\n",
    "        self.out_ch = self.k0\n",
    "        self.tpos = self.tt[self.tpos]\n",
    "        self.k1 = self.tpos & 0xff\n",
    "        self.tpos >>= 8\n",
    "        self.nblock_used += 1\n",
    "    \n",
    "    def _op4(self):\n",
    "        if self._op2():\n",
    "            return True\n",
    "        if self._op3():\n",
    "            return True\n",
    "        if self.k1 != self.k0:\n",
    "            self.k0 = self.k1\n",
    "            if self._op4():\n",
    "                return True\n",
    "            return False\n",
    "        if self.nblock_used == self.nblockpp:\n",
    "            if self._op4():\n",
    "                return True\n",
    "            return False\n",
    "    \n",
    "        self._op5()\n",
    "    \n",
    "    def _op5(self):\n",
    "        self.out_len = 2\n",
    "        self.tpos = self.tt[self.tpos]\n",
    "        self.k1 = self.tpos & 0xff\n",
    "        self.tpos >>= 8\n",
    "        self.nblock_used += 1\n",
    "        if self.nblock_used == self.nblockpp:\n",
    "            return\n",
    "        if self.k1 != self.k0:\n",
    "            self.k0 = self.k1\n",
    "            return\n",
    "    \n",
    "        self.out_len = 3\n",
    "        self.tpos = self.tt[self.tpos]\n",
    "        self.k1 = self.tpos & 0xff\n",
    "        self.tpos >>= 8\n",
    "        self.nblock_used += 1\n",
    "        if self.nblock_used == self.nblockpp:\n",
    "            return\n",
    "        if self.k1 != self.k0:\n",
    "            self.k0 = self.k1\n",
    "            return\n",
    "    \n",
    "        self.tpos = self.tt[self.tpos]\n",
    "        self.k1 = self.tpos & 0xff\n",
    "        self.tpos >>= 8\n",
    "        self.nblock_used += 1\n",
    "        self.out_len = self.k1 + 4\n",
    "        self.tpos = self.tt[self.tpos]\n",
    "        self.k0 = self.tpos & 0xff\n",
    "        self.tpos >>= 8\n",
    "        self.nblock_used += 1\n",
    "\n",
    "    def run(self):\n",
    "        while True:\n",
    "            if self.out_len > 0:\n",
    "                while True:\n",
    "                    match self._op1():\n",
    "                        case False:\n",
    "                            break\n",
    "                        case True:\n",
    "                            return self.next_out\n",
    "                if self._op2():\n",
    "                    return self.next_out\n",
    "            if self._op3():\n",
    "                return self.next_out\n",
    "            if self.k1 != self.k0:\n",
    "                self.k0 = self.k1\n",
    "                if self._op4():\n",
    "                    return self.next_out\n",
    "                continue\n",
    "            if self.nblock_used == self.nblockpp:\n",
    "                if self._op4():\n",
    "                    return self.next_out\n",
    "                continue\n",
    "        \n",
    "            self._op5()\n",
    "\n",
    "        return self.next_out"
   ]
  },
  {
   "cell_type": "code",
   "execution_count": null,
   "id": "fe9a7ec2-e87e-4400-9b9b-9912c9729129",
   "metadata": {},
   "outputs": [],
   "source": [
    "ur = UnRLE(0x1728, bzd.tt, nblock, nblock_used, k0, tpos)"
   ]
  },
  {
   "cell_type": "code",
   "execution_count": null,
   "id": "f4b46c81-250f-4de2-b8ff-18fc46a1644b",
   "metadata": {},
   "outputs": [],
   "source": [
    "out = ur.run()"
   ]
  },
  {
   "cell_type": "code",
   "execution_count": null,
   "id": "ef01a083-6ff5-4db3-961c-e6c28d92608d",
   "metadata": {},
   "outputs": [],
   "source": [
    "sha256 = hashlib.sha256(out).hexdigest()"
   ]
  },
  {
   "cell_type": "code",
   "execution_count": null,
   "id": "149cfd4b-497e-42c0-ae49-64422b9f7fea",
   "metadata": {},
   "outputs": [],
   "source": [
    "self.assertEqual(sha256, 'eeaefe8c8a5d42855d886e5368d5c752a03d821681c7b2ceb5d900aa6cf70e18')"
   ]
  },
  {
   "cell_type": "code",
   "execution_count": null,
   "id": "1d394e3e-95ae-4c7f-91c3-80f66848b7f1",
   "metadata": {},
   "outputs": [],
   "source": [
    "uc = bzd._get_bits(8, 'BZ_X_ENDHDR_1')"
   ]
  },
  {
   "cell_type": "code",
   "execution_count": null,
   "id": "07bbaaf1-a0a2-4b85-aa52-b860381d1026",
   "metadata": {},
   "outputs": [],
   "source": [
    "self.assertIs(uc, 0x17)"
   ]
  },
  {
   "cell_type": "code",
   "execution_count": null,
   "id": "b3efa3d1-5ab9-49d8-acb5-c4ca8d8f6d32",
   "metadata": {},
   "outputs": [],
   "source": [
    "if uc != 0x17:\n",
    "    raise RuntimeError('BZ_DATA_ERROR: Incorrect BZ_X_ENDHDR_1')"
   ]
  }
 ],
 "metadata": {
  "kernelspec": {
   "display_name": "Python 3 (ipykernel)",
   "language": "python",
   "name": "python3"
  },
  "language_info": {
   "codemirror_mode": {
    "name": "ipython",
    "version": 3
   },
   "file_extension": ".py",
   "mimetype": "text/x-python",
   "name": "python",
   "nbconvert_exporter": "python",
   "pygments_lexer": "ipython3",
   "version": "3.13.1"
  }
 },
 "nbformat": 4,
 "nbformat_minor": 5
}
